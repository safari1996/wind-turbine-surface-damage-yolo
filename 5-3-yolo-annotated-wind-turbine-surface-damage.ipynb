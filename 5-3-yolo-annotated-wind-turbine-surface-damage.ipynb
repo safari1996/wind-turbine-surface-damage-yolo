{
 "cells": [
  {
   "cell_type": "code",
   "execution_count": 1,
   "id": "85eeafb7",
   "metadata": {
    "execution": {
     "iopub.execute_input": "2025-08-13T12:28:14.240814Z",
     "iopub.status.busy": "2025-08-13T12:28:14.240593Z",
     "iopub.status.idle": "2025-08-13T23:40:43.173562Z",
     "shell.execute_reply": "2025-08-13T23:40:43.172610Z"
    },
    "papermill": {
     "duration": 40355.4104,
     "end_time": "2025-08-13T23:40:49.647559",
     "exception": false,
     "start_time": "2025-08-13T12:28:14.237159",
     "status": "completed"
    },
    "tags": []
   },
   "outputs": [
    {
     "name": "stdout",
     "output_type": "stream",
     "text": [
      "\u001b[2K     \u001b[90m━━━━━━━━━━━━━━━━━━━━━━━━━━━━━━━━━━━━━━━━\u001b[0m \u001b[32m41.8/41.8 kB\u001b[0m \u001b[31m1.3 MB/s\u001b[0m eta \u001b[36m0:00:00\u001b[0m\r\n",
      "\u001b[2K     \u001b[90m━━━━━━━━━━━━━━━━━━━━━━━━━━━━━━━━━━━━━━━━\u001b[0m \u001b[32m43.8/43.8 kB\u001b[0m \u001b[31m2.1 MB/s\u001b[0m eta \u001b[36m0:00:00\u001b[0m\r\n",
      "\u001b[2K   \u001b[90m━━━━━━━━━━━━━━━━━━━━━━━━━━━━━━━━━━━━━━━━\u001b[0m \u001b[32m872.2/872.2 kB\u001b[0m \u001b[31m16.7 MB/s\u001b[0m eta \u001b[36m0:00:00\u001b[0m\r\n",
      "\u001b[2K   \u001b[90m━━━━━━━━━━━━━━━━━━━━━━━━━━━━━━━━━━━━━━━━\u001b[0m \u001b[32m9.1/9.1 MB\u001b[0m \u001b[31m94.0 MB/s\u001b[0m eta \u001b[36m0:00:00\u001b[0m\r\n",
      "\u001b[2K   \u001b[90m━━━━━━━━━━━━━━━━━━━━━━━━━━━━━━━━━━━━━━━━\u001b[0m \u001b[32m315.1/315.1 kB\u001b[0m \u001b[31m16.7 MB/s\u001b[0m eta \u001b[36m0:00:00\u001b[0m\r\n",
      "\u001b[2K   \u001b[90m━━━━━━━━━━━━━━━━━━━━━━━━━━━━━━━━━━━━━━━━\u001b[0m \u001b[32m2.2/2.2 MB\u001b[0m \u001b[31m69.8 MB/s\u001b[0m eta \u001b[36m0:00:00\u001b[0m\r\n",
      "\u001b[2K   \u001b[90m━━━━━━━━━━━━━━━━━━━━━━━━━━━━━━━━━━━━━━━━\u001b[0m \u001b[32m868.8/868.8 kB\u001b[0m \u001b[31m36.6 MB/s\u001b[0m eta \u001b[36m0:00:00\u001b[0m\r\n",
      "\u001b[2K   \u001b[90m━━━━━━━━━━━━━━━━━━━━━━━━━━━━━━━━━━━━━━━━\u001b[0m \u001b[32m3.6/3.6 MB\u001b[0m \u001b[31m84.2 MB/s\u001b[0m eta \u001b[36m0:00:00\u001b[0m\r\n",
      "\u001b[2K   \u001b[90m━━━━━━━━━━━━━━━━━━━━━━━━━━━━━━━━━━━━━━━━\u001b[0m \u001b[32m363.4/363.4 MB\u001b[0m \u001b[31m5.2 MB/s\u001b[0m eta \u001b[36m0:00:00\u001b[0m\r\n",
      "\u001b[2K   \u001b[90m━━━━━━━━━━━━━━━━━━━━━━━━━━━━━━━━━━━━━━━━\u001b[0m \u001b[32m13.8/13.8 MB\u001b[0m \u001b[31m50.2 MB/s\u001b[0m eta \u001b[36m0:00:00\u001b[0m\r\n",
      "\u001b[2K   \u001b[90m━━━━━━━━━━━━━━━━━━━━━━━━━━━━━━━━━━━━━━━━\u001b[0m \u001b[32m24.6/24.6 MB\u001b[0m \u001b[31m43.3 MB/s\u001b[0m eta \u001b[36m0:00:00\u001b[0m\r\n",
      "\u001b[2K   \u001b[90m━━━━━━━━━━━━━━━━━━━━━━━━━━━━━━━━━━━━━━━━\u001b[0m \u001b[32m883.7/883.7 kB\u001b[0m \u001b[31m27.8 MB/s\u001b[0m eta \u001b[36m0:00:00\u001b[0m\r\n",
      "\u001b[2K   \u001b[90m━━━━━━━━━━━━━━━━━━━━━━━━━━━━━━━━━━━━━━━━\u001b[0m \u001b[32m664.8/664.8 MB\u001b[0m \u001b[31m2.3 MB/s\u001b[0m eta \u001b[36m0:00:00\u001b[0m\r\n",
      "\u001b[2K   \u001b[90m━━━━━━━━━━━━━━━━━━━━━━━━━━━━━━━━━━━━━━━━\u001b[0m \u001b[32m211.5/211.5 MB\u001b[0m \u001b[31m6.6 MB/s\u001b[0m eta \u001b[36m0:00:00\u001b[0m\r\n",
      "\u001b[2K   \u001b[90m━━━━━━━━━━━━━━━━━━━━━━━━━━━━━━━━━━━━━━━━\u001b[0m \u001b[32m56.3/56.3 MB\u001b[0m \u001b[31m19.5 MB/s\u001b[0m eta \u001b[36m0:00:00\u001b[0m\r\n",
      "\u001b[2K   \u001b[90m━━━━━━━━━━━━━━━━━━━━━━━━━━━━━━━━━━━━━━━━\u001b[0m \u001b[32m127.9/127.9 MB\u001b[0m \u001b[31m10.7 MB/s\u001b[0m eta \u001b[36m0:00:00\u001b[0m\r\n",
      "\u001b[2K   \u001b[90m━━━━━━━━━━━━━━━━━━━━━━━━━━━━━━━━━━━━━━━━\u001b[0m \u001b[32m207.5/207.5 MB\u001b[0m \u001b[31m6.4 MB/s\u001b[0m eta \u001b[36m0:00:00\u001b[0m\r\n",
      "\u001b[2K   \u001b[90m━━━━━━━━━━━━━━━━━━━━━━━━━━━━━━━━━━━━━━━━\u001b[0m \u001b[32m21.1/21.1 MB\u001b[0m \u001b[31m18.6 MB/s\u001b[0m eta \u001b[36m0:00:00\u001b[0m\r\n",
      "\u001b[?25h[train] labels: copied 2396, empty-created 8380\n",
      "[val] labels: copied 299, empty-created 1047\n",
      "[test] labels: copied 300, empty-created 1048\n",
      "Train: 10776 | Val: 1346 | Test: 1348\n",
      "Positives -> Train:2396, Val:299, Test:300\n",
      "Sanitized train: kept 7422 boxes, dropped 3\n",
      "Sanitized val: kept 988 boxes, dropped 0\n",
      "Sanitized test: kept 938 boxes, dropped 0\n",
      "Downloading https://github.com/ultralytics/assets/releases/download/v8.2.0/yolov8m.pt to 'yolov8m.pt'...\n"
     ]
    },
    {
     "name": "stderr",
     "output_type": "stream",
     "text": [
      "100%|██████████| 49.7M/49.7M [00:00<00:00, 181MB/s]\n"
     ]
    },
    {
     "name": "stdout",
     "output_type": "stream",
     "text": [
      "New https://pypi.org/project/ultralytics/8.3.178 available 😃 Update with 'pip install -U ultralytics'\n",
      "Ultralytics YOLOv8.2.84 🚀 Python-3.11.13 torch-2.6.0+cu124 CUDA:0 (Tesla T4, 15095MiB)\n",
      "\u001b[34m\u001b[1mengine/trainer: \u001b[0mtask=detect, mode=train, model=yolov8m.pt, data=/kaggle/working/windturbine_yolo_llm_strong/data.yaml, epochs=100, time=None, patience=30, batch=16, imgsz=640, save=True, save_period=-1, cache=False, device=0, workers=8, project=windturbine_yolo_llm_strong, name=yolo_m_150e, exist_ok=False, pretrained=True, optimizer=auto, verbose=True, seed=42, deterministic=True, single_cls=False, rect=False, cos_lr=False, close_mosaic=10, resume=False, amp=True, fraction=1.0, profile=False, freeze=None, multi_scale=False, overlap_mask=True, mask_ratio=4, dropout=0.0, val=True, split=val, save_json=False, save_hybrid=False, conf=None, iou=0.7, max_det=300, half=False, dnn=False, plots=True, source=None, vid_stride=1, stream_buffer=False, visualize=False, augment=False, agnostic_nms=False, classes=None, retina_masks=False, embed=None, show=False, save_frames=False, save_txt=False, save_conf=False, save_crop=False, show_labels=True, show_conf=True, show_boxes=True, line_width=None, format=torchscript, keras=False, optimize=False, int8=False, dynamic=False, simplify=False, opset=None, workspace=4, nms=False, lr0=0.01, lrf=0.01, momentum=0.937, weight_decay=0.0005, warmup_epochs=3.0, warmup_momentum=0.8, warmup_bias_lr=0.1, box=7.5, cls=0.5, dfl=1.5, pose=12.0, kobj=1.0, label_smoothing=0.0, nbs=64, hsv_h=0.015, hsv_s=0.7, hsv_v=0.4, degrees=0.0, translate=0.1, scale=0.5, shear=0.0, perspective=0.0, flipud=0.0, fliplr=0.5, bgr=0.0, mosaic=1.0, mixup=0.0, copy_paste=0.0, auto_augment=randaugment, erasing=0.4, crop_fraction=1.0, cfg=None, tracker=botsort.yaml, save_dir=windturbine_yolo_llm_strong/yolo_m_150e\n",
      "Downloading https://ultralytics.com/assets/Arial.ttf to '/root/.config/Ultralytics/Arial.ttf'...\n"
     ]
    },
    {
     "name": "stderr",
     "output_type": "stream",
     "text": [
      "100%|██████████| 755k/755k [00:00<00:00, 18.2MB/s]\n",
      "WARNING: All log messages before absl::InitializeLog() is called are written to STDERR\n",
      "E0000 00:00:1755088470.152683      19 cuda_dnn.cc:8310] Unable to register cuDNN factory: Attempting to register factory for plugin cuDNN when one has already been registered\n",
      "E0000 00:00:1755088470.252256      19 cuda_blas.cc:1418] Unable to register cuBLAS factory: Attempting to register factory for plugin cuBLAS when one has already been registered\n"
     ]
    },
    {
     "name": "stdout",
     "output_type": "stream",
     "text": [
      "Overriding model.yaml nc=80 with nc=2\n",
      "\n",
      "                   from  n    params  module                                       arguments                     \n",
      "  0                  -1  1      1392  ultralytics.nn.modules.conv.Conv             [3, 48, 3, 2]                 \n",
      "  1                  -1  1     41664  ultralytics.nn.modules.conv.Conv             [48, 96, 3, 2]                \n",
      "  2                  -1  2    111360  ultralytics.nn.modules.block.C2f             [96, 96, 2, True]             \n",
      "  3                  -1  1    166272  ultralytics.nn.modules.conv.Conv             [96, 192, 3, 2]               \n",
      "  4                  -1  4    813312  ultralytics.nn.modules.block.C2f             [192, 192, 4, True]           \n",
      "  5                  -1  1    664320  ultralytics.nn.modules.conv.Conv             [192, 384, 3, 2]              \n",
      "  6                  -1  4   3248640  ultralytics.nn.modules.block.C2f             [384, 384, 4, True]           \n",
      "  7                  -1  1   1991808  ultralytics.nn.modules.conv.Conv             [384, 576, 3, 2]              \n",
      "  8                  -1  2   3985920  ultralytics.nn.modules.block.C2f             [576, 576, 2, True]           \n",
      "  9                  -1  1    831168  ultralytics.nn.modules.block.SPPF            [576, 576, 5]                 \n",
      " 10                  -1  1         0  torch.nn.modules.upsampling.Upsample         [None, 2, 'nearest']          \n",
      " 11             [-1, 6]  1         0  ultralytics.nn.modules.conv.Concat           [1]                           \n",
      " 12                  -1  2   1993728  ultralytics.nn.modules.block.C2f             [960, 384, 2]                 \n",
      " 13                  -1  1         0  torch.nn.modules.upsampling.Upsample         [None, 2, 'nearest']          \n",
      " 14             [-1, 4]  1         0  ultralytics.nn.modules.conv.Concat           [1]                           \n",
      " 15                  -1  2    517632  ultralytics.nn.modules.block.C2f             [576, 192, 2]                 \n",
      " 16                  -1  1    332160  ultralytics.nn.modules.conv.Conv             [192, 192, 3, 2]              \n",
      " 17            [-1, 12]  1         0  ultralytics.nn.modules.conv.Concat           [1]                           \n",
      " 18                  -1  2   1846272  ultralytics.nn.modules.block.C2f             [576, 384, 2]                 \n",
      " 19                  -1  1   1327872  ultralytics.nn.modules.conv.Conv             [384, 384, 3, 2]              \n",
      " 20             [-1, 9]  1         0  ultralytics.nn.modules.conv.Concat           [1]                           \n",
      " 21                  -1  2   4207104  ultralytics.nn.modules.block.C2f             [960, 576, 2]                 \n",
      " 22        [15, 18, 21]  1   3776854  ultralytics.nn.modules.head.Detect           [2, [192, 384, 576]]          \n",
      "Model summary: 295 layers, 25,857,478 parameters, 25,857,462 gradients, 79.1 GFLOPs\n",
      "\n",
      "Transferred 469/475 items from pretrained weights\n",
      "\u001b[34m\u001b[1mTensorBoard: \u001b[0mStart with 'tensorboard --logdir windturbine_yolo_llm_strong/yolo_m_150e', view at http://localhost:6006/\n",
      "Freezing layer 'model.22.dfl.conv.weight'\n",
      "\u001b[34m\u001b[1mAMP: \u001b[0mrunning Automatic Mixed Precision (AMP) checks with YOLOv8n...\n",
      "Downloading https://github.com/ultralytics/assets/releases/download/v8.2.0/yolov8n.pt to 'yolov8n.pt'...\n"
     ]
    },
    {
     "name": "stderr",
     "output_type": "stream",
     "text": [
      "100%|██████████| 6.25M/6.25M [00:00<00:00, 78.2MB/s]\n"
     ]
    },
    {
     "name": "stdout",
     "output_type": "stream",
     "text": [
      "\u001b[34m\u001b[1mAMP: \u001b[0mchecks passed ✅\n"
     ]
    },
    {
     "name": "stderr",
     "output_type": "stream",
     "text": [
      "/usr/local/lib/python3.11/dist-packages/ultralytics/engine/trainer.py:268: FutureWarning: `torch.cuda.amp.GradScaler(args...)` is deprecated. Please use `torch.amp.GradScaler('cuda', args...)` instead.\n",
      "  self.scaler = torch.cuda.amp.GradScaler(enabled=self.amp)\n",
      "\u001b[34m\u001b[1mtrain: \u001b[0mScanning /kaggle/working/windturbine_yolo_llm_strong/dataset/labels/train... 10776 images, 8381 backgrounds, 0 corrupt: 100%|██████████| 10776/10776 [00:06<00:00, 1655.29it/s]\n"
     ]
    },
    {
     "name": "stdout",
     "output_type": "stream",
     "text": [
      "\u001b[34m\u001b[1mtrain: \u001b[0mNew cache created: /kaggle/working/windturbine_yolo_llm_strong/dataset/labels/train.cache\n",
      "\u001b[34m\u001b[1malbumentations: \u001b[0mBlur(p=0.01, blur_limit=(3, 7)), MedianBlur(p=0.01, blur_limit=(3, 7)), ToGray(p=0.01, method='weighted_average', num_output_channels=3), CLAHE(p=0.01, clip_limit=(1.0, 4.0), tile_grid_size=(8, 8))\n"
     ]
    },
    {
     "name": "stderr",
     "output_type": "stream",
     "text": [
      "/usr/local/lib/python3.11/dist-packages/ultralytics/data/augment.py:1837: UserWarning: Argument(s) 'quality_lower' are not valid for transform ImageCompression\n",
      "  A.ImageCompression(quality_lower=75, p=0.0),\n",
      "\u001b[34m\u001b[1mval: \u001b[0mScanning /kaggle/working/windturbine_yolo_llm_strong/dataset/labels/val... 1346 images, 1047 backgrounds, 0 corrupt: 100%|██████████| 1346/1346 [00:01<00:00, 939.78it/s]\n"
     ]
    },
    {
     "name": "stdout",
     "output_type": "stream",
     "text": [
      "\u001b[34m\u001b[1mval: \u001b[0mNew cache created: /kaggle/working/windturbine_yolo_llm_strong/dataset/labels/val.cache\n",
      "Plotting labels to windturbine_yolo_llm_strong/yolo_m_150e/labels.jpg... \n",
      "\u001b[34m\u001b[1moptimizer:\u001b[0m 'optimizer=auto' found, ignoring 'lr0=0.01' and 'momentum=0.937' and determining best 'optimizer', 'lr0' and 'momentum' automatically... \n",
      "\u001b[34m\u001b[1moptimizer:\u001b[0m SGD(lr=0.01, momentum=0.9) with parameter groups 77 weight(decay=0.0), 84 weight(decay=0.0005), 83 bias(decay=0.0)\n",
      "\u001b[34m\u001b[1mTensorBoard: \u001b[0mmodel graph visualization added ✅\n",
      "Image sizes 640 train, 640 val\n",
      "Using 4 dataloader workers\n",
      "Logging results to \u001b[1mwindturbine_yolo_llm_strong/yolo_m_150e\u001b[0m\n",
      "Starting training for 100 epochs...\n",
      "\n",
      "      Epoch    GPU_mem   box_loss   cls_loss   dfl_loss  Instances       Size\n"
     ]
    },
    {
     "name": "stderr",
     "output_type": "stream",
     "text": [
      "      1/100      6.91G      1.602      3.055      1.249          2        640: 100%|██████████| 674/674 [06:28<00:00,  1.73it/s]\n",
      "                 Class     Images  Instances      Box(P          R      mAP50  mAP50-95): 100%|██████████| 43/43 [00:14<00:00,  3.01it/s]"
     ]
    },
    {
     "name": "stdout",
     "output_type": "stream",
     "text": [
      "                   all       1346        988      0.453       0.47      0.439      0.256\n"
     ]
    },
    {
     "name": "stderr",
     "output_type": "stream",
     "text": [
      "\n"
     ]
    },
    {
     "name": "stdout",
     "output_type": "stream",
     "text": [
      "\n",
      "      Epoch    GPU_mem   box_loss   cls_loss   dfl_loss  Instances       Size\n"
     ]
    },
    {
     "name": "stderr",
     "output_type": "stream",
     "text": [
      "      2/100      6.74G      1.681      2.075       1.27         23        640: 100%|██████████| 674/674 [06:39<00:00,  1.69it/s]\n",
      "                 Class     Images  Instances      Box(P          R      mAP50  mAP50-95): 100%|██████████| 43/43 [00:13<00:00,  3.24it/s]"
     ]
    },
    {
     "name": "stdout",
     "output_type": "stream",
     "text": [
      "                   all       1346        988      0.253      0.265      0.217     0.0994\n"
     ]
    },
    {
     "name": "stderr",
     "output_type": "stream",
     "text": [
      "\n"
     ]
    },
    {
     "name": "stdout",
     "output_type": "stream",
     "text": [
      "\n",
      "      Epoch    GPU_mem   box_loss   cls_loss   dfl_loss  Instances       Size\n"
     ]
    },
    {
     "name": "stderr",
     "output_type": "stream",
     "text": [
      "      3/100      6.77G      2.037      2.574      1.463         17        640: 100%|██████████| 674/674 [06:37<00:00,  1.69it/s]\n",
      "                 Class     Images  Instances      Box(P          R      mAP50  mAP50-95): 100%|██████████| 43/43 [00:13<00:00,  3.25it/s]"
     ]
    },
    {
     "name": "stdout",
     "output_type": "stream",
     "text": [
      "                   all       1346        988      0.125      0.094     0.0601     0.0274\n"
     ]
    },
    {
     "name": "stderr",
     "output_type": "stream",
     "text": [
      "\n"
     ]
    },
    {
     "name": "stdout",
     "output_type": "stream",
     "text": [
      "\n",
      "      Epoch    GPU_mem   box_loss   cls_loss   dfl_loss  Instances       Size\n"
     ]
    },
    {
     "name": "stderr",
     "output_type": "stream",
     "text": [
      "      4/100      6.73G      2.232      2.703      1.617          5        640: 100%|██████████| 674/674 [06:34<00:00,  1.71it/s]\n",
      "                 Class     Images  Instances      Box(P          R      mAP50  mAP50-95): 100%|██████████| 43/43 [00:13<00:00,  3.14it/s]"
     ]
    },
    {
     "name": "stdout",
     "output_type": "stream",
     "text": [
      "                   all       1346        988      0.263      0.317      0.188     0.0855\n"
     ]
    },
    {
     "name": "stderr",
     "output_type": "stream",
     "text": [
      "\n"
     ]
    },
    {
     "name": "stdout",
     "output_type": "stream",
     "text": [
      "\n",
      "      Epoch    GPU_mem   box_loss   cls_loss   dfl_loss  Instances       Size\n"
     ]
    },
    {
     "name": "stderr",
     "output_type": "stream",
     "text": [
      "      5/100      6.78G      2.164      2.503      1.565          6        640: 100%|██████████| 674/674 [06:34<00:00,  1.71it/s]\n",
      "                 Class     Images  Instances      Box(P          R      mAP50  mAP50-95): 100%|██████████| 43/43 [00:13<00:00,  3.14it/s]"
     ]
    },
    {
     "name": "stdout",
     "output_type": "stream",
     "text": [
      "                   all       1346        988      0.401      0.314      0.291      0.138\n"
     ]
    },
    {
     "name": "stderr",
     "output_type": "stream",
     "text": [
      "\n"
     ]
    },
    {
     "name": "stdout",
     "output_type": "stream",
     "text": [
      "\n",
      "      Epoch    GPU_mem   box_loss   cls_loss   dfl_loss  Instances       Size\n"
     ]
    },
    {
     "name": "stderr",
     "output_type": "stream",
     "text": [
      "      6/100      6.83G      2.045       2.24       1.48          3        640: 100%|██████████| 674/674 [06:33<00:00,  1.71it/s]\n",
      "                 Class     Images  Instances      Box(P          R      mAP50  mAP50-95): 100%|██████████| 43/43 [00:13<00:00,  3.17it/s]"
     ]
    },
    {
     "name": "stdout",
     "output_type": "stream",
     "text": [
      "                   all       1346        988      0.344      0.311      0.224       0.12\n"
     ]
    },
    {
     "name": "stderr",
     "output_type": "stream",
     "text": [
      "\n"
     ]
    },
    {
     "name": "stdout",
     "output_type": "stream",
     "text": [
      "\n",
      "      Epoch    GPU_mem   box_loss   cls_loss   dfl_loss  Instances       Size\n"
     ]
    },
    {
     "name": "stderr",
     "output_type": "stream",
     "text": [
      "      7/100      6.78G      1.948      2.135      1.447          6        640: 100%|██████████| 674/674 [06:33<00:00,  1.71it/s]\n",
      "                 Class     Images  Instances      Box(P          R      mAP50  mAP50-95): 100%|██████████| 43/43 [00:13<00:00,  3.16it/s]"
     ]
    },
    {
     "name": "stdout",
     "output_type": "stream",
     "text": [
      "                   all       1346        988       0.46      0.412      0.376       0.19\n"
     ]
    },
    {
     "name": "stderr",
     "output_type": "stream",
     "text": [
      "\n"
     ]
    },
    {
     "name": "stdout",
     "output_type": "stream",
     "text": [
      "\n",
      "      Epoch    GPU_mem   box_loss   cls_loss   dfl_loss  Instances       Size\n"
     ]
    },
    {
     "name": "stderr",
     "output_type": "stream",
     "text": [
      "      8/100      6.72G      1.904      2.072      1.439         23        640: 100%|██████████| 674/674 [06:34<00:00,  1.71it/s]\n",
      "                 Class     Images  Instances      Box(P          R      mAP50  mAP50-95): 100%|██████████| 43/43 [00:13<00:00,  3.18it/s]"
     ]
    },
    {
     "name": "stdout",
     "output_type": "stream",
     "text": [
      "                   all       1346        988      0.428      0.479      0.349      0.205\n"
     ]
    },
    {
     "name": "stderr",
     "output_type": "stream",
     "text": [
      "\n"
     ]
    },
    {
     "name": "stdout",
     "output_type": "stream",
     "text": [
      "\n",
      "      Epoch    GPU_mem   box_loss   cls_loss   dfl_loss  Instances       Size\n"
     ]
    },
    {
     "name": "stderr",
     "output_type": "stream",
     "text": [
      "      9/100      6.72G      1.874      2.033      1.393         23        640: 100%|██████████| 674/674 [06:32<00:00,  1.72it/s]\n",
      "                 Class     Images  Instances      Box(P          R      mAP50  mAP50-95): 100%|██████████| 43/43 [00:13<00:00,  3.20it/s]"
     ]
    },
    {
     "name": "stdout",
     "output_type": "stream",
     "text": [
      "                   all       1346        988      0.461      0.518      0.407      0.241\n"
     ]
    },
    {
     "name": "stderr",
     "output_type": "stream",
     "text": [
      "\n"
     ]
    },
    {
     "name": "stdout",
     "output_type": "stream",
     "text": [
      "\n",
      "      Epoch    GPU_mem   box_loss   cls_loss   dfl_loss  Instances       Size\n"
     ]
    },
    {
     "name": "stderr",
     "output_type": "stream",
     "text": [
      "     10/100      6.76G      1.807      1.889      1.372          8        640: 100%|██████████| 674/674 [06:32<00:00,  1.72it/s]\n",
      "                 Class     Images  Instances      Box(P          R      mAP50  mAP50-95): 100%|██████████| 43/43 [00:13<00:00,  3.13it/s]"
     ]
    },
    {
     "name": "stdout",
     "output_type": "stream",
     "text": [
      "                   all       1346        988       0.48      0.484      0.391      0.224\n"
     ]
    },
    {
     "name": "stderr",
     "output_type": "stream",
     "text": [
      "\n"
     ]
    },
    {
     "name": "stdout",
     "output_type": "stream",
     "text": [
      "\n",
      "      Epoch    GPU_mem   box_loss   cls_loss   dfl_loss  Instances       Size\n"
     ]
    },
    {
     "name": "stderr",
     "output_type": "stream",
     "text": [
      "     11/100      6.77G      1.808      1.879      1.354          5        640: 100%|██████████| 674/674 [06:33<00:00,  1.71it/s]\n",
      "                 Class     Images  Instances      Box(P          R      mAP50  mAP50-95): 100%|██████████| 43/43 [00:13<00:00,  3.16it/s]"
     ]
    },
    {
     "name": "stdout",
     "output_type": "stream",
     "text": [
      "                   all       1346        988      0.542      0.503      0.502       0.28\n"
     ]
    },
    {
     "name": "stderr",
     "output_type": "stream",
     "text": [
      "\n"
     ]
    },
    {
     "name": "stdout",
     "output_type": "stream",
     "text": [
      "\n",
      "      Epoch    GPU_mem   box_loss   cls_loss   dfl_loss  Instances       Size\n"
     ]
    },
    {
     "name": "stderr",
     "output_type": "stream",
     "text": [
      "     12/100      6.76G      1.747      1.755       1.33          7        640: 100%|██████████| 674/674 [06:33<00:00,  1.71it/s]\n",
      "                 Class     Images  Instances      Box(P          R      mAP50  mAP50-95): 100%|██████████| 43/43 [00:13<00:00,  3.15it/s]"
     ]
    },
    {
     "name": "stdout",
     "output_type": "stream",
     "text": [
      "                   all       1346        988        0.5      0.537      0.484      0.275\n"
     ]
    },
    {
     "name": "stderr",
     "output_type": "stream",
     "text": [
      "\n"
     ]
    },
    {
     "name": "stdout",
     "output_type": "stream",
     "text": [
      "\n",
      "      Epoch    GPU_mem   box_loss   cls_loss   dfl_loss  Instances       Size\n"
     ]
    },
    {
     "name": "stderr",
     "output_type": "stream",
     "text": [
      "     13/100      6.73G      1.741      1.738      1.318         13        640: 100%|██████████| 674/674 [06:32<00:00,  1.72it/s]\n",
      "                 Class     Images  Instances      Box(P          R      mAP50  mAP50-95): 100%|██████████| 43/43 [00:13<00:00,  3.15it/s]"
     ]
    },
    {
     "name": "stdout",
     "output_type": "stream",
     "text": [
      "                   all       1346        988      0.555      0.552      0.478      0.299\n"
     ]
    },
    {
     "name": "stderr",
     "output_type": "stream",
     "text": [
      "\n"
     ]
    },
    {
     "name": "stdout",
     "output_type": "stream",
     "text": [
      "\n",
      "      Epoch    GPU_mem   box_loss   cls_loss   dfl_loss  Instances       Size\n"
     ]
    },
    {
     "name": "stderr",
     "output_type": "stream",
     "text": [
      "     14/100      6.73G      1.717       1.75      1.318         14        640: 100%|██████████| 674/674 [06:32<00:00,  1.72it/s]\n",
      "                 Class     Images  Instances      Box(P          R      mAP50  mAP50-95): 100%|██████████| 43/43 [00:13<00:00,  3.20it/s]"
     ]
    },
    {
     "name": "stdout",
     "output_type": "stream",
     "text": [
      "                   all       1346        988      0.569      0.581      0.521      0.324\n"
     ]
    },
    {
     "name": "stderr",
     "output_type": "stream",
     "text": [
      "\n"
     ]
    },
    {
     "name": "stdout",
     "output_type": "stream",
     "text": [
      "\n",
      "      Epoch    GPU_mem   box_loss   cls_loss   dfl_loss  Instances       Size\n"
     ]
    },
    {
     "name": "stderr",
     "output_type": "stream",
     "text": [
      "     15/100      6.75G       1.68      1.705      1.288          9        640: 100%|██████████| 674/674 [06:34<00:00,  1.71it/s]\n",
      "                 Class     Images  Instances      Box(P          R      mAP50  mAP50-95): 100%|██████████| 43/43 [00:13<00:00,  3.16it/s]"
     ]
    },
    {
     "name": "stdout",
     "output_type": "stream",
     "text": [
      "                   all       1346        988      0.563      0.581      0.513      0.314\n"
     ]
    },
    {
     "name": "stderr",
     "output_type": "stream",
     "text": [
      "\n"
     ]
    },
    {
     "name": "stdout",
     "output_type": "stream",
     "text": [
      "\n",
      "      Epoch    GPU_mem   box_loss   cls_loss   dfl_loss  Instances       Size\n"
     ]
    },
    {
     "name": "stderr",
     "output_type": "stream",
     "text": [
      "     16/100      6.73G      1.615      1.613      1.265         10        640: 100%|██████████| 674/674 [06:34<00:00,  1.71it/s]\n",
      "                 Class     Images  Instances      Box(P          R      mAP50  mAP50-95): 100%|██████████| 43/43 [00:13<00:00,  3.19it/s]"
     ]
    },
    {
     "name": "stdout",
     "output_type": "stream",
     "text": [
      "                   all       1346        988      0.659       0.52       0.53      0.306\n"
     ]
    },
    {
     "name": "stderr",
     "output_type": "stream",
     "text": [
      "\n"
     ]
    },
    {
     "name": "stdout",
     "output_type": "stream",
     "text": [
      "\n",
      "      Epoch    GPU_mem   box_loss   cls_loss   dfl_loss  Instances       Size\n"
     ]
    },
    {
     "name": "stderr",
     "output_type": "stream",
     "text": [
      "     17/100      6.78G      1.666       1.67       1.27         12        640: 100%|██████████| 674/674 [06:33<00:00,  1.71it/s]\n",
      "                 Class     Images  Instances      Box(P          R      mAP50  mAP50-95): 100%|██████████| 43/43 [00:13<00:00,  3.16it/s]"
     ]
    },
    {
     "name": "stdout",
     "output_type": "stream",
     "text": [
      "                   all       1346        988      0.521      0.658      0.512        0.3\n"
     ]
    },
    {
     "name": "stderr",
     "output_type": "stream",
     "text": [
      "\n"
     ]
    },
    {
     "name": "stdout",
     "output_type": "stream",
     "text": [
      "\n",
      "      Epoch    GPU_mem   box_loss   cls_loss   dfl_loss  Instances       Size\n"
     ]
    },
    {
     "name": "stderr",
     "output_type": "stream",
     "text": [
      "     18/100      6.74G      1.625      1.581      1.269          7        640: 100%|██████████| 674/674 [06:34<00:00,  1.71it/s]\n",
      "                 Class     Images  Instances      Box(P          R      mAP50  mAP50-95): 100%|██████████| 43/43 [00:13<00:00,  3.18it/s]"
     ]
    },
    {
     "name": "stdout",
     "output_type": "stream",
     "text": [
      "                   all       1346        988      0.624       0.54      0.529      0.341\n"
     ]
    },
    {
     "name": "stderr",
     "output_type": "stream",
     "text": [
      "\n"
     ]
    },
    {
     "name": "stdout",
     "output_type": "stream",
     "text": [
      "\n",
      "      Epoch    GPU_mem   box_loss   cls_loss   dfl_loss  Instances       Size\n"
     ]
    },
    {
     "name": "stderr",
     "output_type": "stream",
     "text": [
      "     19/100      6.79G      1.612      1.594      1.257         17        640: 100%|██████████| 674/674 [06:33<00:00,  1.71it/s]\n",
      "                 Class     Images  Instances      Box(P          R      mAP50  mAP50-95): 100%|██████████| 43/43 [00:13<00:00,  3.23it/s]"
     ]
    },
    {
     "name": "stdout",
     "output_type": "stream",
     "text": [
      "                   all       1346        988      0.544      0.627      0.543      0.349\n"
     ]
    },
    {
     "name": "stderr",
     "output_type": "stream",
     "text": [
      "\n"
     ]
    },
    {
     "name": "stdout",
     "output_type": "stream",
     "text": [
      "\n",
      "      Epoch    GPU_mem   box_loss   cls_loss   dfl_loss  Instances       Size\n"
     ]
    },
    {
     "name": "stderr",
     "output_type": "stream",
     "text": [
      "     20/100      6.75G      1.607      1.542       1.25          3        640: 100%|██████████| 674/674 [06:34<00:00,  1.71it/s]\n",
      "                 Class     Images  Instances      Box(P          R      mAP50  mAP50-95): 100%|██████████| 43/43 [00:13<00:00,  3.19it/s]"
     ]
    },
    {
     "name": "stdout",
     "output_type": "stream",
     "text": [
      "                   all       1346        988      0.619       0.55      0.546      0.341\n"
     ]
    },
    {
     "name": "stderr",
     "output_type": "stream",
     "text": [
      "\n"
     ]
    },
    {
     "name": "stdout",
     "output_type": "stream",
     "text": [
      "\n",
      "      Epoch    GPU_mem   box_loss   cls_loss   dfl_loss  Instances       Size\n"
     ]
    },
    {
     "name": "stderr",
     "output_type": "stream",
     "text": [
      "     21/100      6.75G      1.572      1.497      1.255          7        640: 100%|██████████| 674/674 [06:35<00:00,  1.70it/s]\n",
      "                 Class     Images  Instances      Box(P          R      mAP50  mAP50-95): 100%|██████████| 43/43 [00:13<00:00,  3.16it/s]"
     ]
    },
    {
     "name": "stdout",
     "output_type": "stream",
     "text": [
      "                   all       1346        988      0.619      0.584      0.548      0.351\n"
     ]
    },
    {
     "name": "stderr",
     "output_type": "stream",
     "text": [
      "\n"
     ]
    },
    {
     "name": "stdout",
     "output_type": "stream",
     "text": [
      "\n",
      "      Epoch    GPU_mem   box_loss   cls_loss   dfl_loss  Instances       Size\n"
     ]
    },
    {
     "name": "stderr",
     "output_type": "stream",
     "text": [
      "     22/100      6.75G      1.582        1.5      1.237          5        640: 100%|██████████| 674/674 [06:34<00:00,  1.71it/s]\n",
      "                 Class     Images  Instances      Box(P          R      mAP50  mAP50-95): 100%|██████████| 43/43 [00:13<00:00,  3.19it/s]"
     ]
    },
    {
     "name": "stdout",
     "output_type": "stream",
     "text": [
      "                   all       1346        988      0.653      0.511      0.564      0.359\n"
     ]
    },
    {
     "name": "stderr",
     "output_type": "stream",
     "text": [
      "\n"
     ]
    },
    {
     "name": "stdout",
     "output_type": "stream",
     "text": [
      "\n",
      "      Epoch    GPU_mem   box_loss   cls_loss   dfl_loss  Instances       Size\n"
     ]
    },
    {
     "name": "stderr",
     "output_type": "stream",
     "text": [
      "     23/100      6.75G       1.55      1.464      1.215          5        640: 100%|██████████| 674/674 [06:33<00:00,  1.71it/s]\n",
      "                 Class     Images  Instances      Box(P          R      mAP50  mAP50-95): 100%|██████████| 43/43 [00:13<00:00,  3.19it/s]"
     ]
    },
    {
     "name": "stdout",
     "output_type": "stream",
     "text": [
      "                   all       1346        988      0.603      0.647      0.595      0.377\n"
     ]
    },
    {
     "name": "stderr",
     "output_type": "stream",
     "text": [
      "\n"
     ]
    },
    {
     "name": "stdout",
     "output_type": "stream",
     "text": [
      "\n",
      "      Epoch    GPU_mem   box_loss   cls_loss   dfl_loss  Instances       Size\n"
     ]
    },
    {
     "name": "stderr",
     "output_type": "stream",
     "text": [
      "     24/100      6.78G      1.544      1.474       1.21         12        640: 100%|██████████| 674/674 [06:33<00:00,  1.71it/s]\n",
      "                 Class     Images  Instances      Box(P          R      mAP50  mAP50-95): 100%|██████████| 43/43 [00:13<00:00,  3.18it/s]"
     ]
    },
    {
     "name": "stdout",
     "output_type": "stream",
     "text": [
      "                   all       1346        988      0.628      0.639      0.567      0.356\n"
     ]
    },
    {
     "name": "stderr",
     "output_type": "stream",
     "text": [
      "\n"
     ]
    },
    {
     "name": "stdout",
     "output_type": "stream",
     "text": [
      "\n",
      "      Epoch    GPU_mem   box_loss   cls_loss   dfl_loss  Instances       Size\n"
     ]
    },
    {
     "name": "stderr",
     "output_type": "stream",
     "text": [
      "     25/100      6.74G      1.528      1.436      1.219         24        640: 100%|██████████| 674/674 [06:33<00:00,  1.71it/s]\n",
      "                 Class     Images  Instances      Box(P          R      mAP50  mAP50-95): 100%|██████████| 43/43 [00:13<00:00,  3.17it/s]"
     ]
    },
    {
     "name": "stdout",
     "output_type": "stream",
     "text": [
      "                   all       1346        988      0.617      0.617      0.554      0.362\n"
     ]
    },
    {
     "name": "stderr",
     "output_type": "stream",
     "text": [
      "\n"
     ]
    },
    {
     "name": "stdout",
     "output_type": "stream",
     "text": [
      "\n",
      "      Epoch    GPU_mem   box_loss   cls_loss   dfl_loss  Instances       Size\n"
     ]
    },
    {
     "name": "stderr",
     "output_type": "stream",
     "text": [
      "     26/100      6.74G      1.524      1.416      1.209          4        640: 100%|██████████| 674/674 [06:33<00:00,  1.71it/s]\n",
      "                 Class     Images  Instances      Box(P          R      mAP50  mAP50-95): 100%|██████████| 43/43 [00:13<00:00,  3.15it/s]"
     ]
    },
    {
     "name": "stdout",
     "output_type": "stream",
     "text": [
      "                   all       1346        988      0.622      0.612      0.606       0.38\n"
     ]
    },
    {
     "name": "stderr",
     "output_type": "stream",
     "text": [
      "\n"
     ]
    },
    {
     "name": "stdout",
     "output_type": "stream",
     "text": [
      "\n",
      "      Epoch    GPU_mem   box_loss   cls_loss   dfl_loss  Instances       Size\n"
     ]
    },
    {
     "name": "stderr",
     "output_type": "stream",
     "text": [
      "     27/100      6.78G       1.52      1.421      1.205          2        640: 100%|██████████| 674/674 [06:32<00:00,  1.72it/s]\n",
      "                 Class     Images  Instances      Box(P          R      mAP50  mAP50-95): 100%|██████████| 43/43 [00:13<00:00,  3.21it/s]"
     ]
    },
    {
     "name": "stdout",
     "output_type": "stream",
     "text": [
      "                   all       1346        988      0.652      0.617      0.609      0.394\n"
     ]
    },
    {
     "name": "stderr",
     "output_type": "stream",
     "text": [
      "\n"
     ]
    },
    {
     "name": "stdout",
     "output_type": "stream",
     "text": [
      "\n",
      "      Epoch    GPU_mem   box_loss   cls_loss   dfl_loss  Instances       Size\n"
     ]
    },
    {
     "name": "stderr",
     "output_type": "stream",
     "text": [
      "     28/100      6.73G      1.497      1.401      1.192          4        640: 100%|██████████| 674/674 [06:32<00:00,  1.72it/s]\n",
      "                 Class     Images  Instances      Box(P          R      mAP50  mAP50-95): 100%|██████████| 43/43 [00:13<00:00,  3.18it/s]"
     ]
    },
    {
     "name": "stdout",
     "output_type": "stream",
     "text": [
      "                   all       1346        988      0.621      0.615       0.59      0.382\n"
     ]
    },
    {
     "name": "stderr",
     "output_type": "stream",
     "text": [
      "\n"
     ]
    },
    {
     "name": "stdout",
     "output_type": "stream",
     "text": [
      "\n",
      "      Epoch    GPU_mem   box_loss   cls_loss   dfl_loss  Instances       Size\n"
     ]
    },
    {
     "name": "stderr",
     "output_type": "stream",
     "text": [
      "     29/100      6.72G      1.498      1.401      1.192          2        640: 100%|██████████| 674/674 [06:31<00:00,  1.72it/s]\n",
      "                 Class     Images  Instances      Box(P          R      mAP50  mAP50-95): 100%|██████████| 43/43 [00:13<00:00,  3.19it/s]"
     ]
    },
    {
     "name": "stdout",
     "output_type": "stream",
     "text": [
      "                   all       1346        988      0.639      0.629      0.603      0.391\n"
     ]
    },
    {
     "name": "stderr",
     "output_type": "stream",
     "text": [
      "\n"
     ]
    },
    {
     "name": "stdout",
     "output_type": "stream",
     "text": [
      "\n",
      "      Epoch    GPU_mem   box_loss   cls_loss   dfl_loss  Instances       Size\n"
     ]
    },
    {
     "name": "stderr",
     "output_type": "stream",
     "text": [
      "     30/100      6.73G      1.483      1.331      1.184          2        640: 100%|██████████| 674/674 [06:31<00:00,  1.72it/s]\n",
      "                 Class     Images  Instances      Box(P          R      mAP50  mAP50-95): 100%|██████████| 43/43 [00:13<00:00,  3.21it/s]"
     ]
    },
    {
     "name": "stdout",
     "output_type": "stream",
     "text": [
      "                   all       1346        988      0.614      0.666      0.579       0.39\n"
     ]
    },
    {
     "name": "stderr",
     "output_type": "stream",
     "text": [
      "\n"
     ]
    },
    {
     "name": "stdout",
     "output_type": "stream",
     "text": [
      "\n",
      "      Epoch    GPU_mem   box_loss   cls_loss   dfl_loss  Instances       Size\n"
     ]
    },
    {
     "name": "stderr",
     "output_type": "stream",
     "text": [
      "     31/100      6.72G      1.479      1.348      1.185          8        640: 100%|██████████| 674/674 [06:31<00:00,  1.72it/s]\n",
      "                 Class     Images  Instances      Box(P          R      mAP50  mAP50-95): 100%|██████████| 43/43 [00:13<00:00,  3.17it/s]"
     ]
    },
    {
     "name": "stdout",
     "output_type": "stream",
     "text": [
      "                   all       1346        988      0.643      0.649      0.625      0.403\n"
     ]
    },
    {
     "name": "stderr",
     "output_type": "stream",
     "text": [
      "\n"
     ]
    },
    {
     "name": "stdout",
     "output_type": "stream",
     "text": [
      "\n",
      "      Epoch    GPU_mem   box_loss   cls_loss   dfl_loss  Instances       Size\n"
     ]
    },
    {
     "name": "stderr",
     "output_type": "stream",
     "text": [
      "     32/100      6.74G      1.468      1.305      1.187          4        640: 100%|██████████| 674/674 [06:32<00:00,  1.72it/s]\n",
      "                 Class     Images  Instances      Box(P          R      mAP50  mAP50-95): 100%|██████████| 43/43 [00:13<00:00,  3.20it/s]"
     ]
    },
    {
     "name": "stdout",
     "output_type": "stream",
     "text": [
      "                   all       1346        988      0.613      0.663      0.595      0.384\n"
     ]
    },
    {
     "name": "stderr",
     "output_type": "stream",
     "text": [
      "\n"
     ]
    },
    {
     "name": "stdout",
     "output_type": "stream",
     "text": [
      "\n",
      "      Epoch    GPU_mem   box_loss   cls_loss   dfl_loss  Instances       Size\n"
     ]
    },
    {
     "name": "stderr",
     "output_type": "stream",
     "text": [
      "     33/100      6.73G       1.45      1.344      1.178         35        640: 100%|██████████| 674/674 [06:32<00:00,  1.72it/s]\n",
      "                 Class     Images  Instances      Box(P          R      mAP50  mAP50-95): 100%|██████████| 43/43 [00:13<00:00,  3.21it/s]"
     ]
    },
    {
     "name": "stdout",
     "output_type": "stream",
     "text": [
      "                   all       1346        988      0.603      0.623       0.58       0.37\n"
     ]
    },
    {
     "name": "stderr",
     "output_type": "stream",
     "text": [
      "\n"
     ]
    },
    {
     "name": "stdout",
     "output_type": "stream",
     "text": [
      "\n",
      "      Epoch    GPU_mem   box_loss   cls_loss   dfl_loss  Instances       Size\n"
     ]
    },
    {
     "name": "stderr",
     "output_type": "stream",
     "text": [
      "     34/100      6.72G       1.46      1.325      1.171          6        640: 100%|██████████| 674/674 [06:32<00:00,  1.72it/s]\n",
      "                 Class     Images  Instances      Box(P          R      mAP50  mAP50-95): 100%|██████████| 43/43 [00:13<00:00,  3.19it/s]"
     ]
    },
    {
     "name": "stdout",
     "output_type": "stream",
     "text": [
      "                   all       1346        988       0.59      0.691        0.6      0.401\n"
     ]
    },
    {
     "name": "stderr",
     "output_type": "stream",
     "text": [
      "\n"
     ]
    },
    {
     "name": "stdout",
     "output_type": "stream",
     "text": [
      "\n",
      "      Epoch    GPU_mem   box_loss   cls_loss   dfl_loss  Instances       Size\n"
     ]
    },
    {
     "name": "stderr",
     "output_type": "stream",
     "text": [
      "     35/100      6.73G      1.453      1.312      1.163          7        640: 100%|██████████| 674/674 [06:33<00:00,  1.71it/s]\n",
      "                 Class     Images  Instances      Box(P          R      mAP50  mAP50-95): 100%|██████████| 43/43 [00:13<00:00,  3.19it/s]"
     ]
    },
    {
     "name": "stdout",
     "output_type": "stream",
     "text": [
      "                   all       1346        988      0.621      0.627      0.618      0.416\n"
     ]
    },
    {
     "name": "stderr",
     "output_type": "stream",
     "text": [
      "\n"
     ]
    },
    {
     "name": "stdout",
     "output_type": "stream",
     "text": [
      "\n",
      "      Epoch    GPU_mem   box_loss   cls_loss   dfl_loss  Instances       Size\n"
     ]
    },
    {
     "name": "stderr",
     "output_type": "stream",
     "text": [
      "     36/100      6.72G      1.425        1.3      1.163          7        640: 100%|██████████| 674/674 [06:33<00:00,  1.71it/s]\n",
      "                 Class     Images  Instances      Box(P          R      mAP50  mAP50-95): 100%|██████████| 43/43 [00:13<00:00,  3.18it/s]"
     ]
    },
    {
     "name": "stdout",
     "output_type": "stream",
     "text": [
      "                   all       1346        988      0.654      0.653      0.631      0.418\n"
     ]
    },
    {
     "name": "stderr",
     "output_type": "stream",
     "text": [
      "\n"
     ]
    },
    {
     "name": "stdout",
     "output_type": "stream",
     "text": [
      "\n",
      "      Epoch    GPU_mem   box_loss   cls_loss   dfl_loss  Instances       Size\n"
     ]
    },
    {
     "name": "stderr",
     "output_type": "stream",
     "text": [
      "     37/100      6.75G       1.43      1.268      1.166          4        640: 100%|██████████| 674/674 [06:36<00:00,  1.70it/s]\n",
      "                 Class     Images  Instances      Box(P          R      mAP50  mAP50-95): 100%|██████████| 43/43 [00:13<00:00,  3.12it/s]"
     ]
    },
    {
     "name": "stdout",
     "output_type": "stream",
     "text": [
      "                   all       1346        988      0.637       0.67      0.595      0.385\n"
     ]
    },
    {
     "name": "stderr",
     "output_type": "stream",
     "text": [
      "\n"
     ]
    },
    {
     "name": "stdout",
     "output_type": "stream",
     "text": [
      "\n",
      "      Epoch    GPU_mem   box_loss   cls_loss   dfl_loss  Instances       Size\n"
     ]
    },
    {
     "name": "stderr",
     "output_type": "stream",
     "text": [
      "     38/100      6.73G      1.426       1.27      1.161          4        640: 100%|██████████| 674/674 [06:32<00:00,  1.72it/s]\n",
      "                 Class     Images  Instances      Box(P          R      mAP50  mAP50-95): 100%|██████████| 43/43 [00:13<00:00,  3.20it/s]"
     ]
    },
    {
     "name": "stdout",
     "output_type": "stream",
     "text": [
      "                   all       1346        988      0.606       0.69      0.633      0.421\n"
     ]
    },
    {
     "name": "stderr",
     "output_type": "stream",
     "text": [
      "\n"
     ]
    },
    {
     "name": "stdout",
     "output_type": "stream",
     "text": [
      "\n",
      "      Epoch    GPU_mem   box_loss   cls_loss   dfl_loss  Instances       Size\n"
     ]
    },
    {
     "name": "stderr",
     "output_type": "stream",
     "text": [
      "     39/100      6.74G      1.407      1.269      1.154          5        640: 100%|██████████| 674/674 [06:31<00:00,  1.72it/s]\n",
      "                 Class     Images  Instances      Box(P          R      mAP50  mAP50-95): 100%|██████████| 43/43 [00:13<00:00,  3.21it/s]"
     ]
    },
    {
     "name": "stdout",
     "output_type": "stream",
     "text": [
      "                   all       1346        988      0.603      0.668      0.615      0.412\n"
     ]
    },
    {
     "name": "stderr",
     "output_type": "stream",
     "text": [
      "\n"
     ]
    },
    {
     "name": "stdout",
     "output_type": "stream",
     "text": [
      "\n",
      "      Epoch    GPU_mem   box_loss   cls_loss   dfl_loss  Instances       Size\n"
     ]
    },
    {
     "name": "stderr",
     "output_type": "stream",
     "text": [
      "     40/100      6.75G      1.431      1.242      1.168          5        640: 100%|██████████| 674/674 [06:32<00:00,  1.72it/s]\n",
      "                 Class     Images  Instances      Box(P          R      mAP50  mAP50-95): 100%|██████████| 43/43 [00:13<00:00,  3.18it/s]"
     ]
    },
    {
     "name": "stdout",
     "output_type": "stream",
     "text": [
      "                   all       1346        988      0.639      0.667      0.626      0.409\n"
     ]
    },
    {
     "name": "stderr",
     "output_type": "stream",
     "text": [
      "\n"
     ]
    },
    {
     "name": "stdout",
     "output_type": "stream",
     "text": [
      "\n",
      "      Epoch    GPU_mem   box_loss   cls_loss   dfl_loss  Instances       Size\n"
     ]
    },
    {
     "name": "stderr",
     "output_type": "stream",
     "text": [
      "     41/100      6.73G      1.406      1.257      1.149         18        640: 100%|██████████| 674/674 [06:31<00:00,  1.72it/s]\n",
      "                 Class     Images  Instances      Box(P          R      mAP50  mAP50-95): 100%|██████████| 43/43 [00:13<00:00,  3.20it/s]"
     ]
    },
    {
     "name": "stdout",
     "output_type": "stream",
     "text": [
      "                   all       1346        988      0.631      0.672      0.622      0.409\n"
     ]
    },
    {
     "name": "stderr",
     "output_type": "stream",
     "text": [
      "\n"
     ]
    },
    {
     "name": "stdout",
     "output_type": "stream",
     "text": [
      "\n",
      "      Epoch    GPU_mem   box_loss   cls_loss   dfl_loss  Instances       Size\n"
     ]
    },
    {
     "name": "stderr",
     "output_type": "stream",
     "text": [
      "     42/100      6.71G      1.405      1.226       1.14         12        640: 100%|██████████| 674/674 [06:33<00:00,  1.71it/s]\n",
      "                 Class     Images  Instances      Box(P          R      mAP50  mAP50-95): 100%|██████████| 43/43 [00:13<00:00,  3.19it/s]"
     ]
    },
    {
     "name": "stdout",
     "output_type": "stream",
     "text": [
      "                   all       1346        988      0.599      0.686      0.608        0.4\n"
     ]
    },
    {
     "name": "stderr",
     "output_type": "stream",
     "text": [
      "\n"
     ]
    },
    {
     "name": "stdout",
     "output_type": "stream",
     "text": [
      "\n",
      "      Epoch    GPU_mem   box_loss   cls_loss   dfl_loss  Instances       Size\n"
     ]
    },
    {
     "name": "stderr",
     "output_type": "stream",
     "text": [
      "     43/100      6.82G      1.384      1.203      1.135          8        640: 100%|██████████| 674/674 [06:32<00:00,  1.72it/s]\n",
      "                 Class     Images  Instances      Box(P          R      mAP50  mAP50-95): 100%|██████████| 43/43 [00:13<00:00,  3.22it/s]"
     ]
    },
    {
     "name": "stdout",
     "output_type": "stream",
     "text": [
      "                   all       1346        988      0.589      0.709      0.622      0.405\n"
     ]
    },
    {
     "name": "stderr",
     "output_type": "stream",
     "text": [
      "\n"
     ]
    },
    {
     "name": "stdout",
     "output_type": "stream",
     "text": [
      "\n",
      "      Epoch    GPU_mem   box_loss   cls_loss   dfl_loss  Instances       Size\n"
     ]
    },
    {
     "name": "stderr",
     "output_type": "stream",
     "text": [
      "     44/100      6.77G      1.379      1.217      1.146         15        640: 100%|██████████| 674/674 [06:33<00:00,  1.71it/s]\n",
      "                 Class     Images  Instances      Box(P          R      mAP50  mAP50-95): 100%|██████████| 43/43 [00:13<00:00,  3.20it/s]"
     ]
    },
    {
     "name": "stdout",
     "output_type": "stream",
     "text": [
      "                   all       1346        988      0.617      0.647      0.627      0.419\n"
     ]
    },
    {
     "name": "stderr",
     "output_type": "stream",
     "text": [
      "\n"
     ]
    },
    {
     "name": "stdout",
     "output_type": "stream",
     "text": [
      "\n",
      "      Epoch    GPU_mem   box_loss   cls_loss   dfl_loss  Instances       Size\n"
     ]
    },
    {
     "name": "stderr",
     "output_type": "stream",
     "text": [
      "     45/100      6.74G      1.399      1.257      1.142         29        640: 100%|██████████| 674/674 [06:34<00:00,  1.71it/s]\n",
      "                 Class     Images  Instances      Box(P          R      mAP50  mAP50-95): 100%|██████████| 43/43 [00:13<00:00,  3.19it/s]"
     ]
    },
    {
     "name": "stdout",
     "output_type": "stream",
     "text": [
      "                   all       1346        988      0.623      0.655      0.615      0.396\n"
     ]
    },
    {
     "name": "stderr",
     "output_type": "stream",
     "text": [
      "\n"
     ]
    },
    {
     "name": "stdout",
     "output_type": "stream",
     "text": [
      "\n",
      "      Epoch    GPU_mem   box_loss   cls_loss   dfl_loss  Instances       Size\n"
     ]
    },
    {
     "name": "stderr",
     "output_type": "stream",
     "text": [
      "     46/100      6.74G      1.365      1.202      1.129          3        640: 100%|██████████| 674/674 [06:33<00:00,  1.71it/s]\n",
      "                 Class     Images  Instances      Box(P          R      mAP50  mAP50-95): 100%|██████████| 43/43 [00:13<00:00,  3.15it/s]"
     ]
    },
    {
     "name": "stdout",
     "output_type": "stream",
     "text": [
      "                   all       1346        988      0.599      0.703      0.637      0.427\n"
     ]
    },
    {
     "name": "stderr",
     "output_type": "stream",
     "text": [
      "\n"
     ]
    },
    {
     "name": "stdout",
     "output_type": "stream",
     "text": [
      "\n",
      "      Epoch    GPU_mem   box_loss   cls_loss   dfl_loss  Instances       Size\n"
     ]
    },
    {
     "name": "stderr",
     "output_type": "stream",
     "text": [
      "     47/100      6.73G      1.349      1.173      1.124          5        640: 100%|██████████| 674/674 [06:32<00:00,  1.72it/s]\n",
      "                 Class     Images  Instances      Box(P          R      mAP50  mAP50-95): 100%|██████████| 43/43 [00:13<00:00,  3.14it/s]"
     ]
    },
    {
     "name": "stdout",
     "output_type": "stream",
     "text": [
      "                   all       1346        988      0.613      0.693      0.624      0.419\n"
     ]
    },
    {
     "name": "stderr",
     "output_type": "stream",
     "text": [
      "\n"
     ]
    },
    {
     "name": "stdout",
     "output_type": "stream",
     "text": [
      "\n",
      "      Epoch    GPU_mem   box_loss   cls_loss   dfl_loss  Instances       Size\n"
     ]
    },
    {
     "name": "stderr",
     "output_type": "stream",
     "text": [
      "     48/100      6.72G      1.338      1.176      1.123         12        640: 100%|██████████| 674/674 [06:33<00:00,  1.71it/s]\n",
      "                 Class     Images  Instances      Box(P          R      mAP50  mAP50-95): 100%|██████████| 43/43 [00:13<00:00,  3.16it/s]"
     ]
    },
    {
     "name": "stdout",
     "output_type": "stream",
     "text": [
      "                   all       1346        988      0.639      0.667      0.625      0.414\n"
     ]
    },
    {
     "name": "stderr",
     "output_type": "stream",
     "text": [
      "\n"
     ]
    },
    {
     "name": "stdout",
     "output_type": "stream",
     "text": [
      "\n",
      "      Epoch    GPU_mem   box_loss   cls_loss   dfl_loss  Instances       Size\n"
     ]
    },
    {
     "name": "stderr",
     "output_type": "stream",
     "text": [
      "     49/100      6.73G      1.337      1.156       1.12          0        640: 100%|██████████| 674/674 [06:32<00:00,  1.72it/s]\n",
      "                 Class     Images  Instances      Box(P          R      mAP50  mAP50-95): 100%|██████████| 43/43 [00:13<00:00,  3.20it/s]"
     ]
    },
    {
     "name": "stdout",
     "output_type": "stream",
     "text": [
      "                   all       1346        988      0.616       0.69      0.642      0.443\n"
     ]
    },
    {
     "name": "stderr",
     "output_type": "stream",
     "text": [
      "\n"
     ]
    },
    {
     "name": "stdout",
     "output_type": "stream",
     "text": [
      "\n",
      "      Epoch    GPU_mem   box_loss   cls_loss   dfl_loss  Instances       Size\n"
     ]
    },
    {
     "name": "stderr",
     "output_type": "stream",
     "text": [
      "     50/100      6.73G      1.326      1.167      1.108          7        640: 100%|██████████| 674/674 [06:36<00:00,  1.70it/s]\n",
      "                 Class     Images  Instances      Box(P          R      mAP50  mAP50-95): 100%|██████████| 43/43 [00:13<00:00,  3.23it/s]"
     ]
    },
    {
     "name": "stdout",
     "output_type": "stream",
     "text": [
      "                   all       1346        988       0.62      0.691      0.632      0.435\n"
     ]
    },
    {
     "name": "stderr",
     "output_type": "stream",
     "text": [
      "\n"
     ]
    },
    {
     "name": "stdout",
     "output_type": "stream",
     "text": [
      "\n",
      "      Epoch    GPU_mem   box_loss   cls_loss   dfl_loss  Instances       Size\n"
     ]
    },
    {
     "name": "stderr",
     "output_type": "stream",
     "text": [
      "     51/100      6.73G      1.341      1.156      1.126          7        640: 100%|██████████| 674/674 [06:36<00:00,  1.70it/s]\n",
      "                 Class     Images  Instances      Box(P          R      mAP50  mAP50-95): 100%|██████████| 43/43 [00:13<00:00,  3.20it/s]"
     ]
    },
    {
     "name": "stdout",
     "output_type": "stream",
     "text": [
      "                   all       1346        988      0.603      0.702      0.637      0.442\n"
     ]
    },
    {
     "name": "stderr",
     "output_type": "stream",
     "text": [
      "\n"
     ]
    },
    {
     "name": "stdout",
     "output_type": "stream",
     "text": [
      "\n",
      "      Epoch    GPU_mem   box_loss   cls_loss   dfl_loss  Instances       Size\n"
     ]
    },
    {
     "name": "stderr",
     "output_type": "stream",
     "text": [
      "     52/100      6.72G      1.335      1.142      1.119          4        640: 100%|██████████| 674/674 [06:34<00:00,  1.71it/s]\n",
      "                 Class     Images  Instances      Box(P          R      mAP50  mAP50-95): 100%|██████████| 43/43 [00:13<00:00,  3.15it/s]"
     ]
    },
    {
     "name": "stdout",
     "output_type": "stream",
     "text": [
      "                   all       1346        988      0.644      0.699      0.656      0.447\n"
     ]
    },
    {
     "name": "stderr",
     "output_type": "stream",
     "text": [
      "\n"
     ]
    },
    {
     "name": "stdout",
     "output_type": "stream",
     "text": [
      "\n",
      "      Epoch    GPU_mem   box_loss   cls_loss   dfl_loss  Instances       Size\n"
     ]
    },
    {
     "name": "stderr",
     "output_type": "stream",
     "text": [
      "     53/100      6.73G      1.341      1.181      1.109          6        640: 100%|██████████| 674/674 [06:34<00:00,  1.71it/s]\n",
      "                 Class     Images  Instances      Box(P          R      mAP50  mAP50-95): 100%|██████████| 43/43 [00:13<00:00,  3.18it/s]"
     ]
    },
    {
     "name": "stdout",
     "output_type": "stream",
     "text": [
      "                   all       1346        988      0.646      0.679      0.661      0.451\n"
     ]
    },
    {
     "name": "stderr",
     "output_type": "stream",
     "text": [
      "\n"
     ]
    },
    {
     "name": "stdout",
     "output_type": "stream",
     "text": [
      "\n",
      "      Epoch    GPU_mem   box_loss   cls_loss   dfl_loss  Instances       Size\n"
     ]
    },
    {
     "name": "stderr",
     "output_type": "stream",
     "text": [
      "     54/100      6.73G      1.324      1.129      1.106          6        640: 100%|██████████| 674/674 [06:33<00:00,  1.71it/s]\n",
      "                 Class     Images  Instances      Box(P          R      mAP50  mAP50-95): 100%|██████████| 43/43 [00:13<00:00,  3.19it/s]"
     ]
    },
    {
     "name": "stdout",
     "output_type": "stream",
     "text": [
      "                   all       1346        988      0.632      0.703      0.635      0.435\n"
     ]
    },
    {
     "name": "stderr",
     "output_type": "stream",
     "text": [
      "\n"
     ]
    },
    {
     "name": "stdout",
     "output_type": "stream",
     "text": [
      "\n",
      "      Epoch    GPU_mem   box_loss   cls_loss   dfl_loss  Instances       Size\n"
     ]
    },
    {
     "name": "stderr",
     "output_type": "stream",
     "text": [
      "     55/100      6.74G      1.322      1.187      1.109         23        640: 100%|██████████| 674/674 [06:33<00:00,  1.71it/s]\n",
      "                 Class     Images  Instances      Box(P          R      mAP50  mAP50-95): 100%|██████████| 43/43 [00:13<00:00,  3.20it/s]"
     ]
    },
    {
     "name": "stdout",
     "output_type": "stream",
     "text": [
      "                   all       1346        988      0.649      0.693      0.647      0.422\n"
     ]
    },
    {
     "name": "stderr",
     "output_type": "stream",
     "text": [
      "\n"
     ]
    },
    {
     "name": "stdout",
     "output_type": "stream",
     "text": [
      "\n",
      "      Epoch    GPU_mem   box_loss   cls_loss   dfl_loss  Instances       Size\n"
     ]
    },
    {
     "name": "stderr",
     "output_type": "stream",
     "text": [
      "     56/100      6.74G       1.29      1.115      1.096          5        640: 100%|██████████| 674/674 [06:33<00:00,  1.71it/s]\n",
      "                 Class     Images  Instances      Box(P          R      mAP50  mAP50-95): 100%|██████████| 43/43 [00:13<00:00,  3.17it/s]"
     ]
    },
    {
     "name": "stdout",
     "output_type": "stream",
     "text": [
      "                   all       1346        988      0.631      0.703      0.656      0.435\n"
     ]
    },
    {
     "name": "stderr",
     "output_type": "stream",
     "text": [
      "\n"
     ]
    },
    {
     "name": "stdout",
     "output_type": "stream",
     "text": [
      "\n",
      "      Epoch    GPU_mem   box_loss   cls_loss   dfl_loss  Instances       Size\n"
     ]
    },
    {
     "name": "stderr",
     "output_type": "stream",
     "text": [
      "     57/100      6.73G      1.309      1.087      1.105          2        640: 100%|██████████| 674/674 [06:32<00:00,  1.72it/s]\n",
      "                 Class     Images  Instances      Box(P          R      mAP50  mAP50-95): 100%|██████████| 43/43 [00:13<00:00,  3.22it/s]"
     ]
    },
    {
     "name": "stdout",
     "output_type": "stream",
     "text": [
      "                   all       1346        988       0.63      0.724      0.672      0.448\n"
     ]
    },
    {
     "name": "stderr",
     "output_type": "stream",
     "text": [
      "\n"
     ]
    },
    {
     "name": "stdout",
     "output_type": "stream",
     "text": [
      "\n",
      "      Epoch    GPU_mem   box_loss   cls_loss   dfl_loss  Instances       Size\n"
     ]
    },
    {
     "name": "stderr",
     "output_type": "stream",
     "text": [
      "     58/100      6.77G       1.31      1.088      1.093         18        640: 100%|██████████| 674/674 [06:33<00:00,  1.71it/s]\n",
      "                 Class     Images  Instances      Box(P          R      mAP50  mAP50-95): 100%|██████████| 43/43 [00:13<00:00,  3.15it/s]"
     ]
    },
    {
     "name": "stdout",
     "output_type": "stream",
     "text": [
      "                   all       1346        988      0.639      0.706      0.681      0.462\n"
     ]
    },
    {
     "name": "stderr",
     "output_type": "stream",
     "text": [
      "\n"
     ]
    },
    {
     "name": "stdout",
     "output_type": "stream",
     "text": [
      "\n",
      "      Epoch    GPU_mem   box_loss   cls_loss   dfl_loss  Instances       Size\n"
     ]
    },
    {
     "name": "stderr",
     "output_type": "stream",
     "text": [
      "     59/100      6.76G      1.312      1.097      1.084          0        640: 100%|██████████| 674/674 [06:33<00:00,  1.71it/s]\n",
      "                 Class     Images  Instances      Box(P          R      mAP50  mAP50-95): 100%|██████████| 43/43 [00:13<00:00,  3.21it/s]"
     ]
    },
    {
     "name": "stdout",
     "output_type": "stream",
     "text": [
      "                   all       1346        988      0.665      0.684      0.681      0.459\n"
     ]
    },
    {
     "name": "stderr",
     "output_type": "stream",
     "text": [
      "\n"
     ]
    },
    {
     "name": "stdout",
     "output_type": "stream",
     "text": [
      "\n",
      "      Epoch    GPU_mem   box_loss   cls_loss   dfl_loss  Instances       Size\n"
     ]
    },
    {
     "name": "stderr",
     "output_type": "stream",
     "text": [
      "     60/100      6.72G      1.289      1.083      1.088          7        640: 100%|██████████| 674/674 [06:34<00:00,  1.71it/s]\n",
      "                 Class     Images  Instances      Box(P          R      mAP50  mAP50-95): 100%|██████████| 43/43 [00:13<00:00,  3.16it/s]"
     ]
    },
    {
     "name": "stdout",
     "output_type": "stream",
     "text": [
      "                   all       1346        988      0.678      0.675      0.683      0.461\n"
     ]
    },
    {
     "name": "stderr",
     "output_type": "stream",
     "text": [
      "\n"
     ]
    },
    {
     "name": "stdout",
     "output_type": "stream",
     "text": [
      "\n",
      "      Epoch    GPU_mem   box_loss   cls_loss   dfl_loss  Instances       Size\n"
     ]
    },
    {
     "name": "stderr",
     "output_type": "stream",
     "text": [
      "     61/100      6.74G      1.277      1.053      1.079          6        640: 100%|██████████| 674/674 [06:33<00:00,  1.71it/s]\n",
      "                 Class     Images  Instances      Box(P          R      mAP50  mAP50-95): 100%|██████████| 43/43 [00:13<00:00,  3.24it/s]"
     ]
    },
    {
     "name": "stdout",
     "output_type": "stream",
     "text": [
      "                   all       1346        988      0.639      0.695       0.68      0.455\n"
     ]
    },
    {
     "name": "stderr",
     "output_type": "stream",
     "text": [
      "\n"
     ]
    },
    {
     "name": "stdout",
     "output_type": "stream",
     "text": [
      "\n",
      "      Epoch    GPU_mem   box_loss   cls_loss   dfl_loss  Instances       Size\n"
     ]
    },
    {
     "name": "stderr",
     "output_type": "stream",
     "text": [
      "     62/100      6.71G      1.246      1.054      1.075         10        640: 100%|██████████| 674/674 [06:33<00:00,  1.71it/s]\n",
      "                 Class     Images  Instances      Box(P          R      mAP50  mAP50-95): 100%|██████████| 43/43 [00:13<00:00,  3.13it/s]"
     ]
    },
    {
     "name": "stdout",
     "output_type": "stream",
     "text": [
      "                   all       1346        988      0.641      0.704      0.678      0.456\n"
     ]
    },
    {
     "name": "stderr",
     "output_type": "stream",
     "text": [
      "\n"
     ]
    },
    {
     "name": "stdout",
     "output_type": "stream",
     "text": [
      "\n",
      "      Epoch    GPU_mem   box_loss   cls_loss   dfl_loss  Instances       Size\n"
     ]
    },
    {
     "name": "stderr",
     "output_type": "stream",
     "text": [
      "     63/100      6.82G      1.243      1.011       1.07          4        640: 100%|██████████| 674/674 [06:33<00:00,  1.71it/s]\n",
      "                 Class     Images  Instances      Box(P          R      mAP50  mAP50-95): 100%|██████████| 43/43 [00:13<00:00,  3.23it/s]"
     ]
    },
    {
     "name": "stdout",
     "output_type": "stream",
     "text": [
      "                   all       1346        988      0.623      0.716       0.66      0.451\n"
     ]
    },
    {
     "name": "stderr",
     "output_type": "stream",
     "text": [
      "\n"
     ]
    },
    {
     "name": "stdout",
     "output_type": "stream",
     "text": [
      "\n",
      "      Epoch    GPU_mem   box_loss   cls_loss   dfl_loss  Instances       Size\n"
     ]
    },
    {
     "name": "stderr",
     "output_type": "stream",
     "text": [
      "     64/100      6.76G      1.256      1.059      1.079         11        640: 100%|██████████| 674/674 [06:33<00:00,  1.71it/s]\n",
      "                 Class     Images  Instances      Box(P          R      mAP50  mAP50-95): 100%|██████████| 43/43 [00:13<00:00,  3.24it/s]"
     ]
    },
    {
     "name": "stdout",
     "output_type": "stream",
     "text": [
      "                   all       1346        988      0.592      0.732      0.661      0.454\n"
     ]
    },
    {
     "name": "stderr",
     "output_type": "stream",
     "text": [
      "\n"
     ]
    },
    {
     "name": "stdout",
     "output_type": "stream",
     "text": [
      "\n",
      "      Epoch    GPU_mem   box_loss   cls_loss   dfl_loss  Instances       Size\n"
     ]
    },
    {
     "name": "stderr",
     "output_type": "stream",
     "text": [
      "     65/100      6.87G      1.276       1.06      1.079          5        640: 100%|██████████| 674/674 [06:31<00:00,  1.72it/s]\n",
      "                 Class     Images  Instances      Box(P          R      mAP50  mAP50-95): 100%|██████████| 43/43 [00:13<00:00,  3.17it/s]"
     ]
    },
    {
     "name": "stdout",
     "output_type": "stream",
     "text": [
      "                   all       1346        988      0.605      0.715      0.664      0.457\n"
     ]
    },
    {
     "name": "stderr",
     "output_type": "stream",
     "text": [
      "\n"
     ]
    },
    {
     "name": "stdout",
     "output_type": "stream",
     "text": [
      "\n",
      "      Epoch    GPU_mem   box_loss   cls_loss   dfl_loss  Instances       Size\n"
     ]
    },
    {
     "name": "stderr",
     "output_type": "stream",
     "text": [
      "     66/100      6.73G      1.248      1.022      1.068         17        640: 100%|██████████| 674/674 [06:32<00:00,  1.72it/s]\n",
      "                 Class     Images  Instances      Box(P          R      mAP50  mAP50-95): 100%|██████████| 43/43 [00:13<00:00,  3.21it/s]"
     ]
    },
    {
     "name": "stdout",
     "output_type": "stream",
     "text": [
      "                   all       1346        988      0.615      0.721      0.677      0.466\n"
     ]
    },
    {
     "name": "stderr",
     "output_type": "stream",
     "text": [
      "\n"
     ]
    },
    {
     "name": "stdout",
     "output_type": "stream",
     "text": [
      "\n",
      "      Epoch    GPU_mem   box_loss   cls_loss   dfl_loss  Instances       Size\n"
     ]
    },
    {
     "name": "stderr",
     "output_type": "stream",
     "text": [
      "     67/100      6.73G      1.251      1.055      1.064         13        640: 100%|██████████| 674/674 [06:32<00:00,  1.72it/s]\n",
      "                 Class     Images  Instances      Box(P          R      mAP50  mAP50-95): 100%|██████████| 43/43 [00:13<00:00,  3.17it/s]"
     ]
    },
    {
     "name": "stdout",
     "output_type": "stream",
     "text": [
      "                   all       1346        988      0.616      0.718      0.667      0.458\n"
     ]
    },
    {
     "name": "stderr",
     "output_type": "stream",
     "text": [
      "\n"
     ]
    },
    {
     "name": "stdout",
     "output_type": "stream",
     "text": [
      "\n",
      "      Epoch    GPU_mem   box_loss   cls_loss   dfl_loss  Instances       Size\n"
     ]
    },
    {
     "name": "stderr",
     "output_type": "stream",
     "text": [
      "     68/100      6.72G       1.26      1.067      1.069         19        640: 100%|██████████| 674/674 [06:33<00:00,  1.71it/s]\n",
      "                 Class     Images  Instances      Box(P          R      mAP50  mAP50-95): 100%|██████████| 43/43 [00:13<00:00,  3.22it/s]"
     ]
    },
    {
     "name": "stdout",
     "output_type": "stream",
     "text": [
      "                   all       1346        988      0.598      0.724      0.673      0.458\n"
     ]
    },
    {
     "name": "stderr",
     "output_type": "stream",
     "text": [
      "\n"
     ]
    },
    {
     "name": "stdout",
     "output_type": "stream",
     "text": [
      "\n",
      "      Epoch    GPU_mem   box_loss   cls_loss   dfl_loss  Instances       Size\n"
     ]
    },
    {
     "name": "stderr",
     "output_type": "stream",
     "text": [
      "     69/100      6.78G      1.225      1.021      1.065          4        640: 100%|██████████| 674/674 [06:33<00:00,  1.71it/s]\n",
      "                 Class     Images  Instances      Box(P          R      mAP50  mAP50-95): 100%|██████████| 43/43 [00:13<00:00,  3.24it/s]"
     ]
    },
    {
     "name": "stdout",
     "output_type": "stream",
     "text": [
      "                   all       1346        988        0.6      0.736      0.679      0.463\n"
     ]
    },
    {
     "name": "stderr",
     "output_type": "stream",
     "text": [
      "\n"
     ]
    },
    {
     "name": "stdout",
     "output_type": "stream",
     "text": [
      "\n",
      "      Epoch    GPU_mem   box_loss   cls_loss   dfl_loss  Instances       Size\n"
     ]
    },
    {
     "name": "stderr",
     "output_type": "stream",
     "text": [
      "     70/100      6.72G      1.221     0.9846      1.053          3        640: 100%|██████████| 674/674 [06:34<00:00,  1.71it/s]\n",
      "                 Class     Images  Instances      Box(P          R      mAP50  mAP50-95): 100%|██████████| 43/43 [00:13<00:00,  3.24it/s]"
     ]
    },
    {
     "name": "stdout",
     "output_type": "stream",
     "text": [
      "                   all       1346        988      0.603      0.723      0.668      0.463\n"
     ]
    },
    {
     "name": "stderr",
     "output_type": "stream",
     "text": [
      "\n"
     ]
    },
    {
     "name": "stdout",
     "output_type": "stream",
     "text": [
      "\n",
      "      Epoch    GPU_mem   box_loss   cls_loss   dfl_loss  Instances       Size\n"
     ]
    },
    {
     "name": "stderr",
     "output_type": "stream",
     "text": [
      "     71/100      6.72G      1.227          1      1.065         17        640: 100%|██████████| 674/674 [06:34<00:00,  1.71it/s]\n",
      "                 Class     Images  Instances      Box(P          R      mAP50  mAP50-95): 100%|██████████| 43/43 [00:13<00:00,  3.18it/s]"
     ]
    },
    {
     "name": "stdout",
     "output_type": "stream",
     "text": [
      "                   all       1346        988      0.611      0.711       0.66      0.458\n"
     ]
    },
    {
     "name": "stderr",
     "output_type": "stream",
     "text": [
      "\n"
     ]
    },
    {
     "name": "stdout",
     "output_type": "stream",
     "text": [
      "\n",
      "      Epoch    GPU_mem   box_loss   cls_loss   dfl_loss  Instances       Size\n"
     ]
    },
    {
     "name": "stderr",
     "output_type": "stream",
     "text": [
      "     72/100      6.74G      1.224          1      1.063         28        640: 100%|██████████| 674/674 [06:33<00:00,  1.71it/s]\n",
      "                 Class     Images  Instances      Box(P          R      mAP50  mAP50-95): 100%|██████████| 43/43 [00:13<00:00,  3.21it/s]"
     ]
    },
    {
     "name": "stdout",
     "output_type": "stream",
     "text": [
      "                   all       1346        988      0.593      0.733      0.663      0.457\n"
     ]
    },
    {
     "name": "stderr",
     "output_type": "stream",
     "text": [
      "\n"
     ]
    },
    {
     "name": "stdout",
     "output_type": "stream",
     "text": [
      "\n",
      "      Epoch    GPU_mem   box_loss   cls_loss   dfl_loss  Instances       Size\n"
     ]
    },
    {
     "name": "stderr",
     "output_type": "stream",
     "text": [
      "     73/100      6.74G      1.226     0.9821      1.052          7        640: 100%|██████████| 674/674 [06:33<00:00,  1.71it/s]\n",
      "                 Class     Images  Instances      Box(P          R      mAP50  mAP50-95): 100%|██████████| 43/43 [00:13<00:00,  3.24it/s]"
     ]
    },
    {
     "name": "stdout",
     "output_type": "stream",
     "text": [
      "                   all       1346        988        0.6      0.715      0.664       0.46\n"
     ]
    },
    {
     "name": "stderr",
     "output_type": "stream",
     "text": [
      "\n"
     ]
    },
    {
     "name": "stdout",
     "output_type": "stream",
     "text": [
      "\n",
      "      Epoch    GPU_mem   box_loss   cls_loss   dfl_loss  Instances       Size\n"
     ]
    },
    {
     "name": "stderr",
     "output_type": "stream",
     "text": [
      "     74/100      6.72G      1.215       1.01      1.057         13        640: 100%|██████████| 674/674 [06:31<00:00,  1.72it/s]\n",
      "                 Class     Images  Instances      Box(P          R      mAP50  mAP50-95): 100%|██████████| 43/43 [00:13<00:00,  3.17it/s]"
     ]
    },
    {
     "name": "stdout",
     "output_type": "stream",
     "text": [
      "                   all       1346        988      0.602      0.722      0.653      0.445\n"
     ]
    },
    {
     "name": "stderr",
     "output_type": "stream",
     "text": [
      "\n"
     ]
    },
    {
     "name": "stdout",
     "output_type": "stream",
     "text": [
      "\n",
      "      Epoch    GPU_mem   box_loss   cls_loss   dfl_loss  Instances       Size\n"
     ]
    },
    {
     "name": "stderr",
     "output_type": "stream",
     "text": [
      "     75/100      6.73G      1.206     0.9518      1.053         15        640: 100%|██████████| 674/674 [06:33<00:00,  1.71it/s]\n",
      "                 Class     Images  Instances      Box(P          R      mAP50  mAP50-95): 100%|██████████| 43/43 [00:13<00:00,  3.18it/s]"
     ]
    },
    {
     "name": "stdout",
     "output_type": "stream",
     "text": [
      "                   all       1346        988      0.605      0.719      0.652      0.449\n"
     ]
    },
    {
     "name": "stderr",
     "output_type": "stream",
     "text": [
      "\n"
     ]
    },
    {
     "name": "stdout",
     "output_type": "stream",
     "text": [
      "\n",
      "      Epoch    GPU_mem   box_loss   cls_loss   dfl_loss  Instances       Size\n"
     ]
    },
    {
     "name": "stderr",
     "output_type": "stream",
     "text": [
      "     76/100      6.75G        1.2     0.9434      1.051          1        640: 100%|██████████| 674/674 [06:34<00:00,  1.71it/s]\n",
      "                 Class     Images  Instances      Box(P          R      mAP50  mAP50-95): 100%|██████████| 43/43 [00:13<00:00,  3.20it/s]"
     ]
    },
    {
     "name": "stdout",
     "output_type": "stream",
     "text": [
      "                   all       1346        988      0.614      0.709      0.653      0.446\n"
     ]
    },
    {
     "name": "stderr",
     "output_type": "stream",
     "text": [
      "\n"
     ]
    },
    {
     "name": "stdout",
     "output_type": "stream",
     "text": [
      "\n",
      "      Epoch    GPU_mem   box_loss   cls_loss   dfl_loss  Instances       Size\n"
     ]
    },
    {
     "name": "stderr",
     "output_type": "stream",
     "text": [
      "     77/100      6.72G      1.202     0.9413      1.048          8        640: 100%|██████████| 674/674 [06:34<00:00,  1.71it/s]\n",
      "                 Class     Images  Instances      Box(P          R      mAP50  mAP50-95): 100%|██████████| 43/43 [00:13<00:00,  3.25it/s]"
     ]
    },
    {
     "name": "stdout",
     "output_type": "stream",
     "text": [
      "                   all       1346        988      0.612      0.706      0.659       0.45\n"
     ]
    },
    {
     "name": "stderr",
     "output_type": "stream",
     "text": [
      "\n"
     ]
    },
    {
     "name": "stdout",
     "output_type": "stream",
     "text": [
      "\n",
      "      Epoch    GPU_mem   box_loss   cls_loss   dfl_loss  Instances       Size\n"
     ]
    },
    {
     "name": "stderr",
     "output_type": "stream",
     "text": [
      "     78/100      6.81G      1.178      0.948      1.033         11        640: 100%|██████████| 674/674 [06:35<00:00,  1.70it/s]\n",
      "                 Class     Images  Instances      Box(P          R      mAP50  mAP50-95): 100%|██████████| 43/43 [00:13<00:00,  3.26it/s]"
     ]
    },
    {
     "name": "stdout",
     "output_type": "stream",
     "text": [
      "                   all       1346        988      0.611      0.708      0.657      0.451\n"
     ]
    },
    {
     "name": "stderr",
     "output_type": "stream",
     "text": [
      "\n"
     ]
    },
    {
     "name": "stdout",
     "output_type": "stream",
     "text": [
      "\n",
      "      Epoch    GPU_mem   box_loss   cls_loss   dfl_loss  Instances       Size\n"
     ]
    },
    {
     "name": "stderr",
     "output_type": "stream",
     "text": [
      "     79/100      6.73G      1.178     0.9386      1.044          2        640: 100%|██████████| 674/674 [06:34<00:00,  1.71it/s]\n",
      "                 Class     Images  Instances      Box(P          R      mAP50  mAP50-95): 100%|██████████| 43/43 [00:13<00:00,  3.26it/s]"
     ]
    },
    {
     "name": "stdout",
     "output_type": "stream",
     "text": [
      "                   all       1346        988      0.633      0.688      0.662      0.452\n"
     ]
    },
    {
     "name": "stderr",
     "output_type": "stream",
     "text": [
      "\n"
     ]
    },
    {
     "name": "stdout",
     "output_type": "stream",
     "text": [
      "\n",
      "      Epoch    GPU_mem   box_loss   cls_loss   dfl_loss  Instances       Size\n"
     ]
    },
    {
     "name": "stderr",
     "output_type": "stream",
     "text": [
      "     80/100      6.72G      1.162      0.922      1.029          0        640: 100%|██████████| 674/674 [06:34<00:00,  1.71it/s]\n",
      "                 Class     Images  Instances      Box(P          R      mAP50  mAP50-95): 100%|██████████| 43/43 [00:13<00:00,  3.24it/s]"
     ]
    },
    {
     "name": "stdout",
     "output_type": "stream",
     "text": [
      "                   all       1346        988      0.638      0.688      0.661      0.454\n"
     ]
    },
    {
     "name": "stderr",
     "output_type": "stream",
     "text": [
      "\n"
     ]
    },
    {
     "name": "stdout",
     "output_type": "stream",
     "text": [
      "\n",
      "      Epoch    GPU_mem   box_loss   cls_loss   dfl_loss  Instances       Size\n"
     ]
    },
    {
     "name": "stderr",
     "output_type": "stream",
     "text": [
      "     81/100      6.73G      1.153     0.9162      1.026          4        640: 100%|██████████| 674/674 [06:35<00:00,  1.70it/s]\n",
      "                 Class     Images  Instances      Box(P          R      mAP50  mAP50-95): 100%|██████████| 43/43 [00:13<00:00,  3.25it/s]"
     ]
    },
    {
     "name": "stdout",
     "output_type": "stream",
     "text": [
      "                   all       1346        988      0.635       0.69       0.66      0.457\n"
     ]
    },
    {
     "name": "stderr",
     "output_type": "stream",
     "text": [
      "\n"
     ]
    },
    {
     "name": "stdout",
     "output_type": "stream",
     "text": [
      "\n",
      "      Epoch    GPU_mem   box_loss   cls_loss   dfl_loss  Instances       Size\n"
     ]
    },
    {
     "name": "stderr",
     "output_type": "stream",
     "text": [
      "     82/100       6.7G      1.173     0.9385      1.036         13        640: 100%|██████████| 674/674 [06:33<00:00,  1.71it/s]\n",
      "                 Class     Images  Instances      Box(P          R      mAP50  mAP50-95): 100%|██████████| 43/43 [00:13<00:00,  3.24it/s]"
     ]
    },
    {
     "name": "stdout",
     "output_type": "stream",
     "text": [
      "                   all       1346        988      0.632      0.687      0.662      0.458\n"
     ]
    },
    {
     "name": "stderr",
     "output_type": "stream",
     "text": [
      "\n"
     ]
    },
    {
     "name": "stdout",
     "output_type": "stream",
     "text": [
      "\n",
      "      Epoch    GPU_mem   box_loss   cls_loss   dfl_loss  Instances       Size\n"
     ]
    },
    {
     "name": "stderr",
     "output_type": "stream",
     "text": [
      "     83/100      6.73G       1.14     0.9129      1.022          7        640: 100%|██████████| 674/674 [06:32<00:00,  1.72it/s]\n",
      "                 Class     Images  Instances      Box(P          R      mAP50  mAP50-95): 100%|██████████| 43/43 [00:13<00:00,  3.21it/s]"
     ]
    },
    {
     "name": "stdout",
     "output_type": "stream",
     "text": [
      "                   all       1346        988      0.639      0.683      0.664       0.46\n"
     ]
    },
    {
     "name": "stderr",
     "output_type": "stream",
     "text": [
      "\n"
     ]
    },
    {
     "name": "stdout",
     "output_type": "stream",
     "text": [
      "\n",
      "      Epoch    GPU_mem   box_loss   cls_loss   dfl_loss  Instances       Size\n"
     ]
    },
    {
     "name": "stderr",
     "output_type": "stream",
     "text": [
      "     84/100      6.73G      1.152     0.8958      1.023          4        640: 100%|██████████| 674/674 [06:32<00:00,  1.72it/s]\n",
      "                 Class     Images  Instances      Box(P          R      mAP50  mAP50-95): 100%|██████████| 43/43 [00:13<00:00,  3.16it/s]"
     ]
    },
    {
     "name": "stdout",
     "output_type": "stream",
     "text": [
      "                   all       1346        988      0.638      0.683      0.666      0.461\n"
     ]
    },
    {
     "name": "stderr",
     "output_type": "stream",
     "text": [
      "\n"
     ]
    },
    {
     "name": "stdout",
     "output_type": "stream",
     "text": [
      "\n",
      "      Epoch    GPU_mem   box_loss   cls_loss   dfl_loss  Instances       Size\n"
     ]
    },
    {
     "name": "stderr",
     "output_type": "stream",
     "text": [
      "     85/100      6.74G      1.166     0.9354      1.025          1        640: 100%|██████████| 674/674 [06:33<00:00,  1.71it/s]\n",
      "                 Class     Images  Instances      Box(P          R      mAP50  mAP50-95): 100%|██████████| 43/43 [00:13<00:00,  3.20it/s]"
     ]
    },
    {
     "name": "stdout",
     "output_type": "stream",
     "text": [
      "                   all       1346        988      0.629      0.691      0.666       0.46\n"
     ]
    },
    {
     "name": "stderr",
     "output_type": "stream",
     "text": [
      "\n"
     ]
    },
    {
     "name": "stdout",
     "output_type": "stream",
     "text": [
      "\n",
      "      Epoch    GPU_mem   box_loss   cls_loss   dfl_loss  Instances       Size\n"
     ]
    },
    {
     "name": "stderr",
     "output_type": "stream",
     "text": [
      "     86/100       6.7G      1.124     0.8694      1.016          3        640: 100%|██████████| 674/674 [06:32<00:00,  1.72it/s]\n",
      "                 Class     Images  Instances      Box(P          R      mAP50  mAP50-95): 100%|██████████| 43/43 [00:13<00:00,  3.23it/s]"
     ]
    },
    {
     "name": "stdout",
     "output_type": "stream",
     "text": [
      "                   all       1346        988      0.586      0.735      0.667       0.46\n"
     ]
    },
    {
     "name": "stderr",
     "output_type": "stream",
     "text": [
      "\n"
     ]
    },
    {
     "name": "stdout",
     "output_type": "stream",
     "text": [
      "\n",
      "      Epoch    GPU_mem   box_loss   cls_loss   dfl_loss  Instances       Size\n"
     ]
    },
    {
     "name": "stderr",
     "output_type": "stream",
     "text": [
      "     87/100      6.76G      1.123      0.869      1.018         12        640: 100%|██████████| 674/674 [06:33<00:00,  1.71it/s]\n",
      "                 Class     Images  Instances      Box(P          R      mAP50  mAP50-95): 100%|██████████| 43/43 [00:13<00:00,  3.18it/s]"
     ]
    },
    {
     "name": "stdout",
     "output_type": "stream",
     "text": [
      "                   all       1346        988      0.629      0.693      0.669      0.459\n"
     ]
    },
    {
     "name": "stderr",
     "output_type": "stream",
     "text": [
      "\n"
     ]
    },
    {
     "name": "stdout",
     "output_type": "stream",
     "text": [
      "\n",
      "      Epoch    GPU_mem   box_loss   cls_loss   dfl_loss  Instances       Size\n"
     ]
    },
    {
     "name": "stderr",
     "output_type": "stream",
     "text": [
      "     88/100      6.71G      1.129     0.8679      1.017          1        640: 100%|██████████| 674/674 [06:34<00:00,  1.71it/s]\n",
      "                 Class     Images  Instances      Box(P          R      mAP50  mAP50-95): 100%|██████████| 43/43 [00:13<00:00,  3.17it/s]"
     ]
    },
    {
     "name": "stdout",
     "output_type": "stream",
     "text": [
      "                   all       1346        988      0.644      0.683      0.668      0.459\n"
     ]
    },
    {
     "name": "stderr",
     "output_type": "stream",
     "text": [
      "\n"
     ]
    },
    {
     "name": "stdout",
     "output_type": "stream",
     "text": [
      "\n",
      "      Epoch    GPU_mem   box_loss   cls_loss   dfl_loss  Instances       Size\n"
     ]
    },
    {
     "name": "stderr",
     "output_type": "stream",
     "text": [
      "     89/100      6.77G      1.106     0.8825      1.017         20        640: 100%|██████████| 674/674 [06:34<00:00,  1.71it/s]\n",
      "                 Class     Images  Instances      Box(P          R      mAP50  mAP50-95): 100%|██████████| 43/43 [00:13<00:00,  3.18it/s]"
     ]
    },
    {
     "name": "stdout",
     "output_type": "stream",
     "text": [
      "                   all       1346        988      0.627      0.694      0.668      0.459\n"
     ]
    },
    {
     "name": "stderr",
     "output_type": "stream",
     "text": [
      "\n"
     ]
    },
    {
     "name": "stdout",
     "output_type": "stream",
     "text": [
      "\n",
      "      Epoch    GPU_mem   box_loss   cls_loss   dfl_loss  Instances       Size\n"
     ]
    },
    {
     "name": "stderr",
     "output_type": "stream",
     "text": [
      "     90/100      6.72G      1.096     0.8246      1.007         30        640: 100%|██████████| 674/674 [06:34<00:00,  1.71it/s]\n",
      "                 Class     Images  Instances      Box(P          R      mAP50  mAP50-95): 100%|██████████| 43/43 [00:13<00:00,  3.17it/s]"
     ]
    },
    {
     "name": "stdout",
     "output_type": "stream",
     "text": [
      "                   all       1346        988      0.628      0.694      0.667      0.458\n"
     ]
    },
    {
     "name": "stderr",
     "output_type": "stream",
     "text": [
      "\n"
     ]
    },
    {
     "name": "stdout",
     "output_type": "stream",
     "text": [
      "Closing dataloader mosaic\n",
      "\u001b[34m\u001b[1malbumentations: \u001b[0mBlur(p=0.01, blur_limit=(3, 7)), MedianBlur(p=0.01, blur_limit=(3, 7)), ToGray(p=0.01, method='weighted_average', num_output_channels=3), CLAHE(p=0.01, clip_limit=(1.0, 4.0), tile_grid_size=(8, 8))\n"
     ]
    },
    {
     "name": "stderr",
     "output_type": "stream",
     "text": [
      "/usr/local/lib/python3.11/dist-packages/ultralytics/data/augment.py:1837: UserWarning: Argument(s) 'quality_lower' are not valid for transform ImageCompression\n",
      "  A.ImageCompression(quality_lower=75, p=0.0),\n"
     ]
    },
    {
     "name": "stdout",
     "output_type": "stream",
     "text": [
      "\n",
      "      Epoch    GPU_mem   box_loss   cls_loss   dfl_loss  Instances       Size\n"
     ]
    },
    {
     "name": "stderr",
     "output_type": "stream",
     "text": [
      "     91/100      6.75G      1.131     0.9399     0.9926          5        640: 100%|██████████| 674/674 [06:30<00:00,  1.72it/s]\n",
      "                 Class     Images  Instances      Box(P          R      mAP50  mAP50-95): 100%|██████████| 43/43 [00:13<00:00,  3.19it/s]"
     ]
    },
    {
     "name": "stdout",
     "output_type": "stream",
     "text": [
      "                   all       1346        988      0.627      0.696      0.668       0.46\n"
     ]
    },
    {
     "name": "stderr",
     "output_type": "stream",
     "text": [
      "\n"
     ]
    },
    {
     "name": "stdout",
     "output_type": "stream",
     "text": [
      "\n",
      "      Epoch    GPU_mem   box_loss   cls_loss   dfl_loss  Instances       Size\n"
     ]
    },
    {
     "name": "stderr",
     "output_type": "stream",
     "text": [
      "     92/100      6.72G      1.113     0.8886     0.9867          3        640: 100%|██████████| 674/674 [06:30<00:00,  1.73it/s]\n",
      "                 Class     Images  Instances      Box(P          R      mAP50  mAP50-95): 100%|██████████| 43/43 [00:13<00:00,  3.23it/s]"
     ]
    },
    {
     "name": "stdout",
     "output_type": "stream",
     "text": [
      "                   all       1346        988      0.625       0.71      0.666      0.459\n"
     ]
    },
    {
     "name": "stderr",
     "output_type": "stream",
     "text": [
      "\n"
     ]
    },
    {
     "name": "stdout",
     "output_type": "stream",
     "text": [
      "\n",
      "      Epoch    GPU_mem   box_loss   cls_loss   dfl_loss  Instances       Size\n"
     ]
    },
    {
     "name": "stderr",
     "output_type": "stream",
     "text": [
      "     93/100      6.72G      1.091     0.8929     0.9667          1        640: 100%|██████████| 674/674 [06:30<00:00,  1.73it/s]\n",
      "                 Class     Images  Instances      Box(P          R      mAP50  mAP50-95): 100%|██████████| 43/43 [00:13<00:00,  3.25it/s]"
     ]
    },
    {
     "name": "stdout",
     "output_type": "stream",
     "text": [
      "                   all       1346        988      0.622       0.71      0.666      0.461\n"
     ]
    },
    {
     "name": "stderr",
     "output_type": "stream",
     "text": [
      "\n"
     ]
    },
    {
     "name": "stdout",
     "output_type": "stream",
     "text": [
      "\n",
      "      Epoch    GPU_mem   box_loss   cls_loss   dfl_loss  Instances       Size\n"
     ]
    },
    {
     "name": "stderr",
     "output_type": "stream",
     "text": [
      "     94/100      6.72G      1.112     0.8795       0.98         12        640: 100%|██████████| 674/674 [06:30<00:00,  1.73it/s]\n",
      "                 Class     Images  Instances      Box(P          R      mAP50  mAP50-95): 100%|██████████| 43/43 [00:13<00:00,  3.23it/s]"
     ]
    },
    {
     "name": "stdout",
     "output_type": "stream",
     "text": [
      "                   all       1346        988       0.62      0.711      0.665      0.462\n"
     ]
    },
    {
     "name": "stderr",
     "output_type": "stream",
     "text": [
      "\n"
     ]
    },
    {
     "name": "stdout",
     "output_type": "stream",
     "text": [
      "\n",
      "      Epoch    GPU_mem   box_loss   cls_loss   dfl_loss  Instances       Size\n"
     ]
    },
    {
     "name": "stderr",
     "output_type": "stream",
     "text": [
      "     95/100      6.72G      1.095     0.8616     0.9734          3        640: 100%|██████████| 674/674 [06:30<00:00,  1.73it/s]\n",
      "                 Class     Images  Instances      Box(P          R      mAP50  mAP50-95): 100%|██████████| 43/43 [00:13<00:00,  3.24it/s]"
     ]
    },
    {
     "name": "stdout",
     "output_type": "stream",
     "text": [
      "                   all       1346        988      0.634      0.703      0.666       0.46\n"
     ]
    },
    {
     "name": "stderr",
     "output_type": "stream",
     "text": [
      "\n"
     ]
    },
    {
     "name": "stdout",
     "output_type": "stream",
     "text": [
      "\n",
      "      Epoch    GPU_mem   box_loss   cls_loss   dfl_loss  Instances       Size\n"
     ]
    },
    {
     "name": "stderr",
     "output_type": "stream",
     "text": [
      "     96/100      6.72G      1.103     0.8635      0.969          0        640: 100%|██████████| 674/674 [06:30<00:00,  1.73it/s]\n",
      "                 Class     Images  Instances      Box(P          R      mAP50  mAP50-95): 100%|██████████| 43/43 [00:13<00:00,  3.23it/s]"
     ]
    },
    {
     "name": "stdout",
     "output_type": "stream",
     "text": [
      "                   all       1346        988      0.634      0.709      0.664      0.458\n",
      "\u001b[34m\u001b[1mEarlyStopping: \u001b[0mTraining stopped early as no improvement observed in last 30 epochs. Best results observed at epoch 66, best model saved as best.pt.\n",
      "To update EarlyStopping(patience=30) pass a new patience value, i.e. `patience=300` or use `patience=0` to disable EarlyStopping.\n"
     ]
    },
    {
     "name": "stderr",
     "output_type": "stream",
     "text": [
      "\n"
     ]
    },
    {
     "name": "stdout",
     "output_type": "stream",
     "text": [
      "\n",
      "96 epochs completed in 10.890 hours.\n",
      "Optimizer stripped from windturbine_yolo_llm_strong/yolo_m_150e/weights/last.pt, 52.0MB\n",
      "Optimizer stripped from windturbine_yolo_llm_strong/yolo_m_150e/weights/best.pt, 52.0MB\n",
      "\n",
      "Validating windturbine_yolo_llm_strong/yolo_m_150e/weights/best.pt...\n",
      "Ultralytics YOLOv8.2.84 🚀 Python-3.11.13 torch-2.6.0+cu124 CUDA:0 (Tesla T4, 15095MiB)\n",
      "Model summary (fused): 218 layers, 25,840,918 parameters, 0 gradients, 78.7 GFLOPs\n"
     ]
    },
    {
     "name": "stderr",
     "output_type": "stream",
     "text": [
      "                 Class     Images  Instances      Box(P          R      mAP50  mAP50-95): 100%|██████████| 43/43 [00:13<00:00,  3.30it/s]\n"
     ]
    },
    {
     "name": "stdout",
     "output_type": "stream",
     "text": [
      "                   all       1346        988      0.615      0.721      0.677      0.466\n",
      "                  dirt         53         57      0.523      0.769      0.635      0.529\n",
      "                damage        259        931      0.707      0.673      0.718      0.403\n"
     ]
    },
    {
     "name": "stderr",
     "output_type": "stream",
     "text": [
      "/usr/local/lib/python3.11/dist-packages/matplotlib/colors.py:721: RuntimeWarning: invalid value encountered in less\n",
      "  xa[xa < 0] = -1\n",
      "/usr/local/lib/python3.11/dist-packages/matplotlib/colors.py:721: RuntimeWarning: invalid value encountered in less\n",
      "  xa[xa < 0] = -1\n"
     ]
    },
    {
     "name": "stdout",
     "output_type": "stream",
     "text": [
      "Speed: 0.1ms preprocess, 7.8ms inference, 0.0ms loss, 0.6ms postprocess per image\n",
      "Results saved to \u001b[1mwindturbine_yolo_llm_strong/yolo_m_150e\u001b[0m\n",
      "Ultralytics YOLOv8.2.84 🚀 Python-3.11.13 torch-2.6.0+cu124 CUDA:0 (Tesla T4, 15095MiB)\n",
      "Model summary (fused): 218 layers, 25,840,918 parameters, 0 gradients, 78.7 GFLOPs\n"
     ]
    },
    {
     "name": "stderr",
     "output_type": "stream",
     "text": [
      "\u001b[34m\u001b[1mval: \u001b[0mScanning /kaggle/working/windturbine_yolo_llm_strong/dataset/labels/val.cache... 1346 images, 1047 backgrounds, 0 corrupt: 100%|██████████| 1346/1346 [00:00<?, ?it/s]\n",
      "                 Class     Images  Instances      Box(P          R      mAP50  mAP50-95): 100%|██████████| 85/85 [00:26<00:00,  3.17it/s]\n"
     ]
    },
    {
     "name": "stdout",
     "output_type": "stream",
     "text": [
      "                   all       1346        988      0.615      0.722      0.678      0.468\n",
      "                  dirt         53         57      0.522      0.768      0.636      0.534\n",
      "                damage        259        931      0.708      0.676      0.719      0.402\n"
     ]
    },
    {
     "name": "stderr",
     "output_type": "stream",
     "text": [
      "/usr/local/lib/python3.11/dist-packages/matplotlib/colors.py:721: RuntimeWarning: invalid value encountered in less\n",
      "  xa[xa < 0] = -1\n",
      "/usr/local/lib/python3.11/dist-packages/matplotlib/colors.py:721: RuntimeWarning: invalid value encountered in less\n",
      "  xa[xa < 0] = -1\n"
     ]
    },
    {
     "name": "stdout",
     "output_type": "stream",
     "text": [
      "Speed: 0.2ms preprocess, 17.6ms inference, 0.0ms loss, 0.6ms postprocess per image\n",
      "Saving windturbine_yolo_llm_strong/val_std/predictions.json...\n",
      "Results saved to \u001b[1mwindturbine_yolo_llm_strong/val_std\u001b[0m\n",
      "Ultralytics YOLOv8.2.84 🚀 Python-3.11.13 torch-2.6.0+cu124 CUDA:0 (Tesla T4, 15095MiB)\n"
     ]
    },
    {
     "name": "stderr",
     "output_type": "stream",
     "text": [
      "\u001b[34m\u001b[1mval: \u001b[0mScanning /kaggle/working/windturbine_yolo_llm_strong/dataset/labels/test... 1348 images, 1048 backgrounds, 0 corrupt: 100%|██████████| 1348/1348 [00:00<00:00, 1632.82it/s]"
     ]
    },
    {
     "name": "stdout",
     "output_type": "stream",
     "text": [
      "\u001b[34m\u001b[1mval: \u001b[0mNew cache created: /kaggle/working/windturbine_yolo_llm_strong/dataset/labels/test.cache\n"
     ]
    },
    {
     "name": "stderr",
     "output_type": "stream",
     "text": [
      "\n",
      "                 Class     Images  Instances      Box(P          R      mAP50  mAP50-95): 100%|██████████| 85/85 [00:26<00:00,  3.15it/s]\n"
     ]
    },
    {
     "name": "stdout",
     "output_type": "stream",
     "text": [
      "                   all       1348        938      0.692      0.787      0.705      0.497\n",
      "                  dirt         57         58      0.657      0.931      0.716      0.607\n",
      "                damage        250        880      0.726      0.643      0.694      0.387\n"
     ]
    },
    {
     "name": "stderr",
     "output_type": "stream",
     "text": [
      "/usr/local/lib/python3.11/dist-packages/matplotlib/colors.py:721: RuntimeWarning: invalid value encountered in less\n",
      "  xa[xa < 0] = -1\n",
      "/usr/local/lib/python3.11/dist-packages/matplotlib/colors.py:721: RuntimeWarning: invalid value encountered in less\n",
      "  xa[xa < 0] = -1\n"
     ]
    },
    {
     "name": "stdout",
     "output_type": "stream",
     "text": [
      "Speed: 0.2ms preprocess, 17.7ms inference, 0.0ms loss, 0.6ms postprocess per image\n",
      "Saving windturbine_yolo_llm_strong/test_std/predictions.json...\n",
      "Results saved to \u001b[1mwindturbine_yolo_llm_strong/test_std\u001b[0m\n",
      "Ultralytics YOLOv8.2.84 🚀 Python-3.11.13 torch-2.6.0+cu124 CUDA:0 (Tesla T4, 15095MiB)\n"
     ]
    },
    {
     "name": "stderr",
     "output_type": "stream",
     "text": [
      "\u001b[34m\u001b[1mval: \u001b[0mScanning /kaggle/working/windturbine_yolo_llm_strong/dataset/labels/test.cache... 1348 images, 1048 backgrounds, 0 corrupt: 100%|██████████| 1348/1348 [00:00<?, ?it/s]\n",
      "                 Class     Images  Instances      Box(P          R      mAP50  mAP50-95): 100%|██████████| 85/85 [00:58<00:00,  1.46it/s]"
     ]
    },
    {
     "name": "stdout",
     "output_type": "stream",
     "text": [
      "                   all       1348        938      0.673      0.776      0.718      0.521\n",
      "                  dirt         57         58      0.669      0.906      0.763      0.662\n",
      "                damage        250        880      0.676      0.647      0.673      0.379\n",
      "Speed: 0.2ms preprocess, 41.4ms inference, 0.0ms loss, 0.5ms postprocess per image\n",
      "Std test mAP50-95: 0.4974447361954197 | TTA: 0.520629085229767\n",
      "\n",
      "\n",
      "WARNING ⚠️ inference results will accumulate in RAM unless `stream=True` is passed, causing potential out-of-memory\n",
      "errors for large sources or long-running streams and videos. See https://docs.ultralytics.com/modes/predict/ for help.\n",
      "\n",
      "Example:\n",
      "    results = model(source=..., stream=True)  # generator of Results objects\n",
      "    for r in results:\n",
      "        boxes = r.boxes  # Boxes object for bbox outputs\n",
      "        masks = r.masks  # Masks object for segment masks outputs\n",
      "        probs = r.probs  # Class probabilities for classification outputs\n",
      "\n"
     ]
    },
    {
     "name": "stderr",
     "output_type": "stream",
     "text": [
      "\n"
     ]
    },
    {
     "name": "stdout",
     "output_type": "stream",
     "text": [
      "image 1/1348 /kaggle/working/windturbine_yolo_llm_strong/dataset/images/test/DJI_0004_03_06.png: 416x640 7 damages, 42.9ms\n",
      "image 2/1348 /kaggle/working/windturbine_yolo_llm_strong/dataset/images/test/DJI_0004_03_07.png: 416x640 (no detections), 11.9ms\n",
      "image 3/1348 /kaggle/working/windturbine_yolo_llm_strong/dataset/images/test/DJI_0004_05_04.png: 416x640 (no detections), 12.5ms\n",
      "image 4/1348 /kaggle/working/windturbine_yolo_llm_strong/dataset/images/test/DJI_0004_08_06.png: 416x640 (no detections), 12.2ms\n",
      "image 5/1348 /kaggle/working/windturbine_yolo_llm_strong/dataset/images/test/DJI_0005_03_05.png: 416x640 8 damages, 13.0ms\n",
      "image 6/1348 /kaggle/working/windturbine_yolo_llm_strong/dataset/images/test/DJI_0005_04_06.png: 416x640 (no detections), 12.6ms\n",
      "image 7/1348 /kaggle/working/windturbine_yolo_llm_strong/dataset/images/test/DJI_0005_08_04.png: 416x640 (no detections), 12.2ms\n",
      "image 8/1348 /kaggle/working/windturbine_yolo_llm_strong/dataset/images/test/DJI_0006_03_04.png: 416x640 (no detections), 12.5ms\n",
      "image 9/1348 /kaggle/working/windturbine_yolo_llm_strong/dataset/images/test/DJI_0006_03_05.png: 416x640 15 damages, 13.2ms\n",
      "image 10/1348 /kaggle/working/windturbine_yolo_llm_strong/dataset/images/test/DJI_0006_03_06.png: 416x640 (no detections), 12.3ms\n",
      "image 11/1348 /kaggle/working/windturbine_yolo_llm_strong/dataset/images/test/DJI_0006_08_03.png: 416x640 (no detections), 12.4ms\n",
      "image 12/1348 /kaggle/working/windturbine_yolo_llm_strong/dataset/images/test/DJI_0007_01_06.png: 416x640 (no detections), 13.6ms\n",
      "image 13/1348 /kaggle/working/windturbine_yolo_llm_strong/dataset/images/test/DJI_0008_06_04.png: 416x640 (no detections), 12.6ms\n",
      "image 14/1348 /kaggle/working/windturbine_yolo_llm_strong/dataset/images/test/DJI_0008_08_05.png: 416x640 (no detections), 12.5ms\n",
      "image 15/1348 /kaggle/working/windturbine_yolo_llm_strong/dataset/images/test/DJI_0009_04_04.png: 416x640 (no detections), 13.3ms\n",
      "image 16/1348 /kaggle/working/windturbine_yolo_llm_strong/dataset/images/test/DJI_0009_08_03.png: 416x640 (no detections), 12.3ms\n",
      "image 17/1348 /kaggle/working/windturbine_yolo_llm_strong/dataset/images/test/DJI_0010_02_08.png: 416x640 (no detections), 12.3ms\n",
      "image 18/1348 /kaggle/working/windturbine_yolo_llm_strong/dataset/images/test/DJI_0011_04_04.png: 416x640 (no detections), 13.3ms\n",
      "image 19/1348 /kaggle/working/windturbine_yolo_llm_strong/dataset/images/test/DJI_0011_07_04.png: 416x640 (no detections), 12.6ms\n",
      "image 20/1348 /kaggle/working/windturbine_yolo_llm_strong/dataset/images/test/DJI_0012_02_07.png: 416x640 (no detections), 12.3ms\n",
      "image 21/1348 /kaggle/working/windturbine_yolo_llm_strong/dataset/images/test/DJI_0013_03_05.png: 416x640 6 damages, 13.4ms\n",
      "image 22/1348 /kaggle/working/windturbine_yolo_llm_strong/dataset/images/test/DJI_0013_04_04.png: 416x640 (no detections), 12.6ms\n",
      "image 23/1348 /kaggle/working/windturbine_yolo_llm_strong/dataset/images/test/DJI_0014_01_04.png: 416x640 (no detections), 12.2ms\n",
      "image 24/1348 /kaggle/working/windturbine_yolo_llm_strong/dataset/images/test/DJI_0014_02_09.png: 416x640 1 damage, 12.7ms\n",
      "image 25/1348 /kaggle/working/windturbine_yolo_llm_strong/dataset/images/test/DJI_0015_02_07.png: 416x640 (no detections), 13.1ms\n",
      "image 26/1348 /kaggle/working/windturbine_yolo_llm_strong/dataset/images/test/DJI_0015_03_04.png: 416x640 7 damages, 12.3ms\n",
      "image 27/1348 /kaggle/working/windturbine_yolo_llm_strong/dataset/images/test/DJI_0015_05_03.png: 416x640 (no detections), 12.5ms\n",
      "image 28/1348 /kaggle/working/windturbine_yolo_llm_strong/dataset/images/test/DJI_0016_02_04.png: 416x640 (no detections), 13.5ms\n",
      "image 29/1348 /kaggle/working/windturbine_yolo_llm_strong/dataset/images/test/DJI_0016_06_03.png: 416x640 (no detections), 12.7ms\n",
      "image 30/1348 /kaggle/working/windturbine_yolo_llm_strong/dataset/images/test/DJI_0018_03_05.png: 416x640 (no detections), 12.3ms\n",
      "image 31/1348 /kaggle/working/windturbine_yolo_llm_strong/dataset/images/test/DJI_0020_03_05.png: 416x640 (no detections), 13.7ms\n",
      "image 32/1348 /kaggle/working/windturbine_yolo_llm_strong/dataset/images/test/DJI_0020_03_07.png: 416x640 1 damage, 12.7ms\n",
      "image 33/1348 /kaggle/working/windturbine_yolo_llm_strong/dataset/images/test/DJI_0020_03_08.png: 416x640 (no detections), 12.6ms\n",
      "image 34/1348 /kaggle/working/windturbine_yolo_llm_strong/dataset/images/test/DJI_0021_03_07.png: 416x640 1 damage, 13.6ms\n",
      "image 35/1348 /kaggle/working/windturbine_yolo_llm_strong/dataset/images/test/DJI_0021_05_04.png: 416x640 (no detections), 12.6ms\n",
      "image 36/1348 /kaggle/working/windturbine_yolo_llm_strong/dataset/images/test/DJI_0022_01_03.png: 416x640 (no detections), 12.6ms\n",
      "image 37/1348 /kaggle/working/windturbine_yolo_llm_strong/dataset/images/test/DJI_0022_04_03.png: 416x640 1 damage, 13.6ms\n",
      "image 38/1348 /kaggle/working/windturbine_yolo_llm_strong/dataset/images/test/DJI_0024_07_03.png: 416x640 (no detections), 12.6ms\n",
      "image 39/1348 /kaggle/working/windturbine_yolo_llm_strong/dataset/images/test/DJI_0025_03_02.png: 416x640 7 damages, 12.3ms\n",
      "image 40/1348 /kaggle/working/windturbine_yolo_llm_strong/dataset/images/test/DJI_0025_08_03.png: 416x640 (no detections), 13.0ms\n",
      "image 41/1348 /kaggle/working/windturbine_yolo_llm_strong/dataset/images/test/DJI_0026_04_04.png: 416x640 (no detections), 13.2ms\n",
      "image 42/1348 /kaggle/working/windturbine_yolo_llm_strong/dataset/images/test/DJI_0026_06_03.png: 416x640 (no detections), 12.6ms\n",
      "image 43/1348 /kaggle/working/windturbine_yolo_llm_strong/dataset/images/test/DJI_0027_05_04.png: 416x640 (no detections), 12.2ms\n",
      "image 44/1348 /kaggle/working/windturbine_yolo_llm_strong/dataset/images/test/DJI_0027_06_05.png: 416x640 (no detections), 13.1ms\n",
      "image 45/1348 /kaggle/working/windturbine_yolo_llm_strong/dataset/images/test/DJI_0028_03_04.png: 416x640 12 damages, 12.9ms\n",
      "image 46/1348 /kaggle/working/windturbine_yolo_llm_strong/dataset/images/test/DJI_0028_05_04.png: 416x640 (no detections), 12.4ms\n",
      "image 47/1348 /kaggle/working/windturbine_yolo_llm_strong/dataset/images/test/DJI_0028_08_04.png: 416x640 (no detections), 12.3ms\n",
      "image 48/1348 /kaggle/working/windturbine_yolo_llm_strong/dataset/images/test/DJI_0029_01_05.png: 416x640 (no detections), 13.9ms\n",
      "image 49/1348 /kaggle/working/windturbine_yolo_llm_strong/dataset/images/test/DJI_0029_04_06.png: 416x640 (no detections), 13.4ms\n",
      "image 50/1348 /kaggle/working/windturbine_yolo_llm_strong/dataset/images/test/DJI_0029_05_07.png: 416x640 (no detections), 13.4ms\n",
      "image 51/1348 /kaggle/working/windturbine_yolo_llm_strong/dataset/images/test/DJI_0030_08_04.png: 416x640 (no detections), 13.6ms\n",
      "image 52/1348 /kaggle/working/windturbine_yolo_llm_strong/dataset/images/test/DJI_0031_02_04.png: 416x640 (no detections), 13.5ms\n",
      "image 53/1348 /kaggle/working/windturbine_yolo_llm_strong/dataset/images/test/DJI_0031_04_03.png: 416x640 (no detections), 13.4ms\n",
      "image 54/1348 /kaggle/working/windturbine_yolo_llm_strong/dataset/images/test/DJI_0031_04_04.png: 416x640 (no detections), 13.6ms\n",
      "image 55/1348 /kaggle/working/windturbine_yolo_llm_strong/dataset/images/test/DJI_0032_05_04.png: 416x640 (no detections), 14.0ms\n",
      "image 56/1348 /kaggle/working/windturbine_yolo_llm_strong/dataset/images/test/DJI_0033_04_04.png: 416x640 1 damage, 13.5ms\n",
      "image 57/1348 /kaggle/working/windturbine_yolo_llm_strong/dataset/images/test/DJI_0033_07_05.png: 416x640 (no detections), 13.5ms\n",
      "image 58/1348 /kaggle/working/windturbine_yolo_llm_strong/dataset/images/test/DJI_0034_03_03.png: 416x640 (no detections), 13.8ms\n",
      "image 59/1348 /kaggle/working/windturbine_yolo_llm_strong/dataset/images/test/DJI_0034_06_07.png: 416x640 (no detections), 13.5ms\n",
      "image 60/1348 /kaggle/working/windturbine_yolo_llm_strong/dataset/images/test/DJI_0035_01_05.png: 416x640 (no detections), 13.5ms\n",
      "image 61/1348 /kaggle/working/windturbine_yolo_llm_strong/dataset/images/test/DJI_0035_03_04.png: 416x640 7 damages, 13.6ms\n",
      "image 62/1348 /kaggle/working/windturbine_yolo_llm_strong/dataset/images/test/DJI_0035_06_05.png: 416x640 (no detections), 13.5ms\n",
      "image 63/1348 /kaggle/working/windturbine_yolo_llm_strong/dataset/images/test/DJI_0038_04_05.png: 416x640 8 damages, 13.5ms\n",
      "image 64/1348 /kaggle/working/windturbine_yolo_llm_strong/dataset/images/test/DJI_0038_06_05.png: 416x640 (no detections), 13.5ms\n",
      "image 65/1348 /kaggle/working/windturbine_yolo_llm_strong/dataset/images/test/DJI_0038_07_02.png: 416x640 (no detections), 14.3ms\n",
      "image 66/1348 /kaggle/working/windturbine_yolo_llm_strong/dataset/images/test/DJI_0039_02_06.png: 416x640 (no detections), 13.7ms\n",
      "image 67/1348 /kaggle/working/windturbine_yolo_llm_strong/dataset/images/test/DJI_0039_05_05.png: 416x640 (no detections), 13.7ms\n",
      "image 68/1348 /kaggle/working/windturbine_yolo_llm_strong/dataset/images/test/DJI_0040_04_05.png: 416x640 4 damages, 14.3ms\n",
      "image 69/1348 /kaggle/working/windturbine_yolo_llm_strong/dataset/images/test/DJI_0040_05_05.png: 416x640 2 damages, 13.7ms\n",
      "image 70/1348 /kaggle/working/windturbine_yolo_llm_strong/dataset/images/test/DJI_0040_05_06.png: 416x640 5 damages, 13.7ms\n",
      "image 71/1348 /kaggle/working/windturbine_yolo_llm_strong/dataset/images/test/DJI_0040_06_03.png: 416x640 (no detections), 13.5ms\n",
      "image 72/1348 /kaggle/working/windturbine_yolo_llm_strong/dataset/images/test/DJI_0040_07_06.png: 416x640 (no detections), 13.8ms\n",
      "image 73/1348 /kaggle/working/windturbine_yolo_llm_strong/dataset/images/test/DJI_0041_07_01.png: 416x640 (no detections), 13.5ms\n",
      "image 74/1348 /kaggle/working/windturbine_yolo_llm_strong/dataset/images/test/DJI_0041_07_03.png: 416x640 (no detections), 13.6ms\n",
      "image 75/1348 /kaggle/working/windturbine_yolo_llm_strong/dataset/images/test/DJI_0041_08_05.png: 416x640 (no detections), 14.0ms\n",
      "image 76/1348 /kaggle/working/windturbine_yolo_llm_strong/dataset/images/test/DJI_0042_06_04.png: 416x640 (no detections), 13.5ms\n",
      "image 77/1348 /kaggle/working/windturbine_yolo_llm_strong/dataset/images/test/DJI_0044_06_01.png: 416x640 (no detections), 13.7ms\n",
      "image 78/1348 /kaggle/working/windturbine_yolo_llm_strong/dataset/images/test/DJI_0046_07_01.png: 416x640 (no detections), 13.8ms\n",
      "image 79/1348 /kaggle/working/windturbine_yolo_llm_strong/dataset/images/test/DJI_0046_08_05.png: 416x640 (no detections), 13.7ms\n",
      "image 80/1348 /kaggle/working/windturbine_yolo_llm_strong/dataset/images/test/DJI_0047_03_06.png: 416x640 (no detections), 13.7ms\n",
      "image 81/1348 /kaggle/working/windturbine_yolo_llm_strong/dataset/images/test/DJI_0047_05_05.png: 416x640 (no detections), 14.3ms\n",
      "image 82/1348 /kaggle/working/windturbine_yolo_llm_strong/dataset/images/test/DJI_0049_02_06.png: 416x640 (no detections), 13.8ms\n",
      "image 83/1348 /kaggle/working/windturbine_yolo_llm_strong/dataset/images/test/DJI_0049_05_04.png: 416x640 (no detections), 13.7ms\n",
      "image 84/1348 /kaggle/working/windturbine_yolo_llm_strong/dataset/images/test/DJI_0049_06_05.png: 416x640 (no detections), 13.8ms\n",
      "image 85/1348 /kaggle/working/windturbine_yolo_llm_strong/dataset/images/test/DJI_0050_01_07.png: 416x640 (no detections), 13.8ms\n",
      "image 86/1348 /kaggle/working/windturbine_yolo_llm_strong/dataset/images/test/DJI_0051_03_05.png: 416x640 (no detections), 13.7ms\n",
      "image 87/1348 /kaggle/working/windturbine_yolo_llm_strong/dataset/images/test/DJI_0055_03_06.png: 416x640 (no detections), 13.8ms\n",
      "image 88/1348 /kaggle/working/windturbine_yolo_llm_strong/dataset/images/test/DJI_0055_03_07.png: 416x640 (no detections), 13.7ms\n",
      "image 89/1348 /kaggle/working/windturbine_yolo_llm_strong/dataset/images/test/DJI_0055_04_06.png: 416x640 (no detections), 13.7ms\n",
      "image 90/1348 /kaggle/working/windturbine_yolo_llm_strong/dataset/images/test/DJI_0055_07_05.png: 416x640 (no detections), 13.5ms\n",
      "image 91/1348 /kaggle/working/windturbine_yolo_llm_strong/dataset/images/test/DJI_0056_03_07.png: 416x640 (no detections), 13.7ms\n",
      "image 92/1348 /kaggle/working/windturbine_yolo_llm_strong/dataset/images/test/DJI_0057_03_07.png: 416x640 (no detections), 14.0ms\n",
      "image 93/1348 /kaggle/working/windturbine_yolo_llm_strong/dataset/images/test/DJI_0057_06_05.png: 416x640 (no detections), 13.7ms\n",
      "image 94/1348 /kaggle/working/windturbine_yolo_llm_strong/dataset/images/test/DJI_0058_04_07.png: 416x640 (no detections), 13.7ms\n",
      "image 95/1348 /kaggle/working/windturbine_yolo_llm_strong/dataset/images/test/DJI_0060_08_04.png: 416x640 (no detections), 13.4ms\n",
      "image 96/1348 /kaggle/working/windturbine_yolo_llm_strong/dataset/images/test/DJI_0061_06_04.png: 416x640 1 damage, 13.5ms\n",
      "image 97/1348 /kaggle/working/windturbine_yolo_llm_strong/dataset/images/test/DJI_0061_06_05.png: 416x640 (no detections), 13.8ms\n",
      "image 98/1348 /kaggle/working/windturbine_yolo_llm_strong/dataset/images/test/DJI_0061_08_02.png: 416x640 (no detections), 13.7ms\n",
      "image 99/1348 /kaggle/working/windturbine_yolo_llm_strong/dataset/images/test/DJI_0061_08_04.png: 416x640 1 damage, 13.7ms\n",
      "image 100/1348 /kaggle/working/windturbine_yolo_llm_strong/dataset/images/test/DJI_0089_05_04.png: 416x640 (no detections), 13.4ms\n",
      "image 101/1348 /kaggle/working/windturbine_yolo_llm_strong/dataset/images/test/DJI_0089_07_04.png: 416x640 (no detections), 13.4ms\n",
      "image 102/1348 /kaggle/working/windturbine_yolo_llm_strong/dataset/images/test/DJI_0090_04_05.png: 416x640 2 damages, 13.7ms\n",
      "image 103/1348 /kaggle/working/windturbine_yolo_llm_strong/dataset/images/test/DJI_0090_04_06.png: 416x640 (no detections), 13.8ms\n",
      "image 104/1348 /kaggle/working/windturbine_yolo_llm_strong/dataset/images/test/DJI_0090_07_05.png: 416x640 (no detections), 13.7ms\n",
      "image 105/1348 /kaggle/working/windturbine_yolo_llm_strong/dataset/images/test/DJI_0091_05_05.png: 416x640 (no detections), 13.7ms\n",
      "image 106/1348 /kaggle/working/windturbine_yolo_llm_strong/dataset/images/test/DJI_0092_01_03.png: 416x640 1 damage, 13.5ms\n",
      "image 107/1348 /kaggle/working/windturbine_yolo_llm_strong/dataset/images/test/DJI_0092_03_06.png: 416x640 (no detections), 13.4ms\n",
      "image 108/1348 /kaggle/working/windturbine_yolo_llm_strong/dataset/images/test/DJI_0092_04_04.png: 416x640 (no detections), 13.7ms\n",
      "image 109/1348 /kaggle/working/windturbine_yolo_llm_strong/dataset/images/test/DJI_0092_06_04.png: 416x640 (no detections), 14.0ms\n",
      "image 110/1348 /kaggle/working/windturbine_yolo_llm_strong/dataset/images/test/DJI_0093_04_06.png: 416x640 (no detections), 13.7ms\n",
      "image 111/1348 /kaggle/working/windturbine_yolo_llm_strong/dataset/images/test/DJI_0094_02_04.png: 416x640 (no detections), 14.0ms\n",
      "image 112/1348 /kaggle/working/windturbine_yolo_llm_strong/dataset/images/test/DJI_0094_05_06.png: 416x640 (no detections), 14.0ms\n",
      "image 113/1348 /kaggle/working/windturbine_yolo_llm_strong/dataset/images/test/DJI_0094_08_04.png: 416x640 (no detections), 14.0ms\n",
      "image 114/1348 /kaggle/working/windturbine_yolo_llm_strong/dataset/images/test/DJI_0096_04_06.png: 416x640 (no detections), 14.2ms\n",
      "image 115/1348 /kaggle/working/windturbine_yolo_llm_strong/dataset/images/test/DJI_0096_05_04.png: 416x640 11 damages, 13.9ms\n",
      "image 116/1348 /kaggle/working/windturbine_yolo_llm_strong/dataset/images/test/DJI_0097_07_04.png: 416x640 (no detections), 14.0ms\n",
      "image 117/1348 /kaggle/working/windturbine_yolo_llm_strong/dataset/images/test/DJI_0098_05_07.png: 416x640 (no detections), 13.6ms\n",
      "image 118/1348 /kaggle/working/windturbine_yolo_llm_strong/dataset/images/test/DJI_0098_07_04.png: 416x640 (no detections), 13.6ms\n",
      "image 119/1348 /kaggle/working/windturbine_yolo_llm_strong/dataset/images/test/DJI_0100_02_04.png: 416x640 (no detections), 13.6ms\n",
      "image 120/1348 /kaggle/working/windturbine_yolo_llm_strong/dataset/images/test/DJI_0100_08_04.png: 416x640 (no detections), 14.0ms\n",
      "image 121/1348 /kaggle/working/windturbine_yolo_llm_strong/dataset/images/test/DJI_0101_02_03.png: 416x640 1 damage, 14.0ms\n",
      "image 122/1348 /kaggle/working/windturbine_yolo_llm_strong/dataset/images/test/DJI_0102_04_04.png: 416x640 (no detections), 13.7ms\n",
      "image 123/1348 /kaggle/working/windturbine_yolo_llm_strong/dataset/images/test/DJI_0102_06_08.png: 416x640 1 damage, 13.7ms\n",
      "image 124/1348 /kaggle/working/windturbine_yolo_llm_strong/dataset/images/test/DJI_0102_08_02.png: 416x640 (no detections), 13.7ms\n",
      "image 125/1348 /kaggle/working/windturbine_yolo_llm_strong/dataset/images/test/DJI_0103_06_06.png: 416x640 (no detections), 13.4ms\n",
      "image 126/1348 /kaggle/working/windturbine_yolo_llm_strong/dataset/images/test/DJI_0103_07_01.png: 416x640 (no detections), 13.8ms\n",
      "image 127/1348 /kaggle/working/windturbine_yolo_llm_strong/dataset/images/test/DJI_0103_07_03.png: 416x640 (no detections), 13.8ms\n",
      "image 128/1348 /kaggle/working/windturbine_yolo_llm_strong/dataset/images/test/DJI_0103_08_02.png: 416x640 (no detections), 13.7ms\n",
      "image 129/1348 /kaggle/working/windturbine_yolo_llm_strong/dataset/images/test/DJI_0103_08_04.png: 416x640 (no detections), 13.8ms\n",
      "image 130/1348 /kaggle/working/windturbine_yolo_llm_strong/dataset/images/test/DJI_0104_02_03.png: 416x640 1 damage, 13.4ms\n",
      "image 131/1348 /kaggle/working/windturbine_yolo_llm_strong/dataset/images/test/DJI_0104_05_04.png: 416x640 1 damage, 13.7ms\n",
      "image 132/1348 /kaggle/working/windturbine_yolo_llm_strong/dataset/images/test/DJI_0104_07_02.png: 416x640 (no detections), 13.7ms\n",
      "image 133/1348 /kaggle/working/windturbine_yolo_llm_strong/dataset/images/test/DJI_0104_07_04.png: 416x640 (no detections), 13.8ms\n",
      "image 134/1348 /kaggle/working/windturbine_yolo_llm_strong/dataset/images/test/DJI_0104_07_08.png: 416x640 1 damage, 13.7ms\n",
      "image 135/1348 /kaggle/working/windturbine_yolo_llm_strong/dataset/images/test/DJI_0104_08_05.png: 416x640 (no detections), 13.7ms\n",
      "image 136/1348 /kaggle/working/windturbine_yolo_llm_strong/dataset/images/test/DJI_0105_01_03.png: 416x640 1 damage, 13.4ms\n",
      "image 137/1348 /kaggle/working/windturbine_yolo_llm_strong/dataset/images/test/DJI_0105_04_04.png: 416x640 (no detections), 13.4ms\n",
      "image 138/1348 /kaggle/working/windturbine_yolo_llm_strong/dataset/images/test/DJI_0106_02_04.png: 416x640 3 damages, 13.7ms\n",
      "image 139/1348 /kaggle/working/windturbine_yolo_llm_strong/dataset/images/test/DJI_0106_04_04.png: 416x640 (no detections), 13.8ms\n",
      "image 140/1348 /kaggle/working/windturbine_yolo_llm_strong/dataset/images/test/DJI_0106_06_06.png: 416x640 (no detections), 13.7ms\n",
      "image 141/1348 /kaggle/working/windturbine_yolo_llm_strong/dataset/images/test/DJI_0106_07_04.png: 416x640 (no detections), 13.7ms\n",
      "image 142/1348 /kaggle/working/windturbine_yolo_llm_strong/dataset/images/test/DJI_0106_07_07.png: 416x640 (no detections), 13.7ms\n",
      "image 143/1348 /kaggle/working/windturbine_yolo_llm_strong/dataset/images/test/DJI_0108_01_04.png: 416x640 1 damage, 13.9ms\n",
      "image 144/1348 /kaggle/working/windturbine_yolo_llm_strong/dataset/images/test/DJI_0108_06_04.png: 416x640 16 damages, 13.9ms\n",
      "image 145/1348 /kaggle/working/windturbine_yolo_llm_strong/dataset/images/test/DJI_0108_07_04.png: 416x640 (no detections), 13.9ms\n",
      "image 146/1348 /kaggle/working/windturbine_yolo_llm_strong/dataset/images/test/DJI_0109_01_04.png: 416x640 1 damage, 13.9ms\n",
      "image 147/1348 /kaggle/working/windturbine_yolo_llm_strong/dataset/images/test/DJI_0109_03_04.png: 416x640 (no detections), 13.5ms\n",
      "image 148/1348 /kaggle/working/windturbine_yolo_llm_strong/dataset/images/test/DJI_0110_05_05.png: 416x640 (no detections), 13.5ms\n",
      "image 149/1348 /kaggle/working/windturbine_yolo_llm_strong/dataset/images/test/DJI_0111_01_04.png: 416x640 (no detections), 13.9ms\n",
      "image 150/1348 /kaggle/working/windturbine_yolo_llm_strong/dataset/images/test/DJI_0111_06_03.png: 416x640 (no detections), 14.0ms\n",
      "image 151/1348 /kaggle/working/windturbine_yolo_llm_strong/dataset/images/test/DJI_0111_08_05.png: 416x640 (no detections), 13.9ms\n",
      "image 152/1348 /kaggle/working/windturbine_yolo_llm_strong/dataset/images/test/DJI_0112_02_04.png: 416x640 (no detections), 14.0ms\n",
      "image 153/1348 /kaggle/working/windturbine_yolo_llm_strong/dataset/images/test/DJI_0112_04_04.png: 416x640 (no detections), 13.5ms\n",
      "image 154/1348 /kaggle/working/windturbine_yolo_llm_strong/dataset/images/test/DJI_0112_07_03.png: 416x640 (no detections), 13.5ms\n",
      "image 155/1348 /kaggle/working/windturbine_yolo_llm_strong/dataset/images/test/DJI_0113_07_05.png: 416x640 (no detections), 14.1ms\n",
      "image 156/1348 /kaggle/working/windturbine_yolo_llm_strong/dataset/images/test/DJI_0114_06_05.png: 416x640 2 damages, 13.9ms\n",
      "image 157/1348 /kaggle/working/windturbine_yolo_llm_strong/dataset/images/test/DJI_0114_06_06.png: 416x640 2 damages, 13.9ms\n",
      "image 158/1348 /kaggle/working/windturbine_yolo_llm_strong/dataset/images/test/DJI_0116_05_06.png: 416x640 (no detections), 13.5ms\n",
      "image 159/1348 /kaggle/working/windturbine_yolo_llm_strong/dataset/images/test/DJI_0116_07_06.png: 416x640 12 damages, 13.5ms\n",
      "image 160/1348 /kaggle/working/windturbine_yolo_llm_strong/dataset/images/test/DJI_0116_08_06.png: 416x640 (no detections), 13.9ms\n",
      "image 161/1348 /kaggle/working/windturbine_yolo_llm_strong/dataset/images/test/DJI_0119_03_06.png: 416x640 (no detections), 14.0ms\n",
      "image 162/1348 /kaggle/working/windturbine_yolo_llm_strong/dataset/images/test/DJI_0119_04_06.png: 416x640 (no detections), 13.9ms\n",
      "image 163/1348 /kaggle/working/windturbine_yolo_llm_strong/dataset/images/test/DJI_0120_07_05.png: 416x640 3 damages, 13.9ms\n",
      "image 164/1348 /kaggle/working/windturbine_yolo_llm_strong/dataset/images/test/DJI_0121_02_07.png: 416x640 (no detections), 13.9ms\n",
      "image 165/1348 /kaggle/working/windturbine_yolo_llm_strong/dataset/images/test/DJI_0121_06_06.png: 416x640 (no detections), 13.5ms\n",
      "image 166/1348 /kaggle/working/windturbine_yolo_llm_strong/dataset/images/test/DJI_0122_02_07.png: 416x640 (no detections), 13.6ms\n",
      "image 167/1348 /kaggle/working/windturbine_yolo_llm_strong/dataset/images/test/DJI_0122_03_07.png: 416x640 (no detections), 13.5ms\n",
      "image 168/1348 /kaggle/working/windturbine_yolo_llm_strong/dataset/images/test/DJI_0122_06_06.png: 416x640 (no detections), 13.9ms\n",
      "image 169/1348 /kaggle/working/windturbine_yolo_llm_strong/dataset/images/test/DJI_0123_06_05.png: 416x640 (no detections), 14.1ms\n",
      "image 170/1348 /kaggle/working/windturbine_yolo_llm_strong/dataset/images/test/DJI_0124_07_06.png: 416x640 2 damages, 13.9ms\n",
      "image 171/1348 /kaggle/working/windturbine_yolo_llm_strong/dataset/images/test/DJI_0125_02_08.png: 416x640 (no detections), 13.9ms\n",
      "image 172/1348 /kaggle/working/windturbine_yolo_llm_strong/dataset/images/test/DJI_0125_04_07.png: 416x640 (no detections), 13.5ms\n",
      "image 173/1348 /kaggle/working/windturbine_yolo_llm_strong/dataset/images/test/DJI_0126_06_06.png: 416x640 10 damages, 13.5ms\n",
      "image 174/1348 /kaggle/working/windturbine_yolo_llm_strong/dataset/images/test/DJI_0127_06_04.png: 416x640 (no detections), 13.5ms\n",
      "image 175/1348 /kaggle/working/windturbine_yolo_llm_strong/dataset/images/test/DJI_0128_03_05.png: 416x640 (no detections), 13.5ms\n",
      "image 176/1348 /kaggle/working/windturbine_yolo_llm_strong/dataset/images/test/DJI_0128_05_06.png: 416x640 (no detections), 13.9ms\n",
      "image 177/1348 /kaggle/working/windturbine_yolo_llm_strong/dataset/images/test/DJI_0129_01_08.png: 416x640 (no detections), 14.2ms\n",
      "image 178/1348 /kaggle/working/windturbine_yolo_llm_strong/dataset/images/test/DJI_0129_02_07.png: 416x640 (no detections), 13.9ms\n",
      "image 179/1348 /kaggle/working/windturbine_yolo_llm_strong/dataset/images/test/DJI_0130_02_06.png: 416x640 (no detections), 14.0ms\n",
      "image 180/1348 /kaggle/working/windturbine_yolo_llm_strong/dataset/images/test/DJI_0130_04_03.png: 416x640 (no detections), 13.5ms\n",
      "image 181/1348 /kaggle/working/windturbine_yolo_llm_strong/dataset/images/test/DJI_0131_04_03.png: 416x640 (no detections), 13.5ms\n",
      "image 182/1348 /kaggle/working/windturbine_yolo_llm_strong/dataset/images/test/DJI_0134_01_06.png: 416x640 (no detections), 14.0ms\n",
      "image 183/1348 /kaggle/working/windturbine_yolo_llm_strong/dataset/images/test/DJI_0134_06_05.png: 416x640 (no detections), 13.9ms\n",
      "image 184/1348 /kaggle/working/windturbine_yolo_llm_strong/dataset/images/test/DJI_0156_01_06.png: 416x640 (no detections), 14.0ms\n",
      "image 185/1348 /kaggle/working/windturbine_yolo_llm_strong/dataset/images/test/DJI_0156_02_05.png: 416x640 (no detections), 13.5ms\n",
      "image 186/1348 /kaggle/working/windturbine_yolo_llm_strong/dataset/images/test/DJI_0157_03_06.png: 416x640 (no detections), 13.5ms\n",
      "image 187/1348 /kaggle/working/windturbine_yolo_llm_strong/dataset/images/test/DJI_0157_07_06.png: 416x640 (no detections), 14.0ms\n",
      "image 188/1348 /kaggle/working/windturbine_yolo_llm_strong/dataset/images/test/DJI_0158_02_06.png: 416x640 8 damages, 14.0ms\n",
      "image 189/1348 /kaggle/working/windturbine_yolo_llm_strong/dataset/images/test/DJI_0158_03_05.png: 416x640 (no detections), 13.9ms\n",
      "image 190/1348 /kaggle/working/windturbine_yolo_llm_strong/dataset/images/test/DJI_0158_04_06.png: 416x640 (no detections), 14.0ms\n",
      "image 191/1348 /kaggle/working/windturbine_yolo_llm_strong/dataset/images/test/DJI_0158_05_05.png: 416x640 (no detections), 13.5ms\n",
      "image 192/1348 /kaggle/working/windturbine_yolo_llm_strong/dataset/images/test/DJI_0158_06_06.png: 416x640 (no detections), 13.8ms\n",
      "image 193/1348 /kaggle/working/windturbine_yolo_llm_strong/dataset/images/test/DJI_0159_01_06.png: 416x640 (no detections), 14.4ms\n",
      "image 194/1348 /kaggle/working/windturbine_yolo_llm_strong/dataset/images/test/DJI_0159_06_05.png: 416x640 (no detections), 14.6ms\n",
      "image 195/1348 /kaggle/working/windturbine_yolo_llm_strong/dataset/images/test/DJI_0162_07_05.png: 416x640 (no detections), 14.4ms\n",
      "image 196/1348 /kaggle/working/windturbine_yolo_llm_strong/dataset/images/test/DJI_0163_01_06.png: 416x640 (no detections), 14.4ms\n",
      "image 197/1348 /kaggle/working/windturbine_yolo_llm_strong/dataset/images/test/DJI_0164_01_08.png: 416x640 (no detections), 14.0ms\n",
      "image 198/1348 /kaggle/working/windturbine_yolo_llm_strong/dataset/images/test/DJI_0164_02_05.png: 416x640 9 damages, 14.5ms\n",
      "image 199/1348 /kaggle/working/windturbine_yolo_llm_strong/dataset/images/test/DJI_0164_05_04.png: 416x640 (no detections), 14.5ms\n",
      "image 200/1348 /kaggle/working/windturbine_yolo_llm_strong/dataset/images/test/DJI_0165_05_05.png: 416x640 (no detections), 14.5ms\n",
      "image 201/1348 /kaggle/working/windturbine_yolo_llm_strong/dataset/images/test/DJI_0166_02_08.png: 416x640 1 damage, 14.1ms\n",
      "image 202/1348 /kaggle/working/windturbine_yolo_llm_strong/dataset/images/test/DJI_0166_04_04.png: 416x640 (no detections), 14.1ms\n",
      "image 203/1348 /kaggle/working/windturbine_yolo_llm_strong/dataset/images/test/DJI_0166_07_05.png: 416x640 (no detections), 14.1ms\n",
      "image 204/1348 /kaggle/working/windturbine_yolo_llm_strong/dataset/images/test/DJI_0167_01_05.png: 416x640 (no detections), 14.2ms\n",
      "image 205/1348 /kaggle/working/windturbine_yolo_llm_strong/dataset/images/test/DJI_0167_02_04.png: 416x640 (no detections), 14.1ms\n",
      "image 206/1348 /kaggle/working/windturbine_yolo_llm_strong/dataset/images/test/DJI_0167_04_04.png: 416x640 (no detections), 14.2ms\n",
      "image 207/1348 /kaggle/working/windturbine_yolo_llm_strong/dataset/images/test/DJI_0168_04_03.png: 416x640 (no detections), 14.1ms\n",
      "image 208/1348 /kaggle/working/windturbine_yolo_llm_strong/dataset/images/test/DJI_0168_07_05.png: 416x640 (no detections), 14.2ms\n",
      "image 209/1348 /kaggle/working/windturbine_yolo_llm_strong/dataset/images/test/DJI_0169_03_04.png: 416x640 (no detections), 14.2ms\n",
      "image 210/1348 /kaggle/working/windturbine_yolo_llm_strong/dataset/images/test/DJI_0169_03_05.png: 416x640 1 damage, 14.2ms\n",
      "image 211/1348 /kaggle/working/windturbine_yolo_llm_strong/dataset/images/test/DJI_0169_04_05.png: 416x640 (no detections), 14.0ms\n",
      "image 212/1348 /kaggle/working/windturbine_yolo_llm_strong/dataset/images/test/DJI_0170_04_05.png: 416x640 (no detections), 13.9ms\n",
      "image 213/1348 /kaggle/working/windturbine_yolo_llm_strong/dataset/images/test/DJI_0171_05_05.png: 416x640 (no detections), 13.9ms\n",
      "image 214/1348 /kaggle/working/windturbine_yolo_llm_strong/dataset/images/test/DJI_0172_07_05.png: 416x640 (no detections), 13.9ms\n",
      "image 215/1348 /kaggle/working/windturbine_yolo_llm_strong/dataset/images/test/DJI_0173_02_05.png: 416x640 3 damages, 14.2ms\n",
      "image 216/1348 /kaggle/working/windturbine_yolo_llm_strong/dataset/images/test/DJI_0174_03_06.png: 416x640 (no detections), 14.2ms\n",
      "image 217/1348 /kaggle/working/windturbine_yolo_llm_strong/dataset/images/test/DJI_0174_04_06.png: 416x640 (no detections), 14.3ms\n",
      "image 218/1348 /kaggle/working/windturbine_yolo_llm_strong/dataset/images/test/DJI_0174_08_05.png: 416x640 (no detections), 14.3ms\n",
      "image 219/1348 /kaggle/working/windturbine_yolo_llm_strong/dataset/images/test/DJI_0175_03_04.png: 416x640 8 damages, 14.2ms\n",
      "image 220/1348 /kaggle/working/windturbine_yolo_llm_strong/dataset/images/test/DJI_0176_02_05.png: 416x640 8 damages, 13.9ms\n",
      "image 221/1348 /kaggle/working/windturbine_yolo_llm_strong/dataset/images/test/DJI_0176_03_04.png: 416x640 5 damages, 13.9ms\n",
      "image 222/1348 /kaggle/working/windturbine_yolo_llm_strong/dataset/images/test/DJI_0177_01_05.png: 416x640 (no detections), 14.0ms\n",
      "image 223/1348 /kaggle/working/windturbine_yolo_llm_strong/dataset/images/test/DJI_0177_02_06.png: 416x640 2 damages, 13.9ms\n",
      "image 224/1348 /kaggle/working/windturbine_yolo_llm_strong/dataset/images/test/DJI_0177_03_08.png: 416x640 (no detections), 13.9ms\n",
      "image 225/1348 /kaggle/working/windturbine_yolo_llm_strong/dataset/images/test/DJI_0178_04_07.png: 416x640 (no detections), 13.9ms\n",
      "image 226/1348 /kaggle/working/windturbine_yolo_llm_strong/dataset/images/test/DJI_0178_07_05.png: 416x640 (no detections), 13.9ms\n",
      "image 227/1348 /kaggle/working/windturbine_yolo_llm_strong/dataset/images/test/DJI_0180_03_06.png: 416x640 4 damages, 13.9ms\n",
      "image 228/1348 /kaggle/working/windturbine_yolo_llm_strong/dataset/images/test/DJI_0180_05_05.png: 416x640 (no detections), 13.9ms\n",
      "image 229/1348 /kaggle/working/windturbine_yolo_llm_strong/dataset/images/test/DJI_0180_06_06.png: 416x640 (no detections), 14.2ms\n",
      "image 230/1348 /kaggle/working/windturbine_yolo_llm_strong/dataset/images/test/DJI_0181_02_06.png: 416x640 (no detections), 14.3ms\n",
      "image 231/1348 /kaggle/working/windturbine_yolo_llm_strong/dataset/images/test/DJI_0181_03_05.png: 416x640 10 damages, 14.2ms\n",
      "image 232/1348 /kaggle/working/windturbine_yolo_llm_strong/dataset/images/test/DJI_0182_02_04.png: 416x640 2 damages, 14.2ms\n",
      "image 233/1348 /kaggle/working/windturbine_yolo_llm_strong/dataset/images/test/DJI_0182_03_05.png: 416x640 4 damages, 13.9ms\n",
      "image 234/1348 /kaggle/working/windturbine_yolo_llm_strong/dataset/images/test/DJI_0182_06_09.png: 416x640 (no detections), 13.9ms\n",
      "image 235/1348 /kaggle/working/windturbine_yolo_llm_strong/dataset/images/test/DJI_0183_04_05.png: 416x640 (no detections), 13.9ms\n",
      "image 236/1348 /kaggle/working/windturbine_yolo_llm_strong/dataset/images/test/DJI_0183_06_06.png: 416x640 (no detections), 13.9ms\n",
      "image 237/1348 /kaggle/working/windturbine_yolo_llm_strong/dataset/images/test/DJI_0183_07_09.png: 416x640 (no detections), 13.9ms\n",
      "image 238/1348 /kaggle/working/windturbine_yolo_llm_strong/dataset/images/test/DJI_0184_03_02.png: 416x640 (no detections), 13.9ms\n",
      "image 239/1348 /kaggle/working/windturbine_yolo_llm_strong/dataset/images/test/DJI_0184_07_05.png: 416x640 (no detections), 13.9ms\n",
      "image 240/1348 /kaggle/working/windturbine_yolo_llm_strong/dataset/images/test/DJI_0185_01_06.png: 416x640 (no detections), 14.4ms\n",
      "image 241/1348 /kaggle/working/windturbine_yolo_llm_strong/dataset/images/test/DJI_0185_03_01.png: 416x640 1 damage, 14.2ms\n",
      "image 242/1348 /kaggle/working/windturbine_yolo_llm_strong/dataset/images/test/DJI_0185_04_05.png: 416x640 (no detections), 14.2ms\n",
      "image 243/1348 /kaggle/working/windturbine_yolo_llm_strong/dataset/images/test/DJI_0186_02_06.png: 416x640 1 damage, 13.9ms\n",
      "image 244/1348 /kaggle/working/windturbine_yolo_llm_strong/dataset/images/test/DJI_0186_05_03.png: 416x640 (no detections), 13.9ms\n",
      "image 245/1348 /kaggle/working/windturbine_yolo_llm_strong/dataset/images/test/DJI_0186_05_06.png: 416x640 1 damage, 13.9ms\n",
      "image 246/1348 /kaggle/working/windturbine_yolo_llm_strong/dataset/images/test/DJI_0186_08_06.png: 416x640 (no detections), 14.2ms\n",
      "image 247/1348 /kaggle/working/windturbine_yolo_llm_strong/dataset/images/test/DJI_0187_02_08.png: 416x640 (no detections), 14.2ms\n",
      "image 248/1348 /kaggle/working/windturbine_yolo_llm_strong/dataset/images/test/DJI_0187_06_08.png: 416x640 (no detections), 14.2ms\n",
      "image 249/1348 /kaggle/working/windturbine_yolo_llm_strong/dataset/images/test/DJI_0187_08_08.png: 416x640 (no detections), 14.2ms\n",
      "image 250/1348 /kaggle/working/windturbine_yolo_llm_strong/dataset/images/test/DJI_0188_05_02.png: 416x640 (no detections), 14.4ms\n",
      "image 251/1348 /kaggle/working/windturbine_yolo_llm_strong/dataset/images/test/DJI_0188_06_08.png: 416x640 (no detections), 14.2ms\n",
      "image 252/1348 /kaggle/working/windturbine_yolo_llm_strong/dataset/images/test/DJI_0188_06_09.png: 416x640 1 damage, 14.2ms\n",
      "image 253/1348 /kaggle/working/windturbine_yolo_llm_strong/dataset/images/test/DJI_0188_07_08.png: 416x640 (no detections), 14.2ms\n",
      "image 254/1348 /kaggle/working/windturbine_yolo_llm_strong/dataset/images/test/DJI_0189_03_08.png: 416x640 (no detections), 14.6ms\n",
      "image 255/1348 /kaggle/working/windturbine_yolo_llm_strong/dataset/images/test/DJI_0189_04_01.png: 416x640 (no detections), 14.2ms\n",
      "image 256/1348 /kaggle/working/windturbine_yolo_llm_strong/dataset/images/test/DJI_0192_04_06.png: 416x640 (no detections), 14.2ms\n",
      "image 257/1348 /kaggle/working/windturbine_yolo_llm_strong/dataset/images/test/DJI_0192_05_02.png: 416x640 (no detections), 14.4ms\n",
      "image 258/1348 /kaggle/working/windturbine_yolo_llm_strong/dataset/images/test/DJI_0192_05_06.png: 416x640 (no detections), 13.9ms\n",
      "image 259/1348 /kaggle/working/windturbine_yolo_llm_strong/dataset/images/test/DJI_0194_05_06.png: 416x640 (no detections), 13.9ms\n",
      "image 260/1348 /kaggle/working/windturbine_yolo_llm_strong/dataset/images/test/DJI_0195_05_05.png: 416x640 (no detections), 13.5ms\n",
      "image 261/1348 /kaggle/working/windturbine_yolo_llm_strong/dataset/images/test/DJI_0196_04_06.png: 416x640 (no detections), 14.0ms\n",
      "image 262/1348 /kaggle/working/windturbine_yolo_llm_strong/dataset/images/test/DJI_0196_05_04.png: 416x640 1 damage, 14.0ms\n",
      "image 263/1348 /kaggle/working/windturbine_yolo_llm_strong/dataset/images/test/DJI_0197_05_04.png: 416x640 1 damage, 13.9ms\n",
      "image 264/1348 /kaggle/working/windturbine_yolo_llm_strong/dataset/images/test/DJI_0197_05_05.png: 416x640 (no detections), 13.9ms\n",
      "image 265/1348 /kaggle/working/windturbine_yolo_llm_strong/dataset/images/test/DJI_0197_05_08.png: 416x640 (no detections), 13.5ms\n",
      "image 266/1348 /kaggle/working/windturbine_yolo_llm_strong/dataset/images/test/DJI_0198_03_08.png: 416x640 (no detections), 14.4ms\n",
      "image 267/1348 /kaggle/working/windturbine_yolo_llm_strong/dataset/images/test/DJI_0198_06_08.png: 416x640 (no detections), 13.9ms\n",
      "image 268/1348 /kaggle/working/windturbine_yolo_llm_strong/dataset/images/test/DJI_0200_01_05.png: 416x640 1 damage, 13.9ms\n",
      "image 269/1348 /kaggle/working/windturbine_yolo_llm_strong/dataset/images/test/DJI_0200_02_06.png: 416x640 13 damages, 13.5ms\n",
      "image 270/1348 /kaggle/working/windturbine_yolo_llm_strong/dataset/images/test/DJI_0200_06_08.png: 416x640 (no detections), 14.0ms\n",
      "image 271/1348 /kaggle/working/windturbine_yolo_llm_strong/dataset/images/test/DJI_0200_06_09.png: 416x640 (no detections), 14.0ms\n",
      "image 272/1348 /kaggle/working/windturbine_yolo_llm_strong/dataset/images/test/DJI_0200_07_07.png: 416x640 (no detections), 13.9ms\n",
      "image 273/1348 /kaggle/working/windturbine_yolo_llm_strong/dataset/images/test/DJI_0201_07_03.png: 416x640 (no detections), 13.9ms\n",
      "image 274/1348 /kaggle/working/windturbine_yolo_llm_strong/dataset/images/test/DJI_0201_07_07.png: 416x640 (no detections), 14.2ms\n",
      "image 275/1348 /kaggle/working/windturbine_yolo_llm_strong/dataset/images/test/DJI_0202_02_05.png: 416x640 3 damages, 14.2ms\n",
      "image 276/1348 /kaggle/working/windturbine_yolo_llm_strong/dataset/images/test/DJI_0202_07_04.png: 416x640 (no detections), 14.1ms\n",
      "image 277/1348 /kaggle/working/windturbine_yolo_llm_strong/dataset/images/test/DJI_0203_08_04.png: 416x640 (no detections), 14.2ms\n",
      "image 278/1348 /kaggle/working/windturbine_yolo_llm_strong/dataset/images/test/DJI_0205_04_06.png: 416x640 (no detections), 14.2ms\n",
      "image 279/1348 /kaggle/working/windturbine_yolo_llm_strong/dataset/images/test/DJI_0205_08_04.png: 416x640 (no detections), 14.2ms\n",
      "image 280/1348 /kaggle/working/windturbine_yolo_llm_strong/dataset/images/test/DJI_0207_05_05.png: 416x640 (no detections), 14.2ms\n",
      "image 281/1348 /kaggle/working/windturbine_yolo_llm_strong/dataset/images/test/DJI_0207_06_05.png: 416x640 (no detections), 13.7ms\n",
      "image 282/1348 /kaggle/working/windturbine_yolo_llm_strong/dataset/images/test/DJI_0209_02_06.png: 416x640 (no detections), 13.7ms\n",
      "image 283/1348 /kaggle/working/windturbine_yolo_llm_strong/dataset/images/test/DJI_0209_03_05.png: 416x640 (no detections), 14.3ms\n",
      "image 284/1348 /kaggle/working/windturbine_yolo_llm_strong/dataset/images/test/DJI_0210_01_05.png: 416x640 (no detections), 14.2ms\n",
      "image 285/1348 /kaggle/working/windturbine_yolo_llm_strong/dataset/images/test/DJI_0212_07_04.png: 416x640 (no detections), 13.9ms\n",
      "image 286/1348 /kaggle/working/windturbine_yolo_llm_strong/dataset/images/test/DJI_0213_02_08.png: 416x640 (no detections), 13.9ms\n",
      "image 287/1348 /kaggle/working/windturbine_yolo_llm_strong/dataset/images/test/DJI_0214_05_04.png: 416x640 (no detections), 13.9ms\n",
      "image 288/1348 /kaggle/working/windturbine_yolo_llm_strong/dataset/images/test/DJI_0215_01_02.png: 416x640 (no detections), 13.9ms\n",
      "image 289/1348 /kaggle/working/windturbine_yolo_llm_strong/dataset/images/test/DJI_0215_06_04.png: 416x640 (no detections), 14.1ms\n",
      "image 290/1348 /kaggle/working/windturbine_yolo_llm_strong/dataset/images/test/DJI_0216_02_04.png: 416x640 2 damages, 13.9ms\n",
      "image 291/1348 /kaggle/working/windturbine_yolo_llm_strong/dataset/images/test/DJI_0217_01_01.png: 416x640 (no detections), 13.9ms\n",
      "image 292/1348 /kaggle/working/windturbine_yolo_llm_strong/dataset/images/test/DJI_0217_02_02.png: 416x640 1 damage, 13.5ms\n",
      "image 293/1348 /kaggle/working/windturbine_yolo_llm_strong/dataset/images/test/DJI_0217_05_04.png: 416x640 (no detections), 13.9ms\n",
      "image 294/1348 /kaggle/working/windturbine_yolo_llm_strong/dataset/images/test/DJI_0217_07_06.png: 416x640 (no detections), 14.1ms\n",
      "image 295/1348 /kaggle/working/windturbine_yolo_llm_strong/dataset/images/test/DJI_0218_02_03.png: 416x640 (no detections), 13.9ms\n",
      "image 296/1348 /kaggle/working/windturbine_yolo_llm_strong/dataset/images/test/DJI_0218_02_05.png: 416x640 (no detections), 13.7ms\n",
      "image 297/1348 /kaggle/working/windturbine_yolo_llm_strong/dataset/images/test/DJI_0218_03_03.png: 416x640 (no detections), 13.8ms\n",
      "image 298/1348 /kaggle/working/windturbine_yolo_llm_strong/dataset/images/test/DJI_0219_01_03.png: 416x640 7 damages, 13.7ms\n",
      "image 299/1348 /kaggle/working/windturbine_yolo_llm_strong/dataset/images/test/DJI_0219_02_04.png: 416x640 1 damage, 13.7ms\n",
      "image 300/1348 /kaggle/working/windturbine_yolo_llm_strong/dataset/images/test/DJI_0219_04_06.png: 416x640 (no detections), 13.7ms\n",
      "image 301/1348 /kaggle/working/windturbine_yolo_llm_strong/dataset/images/test/DJI_0220_01_07.png: 416x640 (no detections), 13.9ms\n",
      "image 302/1348 /kaggle/working/windturbine_yolo_llm_strong/dataset/images/test/DJI_0220_03_05.png: 416x640 (no detections), 13.8ms\n",
      "image 303/1348 /kaggle/working/windturbine_yolo_llm_strong/dataset/images/test/DJI_0220_04_05.png: 416x640 (no detections), 13.7ms\n",
      "image 304/1348 /kaggle/working/windturbine_yolo_llm_strong/dataset/images/test/DJI_0220_06_06.png: 416x640 (no detections), 13.7ms\n",
      "image 305/1348 /kaggle/working/windturbine_yolo_llm_strong/dataset/images/test/DJI_0220_07_04.png: 416x640 (no detections), 13.9ms\n",
      "image 306/1348 /kaggle/working/windturbine_yolo_llm_strong/dataset/images/test/DJI_0220_08_04.png: 416x640 (no detections), 13.7ms\n",
      "image 307/1348 /kaggle/working/windturbine_yolo_llm_strong/dataset/images/test/DJI_0221_02_02.png: 416x640 3 damages, 13.7ms\n",
      "image 308/1348 /kaggle/working/windturbine_yolo_llm_strong/dataset/images/test/DJI_0221_03_08.png: 416x640 (no detections), 13.5ms\n",
      "image 309/1348 /kaggle/working/windturbine_yolo_llm_strong/dataset/images/test/DJI_0221_06_05.png: 416x640 (no detections), 13.8ms\n",
      "image 310/1348 /kaggle/working/windturbine_yolo_llm_strong/dataset/images/test/DJI_0221_07_05.png: 416x640 (no detections), 13.7ms\n",
      "image 311/1348 /kaggle/working/windturbine_yolo_llm_strong/dataset/images/test/DJI_0221_08_06.png: 416x640 (no detections), 13.7ms\n",
      "image 312/1348 /kaggle/working/windturbine_yolo_llm_strong/dataset/images/test/DJI_0222_03_01.png: 416x640 (no detections), 13.7ms\n",
      "image 313/1348 /kaggle/working/windturbine_yolo_llm_strong/dataset/images/test/DJI_0222_03_05.png: 416x640 (no detections), 14.1ms\n",
      "image 314/1348 /kaggle/working/windturbine_yolo_llm_strong/dataset/images/test/DJI_0222_08_06.png: 416x640 (no detections), 13.7ms\n",
      "image 315/1348 /kaggle/working/windturbine_yolo_llm_strong/dataset/images/test/DJI_0223_03_02.png: 416x640 (no detections), 13.8ms\n",
      "image 316/1348 /kaggle/working/windturbine_yolo_llm_strong/dataset/images/test/DJI_0223_04_05.png: 416x640 (no detections), 13.7ms\n",
      "image 317/1348 /kaggle/working/windturbine_yolo_llm_strong/dataset/images/test/DJI_0223_06_04.png: 416x640 (no detections), 13.7ms\n",
      "image 318/1348 /kaggle/working/windturbine_yolo_llm_strong/dataset/images/test/DJI_0223_07_06.png: 416x640 (no detections), 13.8ms\n",
      "image 319/1348 /kaggle/working/windturbine_yolo_llm_strong/dataset/images/test/DJI_0224_01_07.png: 416x640 (no detections), 13.7ms\n",
      "image 320/1348 /kaggle/working/windturbine_yolo_llm_strong/dataset/images/test/DJI_0224_03_02.png: 416x640 1 damage, 13.7ms\n",
      "image 321/1348 /kaggle/working/windturbine_yolo_llm_strong/dataset/images/test/DJI_0224_06_06.png: 416x640 (no detections), 13.4ms\n",
      "image 322/1348 /kaggle/working/windturbine_yolo_llm_strong/dataset/images/test/DJI_0224_07_04.png: 416x640 (no detections), 13.9ms\n",
      "image 323/1348 /kaggle/working/windturbine_yolo_llm_strong/dataset/images/test/DJI_0225_01_05.png: 416x640 (no detections), 13.7ms\n",
      "image 324/1348 /kaggle/working/windturbine_yolo_llm_strong/dataset/images/test/DJI_0225_03_06.png: 416x640 (no detections), 13.7ms\n",
      "image 325/1348 /kaggle/working/windturbine_yolo_llm_strong/dataset/images/test/DJI_0225_04_02.png: 416x640 10 damages, 13.5ms\n",
      "image 326/1348 /kaggle/working/windturbine_yolo_llm_strong/dataset/images/test/DJI_0225_08_03.png: 416x640 (no detections), 13.8ms\n",
      "image 327/1348 /kaggle/working/windturbine_yolo_llm_strong/dataset/images/test/DJI_0226_02_05.png: 416x640 1 damage, 13.5ms\n",
      "image 328/1348 /kaggle/working/windturbine_yolo_llm_strong/dataset/images/test/DJI_0226_03_05.png: 416x640 3 damages, 13.6ms\n",
      "image 329/1348 /kaggle/working/windturbine_yolo_llm_strong/dataset/images/test/DJI_0226_05_02.png: 416x640 (no detections), 13.3ms\n",
      "image 330/1348 /kaggle/working/windturbine_yolo_llm_strong/dataset/images/test/DJI_0226_05_03.png: 416x640 (no detections), 13.7ms\n",
      "image 331/1348 /kaggle/working/windturbine_yolo_llm_strong/dataset/images/test/DJI_0227_02_04.png: 416x640 (no detections), 13.5ms\n",
      "image 332/1348 /kaggle/working/windturbine_yolo_llm_strong/dataset/images/test/DJI_0227_02_06.png: 416x640 (no detections), 13.5ms\n",
      "image 333/1348 /kaggle/working/windturbine_yolo_llm_strong/dataset/images/test/DJI_0227_05_05.png: 416x640 5 damages, 13.3ms\n",
      "image 334/1348 /kaggle/working/windturbine_yolo_llm_strong/dataset/images/test/DJI_0227_08_05.png: 416x640 (no detections), 14.1ms\n",
      "image 335/1348 /kaggle/working/windturbine_yolo_llm_strong/dataset/images/test/DJI_0228_03_05.png: 416x640 (no detections), 13.5ms\n",
      "image 336/1348 /kaggle/working/windturbine_yolo_llm_strong/dataset/images/test/DJI_0229_03_05.png: 416x640 (no detections), 13.5ms\n",
      "image 337/1348 /kaggle/working/windturbine_yolo_llm_strong/dataset/images/test/DJI_0229_08_01.png: 416x640 (no detections), 13.6ms\n",
      "image 338/1348 /kaggle/working/windturbine_yolo_llm_strong/dataset/images/test/DJI_0230_01_05.png: 416x640 (no detections), 13.7ms\n",
      "image 339/1348 /kaggle/working/windturbine_yolo_llm_strong/dataset/images/test/DJI_0230_06_05.png: 416x640 (no detections), 13.5ms\n",
      "image 340/1348 /kaggle/working/windturbine_yolo_llm_strong/dataset/images/test/DJI_0231_02_05.png: 416x640 (no detections), 13.5ms\n",
      "image 341/1348 /kaggle/working/windturbine_yolo_llm_strong/dataset/images/test/DJI_0231_02_07.png: 416x640 (no detections), 13.6ms\n",
      "image 342/1348 /kaggle/working/windturbine_yolo_llm_strong/dataset/images/test/DJI_0232_05_05.png: 416x640 (no detections), 13.7ms\n",
      "image 343/1348 /kaggle/working/windturbine_yolo_llm_strong/dataset/images/test/DJI_0234_07_05.png: 416x640 (no detections), 13.6ms\n",
      "image 344/1348 /kaggle/working/windturbine_yolo_llm_strong/dataset/images/test/DJI_0236_05_05.png: 416x640 (no detections), 13.5ms\n",
      "image 345/1348 /kaggle/working/windturbine_yolo_llm_strong/dataset/images/test/DJI_0241_07_04.png: 416x640 (no detections), 13.5ms\n",
      "image 346/1348 /kaggle/working/windturbine_yolo_llm_strong/dataset/images/test/DJI_0242_05_04.png: 416x640 (no detections), 13.3ms\n",
      "image 347/1348 /kaggle/working/windturbine_yolo_llm_strong/dataset/images/test/DJI_0244_06_05.png: 416x640 (no detections), 13.3ms\n",
      "image 348/1348 /kaggle/working/windturbine_yolo_llm_strong/dataset/images/test/DJI_0245_08_05.png: 416x640 (no detections), 13.5ms\n",
      "image 349/1348 /kaggle/working/windturbine_yolo_llm_strong/dataset/images/test/DJI_0246_07_05.png: 416x640 (no detections), 13.7ms\n",
      "image 350/1348 /kaggle/working/windturbine_yolo_llm_strong/dataset/images/test/DJI_0247_07_05.png: 416x640 (no detections), 13.5ms\n",
      "image 351/1348 /kaggle/working/windturbine_yolo_llm_strong/dataset/images/test/DJI_0249_01_08.png: 416x640 (no detections), 13.6ms\n",
      "image 352/1348 /kaggle/working/windturbine_yolo_llm_strong/dataset/images/test/DJI_0249_02_07.png: 416x640 2 damages, 13.3ms\n",
      "image 353/1348 /kaggle/working/windturbine_yolo_llm_strong/dataset/images/test/DJI_0249_07_03.png: 416x640 (no detections), 13.5ms\n",
      "image 354/1348 /kaggle/working/windturbine_yolo_llm_strong/dataset/images/test/DJI_0249_07_04.png: 416x640 (no detections), 13.8ms\n",
      "image 355/1348 /kaggle/working/windturbine_yolo_llm_strong/dataset/images/test/DJI_0251_04_06.png: 416x640 (no detections), 13.5ms\n",
      "image 356/1348 /kaggle/working/windturbine_yolo_llm_strong/dataset/images/test/DJI_0251_06_04.png: 416x640 (no detections), 13.6ms\n",
      "image 357/1348 /kaggle/working/windturbine_yolo_llm_strong/dataset/images/test/DJI_0251_06_06.png: 416x640 (no detections), 13.5ms\n",
      "image 358/1348 /kaggle/working/windturbine_yolo_llm_strong/dataset/images/test/DJI_0251_08_01.png: 416x640 2 damages, 13.6ms\n",
      "image 359/1348 /kaggle/working/windturbine_yolo_llm_strong/dataset/images/test/DJI_0253_01_07.png: 416x640 (no detections), 13.3ms\n",
      "image 360/1348 /kaggle/working/windturbine_yolo_llm_strong/dataset/images/test/DJI_0253_05_04.png: 416x640 1 damage, 13.3ms\n",
      "image 361/1348 /kaggle/working/windturbine_yolo_llm_strong/dataset/images/test/DJI_0253_05_06.png: 416x640 (no detections), 13.5ms\n",
      "image 362/1348 /kaggle/working/windturbine_yolo_llm_strong/dataset/images/test/DJI_0254_01_08.png: 416x640 (no detections), 13.9ms\n",
      "image 363/1348 /kaggle/working/windturbine_yolo_llm_strong/dataset/images/test/DJI_0254_04_06.png: 416x640 (no detections), 13.5ms\n",
      "image 364/1348 /kaggle/working/windturbine_yolo_llm_strong/dataset/images/test/DJI_0255_04_03.png: 416x640 10 damages, 13.9ms\n",
      "image 365/1348 /kaggle/working/windturbine_yolo_llm_strong/dataset/images/test/DJI_0255_04_05.png: 416x640 (no detections), 13.5ms\n",
      "image 366/1348 /kaggle/working/windturbine_yolo_llm_strong/dataset/images/test/DJI_0255_08_04.png: 416x640 (no detections), 13.6ms\n",
      "image 367/1348 /kaggle/working/windturbine_yolo_llm_strong/dataset/images/test/DJI_0256_03_05.png: 416x640 13 damages, 13.8ms\n",
      "image 368/1348 /kaggle/working/windturbine_yolo_llm_strong/dataset/images/test/DJI_0256_04_04.png: 416x640 4 damages, 13.5ms\n",
      "image 369/1348 /kaggle/working/windturbine_yolo_llm_strong/dataset/images/test/DJI_0256_05_05.png: 416x640 (no detections), 13.5ms\n",
      "image 370/1348 /kaggle/working/windturbine_yolo_llm_strong/dataset/images/test/DJI_0256_06_02.png: 416x640 (no detections), 13.4ms\n",
      "image 371/1348 /kaggle/working/windturbine_yolo_llm_strong/dataset/images/test/DJI_0256_06_05.png: 416x640 (no detections), 13.7ms\n",
      "image 372/1348 /kaggle/working/windturbine_yolo_llm_strong/dataset/images/test/DJI_0256_08_04.png: 416x640 (no detections), 13.6ms\n",
      "image 373/1348 /kaggle/working/windturbine_yolo_llm_strong/dataset/images/test/DJI_0257_01_06.png: 416x640 4 damages, 13.5ms\n",
      "image 374/1348 /kaggle/working/windturbine_yolo_llm_strong/dataset/images/test/DJI_0257_01_07.png: 416x640 (no detections), 13.6ms\n",
      "image 375/1348 /kaggle/working/windturbine_yolo_llm_strong/dataset/images/test/DJI_0257_03_02.png: 416x640 (no detections), 13.7ms\n",
      "image 376/1348 /kaggle/working/windturbine_yolo_llm_strong/dataset/images/test/DJI_0257_04_05.png: 416x640 (no detections), 13.5ms\n",
      "image 377/1348 /kaggle/working/windturbine_yolo_llm_strong/dataset/images/test/DJI_0257_04_06.png: 416x640 (no detections), 13.5ms\n",
      "image 378/1348 /kaggle/working/windturbine_yolo_llm_strong/dataset/images/test/DJI_0257_05_04.png: 416x640 (no detections), 14.0ms\n",
      "image 379/1348 /kaggle/working/windturbine_yolo_llm_strong/dataset/images/test/DJI_0257_06_04.png: 416x640 8 damages, 13.5ms\n",
      "image 380/1348 /kaggle/working/windturbine_yolo_llm_strong/dataset/images/test/DJI_0257_07_05.png: 416x640 (no detections), 13.5ms\n",
      "image 381/1348 /kaggle/working/windturbine_yolo_llm_strong/dataset/images/test/DJI_0258_01_07.png: 416x640 (no detections), 13.8ms\n",
      "image 382/1348 /kaggle/working/windturbine_yolo_llm_strong/dataset/images/test/DJI_0258_02_05.png: 416x640 6 damages, 13.4ms\n",
      "image 383/1348 /kaggle/working/windturbine_yolo_llm_strong/dataset/images/test/DJI_0258_02_09.png: 416x640 (no detections), 13.4ms\n",
      "image 384/1348 /kaggle/working/windturbine_yolo_llm_strong/dataset/images/test/DJI_0258_07_05.png: 416x640 (no detections), 13.7ms\n",
      "image 385/1348 /kaggle/working/windturbine_yolo_llm_strong/dataset/images/test/DJI_0259_01_05.png: 416x640 9 damages, 13.4ms\n",
      "image 386/1348 /kaggle/working/windturbine_yolo_llm_strong/dataset/images/test/DJI_0259_01_07.png: 416x640 (no detections), 13.4ms\n",
      "image 387/1348 /kaggle/working/windturbine_yolo_llm_strong/dataset/images/test/DJI_0259_04_04.png: 416x640 3 damages, 13.7ms\n",
      "image 388/1348 /kaggle/working/windturbine_yolo_llm_strong/dataset/images/test/DJI_0260_01_06.png: 416x640 5 damages, 13.4ms\n",
      "image 389/1348 /kaggle/working/windturbine_yolo_llm_strong/dataset/images/test/DJI_0260_04_03.png: 416x640 (no detections), 13.4ms\n",
      "image 390/1348 /kaggle/working/windturbine_yolo_llm_strong/dataset/images/test/DJI_0261_03_04.png: 416x640 1 damage, 13.9ms\n",
      "image 391/1348 /kaggle/working/windturbine_yolo_llm_strong/dataset/images/test/DJI_0261_05_04.png: 416x640 3 damages, 13.4ms\n",
      "image 392/1348 /kaggle/working/windturbine_yolo_llm_strong/dataset/images/test/DJI_0261_06_06.png: 416x640 (no detections), 13.4ms\n",
      "image 393/1348 /kaggle/working/windturbine_yolo_llm_strong/dataset/images/test/DJI_0262_01_01.png: 416x640 1 damage, 13.5ms\n",
      "image 394/1348 /kaggle/working/windturbine_yolo_llm_strong/dataset/images/test/DJI_0262_01_02.png: 416x640 (no detections), 13.5ms\n",
      "image 395/1348 /kaggle/working/windturbine_yolo_llm_strong/dataset/images/test/DJI_0262_03_04.png: 416x640 (no detections), 13.5ms\n",
      "image 396/1348 /kaggle/working/windturbine_yolo_llm_strong/dataset/images/test/DJI_0262_04_05.png: 416x640 (no detections), 13.8ms\n",
      "image 397/1348 /kaggle/working/windturbine_yolo_llm_strong/dataset/images/test/DJI_0262_05_06.png: 416x640 (no detections), 13.5ms\n",
      "image 398/1348 /kaggle/working/windturbine_yolo_llm_strong/dataset/images/test/DJI_0263_08_04.png: 416x640 (no detections), 13.5ms\n",
      "image 399/1348 /kaggle/working/windturbine_yolo_llm_strong/dataset/images/test/DJI_0265_07_05.png: 416x640 (no detections), 13.3ms\n",
      "image 400/1348 /kaggle/working/windturbine_yolo_llm_strong/dataset/images/test/DJI_0266_02_03.png: 416x640 (no detections), 14.0ms\n",
      "image 401/1348 /kaggle/working/windturbine_yolo_llm_strong/dataset/images/test/DJI_0266_02_05.png: 416x640 (no detections), 13.7ms\n",
      "image 402/1348 /kaggle/working/windturbine_yolo_llm_strong/dataset/images/test/DJI_0267_08_03.png: 416x640 (no detections), 13.7ms\n",
      "image 403/1348 /kaggle/working/windturbine_yolo_llm_strong/dataset/images/test/DJI_0268_05_02.png: 416x640 (no detections), 13.4ms\n",
      "image 404/1348 /kaggle/working/windturbine_yolo_llm_strong/dataset/images/test/DJI_0269_05_03.png: 416x640 1 damage, 13.7ms\n",
      "image 405/1348 /kaggle/working/windturbine_yolo_llm_strong/dataset/images/test/DJI_0269_06_03.png: 416x640 (no detections), 14.1ms\n",
      "image 406/1348 /kaggle/working/windturbine_yolo_llm_strong/dataset/images/test/DJI_0270_02_04.png: 416x640 (no detections), 13.7ms\n",
      "image 407/1348 /kaggle/working/windturbine_yolo_llm_strong/dataset/images/test/DJI_0270_03_04.png: 416x640 (no detections), 13.8ms\n",
      "image 408/1348 /kaggle/working/windturbine_yolo_llm_strong/dataset/images/test/DJI_0270_05_05.png: 416x640 (no detections), 13.7ms\n",
      "image 409/1348 /kaggle/working/windturbine_yolo_llm_strong/dataset/images/test/DJI_0270_07_03.png: 416x640 (no detections), 13.7ms\n",
      "image 410/1348 /kaggle/working/windturbine_yolo_llm_strong/dataset/images/test/DJI_0270_08_03.png: 416x640 (no detections), 13.5ms\n",
      "image 411/1348 /kaggle/working/windturbine_yolo_llm_strong/dataset/images/test/DJI_0271_03_05.png: 416x640 (no detections), 14.0ms\n",
      "image 412/1348 /kaggle/working/windturbine_yolo_llm_strong/dataset/images/test/DJI_0271_04_05.png: 416x640 (no detections), 13.7ms\n",
      "image 413/1348 /kaggle/working/windturbine_yolo_llm_strong/dataset/images/test/DJI_0271_05_06.png: 416x640 (no detections), 13.8ms\n",
      "image 414/1348 /kaggle/working/windturbine_yolo_llm_strong/dataset/images/test/DJI_0272_02_01.png: 416x640 (no detections), 13.7ms\n",
      "image 415/1348 /kaggle/working/windturbine_yolo_llm_strong/dataset/images/test/DJI_0272_04_05.png: 416x640 (no detections), 13.7ms\n",
      "image 416/1348 /kaggle/working/windturbine_yolo_llm_strong/dataset/images/test/DJI_0273_01_01.png: 416x640 (no detections), 13.4ms\n",
      "image 417/1348 /kaggle/working/windturbine_yolo_llm_strong/dataset/images/test/DJI_0273_01_03.png: 416x640 (no detections), 13.9ms\n",
      "image 418/1348 /kaggle/working/windturbine_yolo_llm_strong/dataset/images/test/DJI_0273_01_06.png: 416x640 (no detections), 13.7ms\n",
      "image 419/1348 /kaggle/working/windturbine_yolo_llm_strong/dataset/images/test/DJI_0273_02_04.png: 416x640 (no detections), 13.7ms\n",
      "image 420/1348 /kaggle/working/windturbine_yolo_llm_strong/dataset/images/test/DJI_0274_02_04.png: 416x640 (no detections), 13.5ms\n",
      "image 421/1348 /kaggle/working/windturbine_yolo_llm_strong/dataset/images/test/DJI_0275_01_05.png: 416x640 (no detections), 13.8ms\n",
      "image 422/1348 /kaggle/working/windturbine_yolo_llm_strong/dataset/images/test/DJI_0276_02_05.png: 416x640 (no detections), 13.9ms\n",
      "image 423/1348 /kaggle/working/windturbine_yolo_llm_strong/dataset/images/test/DJI_0276_05_01.png: 416x640 (no detections), 13.7ms\n",
      "image 424/1348 /kaggle/working/windturbine_yolo_llm_strong/dataset/images/test/DJI_0277_02_02.png: 416x640 (no detections), 13.7ms\n",
      "image 425/1348 /kaggle/working/windturbine_yolo_llm_strong/dataset/images/test/DJI_0277_03_02.png: 416x640 1 damage, 13.9ms\n",
      "image 426/1348 /kaggle/working/windturbine_yolo_llm_strong/dataset/images/test/DJI_0277_06_04.png: 416x640 (no detections), 13.7ms\n",
      "image 427/1348 /kaggle/working/windturbine_yolo_llm_strong/dataset/images/test/DJI_0278_01_01.png: 416x640 1 damage, 13.7ms\n",
      "image 428/1348 /kaggle/working/windturbine_yolo_llm_strong/dataset/images/test/DJI_0278_01_05.png: 416x640 (no detections), 13.4ms\n",
      "image 429/1348 /kaggle/working/windturbine_yolo_llm_strong/dataset/images/test/DJI_0278_05_02.png: 416x640 (no detections), 13.5ms\n",
      "image 430/1348 /kaggle/working/windturbine_yolo_llm_strong/dataset/images/test/DJI_0278_06_03.png: 416x640 (no detections), 13.6ms\n",
      "image 431/1348 /kaggle/working/windturbine_yolo_llm_strong/dataset/images/test/DJI_0279_01_03.png: 416x640 (no detections), 13.9ms\n",
      "image 432/1348 /kaggle/working/windturbine_yolo_llm_strong/dataset/images/test/DJI_0280_01_04.png: 416x640 (no detections), 13.5ms\n",
      "image 433/1348 /kaggle/working/windturbine_yolo_llm_strong/dataset/images/test/DJI_0281_01_03.png: 416x640 (no detections), 13.5ms\n",
      "image 434/1348 /kaggle/working/windturbine_yolo_llm_strong/dataset/images/test/DJI_0281_01_04.png: 416x640 (no detections), 13.8ms\n",
      "image 435/1348 /kaggle/working/windturbine_yolo_llm_strong/dataset/images/test/DJI_0281_04_05.png: 416x640 (no detections), 13.6ms\n",
      "image 436/1348 /kaggle/working/windturbine_yolo_llm_strong/dataset/images/test/DJI_0282_02_04.png: 416x640 (no detections), 13.5ms\n",
      "image 437/1348 /kaggle/working/windturbine_yolo_llm_strong/dataset/images/test/DJI_0282_03_04.png: 416x640 (no detections), 13.3ms\n",
      "image 438/1348 /kaggle/working/windturbine_yolo_llm_strong/dataset/images/test/DJI_0323_06_04.png: 416x640 1 damage, 13.8ms\n",
      "image 439/1348 /kaggle/working/windturbine_yolo_llm_strong/dataset/images/test/DJI_0323_08_03.png: 416x640 (no detections), 13.5ms\n",
      "image 440/1348 /kaggle/working/windturbine_yolo_llm_strong/dataset/images/test/DJI_0324_07_04.png: 416x640 (no detections), 13.6ms\n",
      "image 441/1348 /kaggle/working/windturbine_yolo_llm_strong/dataset/images/test/DJI_0324_08_02.png: 416x640 (no detections), 13.7ms\n",
      "image 442/1348 /kaggle/working/windturbine_yolo_llm_strong/dataset/images/test/DJI_0324_08_04.png: 416x640 (no detections), 13.7ms\n",
      "image 443/1348 /kaggle/working/windturbine_yolo_llm_strong/dataset/images/test/DJI_0326_06_05.png: 416x640 (no detections), 13.6ms\n",
      "image 444/1348 /kaggle/working/windturbine_yolo_llm_strong/dataset/images/test/DJI_0328_08_03.png: 416x640 (no detections), 13.8ms\n",
      "image 445/1348 /kaggle/working/windturbine_yolo_llm_strong/dataset/images/test/DJI_0328_08_04.png: 416x640 (no detections), 13.7ms\n",
      "image 446/1348 /kaggle/working/windturbine_yolo_llm_strong/dataset/images/test/DJI_0329_03_08.png: 416x640 (no detections), 13.7ms\n",
      "image 447/1348 /kaggle/working/windturbine_yolo_llm_strong/dataset/images/test/DJI_0330_03_07.png: 416x640 (no detections), 13.8ms\n",
      "image 448/1348 /kaggle/working/windturbine_yolo_llm_strong/dataset/images/test/DJI_0330_04_06.png: 416x640 (no detections), 14.0ms\n",
      "image 449/1348 /kaggle/working/windturbine_yolo_llm_strong/dataset/images/test/DJI_0331_05_04.png: 416x640 (no detections), 13.7ms\n",
      "image 450/1348 /kaggle/working/windturbine_yolo_llm_strong/dataset/images/test/DJI_0331_07_05.png: 416x640 (no detections), 13.7ms\n",
      "image 451/1348 /kaggle/working/windturbine_yolo_llm_strong/dataset/images/test/DJI_0332_05_06.png: 416x640 (no detections), 13.7ms\n",
      "image 452/1348 /kaggle/working/windturbine_yolo_llm_strong/dataset/images/test/DJI_0332_07_03.png: 416x640 (no detections), 14.1ms\n",
      "image 453/1348 /kaggle/working/windturbine_yolo_llm_strong/dataset/images/test/DJI_0333_07_06.png: 416x640 (no detections), 13.7ms\n",
      "image 454/1348 /kaggle/working/windturbine_yolo_llm_strong/dataset/images/test/DJI_0334_01_08.png: 416x640 (no detections), 13.7ms\n",
      "image 455/1348 /kaggle/working/windturbine_yolo_llm_strong/dataset/images/test/DJI_0334_02_08.png: 416x640 1 damage, 13.5ms\n",
      "image 456/1348 /kaggle/working/windturbine_yolo_llm_strong/dataset/images/test/DJI_0334_06_05.png: 416x640 (no detections), 13.8ms\n",
      "image 457/1348 /kaggle/working/windturbine_yolo_llm_strong/dataset/images/test/DJI_0334_07_04.png: 416x640 (no detections), 13.7ms\n",
      "image 458/1348 /kaggle/working/windturbine_yolo_llm_strong/dataset/images/test/DJI_0335_05_06.png: 416x640 (no detections), 13.5ms\n",
      "image 459/1348 /kaggle/working/windturbine_yolo_llm_strong/dataset/images/test/DJI_0335_07_05.png: 416x640 (no detections), 13.7ms\n",
      "image 460/1348 /kaggle/working/windturbine_yolo_llm_strong/dataset/images/test/DJI_0335_08_04.png: 416x640 (no detections), 13.5ms\n",
      "image 461/1348 /kaggle/working/windturbine_yolo_llm_strong/dataset/images/test/DJI_0336_03_07.png: 416x640 (no detections), 13.5ms\n",
      "image 462/1348 /kaggle/working/windturbine_yolo_llm_strong/dataset/images/test/DJI_0337_02_09.png: 416x640 (no detections), 13.6ms\n",
      "image 463/1348 /kaggle/working/windturbine_yolo_llm_strong/dataset/images/test/DJI_0337_05_06.png: 416x640 (no detections), 13.5ms\n",
      "image 464/1348 /kaggle/working/windturbine_yolo_llm_strong/dataset/images/test/DJI_0338_04_05.png: 416x640 (no detections), 13.7ms\n",
      "image 465/1348 /kaggle/working/windturbine_yolo_llm_strong/dataset/images/test/DJI_0338_07_04.png: 416x640 (no detections), 13.8ms\n",
      "image 466/1348 /kaggle/working/windturbine_yolo_llm_strong/dataset/images/test/DJI_0338_07_06.png: 416x640 (no detections), 13.7ms\n",
      "image 467/1348 /kaggle/working/windturbine_yolo_llm_strong/dataset/images/test/DJI_0338_08_04.png: 416x640 (no detections), 13.7ms\n",
      "image 468/1348 /kaggle/working/windturbine_yolo_llm_strong/dataset/images/test/DJI_0339_02_07.png: 416x640 (no detections), 13.5ms\n",
      "image 469/1348 /kaggle/working/windturbine_yolo_llm_strong/dataset/images/test/DJI_0339_02_08.png: 416x640 (no detections), 13.4ms\n",
      "image 470/1348 /kaggle/working/windturbine_yolo_llm_strong/dataset/images/test/DJI_0339_03_07.png: 416x640 (no detections), 13.4ms\n",
      "image 471/1348 /kaggle/working/windturbine_yolo_llm_strong/dataset/images/test/DJI_0339_05_05.png: 416x640 (no detections), 13.9ms\n",
      "image 472/1348 /kaggle/working/windturbine_yolo_llm_strong/dataset/images/test/DJI_0339_07_05.png: 416x640 (no detections), 13.7ms\n",
      "image 473/1348 /kaggle/working/windturbine_yolo_llm_strong/dataset/images/test/DJI_0340_02_06.png: 416x640 (no detections), 14.3ms\n",
      "image 474/1348 /kaggle/working/windturbine_yolo_llm_strong/dataset/images/test/DJI_0340_04_06.png: 416x640 (no detections), 13.7ms\n",
      "image 475/1348 /kaggle/working/windturbine_yolo_llm_strong/dataset/images/test/DJI_0341_03_07.png: 416x640 (no detections), 13.9ms\n",
      "image 476/1348 /kaggle/working/windturbine_yolo_llm_strong/dataset/images/test/DJI_0341_04_06.png: 416x640 (no detections), 13.7ms\n",
      "image 477/1348 /kaggle/working/windturbine_yolo_llm_strong/dataset/images/test/DJI_0341_06_03.png: 416x640 (no detections), 13.7ms\n",
      "image 478/1348 /kaggle/working/windturbine_yolo_llm_strong/dataset/images/test/DJI_0341_08_02.png: 416x640 (no detections), 13.9ms\n",
      "image 479/1348 /kaggle/working/windturbine_yolo_llm_strong/dataset/images/test/DJI_0341_08_04.png: 416x640 (no detections), 13.7ms\n",
      "image 480/1348 /kaggle/working/windturbine_yolo_llm_strong/dataset/images/test/DJI_0342_01_07.png: 416x640 (no detections), 13.7ms\n",
      "image 481/1348 /kaggle/working/windturbine_yolo_llm_strong/dataset/images/test/DJI_0342_02_05.png: 416x640 (no detections), 14.4ms\n",
      "image 482/1348 /kaggle/working/windturbine_yolo_llm_strong/dataset/images/test/DJI_0342_02_07.png: 416x640 (no detections), 13.5ms\n",
      "image 483/1348 /kaggle/working/windturbine_yolo_llm_strong/dataset/images/test/DJI_0342_04_05.png: 416x640 (no detections), 13.6ms\n",
      "image 484/1348 /kaggle/working/windturbine_yolo_llm_strong/dataset/images/test/DJI_0342_04_06.png: 416x640 (no detections), 13.5ms\n",
      "image 485/1348 /kaggle/working/windturbine_yolo_llm_strong/dataset/images/test/DJI_0342_04_07.png: 416x640 (no detections), 13.8ms\n",
      "image 486/1348 /kaggle/working/windturbine_yolo_llm_strong/dataset/images/test/DJI_0342_07_04.png: 416x640 (no detections), 13.5ms\n",
      "image 487/1348 /kaggle/working/windturbine_yolo_llm_strong/dataset/images/test/DJI_0343_01_09.png: 416x640 (no detections), 13.6ms\n",
      "image 488/1348 /kaggle/working/windturbine_yolo_llm_strong/dataset/images/test/DJI_0343_03_06.png: 416x640 (no detections), 13.5ms\n",
      "image 489/1348 /kaggle/working/windturbine_yolo_llm_strong/dataset/images/test/DJI_0343_05_07.png: 416x640 (no detections), 12.4ms\n",
      "image 490/1348 /kaggle/working/windturbine_yolo_llm_strong/dataset/images/test/DJI_0343_06_03.png: 416x640 (no detections), 13.0ms\n",
      "image 491/1348 /kaggle/working/windturbine_yolo_llm_strong/dataset/images/test/DJI_0343_08_04.png: 416x640 (no detections), 12.5ms\n",
      "image 492/1348 /kaggle/working/windturbine_yolo_llm_strong/dataset/images/test/DJI_0344_01_07.png: 416x640 (no detections), 12.8ms\n",
      "image 493/1348 /kaggle/working/windturbine_yolo_llm_strong/dataset/images/test/DJI_0344_01_08.png: 416x640 (no detections), 12.6ms\n",
      "image 494/1348 /kaggle/working/windturbine_yolo_llm_strong/dataset/images/test/DJI_0344_03_06.png: 416x640 (no detections), 12.4ms\n",
      "image 495/1348 /kaggle/working/windturbine_yolo_llm_strong/dataset/images/test/DJI_0344_06_04.png: 416x640 (no detections), 13.4ms\n",
      "image 496/1348 /kaggle/working/windturbine_yolo_llm_strong/dataset/images/test/DJI_0344_08_03.png: 416x640 (no detections), 12.8ms\n",
      "image 497/1348 /kaggle/working/windturbine_yolo_llm_strong/dataset/images/test/DJI_0345_01_08.png: 416x640 (no detections), 12.8ms\n",
      "image 498/1348 /kaggle/working/windturbine_yolo_llm_strong/dataset/images/test/DJI_0345_03_09.png: 416x640 (no detections), 12.8ms\n",
      "image 499/1348 /kaggle/working/windturbine_yolo_llm_strong/dataset/images/test/DJI_0345_06_04.png: 416x640 2 damages, 12.9ms\n",
      "image 500/1348 /kaggle/working/windturbine_yolo_llm_strong/dataset/images/test/DJI_0345_06_07.png: 416x640 (no detections), 12.3ms\n",
      "image 501/1348 /kaggle/working/windturbine_yolo_llm_strong/dataset/images/test/DJI_0345_08_04.png: 416x640 1 damage, 12.6ms\n",
      "image 502/1348 /kaggle/working/windturbine_yolo_llm_strong/dataset/images/test/DJI_0345_08_05.png: 416x640 (no detections), 13.1ms\n",
      "image 503/1348 /kaggle/working/windturbine_yolo_llm_strong/dataset/images/test/DJI_0346_04_06.png: 416x640 (no detections), 12.7ms\n",
      "image 504/1348 /kaggle/working/windturbine_yolo_llm_strong/dataset/images/test/DJI_0346_05_05.png: 416x640 (no detections), 12.8ms\n",
      "image 505/1348 /kaggle/working/windturbine_yolo_llm_strong/dataset/images/test/DJI_0346_05_06.png: 416x640 (no detections), 12.7ms\n",
      "image 506/1348 /kaggle/working/windturbine_yolo_llm_strong/dataset/images/test/DJI_0348_03_04.png: 416x640 1 damage, 13.4ms\n",
      "image 507/1348 /kaggle/working/windturbine_yolo_llm_strong/dataset/images/test/DJI_0349_05_01.png: 416x640 (no detections), 12.6ms\n",
      "image 508/1348 /kaggle/working/windturbine_yolo_llm_strong/dataset/images/test/DJI_0350_04_04.png: 416x640 4 damages, 13.1ms\n",
      "image 509/1348 /kaggle/working/windturbine_yolo_llm_strong/dataset/images/test/DJI_0351_02_01.png: 416x640 (no detections), 13.0ms\n",
      "image 510/1348 /kaggle/working/windturbine_yolo_llm_strong/dataset/images/test/DJI_0351_03_03.png: 416x640 5 damages, 13.9ms\n",
      "image 511/1348 /kaggle/working/windturbine_yolo_llm_strong/dataset/images/test/DJI_0351_03_06.png: 416x640 1 damage, 13.1ms\n",
      "image 512/1348 /kaggle/working/windturbine_yolo_llm_strong/dataset/images/test/DJI_0351_07_05.png: 416x640 (no detections), 13.1ms\n",
      "image 513/1348 /kaggle/working/windturbine_yolo_llm_strong/dataset/images/test/DJI_0352_04_07.png: 416x640 (no detections), 13.9ms\n",
      "image 514/1348 /kaggle/working/windturbine_yolo_llm_strong/dataset/images/test/DJI_0353_04_04.png: 416x640 1 damage, 13.0ms\n",
      "image 515/1348 /kaggle/working/windturbine_yolo_llm_strong/dataset/images/test/DJI_0353_06_09.png: 416x640 (no detections), 13.0ms\n",
      "image 516/1348 /kaggle/working/windturbine_yolo_llm_strong/dataset/images/test/DJI_0354_04_05.png: 416x640 (no detections), 13.1ms\n",
      "image 517/1348 /kaggle/working/windturbine_yolo_llm_strong/dataset/images/test/DJI_0355_04_06.png: 416x640 (no detections), 13.2ms\n",
      "image 518/1348 /kaggle/working/windturbine_yolo_llm_strong/dataset/images/test/DJI_0356_05_04.png: 416x640 (no detections), 13.0ms\n",
      "image 519/1348 /kaggle/working/windturbine_yolo_llm_strong/dataset/images/test/DJI_0357_02_06.png: 416x640 (no detections), 13.0ms\n",
      "image 520/1348 /kaggle/working/windturbine_yolo_llm_strong/dataset/images/test/DJI_0357_04_09.png: 416x640 (no detections), 13.6ms\n",
      "image 521/1348 /kaggle/working/windturbine_yolo_llm_strong/dataset/images/test/DJI_0357_06_09.png: 416x640 3 damages, 13.0ms\n",
      "image 522/1348 /kaggle/working/windturbine_yolo_llm_strong/dataset/images/test/DJI_0357_07_04.png: 416x640 (no detections), 14.0ms\n",
      "image 523/1348 /kaggle/working/windturbine_yolo_llm_strong/dataset/images/test/DJI_0358_02_06.png: 416x640 (no detections), 13.0ms\n",
      "image 524/1348 /kaggle/working/windturbine_yolo_llm_strong/dataset/images/test/DJI_0358_02_09.png: 416x640 2 damages, 13.6ms\n",
      "image 525/1348 /kaggle/working/windturbine_yolo_llm_strong/dataset/images/test/DJI_0358_03_05.png: 416x640 (no detections), 13.0ms\n",
      "image 526/1348 /kaggle/working/windturbine_yolo_llm_strong/dataset/images/test/DJI_0358_03_06.png: 416x640 (no detections), 13.2ms\n",
      "image 527/1348 /kaggle/working/windturbine_yolo_llm_strong/dataset/images/test/DJI_0358_05_05.png: 416x640 (no detections), 12.7ms\n",
      "image 528/1348 /kaggle/working/windturbine_yolo_llm_strong/dataset/images/test/DJI_0358_06_05.png: 416x640 (no detections), 12.7ms\n",
      "image 529/1348 /kaggle/working/windturbine_yolo_llm_strong/dataset/images/test/DJI_0358_08_04.png: 416x640 (no detections), 12.7ms\n",
      "image 530/1348 /kaggle/working/windturbine_yolo_llm_strong/dataset/images/test/DJI_0359_02_05.png: 416x640 (no detections), 12.7ms\n",
      "image 531/1348 /kaggle/working/windturbine_yolo_llm_strong/dataset/images/test/DJI_0359_02_08.png: 416x640 (no detections), 12.6ms\n",
      "image 532/1348 /kaggle/working/windturbine_yolo_llm_strong/dataset/images/test/DJI_0359_03_05.png: 416x640 (no detections), 13.8ms\n",
      "image 533/1348 /kaggle/working/windturbine_yolo_llm_strong/dataset/images/test/DJI_0359_04_08.png: 416x640 2 damages, 12.8ms\n",
      "image 534/1348 /kaggle/working/windturbine_yolo_llm_strong/dataset/images/test/DJI_0359_06_04.png: 416x640 (no detections), 12.7ms\n",
      "image 535/1348 /kaggle/working/windturbine_yolo_llm_strong/dataset/images/test/DJI_0359_06_08.png: 416x640 7 damages, 13.3ms\n",
      "image 536/1348 /kaggle/working/windturbine_yolo_llm_strong/dataset/images/test/DJI_0359_08_08.png: 416x640 4 damages, 12.7ms\n",
      "image 537/1348 /kaggle/working/windturbine_yolo_llm_strong/dataset/images/test/DJI_0360_05_05.png: 416x640 (no detections), 14.2ms\n",
      "image 538/1348 /kaggle/working/windturbine_yolo_llm_strong/dataset/images/test/DJI_0360_06_08.png: 416x640 (no detections), 12.8ms\n",
      "image 539/1348 /kaggle/working/windturbine_yolo_llm_strong/dataset/images/test/DJI_0360_07_05.png: 416x640 (no detections), 13.5ms\n",
      "image 540/1348 /kaggle/working/windturbine_yolo_llm_strong/dataset/images/test/DJI_0360_08_04.png: 416x640 (no detections), 12.9ms\n",
      "image 541/1348 /kaggle/working/windturbine_yolo_llm_strong/dataset/images/test/DJI_0361_02_08.png: 416x640 (no detections), 12.5ms\n",
      "image 542/1348 /kaggle/working/windturbine_yolo_llm_strong/dataset/images/test/DJI_0361_02_09.png: 416x640 3 damages, 14.0ms\n",
      "image 543/1348 /kaggle/working/windturbine_yolo_llm_strong/dataset/images/test/DJI_0361_06_08.png: 416x640 2 damages, 12.8ms\n",
      "image 544/1348 /kaggle/working/windturbine_yolo_llm_strong/dataset/images/test/DJI_0361_08_04.png: 416x640 (no detections), 13.8ms\n",
      "image 545/1348 /kaggle/working/windturbine_yolo_llm_strong/dataset/images/test/DJI_0362_05_06.png: 416x640 (no detections), 12.8ms\n",
      "image 546/1348 /kaggle/working/windturbine_yolo_llm_strong/dataset/images/test/DJI_0362_08_04.png: 416x640 (no detections), 12.4ms\n",
      "image 547/1348 /kaggle/working/windturbine_yolo_llm_strong/dataset/images/test/DJI_0362_08_05.png: 416x640 (no detections), 12.7ms\n",
      "image 548/1348 /kaggle/working/windturbine_yolo_llm_strong/dataset/images/test/DJI_0363_01_09.png: 416x640 (no detections), 13.1ms\n",
      "image 549/1348 /kaggle/working/windturbine_yolo_llm_strong/dataset/images/test/DJI_0363_02_08.png: 416x640 1 damage, 12.5ms\n",
      "image 550/1348 /kaggle/working/windturbine_yolo_llm_strong/dataset/images/test/DJI_0363_02_09.png: 416x640 1 damage, 13.2ms\n",
      "image 551/1348 /kaggle/working/windturbine_yolo_llm_strong/dataset/images/test/DJI_0363_05_06.png: 416x640 (no detections), 12.5ms\n",
      "image 552/1348 /kaggle/working/windturbine_yolo_llm_strong/dataset/images/test/DJI_0363_06_08.png: 416x640 4 damages, 12.9ms\n",
      "image 553/1348 /kaggle/working/windturbine_yolo_llm_strong/dataset/images/test/DJI_0364_01_09.png: 416x640 (no detections), 12.4ms\n",
      "image 554/1348 /kaggle/working/windturbine_yolo_llm_strong/dataset/images/test/DJI_0364_04_09.png: 416x640 (no detections), 13.3ms\n",
      "image 555/1348 /kaggle/working/windturbine_yolo_llm_strong/dataset/images/test/DJI_0364_05_06.png: 416x640 (no detections), 15.2ms\n",
      "image 556/1348 /kaggle/working/windturbine_yolo_llm_strong/dataset/images/test/DJI_0364_07_09.png: 416x640 (no detections), 13.3ms\n",
      "image 557/1348 /kaggle/working/windturbine_yolo_llm_strong/dataset/images/test/DJI_0364_08_08.png: 416x640 7 damages, 14.8ms\n",
      "image 558/1348 /kaggle/working/windturbine_yolo_llm_strong/dataset/images/test/DJI_0365_01_06.png: 416x640 (no detections), 13.0ms\n",
      "image 559/1348 /kaggle/working/windturbine_yolo_llm_strong/dataset/images/test/DJI_0365_02_07.png: 416x640 (no detections), 13.4ms\n",
      "image 560/1348 /kaggle/working/windturbine_yolo_llm_strong/dataset/images/test/DJI_0365_07_04.png: 416x640 (no detections), 12.4ms\n",
      "image 561/1348 /kaggle/working/windturbine_yolo_llm_strong/dataset/images/test/DJI_0365_08_05.png: 416x640 (no detections), 13.0ms\n",
      "image 562/1348 /kaggle/working/windturbine_yolo_llm_strong/dataset/images/test/DJI_0366_01_09.png: 416x640 (no detections), 12.8ms\n",
      "image 563/1348 /kaggle/working/windturbine_yolo_llm_strong/dataset/images/test/DJI_0366_06_04.png: 416x640 (no detections), 12.3ms\n",
      "image 564/1348 /kaggle/working/windturbine_yolo_llm_strong/dataset/images/test/DJI_0366_07_03.png: 416x640 (no detections), 13.9ms\n",
      "image 565/1348 /kaggle/working/windturbine_yolo_llm_strong/dataset/images/test/DJI_0366_07_08.png: 416x640 (no detections), 12.7ms\n",
      "image 566/1348 /kaggle/working/windturbine_yolo_llm_strong/dataset/images/test/DJI_0366_08_07.png: 416x640 3 damages, 14.4ms\n",
      "image 567/1348 /kaggle/working/windturbine_yolo_llm_strong/dataset/images/test/DJI_0367_03_07.png: 416x640 (no detections), 12.9ms\n",
      "image 568/1348 /kaggle/working/windturbine_yolo_llm_strong/dataset/images/test/DJI_0367_04_05.png: 416x640 1 damage, 14.1ms\n",
      "image 569/1348 /kaggle/working/windturbine_yolo_llm_strong/dataset/images/test/DJI_0367_05_05.png: 416x640 (no detections), 12.8ms\n",
      "image 570/1348 /kaggle/working/windturbine_yolo_llm_strong/dataset/images/test/DJI_0367_05_08.png: 416x640 (no detections), 13.4ms\n",
      "image 571/1348 /kaggle/working/windturbine_yolo_llm_strong/dataset/images/test/DJI_0367_06_05.png: 416x640 (no detections), 12.9ms\n",
      "image 572/1348 /kaggle/working/windturbine_yolo_llm_strong/dataset/images/test/DJI_0367_06_06.png: 416x640 (no detections), 12.8ms\n",
      "image 573/1348 /kaggle/working/windturbine_yolo_llm_strong/dataset/images/test/DJI_0367_07_06.png: 416x640 (no detections), 12.7ms\n",
      "image 574/1348 /kaggle/working/windturbine_yolo_llm_strong/dataset/images/test/DJI_0367_07_07.png: 416x640 (no detections), 12.9ms\n",
      "image 575/1348 /kaggle/working/windturbine_yolo_llm_strong/dataset/images/test/DJI_0367_07_08.png: 416x640 (no detections), 13.1ms\n",
      "image 576/1348 /kaggle/working/windturbine_yolo_llm_strong/dataset/images/test/DJI_0368_01_05.png: 416x640 (no detections), 13.3ms\n",
      "image 577/1348 /kaggle/working/windturbine_yolo_llm_strong/dataset/images/test/DJI_0368_02_06.png: 416x640 2 damages, 13.1ms\n",
      "image 578/1348 /kaggle/working/windturbine_yolo_llm_strong/dataset/images/test/DJI_0368_02_09.png: 416x640 (no detections), 12.9ms\n",
      "image 579/1348 /kaggle/working/windturbine_yolo_llm_strong/dataset/images/test/DJI_0368_04_06.png: 416x640 (no detections), 13.8ms\n",
      "image 580/1348 /kaggle/working/windturbine_yolo_llm_strong/dataset/images/test/DJI_0368_06_07.png: 416x640 1 damage, 12.8ms\n",
      "image 581/1348 /kaggle/working/windturbine_yolo_llm_strong/dataset/images/test/DJI_0369_05_04.png: 416x640 (no detections), 13.3ms\n",
      "image 582/1348 /kaggle/working/windturbine_yolo_llm_strong/dataset/images/test/DJI_0369_08_06.png: 416x640 2 damages, 12.8ms\n",
      "image 583/1348 /kaggle/working/windturbine_yolo_llm_strong/dataset/images/test/DJI_0370_02_06.png: 416x640 (no detections), 12.8ms\n",
      "image 584/1348 /kaggle/working/windturbine_yolo_llm_strong/dataset/images/test/DJI_0370_02_09.png: 416x640 (no detections), 12.9ms\n",
      "image 585/1348 /kaggle/working/windturbine_yolo_llm_strong/dataset/images/test/DJI_0370_03_06.png: 416x640 (no detections), 14.5ms\n",
      "image 586/1348 /kaggle/working/windturbine_yolo_llm_strong/dataset/images/test/DJI_0370_06_03.png: 416x640 (no detections), 13.3ms\n",
      "image 587/1348 /kaggle/working/windturbine_yolo_llm_strong/dataset/images/test/DJI_0370_07_06.png: 416x640 9 damages, 13.3ms\n",
      "image 588/1348 /kaggle/working/windturbine_yolo_llm_strong/dataset/images/test/DJI_0370_08_03.png: 416x640 (no detections), 12.9ms\n",
      "image 589/1348 /kaggle/working/windturbine_yolo_llm_strong/dataset/images/test/DJI_0370_08_05.png: 416x640 1 damage, 12.8ms\n",
      "image 590/1348 /kaggle/working/windturbine_yolo_llm_strong/dataset/images/test/DJI_0371_03_07.png: 416x640 (no detections), 12.3ms\n",
      "image 591/1348 /kaggle/working/windturbine_yolo_llm_strong/dataset/images/test/DJI_0371_03_08.png: 416x640 1 damage, 14.1ms\n",
      "image 592/1348 /kaggle/working/windturbine_yolo_llm_strong/dataset/images/test/DJI_0371_04_06.png: 416x640 (no detections), 13.0ms\n",
      "image 593/1348 /kaggle/working/windturbine_yolo_llm_strong/dataset/images/test/DJI_0371_07_03.png: 416x640 (no detections), 14.4ms\n",
      "image 594/1348 /kaggle/working/windturbine_yolo_llm_strong/dataset/images/test/DJI_0371_07_05.png: 416x640 2 damages, 12.9ms\n",
      "image 595/1348 /kaggle/working/windturbine_yolo_llm_strong/dataset/images/test/DJI_0372_01_04.png: 416x640 2 damages, 13.0ms\n",
      "image 596/1348 /kaggle/working/windturbine_yolo_llm_strong/dataset/images/test/DJI_0372_02_05.png: 416x640 (no detections), 13.0ms\n",
      "image 597/1348 /kaggle/working/windturbine_yolo_llm_strong/dataset/images/test/DJI_0372_05_05.png: 416x640 2 damages, 12.2ms\n",
      "image 598/1348 /kaggle/working/windturbine_yolo_llm_strong/dataset/images/test/DJI_0372_05_06.png: 416x640 (no detections), 12.8ms\n",
      "image 599/1348 /kaggle/working/windturbine_yolo_llm_strong/dataset/images/test/DJI_0372_07_05.png: 416x640 (no detections), 12.8ms\n",
      "image 600/1348 /kaggle/working/windturbine_yolo_llm_strong/dataset/images/test/DJI_0373_03_09.png: 416x640 (no detections), 13.2ms\n",
      "image 601/1348 /kaggle/working/windturbine_yolo_llm_strong/dataset/images/test/DJI_0373_04_05.png: 416x640 (no detections), 12.6ms\n",
      "image 602/1348 /kaggle/working/windturbine_yolo_llm_strong/dataset/images/test/DJI_0373_04_07.png: 416x640 (no detections), 13.9ms\n",
      "image 603/1348 /kaggle/working/windturbine_yolo_llm_strong/dataset/images/test/DJI_0373_06_04.png: 416x640 (no detections), 12.8ms\n",
      "image 604/1348 /kaggle/working/windturbine_yolo_llm_strong/dataset/images/test/DJI_0374_01_09.png: 416x640 (no detections), 12.4ms\n",
      "image 605/1348 /kaggle/working/windturbine_yolo_llm_strong/dataset/images/test/DJI_0375_01_09.png: 416x640 (no detections), 13.1ms\n",
      "image 606/1348 /kaggle/working/windturbine_yolo_llm_strong/dataset/images/test/DJI_0375_04_09.png: 416x640 (no detections), 12.3ms\n",
      "image 607/1348 /kaggle/working/windturbine_yolo_llm_strong/dataset/images/test/DJI_0375_06_04.png: 416x640 1 damage, 12.7ms\n",
      "image 608/1348 /kaggle/working/windturbine_yolo_llm_strong/dataset/images/test/DJI_0376_02_04.png: 416x640 (no detections), 12.8ms\n",
      "image 609/1348 /kaggle/working/windturbine_yolo_llm_strong/dataset/images/test/DJI_0376_02_07.png: 416x640 (no detections), 12.5ms\n",
      "image 610/1348 /kaggle/working/windturbine_yolo_llm_strong/dataset/images/test/DJI_0376_02_09.png: 416x640 (no detections), 12.3ms\n",
      "image 611/1348 /kaggle/working/windturbine_yolo_llm_strong/dataset/images/test/DJI_0376_05_09.png: 416x640 1 damage, 13.8ms\n",
      "image 612/1348 /kaggle/working/windturbine_yolo_llm_strong/dataset/images/test/DJI_0376_06_06.png: 416x640 (no detections), 12.7ms\n",
      "image 613/1348 /kaggle/working/windturbine_yolo_llm_strong/dataset/images/test/DJI_0376_06_09.png: 416x640 5 damages, 13.3ms\n",
      "image 614/1348 /kaggle/working/windturbine_yolo_llm_strong/dataset/images/test/DJI_0376_08_09.png: 416x640 7 damages, 13.0ms\n",
      "image 615/1348 /kaggle/working/windturbine_yolo_llm_strong/dataset/images/test/DJI_0377_03_05.png: 416x640 1 damage, 12.9ms\n",
      "image 616/1348 /kaggle/working/windturbine_yolo_llm_strong/dataset/images/test/DJI_0377_03_06.png: 416x640 8 damages, 13.3ms\n",
      "image 617/1348 /kaggle/working/windturbine_yolo_llm_strong/dataset/images/test/DJI_0377_05_04.png: 416x640 (no detections), 12.9ms\n",
      "image 618/1348 /kaggle/working/windturbine_yolo_llm_strong/dataset/images/test/DJI_0377_05_07.png: 416x640 6 damages, 12.9ms\n",
      "image 619/1348 /kaggle/working/windturbine_yolo_llm_strong/dataset/images/test/DJI_0377_05_08.png: 416x640 5 damages, 13.0ms\n",
      "image 620/1348 /kaggle/working/windturbine_yolo_llm_strong/dataset/images/test/DJI_0377_06_07.png: 416x640 1 damage, 12.9ms\n",
      "image 621/1348 /kaggle/working/windturbine_yolo_llm_strong/dataset/images/test/DJI_0377_07_09.png: 416x640 (no detections), 13.4ms\n",
      "image 622/1348 /kaggle/working/windturbine_yolo_llm_strong/dataset/images/test/DJI_0378_01_06.png: 416x640 (no detections), 12.9ms\n",
      "image 623/1348 /kaggle/working/windturbine_yolo_llm_strong/dataset/images/test/DJI_0378_04_04.png: 416x640 7 damages, 13.8ms\n",
      "image 624/1348 /kaggle/working/windturbine_yolo_llm_strong/dataset/images/test/DJI_0378_05_05.png: 416x640 (no detections), 12.9ms\n",
      "image 625/1348 /kaggle/working/windturbine_yolo_llm_strong/dataset/images/test/DJI_0378_08_03.png: 416x640 (no detections), 13.9ms\n",
      "image 626/1348 /kaggle/working/windturbine_yolo_llm_strong/dataset/images/test/DJI_0378_08_07.png: 416x640 (no detections), 12.9ms\n",
      "image 627/1348 /kaggle/working/windturbine_yolo_llm_strong/dataset/images/test/DJI_0378_08_09.png: 416x640 (no detections), 13.2ms\n",
      "image 628/1348 /kaggle/working/windturbine_yolo_llm_strong/dataset/images/test/DJI_0382_04_04.png: 416x640 (no detections), 14.2ms\n",
      "image 629/1348 /kaggle/working/windturbine_yolo_llm_strong/dataset/images/test/DJI_0382_04_05.png: 416x640 (no detections), 13.3ms\n",
      "image 630/1348 /kaggle/working/windturbine_yolo_llm_strong/dataset/images/test/DJI_0382_07_01.png: 416x640 (no detections), 13.5ms\n",
      "image 631/1348 /kaggle/working/windturbine_yolo_llm_strong/dataset/images/test/DJI_0382_07_02.png: 416x640 1 damage, 13.3ms\n",
      "image 632/1348 /kaggle/working/windturbine_yolo_llm_strong/dataset/images/test/DJI_0382_08_04.png: 416x640 (no detections), 13.2ms\n",
      "image 633/1348 /kaggle/working/windturbine_yolo_llm_strong/dataset/images/test/DJI_0383_02_07.png: 416x640 (no detections), 13.3ms\n",
      "image 634/1348 /kaggle/working/windturbine_yolo_llm_strong/dataset/images/test/DJI_0383_06_01.png: 416x640 (no detections), 13.3ms\n",
      "image 635/1348 /kaggle/working/windturbine_yolo_llm_strong/dataset/images/test/DJI_0384_01_02.png: 416x640 (no detections), 13.0ms\n",
      "image 636/1348 /kaggle/working/windturbine_yolo_llm_strong/dataset/images/test/DJI_0384_01_08.png: 416x640 (no detections), 13.2ms\n",
      "image 637/1348 /kaggle/working/windturbine_yolo_llm_strong/dataset/images/test/DJI_0384_07_03.png: 416x640 (no detections), 13.0ms\n",
      "image 638/1348 /kaggle/working/windturbine_yolo_llm_strong/dataset/images/test/DJI_0385_01_04.png: 416x640 (no detections), 13.4ms\n",
      "image 639/1348 /kaggle/working/windturbine_yolo_llm_strong/dataset/images/test/DJI_0385_02_04.png: 416x640 8 damages, 13.0ms\n",
      "image 640/1348 /kaggle/working/windturbine_yolo_llm_strong/dataset/images/test/DJI_0385_03_04.png: 416x640 (no detections), 12.7ms\n",
      "image 641/1348 /kaggle/working/windturbine_yolo_llm_strong/dataset/images/test/DJI_0385_06_05.png: 416x640 (no detections), 13.4ms\n",
      "image 642/1348 /kaggle/working/windturbine_yolo_llm_strong/dataset/images/test/DJI_0385_07_04.png: 416x640 3 damages, 12.8ms\n",
      "image 643/1348 /kaggle/working/windturbine_yolo_llm_strong/dataset/images/test/DJI_0385_08_02.png: 416x640 (no detections), 12.7ms\n",
      "image 644/1348 /kaggle/working/windturbine_yolo_llm_strong/dataset/images/test/DJI_0386_03_04.png: 416x640 (no detections), 13.0ms\n",
      "image 645/1348 /kaggle/working/windturbine_yolo_llm_strong/dataset/images/test/DJI_0386_06_04.png: 416x640 1 damage, 13.1ms\n",
      "image 646/1348 /kaggle/working/windturbine_yolo_llm_strong/dataset/images/test/DJI_0387_03_04.png: 416x640 (no detections), 12.7ms\n",
      "image 647/1348 /kaggle/working/windturbine_yolo_llm_strong/dataset/images/test/DJI_0387_03_05.png: 416x640 (no detections), 13.2ms\n",
      "image 648/1348 /kaggle/working/windturbine_yolo_llm_strong/dataset/images/test/DJI_0387_07_05.png: 416x640 (no detections), 12.7ms\n",
      "image 649/1348 /kaggle/working/windturbine_yolo_llm_strong/dataset/images/test/DJI_0388_03_07.png: 416x640 (no detections), 12.7ms\n",
      "image 650/1348 /kaggle/working/windturbine_yolo_llm_strong/dataset/images/test/DJI_0389_03_04.png: 416x640 (no detections), 13.1ms\n",
      "image 651/1348 /kaggle/working/windturbine_yolo_llm_strong/dataset/images/test/DJI_0389_04_08.png: 416x640 (no detections), 12.7ms\n",
      "image 652/1348 /kaggle/working/windturbine_yolo_llm_strong/dataset/images/test/DJI_0389_06_05.png: 416x640 (no detections), 12.7ms\n",
      "image 653/1348 /kaggle/working/windturbine_yolo_llm_strong/dataset/images/test/DJI_0390_02_05.png: 416x640 (no detections), 13.2ms\n",
      "image 654/1348 /kaggle/working/windturbine_yolo_llm_strong/dataset/images/test/DJI_0390_04_04.png: 416x640 (no detections), 12.7ms\n",
      "image 655/1348 /kaggle/working/windturbine_yolo_llm_strong/dataset/images/test/DJI_0391_06_04.png: 416x640 (no detections), 13.5ms\n",
      "image 656/1348 /kaggle/working/windturbine_yolo_llm_strong/dataset/images/test/DJI_0391_07_02.png: 416x640 (no detections), 12.8ms\n",
      "image 657/1348 /kaggle/working/windturbine_yolo_llm_strong/dataset/images/test/DJI_0391_08_04.png: 416x640 (no detections), 12.8ms\n",
      "image 658/1348 /kaggle/working/windturbine_yolo_llm_strong/dataset/images/test/DJI_0392_02_05.png: 416x640 (no detections), 12.9ms\n",
      "image 659/1348 /kaggle/working/windturbine_yolo_llm_strong/dataset/images/test/DJI_0392_03_09.png: 416x640 (no detections), 12.8ms\n",
      "image 660/1348 /kaggle/working/windturbine_yolo_llm_strong/dataset/images/test/DJI_0392_04_02.png: 416x640 (no detections), 12.7ms\n",
      "image 661/1348 /kaggle/working/windturbine_yolo_llm_strong/dataset/images/test/DJI_0392_05_09.png: 416x640 (no detections), 13.5ms\n",
      "image 662/1348 /kaggle/working/windturbine_yolo_llm_strong/dataset/images/test/DJI_0392_06_01.png: 416x640 (no detections), 13.0ms\n",
      "image 663/1348 /kaggle/working/windturbine_yolo_llm_strong/dataset/images/test/DJI_0392_08_05.png: 416x640 (no detections), 12.7ms\n",
      "image 664/1348 /kaggle/working/windturbine_yolo_llm_strong/dataset/images/test/DJI_0393_01_03.png: 416x640 (no detections), 14.3ms\n",
      "image 665/1348 /kaggle/working/windturbine_yolo_llm_strong/dataset/images/test/DJI_0393_03_06.png: 416x640 (no detections), 12.9ms\n",
      "image 666/1348 /kaggle/working/windturbine_yolo_llm_strong/dataset/images/test/DJI_0393_04_09.png: 416x640 (no detections), 13.7ms\n",
      "image 667/1348 /kaggle/working/windturbine_yolo_llm_strong/dataset/images/test/DJI_0394_02_04.png: 416x640 (no detections), 12.9ms\n",
      "image 668/1348 /kaggle/working/windturbine_yolo_llm_strong/dataset/images/test/DJI_0394_08_05.png: 416x640 (no detections), 12.7ms\n",
      "image 669/1348 /kaggle/working/windturbine_yolo_llm_strong/dataset/images/test/DJI_0395_04_03.png: 416x640 1 damage, 12.8ms\n",
      "image 670/1348 /kaggle/working/windturbine_yolo_llm_strong/dataset/images/test/DJI_0395_06_05.png: 416x640 (no detections), 13.2ms\n",
      "image 671/1348 /kaggle/working/windturbine_yolo_llm_strong/dataset/images/test/DJI_0396_02_08.png: 416x640 (no detections), 12.8ms\n",
      "image 672/1348 /kaggle/working/windturbine_yolo_llm_strong/dataset/images/test/DJI_0396_04_07.png: 416x640 (no detections), 12.8ms\n",
      "image 673/1348 /kaggle/working/windturbine_yolo_llm_strong/dataset/images/test/DJI_0396_05_04.png: 416x640 (no detections), 12.8ms\n",
      "image 674/1348 /kaggle/working/windturbine_yolo_llm_strong/dataset/images/test/DJI_0397_02_04.png: 416x640 (no detections), 13.5ms\n",
      "image 675/1348 /kaggle/working/windturbine_yolo_llm_strong/dataset/images/test/DJI_0397_05_09.png: 416x640 (no detections), 12.8ms\n",
      "image 676/1348 /kaggle/working/windturbine_yolo_llm_strong/dataset/images/test/DJI_0397_06_09.png: 416x640 (no detections), 13.5ms\n",
      "image 677/1348 /kaggle/working/windturbine_yolo_llm_strong/dataset/images/test/DJI_0397_07_05.png: 416x640 (no detections), 12.7ms\n",
      "image 678/1348 /kaggle/working/windturbine_yolo_llm_strong/dataset/images/test/DJI_0397_07_08.png: 416x640 (no detections), 12.8ms\n",
      "image 679/1348 /kaggle/working/windturbine_yolo_llm_strong/dataset/images/test/DJI_0397_08_07.png: 416x640 10 damages, 13.5ms\n",
      "image 680/1348 /kaggle/working/windturbine_yolo_llm_strong/dataset/images/test/DJI_0398_03_06.png: 416x640 (no detections), 12.7ms\n",
      "image 681/1348 /kaggle/working/windturbine_yolo_llm_strong/dataset/images/test/DJI_0399_01_05.png: 416x640 (no detections), 13.2ms\n",
      "image 682/1348 /kaggle/working/windturbine_yolo_llm_strong/dataset/images/test/DJI_0399_05_05.png: 416x640 (no detections), 12.7ms\n",
      "image 683/1348 /kaggle/working/windturbine_yolo_llm_strong/dataset/images/test/DJI_0399_06_08.png: 416x640 (no detections), 12.8ms\n",
      "image 684/1348 /kaggle/working/windturbine_yolo_llm_strong/dataset/images/test/DJI_0400_03_06.png: 416x640 (no detections), 12.8ms\n",
      "image 685/1348 /kaggle/working/windturbine_yolo_llm_strong/dataset/images/test/DJI_0400_05_06.png: 416x640 (no detections), 13.1ms\n",
      "image 686/1348 /kaggle/working/windturbine_yolo_llm_strong/dataset/images/test/DJI_0400_07_06.png: 416x640 1 damage, 12.7ms\n",
      "image 687/1348 /kaggle/working/windturbine_yolo_llm_strong/dataset/images/test/DJI_0401_03_06.png: 416x640 (no detections), 13.3ms\n",
      "image 688/1348 /kaggle/working/windturbine_yolo_llm_strong/dataset/images/test/DJI_0401_06_05.png: 416x640 (no detections), 12.9ms\n",
      "image 689/1348 /kaggle/working/windturbine_yolo_llm_strong/dataset/images/test/DJI_0401_06_09.png: 416x640 (no detections), 12.8ms\n",
      "image 690/1348 /kaggle/working/windturbine_yolo_llm_strong/dataset/images/test/DJI_0401_08_08.png: 416x640 (no detections), 13.2ms\n",
      "image 691/1348 /kaggle/working/windturbine_yolo_llm_strong/dataset/images/test/DJI_0402_01_04.png: 416x640 (no detections), 12.7ms\n",
      "image 692/1348 /kaggle/working/windturbine_yolo_llm_strong/dataset/images/test/DJI_0402_02_05.png: 416x640 (no detections), 13.2ms\n",
      "image 693/1348 /kaggle/working/windturbine_yolo_llm_strong/dataset/images/test/DJI_0402_06_08.png: 416x640 (no detections), 12.8ms\n",
      "image 694/1348 /kaggle/working/windturbine_yolo_llm_strong/dataset/images/test/DJI_0402_07_08.png: 416x640 (no detections), 14.4ms\n",
      "image 695/1348 /kaggle/working/windturbine_yolo_llm_strong/dataset/images/test/DJI_0403_01_03.png: 416x640 (no detections), 13.5ms\n",
      "image 696/1348 /kaggle/working/windturbine_yolo_llm_strong/dataset/images/test/DJI_0403_05_06.png: 416x640 (no detections), 13.4ms\n",
      "image 697/1348 /kaggle/working/windturbine_yolo_llm_strong/dataset/images/test/DJI_0403_07_06.png: 416x640 (no detections), 13.4ms\n",
      "image 698/1348 /kaggle/working/windturbine_yolo_llm_strong/dataset/images/test/DJI_0404_07_07.png: 416x640 (no detections), 13.4ms\n",
      "image 699/1348 /kaggle/working/windturbine_yolo_llm_strong/dataset/images/test/DJI_0405_02_06.png: 416x640 (no detections), 13.7ms\n",
      "image 700/1348 /kaggle/working/windturbine_yolo_llm_strong/dataset/images/test/DJI_0405_04_05.png: 416x640 (no detections), 14.2ms\n",
      "image 701/1348 /kaggle/working/windturbine_yolo_llm_strong/dataset/images/test/DJI_0405_05_06.png: 416x640 (no detections), 13.7ms\n",
      "image 702/1348 /kaggle/working/windturbine_yolo_llm_strong/dataset/images/test/DJI_0405_06_07.png: 416x640 (no detections), 14.1ms\n",
      "image 703/1348 /kaggle/working/windturbine_yolo_llm_strong/dataset/images/test/DJI_0406_03_07.png: 416x640 1 damage, 13.7ms\n",
      "image 704/1348 /kaggle/working/windturbine_yolo_llm_strong/dataset/images/test/DJI_0406_07_07.png: 416x640 (no detections), 13.7ms\n",
      "image 705/1348 /kaggle/working/windturbine_yolo_llm_strong/dataset/images/test/DJI_0407_01_03.png: 416x640 (no detections), 13.8ms\n",
      "image 706/1348 /kaggle/working/windturbine_yolo_llm_strong/dataset/images/test/DJI_0407_05_07.png: 416x640 (no detections), 14.1ms\n",
      "image 707/1348 /kaggle/working/windturbine_yolo_llm_strong/dataset/images/test/DJI_0407_08_08.png: 416x640 (no detections), 13.9ms\n",
      "image 708/1348 /kaggle/working/windturbine_yolo_llm_strong/dataset/images/test/DJI_0408_02_02.png: 416x640 (no detections), 14.0ms\n",
      "image 709/1348 /kaggle/working/windturbine_yolo_llm_strong/dataset/images/test/DJI_0408_02_03.png: 416x640 (no detections), 14.8ms\n",
      "image 710/1348 /kaggle/working/windturbine_yolo_llm_strong/dataset/images/test/DJI_0408_03_02.png: 416x640 (no detections), 14.0ms\n",
      "image 711/1348 /kaggle/working/windturbine_yolo_llm_strong/dataset/images/test/DJI_0408_05_04.png: 416x640 (no detections), 13.7ms\n",
      "image 712/1348 /kaggle/working/windturbine_yolo_llm_strong/dataset/images/test/DJI_0408_08_06.png: 416x640 (no detections), 14.1ms\n",
      "image 713/1348 /kaggle/working/windturbine_yolo_llm_strong/dataset/images/test/DJI_0409_08_08.png: 416x640 (no detections), 13.6ms\n",
      "image 714/1348 /kaggle/working/windturbine_yolo_llm_strong/dataset/images/test/DJI_0410_07_08.png: 416x640 (no detections), 13.6ms\n",
      "image 715/1348 /kaggle/working/windturbine_yolo_llm_strong/dataset/images/test/DJI_0410_08_08.png: 416x640 (no detections), 13.4ms\n",
      "image 716/1348 /kaggle/working/windturbine_yolo_llm_strong/dataset/images/test/DJI_0411_08_08.png: 416x640 (no detections), 13.6ms\n",
      "image 717/1348 /kaggle/working/windturbine_yolo_llm_strong/dataset/images/test/DJI_0412_03_05.png: 416x640 (no detections), 13.6ms\n",
      "image 718/1348 /kaggle/working/windturbine_yolo_llm_strong/dataset/images/test/DJI_0413_07_08.png: 416x640 (no detections), 13.6ms\n",
      "image 719/1348 /kaggle/working/windturbine_yolo_llm_strong/dataset/images/test/DJI_0414_05_07.png: 416x640 (no detections), 13.6ms\n",
      "image 720/1348 /kaggle/working/windturbine_yolo_llm_strong/dataset/images/test/DJI_0415_02_04.png: 416x640 1 damage, 13.6ms\n",
      "image 721/1348 /kaggle/working/windturbine_yolo_llm_strong/dataset/images/test/DJI_0415_08_08.png: 416x640 (no detections), 13.6ms\n",
      "image 722/1348 /kaggle/working/windturbine_yolo_llm_strong/dataset/images/test/DJI_0416_06_05.png: 416x640 (no detections), 13.6ms\n",
      "image 723/1348 /kaggle/working/windturbine_yolo_llm_strong/dataset/images/test/DJI_0417_01_04.png: 416x640 (no detections), 13.8ms\n",
      "image 724/1348 /kaggle/working/windturbine_yolo_llm_strong/dataset/images/test/DJI_0417_07_04.png: 416x640 1 damage, 13.6ms\n",
      "image 725/1348 /kaggle/working/windturbine_yolo_llm_strong/dataset/images/test/DJI_0417_07_09.png: 416x640 (no detections), 13.6ms\n",
      "image 726/1348 /kaggle/working/windturbine_yolo_llm_strong/dataset/images/test/DJI_0418_04_06.png: 416x640 (no detections), 13.6ms\n",
      "image 727/1348 /kaggle/working/windturbine_yolo_llm_strong/dataset/images/test/DJI_0418_05_05.png: 416x640 (no detections), 13.5ms\n",
      "image 728/1348 /kaggle/working/windturbine_yolo_llm_strong/dataset/images/test/DJI_0418_07_01.png: 416x640 2 damages, 13.5ms\n",
      "image 729/1348 /kaggle/working/windturbine_yolo_llm_strong/dataset/images/test/DJI_0418_08_02.png: 416x640 6 damages, 13.3ms\n",
      "image 730/1348 /kaggle/working/windturbine_yolo_llm_strong/dataset/images/test/DJI_0419_06_04.png: 416x640 (no detections), 13.3ms\n",
      "image 731/1348 /kaggle/working/windturbine_yolo_llm_strong/dataset/images/test/DJI_0419_07_08.png: 416x640 (no detections), 13.6ms\n",
      "image 732/1348 /kaggle/working/windturbine_yolo_llm_strong/dataset/images/test/DJI_0420_01_03.png: 416x640 (no detections), 13.9ms\n",
      "image 733/1348 /kaggle/working/windturbine_yolo_llm_strong/dataset/images/test/DJI_0420_04_06.png: 416x640 (no detections), 13.5ms\n",
      "image 734/1348 /kaggle/working/windturbine_yolo_llm_strong/dataset/images/test/DJI_0421_06_09.png: 416x640 (no detections), 13.5ms\n",
      "image 735/1348 /kaggle/working/windturbine_yolo_llm_strong/dataset/images/test/DJI_0421_07_01.png: 416x640 5 damages, 13.3ms\n",
      "image 736/1348 /kaggle/working/windturbine_yolo_llm_strong/dataset/images/test/DJI_0421_08_03.png: 416x640 1 damage, 13.5ms\n",
      "image 737/1348 /kaggle/working/windturbine_yolo_llm_strong/dataset/images/test/DJI_0421_08_08.png: 416x640 (no detections), 13.9ms\n",
      "image 738/1348 /kaggle/working/windturbine_yolo_llm_strong/dataset/images/test/DJI_0422_04_03.png: 416x640 (no detections), 13.5ms\n",
      "image 739/1348 /kaggle/working/windturbine_yolo_llm_strong/dataset/images/test/DJI_0423_03_04.png: 416x640 (no detections), 13.5ms\n",
      "image 740/1348 /kaggle/working/windturbine_yolo_llm_strong/dataset/images/test/DJI_0423_05_08.png: 416x640 (no detections), 13.9ms\n",
      "image 741/1348 /kaggle/working/windturbine_yolo_llm_strong/dataset/images/test/DJI_0423_06_01.png: 416x640 1 damage, 13.5ms\n",
      "image 742/1348 /kaggle/working/windturbine_yolo_llm_strong/dataset/images/test/DJI_0423_06_06.png: 416x640 (no detections), 14.2ms\n",
      "image 743/1348 /kaggle/working/windturbine_yolo_llm_strong/dataset/images/test/DJI_0423_07_01.png: 416x640 (no detections), 14.0ms\n",
      "image 744/1348 /kaggle/working/windturbine_yolo_llm_strong/dataset/images/test/DJI_0424_03_06.png: 416x640 (no detections), 14.0ms\n",
      "image 745/1348 /kaggle/working/windturbine_yolo_llm_strong/dataset/images/test/DJI_0424_05_01.png: 416x640 (no detections), 14.2ms\n",
      "image 746/1348 /kaggle/working/windturbine_yolo_llm_strong/dataset/images/test/DJI_0424_06_05.png: 416x640 (no detections), 13.9ms\n",
      "image 747/1348 /kaggle/working/windturbine_yolo_llm_strong/dataset/images/test/DJI_0424_08_01.png: 416x640 1 damage, 13.9ms\n",
      "image 748/1348 /kaggle/working/windturbine_yolo_llm_strong/dataset/images/test/DJI_0425_03_05.png: 416x640 (no detections), 13.7ms\n",
      "image 749/1348 /kaggle/working/windturbine_yolo_llm_strong/dataset/images/test/DJI_0427_06_02.png: 416x640 (no detections), 13.7ms\n",
      "image 750/1348 /kaggle/working/windturbine_yolo_llm_strong/dataset/images/test/DJI_0427_06_05.png: 416x640 (no detections), 13.8ms\n",
      "image 751/1348 /kaggle/working/windturbine_yolo_llm_strong/dataset/images/test/DJI_0427_06_08.png: 416x640 (no detections), 14.5ms\n",
      "image 752/1348 /kaggle/working/windturbine_yolo_llm_strong/dataset/images/test/DJI_0428_03_06.png: 416x640 (no detections), 13.7ms\n",
      "image 753/1348 /kaggle/working/windturbine_yolo_llm_strong/dataset/images/test/DJI_0428_04_09.png: 416x640 (no detections), 13.8ms\n",
      "image 754/1348 /kaggle/working/windturbine_yolo_llm_strong/dataset/images/test/DJI_0428_05_07.png: 416x640 (no detections), 13.7ms\n",
      "image 755/1348 /kaggle/working/windturbine_yolo_llm_strong/dataset/images/test/DJI_0430_04_01.png: 416x640 (no detections), 14.6ms\n",
      "image 756/1348 /kaggle/working/windturbine_yolo_llm_strong/dataset/images/test/DJI_0430_04_09.png: 416x640 (no detections), 13.7ms\n",
      "image 757/1348 /kaggle/working/windturbine_yolo_llm_strong/dataset/images/test/DJI_0430_06_09.png: 416x640 (no detections), 14.4ms\n",
      "image 758/1348 /kaggle/working/windturbine_yolo_llm_strong/dataset/images/test/DJI_0431_03_04.png: 416x640 (no detections), 13.7ms\n",
      "image 759/1348 /kaggle/working/windturbine_yolo_llm_strong/dataset/images/test/DJI_0431_06_09.png: 416x640 (no detections), 13.7ms\n",
      "image 760/1348 /kaggle/working/windturbine_yolo_llm_strong/dataset/images/test/DJI_0432_04_04.png: 416x640 (no detections), 13.7ms\n",
      "image 761/1348 /kaggle/working/windturbine_yolo_llm_strong/dataset/images/test/DJI_0432_05_04.png: 416x640 (no detections), 12.5ms\n",
      "image 762/1348 /kaggle/working/windturbine_yolo_llm_strong/dataset/images/test/DJI_0432_05_06.png: 416x640 (no detections), 13.1ms\n",
      "image 763/1348 /kaggle/working/windturbine_yolo_llm_strong/dataset/images/test/DJI_0433_03_02.png: 416x640 (no detections), 12.4ms\n",
      "image 764/1348 /kaggle/working/windturbine_yolo_llm_strong/dataset/images/test/DJI_0433_04_01.png: 416x640 (no detections), 13.7ms\n",
      "image 765/1348 /kaggle/working/windturbine_yolo_llm_strong/dataset/images/test/DJI_0433_04_03.png: 416x640 (no detections), 13.7ms\n",
      "image 766/1348 /kaggle/working/windturbine_yolo_llm_strong/dataset/images/test/DJI_0433_04_04.png: 416x640 (no detections), 12.5ms\n",
      "image 767/1348 /kaggle/working/windturbine_yolo_llm_strong/dataset/images/test/DJI_0433_05_01.png: 416x640 (no detections), 13.7ms\n",
      "image 768/1348 /kaggle/working/windturbine_yolo_llm_strong/dataset/images/test/DJI_0434_02_07.png: 416x640 (no detections), 12.8ms\n",
      "image 769/1348 /kaggle/working/windturbine_yolo_llm_strong/dataset/images/test/DJI_0434_03_04.png: 416x640 (no detections), 12.3ms\n",
      "image 770/1348 /kaggle/working/windturbine_yolo_llm_strong/dataset/images/test/DJI_0434_05_04.png: 416x640 (no detections), 13.6ms\n",
      "image 771/1348 /kaggle/working/windturbine_yolo_llm_strong/dataset/images/test/DJI_0435_04_02.png: 416x640 (no detections), 13.8ms\n",
      "image 772/1348 /kaggle/working/windturbine_yolo_llm_strong/dataset/images/test/DJI_0435_04_03.png: 416x640 (no detections), 12.8ms\n",
      "image 773/1348 /kaggle/working/windturbine_yolo_llm_strong/dataset/images/test/DJI_0435_05_02.png: 416x640 10 damages, 13.5ms\n",
      "image 774/1348 /kaggle/working/windturbine_yolo_llm_strong/dataset/images/test/DJI_0435_05_06.png: 416x640 (no detections), 13.8ms\n",
      "image 775/1348 /kaggle/working/windturbine_yolo_llm_strong/dataset/images/test/DJI_0435_06_04.png: 416x640 (no detections), 13.1ms\n",
      "image 776/1348 /kaggle/working/windturbine_yolo_llm_strong/dataset/images/test/DJI_0436_04_01.png: 416x640 (no detections), 12.8ms\n",
      "image 777/1348 /kaggle/working/windturbine_yolo_llm_strong/dataset/images/test/DJI_0436_04_09.png: 416x640 (no detections), 12.6ms\n",
      "image 778/1348 /kaggle/working/windturbine_yolo_llm_strong/dataset/images/test/DJI_0436_05_02.png: 416x640 (no detections), 12.9ms\n",
      "image 779/1348 /kaggle/working/windturbine_yolo_llm_strong/dataset/images/test/DJI_0437_03_03.png: 416x640 (no detections), 12.7ms\n",
      "image 780/1348 /kaggle/working/windturbine_yolo_llm_strong/dataset/images/test/DJI_0437_05_05.png: 416x640 9 damages, 14.1ms\n",
      "image 781/1348 /kaggle/working/windturbine_yolo_llm_strong/dataset/images/test/DJI_0438_06_04.png: 416x640 9 damages, 13.0ms\n",
      "image 782/1348 /kaggle/working/windturbine_yolo_llm_strong/dataset/images/test/DJI_0438_06_08.png: 416x640 (no detections), 12.6ms\n",
      "image 783/1348 /kaggle/working/windturbine_yolo_llm_strong/dataset/images/test/DJI_0439_05_02.png: 416x640 (no detections), 14.4ms\n",
      "image 784/1348 /kaggle/working/windturbine_yolo_llm_strong/dataset/images/test/DJI_0439_06_04.png: 416x640 (no detections), 13.0ms\n",
      "image 785/1348 /kaggle/working/windturbine_yolo_llm_strong/dataset/images/test/DJI_0439_07_04.png: 416x640 (no detections), 13.7ms\n",
      "image 786/1348 /kaggle/working/windturbine_yolo_llm_strong/dataset/images/test/DJI_0441_05_03.png: 416x640 6 damages, 12.8ms\n",
      "image 787/1348 /kaggle/working/windturbine_yolo_llm_strong/dataset/images/test/DJI_0441_05_06.png: 416x640 (no detections), 13.1ms\n",
      "image 788/1348 /kaggle/working/windturbine_yolo_llm_strong/dataset/images/test/DJI_0442_05_06.png: 416x640 (no detections), 12.3ms\n",
      "image 789/1348 /kaggle/working/windturbine_yolo_llm_strong/dataset/images/test/DJI_0442_05_08.png: 416x640 (no detections), 13.4ms\n",
      "image 790/1348 /kaggle/working/windturbine_yolo_llm_strong/dataset/images/test/DJI_0443_04_08.png: 416x640 (no detections), 12.9ms\n",
      "image 791/1348 /kaggle/working/windturbine_yolo_llm_strong/dataset/images/test/DJI_0444_04_05.png: 416x640 1 damage, 12.6ms\n",
      "image 792/1348 /kaggle/working/windturbine_yolo_llm_strong/dataset/images/test/DJI_0444_07_03.png: 416x640 (no detections), 12.8ms\n",
      "image 793/1348 /kaggle/working/windturbine_yolo_llm_strong/dataset/images/test/DJI_0445_04_03.png: 416x640 1 damage, 12.4ms\n",
      "image 794/1348 /kaggle/working/windturbine_yolo_llm_strong/dataset/images/test/DJI_0445_05_01.png: 416x640 (no detections), 13.4ms\n",
      "image 795/1348 /kaggle/working/windturbine_yolo_llm_strong/dataset/images/test/DJI_0445_05_08.png: 416x640 (no detections), 13.7ms\n",
      "image 796/1348 /kaggle/working/windturbine_yolo_llm_strong/dataset/images/test/DJI_0445_06_03.png: 416x640 (no detections), 12.9ms\n",
      "image 797/1348 /kaggle/working/windturbine_yolo_llm_strong/dataset/images/test/DJI_0445_06_04.png: 416x640 (no detections), 12.1ms\n",
      "image 798/1348 /kaggle/working/windturbine_yolo_llm_strong/dataset/images/test/DJI_0446_05_01.png: 416x640 2 damages, 13.1ms\n",
      "image 799/1348 /kaggle/working/windturbine_yolo_llm_strong/dataset/images/test/DJI_0446_06_07.png: 416x640 (no detections), 12.6ms\n",
      "image 800/1348 /kaggle/working/windturbine_yolo_llm_strong/dataset/images/test/DJI_0446_07_04.png: 416x640 (no detections), 12.5ms\n",
      "image 801/1348 /kaggle/working/windturbine_yolo_llm_strong/dataset/images/test/DJI_0447_05_04.png: 416x640 (no detections), 13.8ms\n",
      "image 802/1348 /kaggle/working/windturbine_yolo_llm_strong/dataset/images/test/DJI_0447_06_02.png: 416x640 (no detections), 12.7ms\n",
      "image 803/1348 /kaggle/working/windturbine_yolo_llm_strong/dataset/images/test/DJI_0448_05_05.png: 416x640 22 damages, 13.8ms\n",
      "image 804/1348 /kaggle/working/windturbine_yolo_llm_strong/dataset/images/test/DJI_0450_03_03.png: 416x640 (no detections), 12.5ms\n",
      "image 805/1348 /kaggle/working/windturbine_yolo_llm_strong/dataset/images/test/DJI_0450_04_02.png: 416x640 (no detections), 12.3ms\n",
      "image 806/1348 /kaggle/working/windturbine_yolo_llm_strong/dataset/images/test/DJI_0450_04_06.png: 416x640 (no detections), 13.9ms\n",
      "image 807/1348 /kaggle/working/windturbine_yolo_llm_strong/dataset/images/test/DJI_0451_04_02.png: 416x640 (no detections), 12.8ms\n",
      "image 808/1348 /kaggle/working/windturbine_yolo_llm_strong/dataset/images/test/DJI_0451_04_03.png: 416x640 3 damages, 12.9ms\n",
      "image 809/1348 /kaggle/working/windturbine_yolo_llm_strong/dataset/images/test/DJI_0451_06_04.png: 416x640 3 damages, 12.8ms\n",
      "image 810/1348 /kaggle/working/windturbine_yolo_llm_strong/dataset/images/test/DJI_0452_05_02.png: 416x640 (no detections), 12.8ms\n",
      "image 811/1348 /kaggle/working/windturbine_yolo_llm_strong/dataset/images/test/DJI_0453_03_01.png: 416x640 7 damages, 12.8ms\n",
      "image 812/1348 /kaggle/working/windturbine_yolo_llm_strong/dataset/images/test/DJI_0453_04_01.png: 416x640 (no detections), 12.8ms\n",
      "image 813/1348 /kaggle/working/windturbine_yolo_llm_strong/dataset/images/test/DJI_0453_04_05.png: 416x640 1 damage, 13.2ms\n",
      "image 814/1348 /kaggle/working/windturbine_yolo_llm_strong/dataset/images/test/DJI_0453_05_01.png: 416x640 (no detections), 12.8ms\n",
      "image 815/1348 /kaggle/working/windturbine_yolo_llm_strong/dataset/images/test/DJI_0580_05_04.png: 416x640 1 dirt, 12.8ms\n",
      "image 816/1348 /kaggle/working/windturbine_yolo_llm_strong/dataset/images/test/DJI_0582_02_03.png: 416x640 1 dirt, 13.5ms\n",
      "image 817/1348 /kaggle/working/windturbine_yolo_llm_strong/dataset/images/test/DJI_0582_04_05.png: 416x640 (no detections), 12.8ms\n",
      "image 818/1348 /kaggle/working/windturbine_yolo_llm_strong/dataset/images/test/DJI_0582_06_05.png: 416x640 1 dirt, 12.9ms\n",
      "image 819/1348 /kaggle/working/windturbine_yolo_llm_strong/dataset/images/test/DJI_0582_08_05.png: 416x640 1 dirt, 12.9ms\n",
      "image 820/1348 /kaggle/working/windturbine_yolo_llm_strong/dataset/images/test/DJI_0584_02_05.png: 416x640 (no detections), 12.8ms\n",
      "image 821/1348 /kaggle/working/windturbine_yolo_llm_strong/dataset/images/test/DJI_0584_04_04.png: 416x640 1 dirt, 13.2ms\n",
      "image 822/1348 /kaggle/working/windturbine_yolo_llm_strong/dataset/images/test/DJI_0584_05_04.png: 416x640 1 dirt, 12.8ms\n",
      "image 823/1348 /kaggle/working/windturbine_yolo_llm_strong/dataset/images/test/DJI_0584_06_05.png: 416x640 1 dirt, 12.8ms\n",
      "image 824/1348 /kaggle/working/windturbine_yolo_llm_strong/dataset/images/test/DJI_0584_07_05.png: 416x640 1 dirt, 12.8ms\n",
      "image 825/1348 /kaggle/working/windturbine_yolo_llm_strong/dataset/images/test/DJI_0585_02_03.png: 416x640 1 dirt, 13.2ms\n",
      "image 826/1348 /kaggle/working/windturbine_yolo_llm_strong/dataset/images/test/DJI_0585_03_05.png: 416x640 (no detections), 12.8ms\n",
      "image 827/1348 /kaggle/working/windturbine_yolo_llm_strong/dataset/images/test/DJI_0585_07_01.png: 416x640 (no detections), 13.3ms\n",
      "image 828/1348 /kaggle/working/windturbine_yolo_llm_strong/dataset/images/test/DJI_0585_08_06.png: 416x640 1 dirt, 12.9ms\n",
      "image 829/1348 /kaggle/working/windturbine_yolo_llm_strong/dataset/images/test/DJI_0586_04_05.png: 416x640 (no detections), 12.8ms\n",
      "image 830/1348 /kaggle/working/windturbine_yolo_llm_strong/dataset/images/test/DJI_0586_05_05.png: 416x640 1 dirt, 13.5ms\n",
      "image 831/1348 /kaggle/working/windturbine_yolo_llm_strong/dataset/images/test/DJI_0586_06_01.png: 416x640 (no detections), 12.8ms\n",
      "image 832/1348 /kaggle/working/windturbine_yolo_llm_strong/dataset/images/test/DJI_0588_05_06.png: 416x640 (no detections), 12.8ms\n",
      "image 833/1348 /kaggle/working/windturbine_yolo_llm_strong/dataset/images/test/DJI_0588_07_05.png: 416x640 1 dirt, 13.5ms\n",
      "image 834/1348 /kaggle/working/windturbine_yolo_llm_strong/dataset/images/test/DJI_0589_04_05.png: 416x640 (no detections), 13.0ms\n",
      "image 835/1348 /kaggle/working/windturbine_yolo_llm_strong/dataset/images/test/DJI_0589_05_05.png: 416x640 (no detections), 12.8ms\n",
      "image 836/1348 /kaggle/working/windturbine_yolo_llm_strong/dataset/images/test/DJI_0589_07_01.png: 416x640 2 damages, 13.8ms\n",
      "image 837/1348 /kaggle/working/windturbine_yolo_llm_strong/dataset/images/test/DJI_0589_07_05.png: 416x640 1 dirt, 12.8ms\n",
      "image 838/1348 /kaggle/working/windturbine_yolo_llm_strong/dataset/images/test/DJI_0590_01_05.png: 416x640 (no detections), 12.8ms\n",
      "image 839/1348 /kaggle/working/windturbine_yolo_llm_strong/dataset/images/test/DJI_0590_02_02.png: 416x640 4 damages, 13.6ms\n",
      "image 840/1348 /kaggle/working/windturbine_yolo_llm_strong/dataset/images/test/DJI_0590_02_03.png: 416x640 1 dirt, 12.8ms\n",
      "image 841/1348 /kaggle/working/windturbine_yolo_llm_strong/dataset/images/test/DJI_0590_02_05.png: 416x640 (no detections), 13.3ms\n",
      "image 842/1348 /kaggle/working/windturbine_yolo_llm_strong/dataset/images/test/DJI_0590_04_01.png: 416x640 2 damages, 12.8ms\n",
      "image 843/1348 /kaggle/working/windturbine_yolo_llm_strong/dataset/images/test/DJI_0590_04_06.png: 416x640 (no detections), 12.9ms\n",
      "image 844/1348 /kaggle/working/windturbine_yolo_llm_strong/dataset/images/test/DJI_0590_06_05.png: 416x640 1 dirt, 13.3ms\n",
      "image 845/1348 /kaggle/working/windturbine_yolo_llm_strong/dataset/images/test/DJI_0591_03_02.png: 416x640 4 damages, 12.8ms\n",
      "image 846/1348 /kaggle/working/windturbine_yolo_llm_strong/dataset/images/test/DJI_0591_04_02.png: 416x640 3 damages, 13.2ms\n",
      "image 847/1348 /kaggle/working/windturbine_yolo_llm_strong/dataset/images/test/DJI_0591_05_02.png: 416x640 (no detections), 13.0ms\n",
      "image 848/1348 /kaggle/working/windturbine_yolo_llm_strong/dataset/images/test/DJI_0592_01_03.png: 416x640 2 damages, 12.8ms\n",
      "image 849/1348 /kaggle/working/windturbine_yolo_llm_strong/dataset/images/test/DJI_0592_03_05.png: 416x640 (no detections), 13.9ms\n",
      "image 850/1348 /kaggle/working/windturbine_yolo_llm_strong/dataset/images/test/DJI_0592_04_05.png: 416x640 (no detections), 12.9ms\n",
      "image 851/1348 /kaggle/working/windturbine_yolo_llm_strong/dataset/images/test/DJI_0592_07_03.png: 416x640 2 damages, 12.8ms\n",
      "image 852/1348 /kaggle/working/windturbine_yolo_llm_strong/dataset/images/test/DJI_0592_08_05.png: 416x640 1 dirt, 13.4ms\n",
      "image 853/1348 /kaggle/working/windturbine_yolo_llm_strong/dataset/images/test/DJI_0593_01_04.png: 416x640 (no detections), 12.8ms\n",
      "image 854/1348 /kaggle/working/windturbine_yolo_llm_strong/dataset/images/test/DJI_0593_08_02.png: 416x640 1 damage, 12.8ms\n",
      "image 855/1348 /kaggle/working/windturbine_yolo_llm_strong/dataset/images/test/DJI_0594_08_02.png: 416x640 5 damages, 14.1ms\n",
      "image 856/1348 /kaggle/working/windturbine_yolo_llm_strong/dataset/images/test/DJI_0594_08_06.png: 416x640 (no detections), 12.8ms\n",
      "image 857/1348 /kaggle/working/windturbine_yolo_llm_strong/dataset/images/test/DJI_0595_01_04.png: 416x640 (no detections), 12.8ms\n",
      "image 858/1348 /kaggle/working/windturbine_yolo_llm_strong/dataset/images/test/DJI_0595_03_05.png: 416x640 (no detections), 14.4ms\n",
      "image 859/1348 /kaggle/working/windturbine_yolo_llm_strong/dataset/images/test/DJI_0595_04_02.png: 416x640 (no detections), 12.9ms\n",
      "image 860/1348 /kaggle/working/windturbine_yolo_llm_strong/dataset/images/test/DJI_0595_05_05.png: 416x640 (no detections), 13.2ms\n",
      "image 861/1348 /kaggle/working/windturbine_yolo_llm_strong/dataset/images/test/DJI_0596_03_03.png: 416x640 (no detections), 12.8ms\n",
      "image 862/1348 /kaggle/working/windturbine_yolo_llm_strong/dataset/images/test/DJI_0596_05_03.png: 416x640 (no detections), 12.8ms\n",
      "image 863/1348 /kaggle/working/windturbine_yolo_llm_strong/dataset/images/test/DJI_0596_06_03.png: 416x640 3 damages, 13.2ms\n",
      "image 864/1348 /kaggle/working/windturbine_yolo_llm_strong/dataset/images/test/DJI_0596_07_07.png: 416x640 (no detections), 12.8ms\n",
      "image 865/1348 /kaggle/working/windturbine_yolo_llm_strong/dataset/images/test/DJI_0597_01_04.png: 416x640 (no detections), 12.8ms\n",
      "image 866/1348 /kaggle/working/windturbine_yolo_llm_strong/dataset/images/test/DJI_0597_02_01.png: 416x640 (no detections), 13.4ms\n",
      "image 867/1348 /kaggle/working/windturbine_yolo_llm_strong/dataset/images/test/DJI_0597_04_06.png: 416x640 (no detections), 12.8ms\n",
      "image 868/1348 /kaggle/working/windturbine_yolo_llm_strong/dataset/images/test/DJI_0597_06_04.png: 416x640 1 damage, 13.6ms\n",
      "image 869/1348 /kaggle/working/windturbine_yolo_llm_strong/dataset/images/test/DJI_0598_03_06.png: 416x640 (no detections), 12.8ms\n",
      "image 870/1348 /kaggle/working/windturbine_yolo_llm_strong/dataset/images/test/DJI_0598_05_04.png: 416x640 3 damages, 13.2ms\n",
      "image 871/1348 /kaggle/working/windturbine_yolo_llm_strong/dataset/images/test/DJI_0599_01_05.png: 416x640 (no detections), 12.8ms\n",
      "image 872/1348 /kaggle/working/windturbine_yolo_llm_strong/dataset/images/test/DJI_0599_07_05.png: 416x640 1 damage, 12.8ms\n",
      "image 873/1348 /kaggle/working/windturbine_yolo_llm_strong/dataset/images/test/DJI_0600_01_05.png: 416x640 3 damages, 13.2ms\n",
      "image 874/1348 /kaggle/working/windturbine_yolo_llm_strong/dataset/images/test/DJI_0600_02_01.png: 416x640 (no detections), 12.9ms\n",
      "image 875/1348 /kaggle/working/windturbine_yolo_llm_strong/dataset/images/test/DJI_0600_02_04.png: 416x640 (no detections), 12.8ms\n",
      "image 876/1348 /kaggle/working/windturbine_yolo_llm_strong/dataset/images/test/DJI_0600_03_04.png: 416x640 (no detections), 13.1ms\n",
      "image 877/1348 /kaggle/working/windturbine_yolo_llm_strong/dataset/images/test/DJI_0600_07_07.png: 416x640 (no detections), 12.9ms\n",
      "image 878/1348 /kaggle/working/windturbine_yolo_llm_strong/dataset/images/test/DJI_0600_08_07.png: 416x640 (no detections), 12.8ms\n",
      "image 879/1348 /kaggle/working/windturbine_yolo_llm_strong/dataset/images/test/DJI_0601_01_02.png: 416x640 8 damages, 13.3ms\n",
      "image 880/1348 /kaggle/working/windturbine_yolo_llm_strong/dataset/images/test/DJI_0601_01_03.png: 416x640 6 damages, 12.8ms\n",
      "image 881/1348 /kaggle/working/windturbine_yolo_llm_strong/dataset/images/test/DJI_0601_04_04.png: 416x640 1 damage, 12.9ms\n",
      "image 882/1348 /kaggle/working/windturbine_yolo_llm_strong/dataset/images/test/DJI_0601_05_01.png: 416x640 (no detections), 12.8ms\n",
      "image 883/1348 /kaggle/working/windturbine_yolo_llm_strong/dataset/images/test/DJI_0601_06_05.png: 416x640 (no detections), 13.1ms\n",
      "image 884/1348 /kaggle/working/windturbine_yolo_llm_strong/dataset/images/test/DJI_0601_06_06.png: 416x640 1 damage, 12.8ms\n",
      "image 885/1348 /kaggle/working/windturbine_yolo_llm_strong/dataset/images/test/DJI_0601_07_05.png: 416x640 (no detections), 12.8ms\n",
      "image 886/1348 /kaggle/working/windturbine_yolo_llm_strong/dataset/images/test/DJI_0601_07_07.png: 416x640 (no detections), 13.4ms\n",
      "image 887/1348 /kaggle/working/windturbine_yolo_llm_strong/dataset/images/test/DJI_0602_04_04.png: 416x640 1 damage, 12.8ms\n",
      "image 888/1348 /kaggle/working/windturbine_yolo_llm_strong/dataset/images/test/DJI_0603_05_01.png: 416x640 (no detections), 12.8ms\n",
      "image 889/1348 /kaggle/working/windturbine_yolo_llm_strong/dataset/images/test/DJI_0603_07_05.png: 416x640 2 damages, 13.9ms\n",
      "image 890/1348 /kaggle/working/windturbine_yolo_llm_strong/dataset/images/test/DJI_0603_07_06.png: 416x640 (no detections), 12.8ms\n",
      "image 891/1348 /kaggle/working/windturbine_yolo_llm_strong/dataset/images/test/DJI_0604_02_01.png: 416x640 (no detections), 13.2ms\n",
      "image 892/1348 /kaggle/working/windturbine_yolo_llm_strong/dataset/images/test/DJI_0604_03_02.png: 416x640 (no detections), 13.2ms\n",
      "image 893/1348 /kaggle/working/windturbine_yolo_llm_strong/dataset/images/test/DJI_0604_07_04.png: 416x640 (no detections), 13.1ms\n",
      "image 894/1348 /kaggle/working/windturbine_yolo_llm_strong/dataset/images/test/DJI_0604_07_05.png: 416x640 (no detections), 13.5ms\n",
      "image 895/1348 /kaggle/working/windturbine_yolo_llm_strong/dataset/images/test/DJI_0604_08_06.png: 416x640 (no detections), 13.1ms\n",
      "image 896/1348 /kaggle/working/windturbine_yolo_llm_strong/dataset/images/test/DJI_0604_08_07.png: 416x640 (no detections), 13.1ms\n",
      "image 897/1348 /kaggle/working/windturbine_yolo_llm_strong/dataset/images/test/DJI_0605_02_04.png: 416x640 1 damage, 13.9ms\n",
      "image 898/1348 /kaggle/working/windturbine_yolo_llm_strong/dataset/images/test/DJI_0605_03_01.png: 416x640 (no detections), 13.2ms\n",
      "image 899/1348 /kaggle/working/windturbine_yolo_llm_strong/dataset/images/test/DJI_0605_04_06.png: 416x640 (no detections), 13.1ms\n",
      "image 900/1348 /kaggle/working/windturbine_yolo_llm_strong/dataset/images/test/DJI_0606_03_05.png: 416x640 (no detections), 13.6ms\n",
      "image 901/1348 /kaggle/working/windturbine_yolo_llm_strong/dataset/images/test/DJI_0606_06_01.png: 416x640 (no detections), 13.2ms\n",
      "image 902/1348 /kaggle/working/windturbine_yolo_llm_strong/dataset/images/test/DJI_0606_07_06.png: 416x640 (no detections), 13.3ms\n",
      "image 903/1348 /kaggle/working/windturbine_yolo_llm_strong/dataset/images/test/DJI_0606_08_05.png: 416x640 (no detections), 13.6ms\n",
      "image 904/1348 /kaggle/working/windturbine_yolo_llm_strong/dataset/images/test/DJI_0606_08_06.png: 416x640 (no detections), 13.5ms\n",
      "image 905/1348 /kaggle/working/windturbine_yolo_llm_strong/dataset/images/test/DJI_0607_05_05.png: 416x640 3 damages, 13.5ms\n",
      "image 906/1348 /kaggle/working/windturbine_yolo_llm_strong/dataset/images/test/DJI_0607_08_01.png: 416x640 (no detections), 13.8ms\n",
      "image 907/1348 /kaggle/working/windturbine_yolo_llm_strong/dataset/images/test/DJI_0608_05_07.png: 416x640 (no detections), 13.5ms\n",
      "image 908/1348 /kaggle/working/windturbine_yolo_llm_strong/dataset/images/test/DJI_0608_08_02.png: 416x640 5 damages, 13.5ms\n",
      "image 909/1348 /kaggle/working/windturbine_yolo_llm_strong/dataset/images/test/DJI_0608_08_05.png: 416x640 2 damages, 13.9ms\n",
      "image 910/1348 /kaggle/working/windturbine_yolo_llm_strong/dataset/images/test/DJI_0609_07_04.png: 416x640 (no detections), 13.7ms\n",
      "image 911/1348 /kaggle/working/windturbine_yolo_llm_strong/dataset/images/test/DJI_0609_08_02.png: 416x640 (no detections), 13.7ms\n",
      "image 912/1348 /kaggle/working/windturbine_yolo_llm_strong/dataset/images/test/DJI_0609_08_03.png: 416x640 (no detections), 13.5ms\n",
      "image 913/1348 /kaggle/working/windturbine_yolo_llm_strong/dataset/images/test/DJI_0610_02_07.png: 416x640 (no detections), 13.7ms\n",
      "image 914/1348 /kaggle/working/windturbine_yolo_llm_strong/dataset/images/test/DJI_0610_04_06.png: 416x640 (no detections), 13.9ms\n",
      "image 915/1348 /kaggle/working/windturbine_yolo_llm_strong/dataset/images/test/DJI_0610_04_07.png: 416x640 (no detections), 13.7ms\n",
      "image 916/1348 /kaggle/working/windturbine_yolo_llm_strong/dataset/images/test/DJI_0611_01_08.png: 416x640 (no detections), 13.8ms\n",
      "image 917/1348 /kaggle/working/windturbine_yolo_llm_strong/dataset/images/test/DJI_0611_03_05.png: 416x640 1 damage, 13.7ms\n",
      "image 918/1348 /kaggle/working/windturbine_yolo_llm_strong/dataset/images/test/DJI_0611_05_06.png: 416x640 (no detections), 13.7ms\n",
      "image 919/1348 /kaggle/working/windturbine_yolo_llm_strong/dataset/images/test/DJI_0611_08_05.png: 416x640 (no detections), 14.1ms\n",
      "image 920/1348 /kaggle/working/windturbine_yolo_llm_strong/dataset/images/test/DJI_0613_04_07.png: 416x640 (no detections), 13.7ms\n",
      "image 921/1348 /kaggle/working/windturbine_yolo_llm_strong/dataset/images/test/DJI_0613_07_04.png: 416x640 (no detections), 13.5ms\n",
      "image 922/1348 /kaggle/working/windturbine_yolo_llm_strong/dataset/images/test/DJI_0614_07_03.png: 416x640 1 damage, 13.6ms\n",
      "image 923/1348 /kaggle/working/windturbine_yolo_llm_strong/dataset/images/test/DJI_0615_01_07.png: 416x640 1 dirt, 13.8ms\n",
      "image 924/1348 /kaggle/working/windturbine_yolo_llm_strong/dataset/images/test/DJI_0615_05_03.png: 416x640 (no detections), 13.5ms\n",
      "image 925/1348 /kaggle/working/windturbine_yolo_llm_strong/dataset/images/test/DJI_0615_05_05.png: 416x640 (no detections), 13.5ms\n",
      "image 926/1348 /kaggle/working/windturbine_yolo_llm_strong/dataset/images/test/DJI_0615_06_03.png: 416x640 (no detections), 14.3ms\n",
      "image 927/1348 /kaggle/working/windturbine_yolo_llm_strong/dataset/images/test/DJI_0616_02_07.png: 416x640 1 dirt, 13.5ms\n",
      "image 928/1348 /kaggle/working/windturbine_yolo_llm_strong/dataset/images/test/DJI_0616_05_05.png: 416x640 (no detections), 13.5ms\n",
      "image 929/1348 /kaggle/working/windturbine_yolo_llm_strong/dataset/images/test/DJI_0616_07_03.png: 416x640 (no detections), 14.1ms\n",
      "image 930/1348 /kaggle/working/windturbine_yolo_llm_strong/dataset/images/test/DJI_0616_08_02.png: 416x640 (no detections), 13.5ms\n",
      "image 931/1348 /kaggle/working/windturbine_yolo_llm_strong/dataset/images/test/DJI_0617_03_04.png: 416x640 1 damage, 13.5ms\n",
      "image 932/1348 /kaggle/working/windturbine_yolo_llm_strong/dataset/images/test/DJI_0617_07_04.png: 416x640 (no detections), 14.5ms\n",
      "image 933/1348 /kaggle/working/windturbine_yolo_llm_strong/dataset/images/test/DJI_0617_07_05.png: 416x640 1 dirt, 13.9ms\n",
      "image 934/1348 /kaggle/working/windturbine_yolo_llm_strong/dataset/images/test/DJI_0618_06_03.png: 416x640 1 damage, 13.9ms\n",
      "image 935/1348 /kaggle/working/windturbine_yolo_llm_strong/dataset/images/test/DJI_0618_07_04.png: 416x640 (no detections), 13.9ms\n",
      "image 936/1348 /kaggle/working/windturbine_yolo_llm_strong/dataset/images/test/DJI_0618_07_05.png: 416x640 1 dirt, 14.1ms\n",
      "image 937/1348 /kaggle/working/windturbine_yolo_llm_strong/dataset/images/test/DJI_0618_08_05.png: 416x640 1 dirt, 13.9ms\n",
      "image 938/1348 /kaggle/working/windturbine_yolo_llm_strong/dataset/images/test/DJI_0619_04_04.png: 416x640 (no detections), 13.9ms\n",
      "image 939/1348 /kaggle/working/windturbine_yolo_llm_strong/dataset/images/test/DJI_0619_05_05.png: 416x640 (no detections), 14.4ms\n",
      "image 940/1348 /kaggle/working/windturbine_yolo_llm_strong/dataset/images/test/DJI_0619_07_02.png: 416x640 (no detections), 13.9ms\n",
      "image 941/1348 /kaggle/working/windturbine_yolo_llm_strong/dataset/images/test/DJI_0619_08_05.png: 416x640 1 dirt, 13.9ms\n",
      "image 942/1348 /kaggle/working/windturbine_yolo_llm_strong/dataset/images/test/DJI_0620_01_08.png: 416x640 1 dirt, 14.3ms\n",
      "image 943/1348 /kaggle/working/windturbine_yolo_llm_strong/dataset/images/test/DJI_0620_02_05.png: 416x640 (no detections), 13.9ms\n",
      "image 944/1348 /kaggle/working/windturbine_yolo_llm_strong/dataset/images/test/DJI_0620_04_05.png: 416x640 1 damage, 13.7ms\n",
      "image 945/1348 /kaggle/working/windturbine_yolo_llm_strong/dataset/images/test/DJI_0621_02_06.png: 416x640 (no detections), 14.3ms\n",
      "image 946/1348 /kaggle/working/windturbine_yolo_llm_strong/dataset/images/test/DJI_0621_03_07.png: 416x640 1 dirt, 13.7ms\n",
      "image 947/1348 /kaggle/working/windturbine_yolo_llm_strong/dataset/images/test/DJI_0621_04_07.png: 416x640 1 dirt, 13.7ms\n",
      "image 948/1348 /kaggle/working/windturbine_yolo_llm_strong/dataset/images/test/DJI_0621_05_09.png: 416x640 (no detections), 13.9ms\n",
      "image 949/1348 /kaggle/working/windturbine_yolo_llm_strong/dataset/images/test/DJI_0621_06_04.png: 416x640 1 damage, 14.1ms\n",
      "image 950/1348 /kaggle/working/windturbine_yolo_llm_strong/dataset/images/test/DJI_0621_06_06.png: 416x640 1 dirt, 13.7ms\n",
      "image 951/1348 /kaggle/working/windturbine_yolo_llm_strong/dataset/images/test/DJI_0622_06_04.png: 416x640 (no detections), 13.7ms\n",
      "image 952/1348 /kaggle/working/windturbine_yolo_llm_strong/dataset/images/test/DJI_0623_01_08.png: 416x640 1 dirt, 13.4ms\n",
      "image 953/1348 /kaggle/working/windturbine_yolo_llm_strong/dataset/images/test/DJI_0623_04_06.png: 416x640 (no detections), 13.7ms\n",
      "image 954/1348 /kaggle/working/windturbine_yolo_llm_strong/dataset/images/test/DJI_0623_06_05.png: 416x640 (no detections), 14.2ms\n",
      "image 955/1348 /kaggle/working/windturbine_yolo_llm_strong/dataset/images/test/DJI_0624_01_08.png: 416x640 1 dirt, 13.7ms\n",
      "image 956/1348 /kaggle/working/windturbine_yolo_llm_strong/dataset/images/test/DJI_0624_03_07.png: 416x640 1 dirt, 13.7ms\n",
      "image 957/1348 /kaggle/working/windturbine_yolo_llm_strong/dataset/images/test/DJI_0624_06_05.png: 416x640 (no detections), 13.7ms\n",
      "image 958/1348 /kaggle/working/windturbine_yolo_llm_strong/dataset/images/test/DJI_0625_05_06.png: 416x640 1 dirt, 14.0ms\n",
      "image 959/1348 /kaggle/working/windturbine_yolo_llm_strong/dataset/images/test/DJI_0625_06_05.png: 416x640 1 dirt, 13.7ms\n",
      "image 960/1348 /kaggle/working/windturbine_yolo_llm_strong/dataset/images/test/DJI_0626_04_05.png: 416x640 1 damage, 13.7ms\n",
      "image 961/1348 /kaggle/working/windturbine_yolo_llm_strong/dataset/images/test/DJI_0626_05_06.png: 416x640 1 dirt, 14.0ms\n",
      "image 962/1348 /kaggle/working/windturbine_yolo_llm_strong/dataset/images/test/DJI_0626_07_04.png: 416x640 (no detections), 13.7ms\n",
      "image 963/1348 /kaggle/working/windturbine_yolo_llm_strong/dataset/images/test/DJI_0626_08_04.png: 416x640 1 dirt, 13.7ms\n",
      "image 964/1348 /kaggle/working/windturbine_yolo_llm_strong/dataset/images/test/DJI_0627_03_05.png: 416x640 (no detections), 13.7ms\n",
      "image 965/1348 /kaggle/working/windturbine_yolo_llm_strong/dataset/images/test/DJI_0628_06_04.png: 416x640 (no detections), 14.0ms\n",
      "image 966/1348 /kaggle/working/windturbine_yolo_llm_strong/dataset/images/test/DJI_0628_06_05.png: 416x640 1 dirt, 13.7ms\n",
      "image 967/1348 /kaggle/working/windturbine_yolo_llm_strong/dataset/images/test/DJI_0628_07_03.png: 416x640 1 damage, 13.7ms\n",
      "image 968/1348 /kaggle/working/windturbine_yolo_llm_strong/dataset/images/test/DJI_0628_08_03.png: 416x640 (no detections), 13.5ms\n",
      "image 969/1348 /kaggle/working/windturbine_yolo_llm_strong/dataset/images/test/DJI_0629_02_06.png: 416x640 (no detections), 14.1ms\n",
      "image 970/1348 /kaggle/working/windturbine_yolo_llm_strong/dataset/images/test/DJI_0629_03_05.png: 416x640 (no detections), 13.7ms\n",
      "image 971/1348 /kaggle/working/windturbine_yolo_llm_strong/dataset/images/test/DJI_0629_08_02.png: 416x640 (no detections), 13.7ms\n",
      "image 972/1348 /kaggle/working/windturbine_yolo_llm_strong/dataset/images/test/DJI_0630_05_05.png: 416x640 1 dirt, 14.0ms\n",
      "image 973/1348 /kaggle/working/windturbine_yolo_llm_strong/dataset/images/test/DJI_0632_05_01.png: 416x640 (no detections), 13.7ms\n",
      "image 974/1348 /kaggle/working/windturbine_yolo_llm_strong/dataset/images/test/DJI_0632_06_02.png: 416x640 (no detections), 13.7ms\n",
      "image 975/1348 /kaggle/working/windturbine_yolo_llm_strong/dataset/images/test/DJI_0633_08_04.png: 416x640 1 dirt, 13.4ms\n",
      "image 976/1348 /kaggle/working/windturbine_yolo_llm_strong/dataset/images/test/DJI_0680_02_08.png: 416x640 (no detections), 14.0ms\n",
      "image 977/1348 /kaggle/working/windturbine_yolo_llm_strong/dataset/images/test/DJI_0680_06_09.png: 416x640 (no detections), 13.7ms\n",
      "image 978/1348 /kaggle/working/windturbine_yolo_llm_strong/dataset/images/test/DJI_0681_01_04.png: 416x640 2 damages, 13.7ms\n",
      "image 979/1348 /kaggle/working/windturbine_yolo_llm_strong/dataset/images/test/DJI_0681_01_05.png: 416x640 (no detections), 13.8ms\n",
      "image 980/1348 /kaggle/working/windturbine_yolo_llm_strong/dataset/images/test/DJI_0681_02_04.png: 416x640 (no detections), 13.9ms\n",
      "image 981/1348 /kaggle/working/windturbine_yolo_llm_strong/dataset/images/test/DJI_0681_02_05.png: 416x640 1 damage, 13.7ms\n",
      "image 982/1348 /kaggle/working/windturbine_yolo_llm_strong/dataset/images/test/DJI_0681_05_02.png: 416x640 (no detections), 13.7ms\n",
      "image 983/1348 /kaggle/working/windturbine_yolo_llm_strong/dataset/images/test/DJI_0681_05_05.png: 416x640 (no detections), 14.0ms\n",
      "image 984/1348 /kaggle/working/windturbine_yolo_llm_strong/dataset/images/test/DJI_0681_05_08.png: 416x640 2 damages, 13.7ms\n",
      "image 985/1348 /kaggle/working/windturbine_yolo_llm_strong/dataset/images/test/DJI_0681_07_02.png: 416x640 (no detections), 13.7ms\n",
      "image 986/1348 /kaggle/working/windturbine_yolo_llm_strong/dataset/images/test/DJI_0681_08_08.png: 416x640 1 damage, 13.8ms\n",
      "image 987/1348 /kaggle/working/windturbine_yolo_llm_strong/dataset/images/test/DJI_0681_08_09.png: 416x640 (no detections), 13.7ms\n",
      "image 988/1348 /kaggle/working/windturbine_yolo_llm_strong/dataset/images/test/DJI_0682_01_06.png: 416x640 (no detections), 13.7ms\n",
      "image 989/1348 /kaggle/working/windturbine_yolo_llm_strong/dataset/images/test/DJI_0683_01_04.png: 416x640 (no detections), 13.8ms\n",
      "image 990/1348 /kaggle/working/windturbine_yolo_llm_strong/dataset/images/test/DJI_0683_04_06.png: 416x640 (no detections), 13.7ms\n",
      "image 991/1348 /kaggle/working/windturbine_yolo_llm_strong/dataset/images/test/DJI_0683_06_06.png: 416x640 (no detections), 13.9ms\n",
      "image 992/1348 /kaggle/working/windturbine_yolo_llm_strong/dataset/images/test/DJI_0683_07_03.png: 416x640 (no detections), 13.7ms\n",
      "image 993/1348 /kaggle/working/windturbine_yolo_llm_strong/dataset/images/test/DJI_0683_07_05.png: 416x640 (no detections), 13.7ms\n",
      "image 994/1348 /kaggle/working/windturbine_yolo_llm_strong/dataset/images/test/DJI_0683_08_06.png: 416x640 1 damage, 13.8ms\n",
      "image 995/1348 /kaggle/working/windturbine_yolo_llm_strong/dataset/images/test/DJI_0684_05_07.png: 416x640 (no detections), 13.9ms\n",
      "image 996/1348 /kaggle/working/windturbine_yolo_llm_strong/dataset/images/test/DJI_0684_07_02.png: 416x640 (no detections), 13.7ms\n",
      "image 997/1348 /kaggle/working/windturbine_yolo_llm_strong/dataset/images/test/DJI_0684_07_06.png: 416x640 (no detections), 13.7ms\n",
      "image 998/1348 /kaggle/working/windturbine_yolo_llm_strong/dataset/images/test/DJI_0685_03_04.png: 416x640 (no detections), 13.7ms\n",
      "image 999/1348 /kaggle/working/windturbine_yolo_llm_strong/dataset/images/test/DJI_0685_07_03.png: 416x640 (no detections), 13.7ms\n",
      "image 1000/1348 /kaggle/working/windturbine_yolo_llm_strong/dataset/images/test/DJI_0685_07_08.png: 416x640 (no detections), 13.5ms\n",
      "image 1001/1348 /kaggle/working/windturbine_yolo_llm_strong/dataset/images/test/DJI_0686_01_02.png: 416x640 1 dirt, 14.1ms\n",
      "image 1002/1348 /kaggle/working/windturbine_yolo_llm_strong/dataset/images/test/DJI_0686_04_04.png: 416x640 (no detections), 13.7ms\n",
      "image 1003/1348 /kaggle/working/windturbine_yolo_llm_strong/dataset/images/test/DJI_0686_07_09.png: 416x640 (no detections), 13.5ms\n",
      "image 1004/1348 /kaggle/working/windturbine_yolo_llm_strong/dataset/images/test/DJI_0687_06_07.png: 416x640 (no detections), 13.9ms\n",
      "image 1005/1348 /kaggle/working/windturbine_yolo_llm_strong/dataset/images/test/DJI_0688_02_05.png: 416x640 1 damage, 13.5ms\n",
      "image 1006/1348 /kaggle/working/windturbine_yolo_llm_strong/dataset/images/test/DJI_0688_06_06.png: 416x640 (no detections), 13.7ms\n",
      "image 1007/1348 /kaggle/working/windturbine_yolo_llm_strong/dataset/images/test/DJI_0689_02_05.png: 416x640 1 damage, 13.5ms\n",
      "image 1008/1348 /kaggle/working/windturbine_yolo_llm_strong/dataset/images/test/DJI_0689_05_05.png: 416x640 (no detections), 13.6ms\n",
      "image 1009/1348 /kaggle/working/windturbine_yolo_llm_strong/dataset/images/test/DJI_0689_06_06.png: 416x640 2 damages, 14.1ms\n",
      "image 1010/1348 /kaggle/working/windturbine_yolo_llm_strong/dataset/images/test/DJI_0690_02_02.png: 416x640 1 dirt, 13.7ms\n",
      "image 1011/1348 /kaggle/working/windturbine_yolo_llm_strong/dataset/images/test/DJI_0690_04_06.png: 416x640 (no detections), 13.7ms\n",
      "image 1012/1348 /kaggle/working/windturbine_yolo_llm_strong/dataset/images/test/DJI_0691_02_02.png: 416x640 1 dirt, 1 damage, 14.3ms\n",
      "image 1013/1348 /kaggle/working/windturbine_yolo_llm_strong/dataset/images/test/DJI_0691_03_04.png: 416x640 (no detections), 13.8ms\n",
      "image 1014/1348 /kaggle/working/windturbine_yolo_llm_strong/dataset/images/test/DJI_0691_04_05.png: 416x640 (no detections), 13.7ms\n",
      "image 1015/1348 /kaggle/working/windturbine_yolo_llm_strong/dataset/images/test/DJI_0691_05_07.png: 416x640 (no detections), 13.9ms\n",
      "image 1016/1348 /kaggle/working/windturbine_yolo_llm_strong/dataset/images/test/DJI_0691_06_06.png: 416x640 (no detections), 13.6ms\n",
      "image 1017/1348 /kaggle/working/windturbine_yolo_llm_strong/dataset/images/test/DJI_0692_01_04.png: 416x640 1 damage, 13.7ms\n",
      "image 1018/1348 /kaggle/working/windturbine_yolo_llm_strong/dataset/images/test/DJI_0692_05_05.png: 416x640 (no detections), 13.5ms\n",
      "image 1019/1348 /kaggle/working/windturbine_yolo_llm_strong/dataset/images/test/DJI_0692_07_06.png: 416x640 (no detections), 13.5ms\n",
      "image 1020/1348 /kaggle/working/windturbine_yolo_llm_strong/dataset/images/test/DJI_0693_01_04.png: 416x640 2 damages, 14.1ms\n",
      "image 1021/1348 /kaggle/working/windturbine_yolo_llm_strong/dataset/images/test/DJI_0693_04_05.png: 416x640 (no detections), 13.5ms\n",
      "image 1022/1348 /kaggle/working/windturbine_yolo_llm_strong/dataset/images/test/DJI_0694_04_05.png: 416x640 (no detections), 13.5ms\n",
      "image 1023/1348 /kaggle/working/windturbine_yolo_llm_strong/dataset/images/test/DJI_0694_08_06.png: 416x640 (no detections), 13.5ms\n",
      "image 1024/1348 /kaggle/working/windturbine_yolo_llm_strong/dataset/images/test/DJI_0695_01_02.png: 416x640 1 dirt, 13.3ms\n",
      "image 1025/1348 /kaggle/working/windturbine_yolo_llm_strong/dataset/images/test/DJI_0695_03_03.png: 416x640 1 dirt, 14.0ms\n",
      "image 1026/1348 /kaggle/working/windturbine_yolo_llm_strong/dataset/images/test/DJI_0695_04_06.png: 416x640 1 damage, 13.5ms\n",
      "image 1027/1348 /kaggle/working/windturbine_yolo_llm_strong/dataset/images/test/DJI_0695_05_08.png: 416x640 (no detections), 13.5ms\n",
      "image 1028/1348 /kaggle/working/windturbine_yolo_llm_strong/dataset/images/test/DJI_0695_08_05.png: 416x640 1 dirt, 1 damage, 14.2ms\n",
      "image 1029/1348 /kaggle/working/windturbine_yolo_llm_strong/dataset/images/test/DJI_0696_02_04.png: 416x640 (no detections), 13.5ms\n",
      "image 1030/1348 /kaggle/working/windturbine_yolo_llm_strong/dataset/images/test/DJI_0696_02_05.png: 416x640 (no detections), 13.5ms\n",
      "image 1031/1348 /kaggle/working/windturbine_yolo_llm_strong/dataset/images/test/DJI_0696_04_04.png: 416x640 1 dirt, 14.2ms\n",
      "image 1032/1348 /kaggle/working/windturbine_yolo_llm_strong/dataset/images/test/DJI_0697_03_03.png: 416x640 1 dirt, 13.5ms\n",
      "image 1033/1348 /kaggle/working/windturbine_yolo_llm_strong/dataset/images/test/DJI_0697_05_04.png: 416x640 1 dirt, 13.7ms\n",
      "image 1034/1348 /kaggle/working/windturbine_yolo_llm_strong/dataset/images/test/DJI_0697_06_06.png: 416x640 (no detections), 14.3ms\n",
      "image 1035/1348 /kaggle/working/windturbine_yolo_llm_strong/dataset/images/test/DJI_0697_07_06.png: 416x640 (no detections), 13.7ms\n",
      "image 1036/1348 /kaggle/working/windturbine_yolo_llm_strong/dataset/images/test/DJI_0698_02_03.png: 416x640 1 dirt, 13.7ms\n",
      "image 1037/1348 /kaggle/working/windturbine_yolo_llm_strong/dataset/images/test/DJI_0698_02_04.png: 416x640 1 damage, 14.5ms\n",
      "image 1038/1348 /kaggle/working/windturbine_yolo_llm_strong/dataset/images/test/DJI_0698_02_05.png: 416x640 (no detections), 13.7ms\n",
      "image 1039/1348 /kaggle/working/windturbine_yolo_llm_strong/dataset/images/test/DJI_0698_05_05.png: 416x640 2 dirts, 2 damages, 13.7ms\n",
      "image 1040/1348 /kaggle/working/windturbine_yolo_llm_strong/dataset/images/test/DJI_0698_06_07.png: 416x640 (no detections), 13.8ms\n",
      "image 1041/1348 /kaggle/working/windturbine_yolo_llm_strong/dataset/images/test/DJI_0698_07_05.png: 416x640 1 dirt, 13.9ms\n",
      "image 1042/1348 /kaggle/working/windturbine_yolo_llm_strong/dataset/images/test/DJI_0699_04_06.png: 416x640 (no detections), 13.7ms\n",
      "image 1043/1348 /kaggle/working/windturbine_yolo_llm_strong/dataset/images/test/DJI_0700_07_05.png: 416x640 1 dirt, 13.7ms\n",
      "image 1044/1348 /kaggle/working/windturbine_yolo_llm_strong/dataset/images/test/DJI_0700_07_06.png: 416x640 1 damage, 14.0ms\n",
      "image 1045/1348 /kaggle/working/windturbine_yolo_llm_strong/dataset/images/test/DJI_0702_08_06.png: 416x640 1 dirt, 13.9ms\n",
      "image 1046/1348 /kaggle/working/windturbine_yolo_llm_strong/dataset/images/test/DJI_0703_06_05.png: 416x640 1 dirt, 13.9ms\n",
      "image 1047/1348 /kaggle/working/windturbine_yolo_llm_strong/dataset/images/test/DJI_0704_05_05.png: 416x640 2 dirts, 1 damage, 13.9ms\n",
      "image 1048/1348 /kaggle/working/windturbine_yolo_llm_strong/dataset/images/test/DJI_0704_08_06.png: 416x640 1 dirt, 13.9ms\n",
      "image 1049/1348 /kaggle/working/windturbine_yolo_llm_strong/dataset/images/test/DJI_0705_04_04.png: 416x640 1 dirt, 1 damage, 14.1ms\n",
      "image 1050/1348 /kaggle/working/windturbine_yolo_llm_strong/dataset/images/test/DJI_0705_04_05.png: 416x640 (no detections), 13.9ms\n",
      "image 1051/1348 /kaggle/working/windturbine_yolo_llm_strong/dataset/images/test/DJI_0706_02_04.png: 416x640 (no detections), 13.7ms\n",
      "image 1052/1348 /kaggle/working/windturbine_yolo_llm_strong/dataset/images/test/DJI_0706_03_03.png: 416x640 1 dirt, 14.0ms\n",
      "image 1053/1348 /kaggle/working/windturbine_yolo_llm_strong/dataset/images/test/DJI_0706_05_02.png: 416x640 (no detections), 13.7ms\n",
      "image 1054/1348 /kaggle/working/windturbine_yolo_llm_strong/dataset/images/test/DJI_0706_06_05.png: 416x640 1 dirt, 1 damage, 13.7ms\n",
      "image 1055/1348 /kaggle/working/windturbine_yolo_llm_strong/dataset/images/test/DJI_0707_03_03.png: 416x640 1 dirt, 14.0ms\n",
      "image 1056/1348 /kaggle/working/windturbine_yolo_llm_strong/dataset/images/test/DJI_0709_03_04.png: 416x640 1 dirt, 13.7ms\n",
      "image 1057/1348 /kaggle/working/windturbine_yolo_llm_strong/dataset/images/test/DJI_0709_04_04.png: 416x640 1 dirt, 13.5ms\n",
      "image 1058/1348 /kaggle/working/windturbine_yolo_llm_strong/dataset/images/test/DJI_0709_08_07.png: 416x640 1 damage, 13.7ms\n",
      "image 1059/1348 /kaggle/working/windturbine_yolo_llm_strong/dataset/images/test/DJI_0710_07_06.png: 416x640 (no detections), 13.5ms\n",
      "image 1060/1348 /kaggle/working/windturbine_yolo_llm_strong/dataset/images/test/DJI_0710_08_05.png: 416x640 1 dirt, 13.6ms\n",
      "image 1061/1348 /kaggle/working/windturbine_yolo_llm_strong/dataset/images/test/DJI_0711_03_05.png: 416x640 1 damage, 14.0ms\n",
      "image 1062/1348 /kaggle/working/windturbine_yolo_llm_strong/dataset/images/test/DJI_0712_02_05.png: 416x640 1 damage, 13.6ms\n",
      "image 1063/1348 /kaggle/working/windturbine_yolo_llm_strong/dataset/images/test/DJI_0712_05_05.png: 416x640 (no detections), 13.5ms\n",
      "image 1064/1348 /kaggle/working/windturbine_yolo_llm_strong/dataset/images/test/DJI_0713_07_03.png: 416x640 (no detections), 14.0ms\n",
      "image 1065/1348 /kaggle/working/windturbine_yolo_llm_strong/dataset/images/test/DJI_0720_02_01.png: 416x640 (no detections), 13.5ms\n",
      "image 1066/1348 /kaggle/working/windturbine_yolo_llm_strong/dataset/images/test/DJI_0720_02_02.png: 416x640 (no detections), 13.5ms\n",
      "image 1067/1348 /kaggle/working/windturbine_yolo_llm_strong/dataset/images/test/DJI_0720_04_01.png: 416x640 (no detections), 13.8ms\n",
      "image 1068/1348 /kaggle/working/windturbine_yolo_llm_strong/dataset/images/test/DJI_0720_04_02.png: 416x640 1 damage, 13.5ms\n",
      "image 1069/1348 /kaggle/working/windturbine_yolo_llm_strong/dataset/images/test/DJI_0720_05_03.png: 416x640 (no detections), 13.5ms\n",
      "image 1070/1348 /kaggle/working/windturbine_yolo_llm_strong/dataset/images/test/DJI_0720_05_04.png: 416x640 (no detections), 13.7ms\n",
      "image 1071/1348 /kaggle/working/windturbine_yolo_llm_strong/dataset/images/test/DJI_0721_02_04.png: 416x640 1 damage, 13.5ms\n",
      "image 1072/1348 /kaggle/working/windturbine_yolo_llm_strong/dataset/images/test/DJI_0721_04_06.png: 416x640 (no detections), 13.5ms\n",
      "image 1073/1348 /kaggle/working/windturbine_yolo_llm_strong/dataset/images/test/DJI_0721_05_03.png: 416x640 (no detections), 14.0ms\n",
      "image 1074/1348 /kaggle/working/windturbine_yolo_llm_strong/dataset/images/test/DJI_0721_05_08.png: 416x640 (no detections), 13.5ms\n",
      "image 1075/1348 /kaggle/working/windturbine_yolo_llm_strong/dataset/images/test/DJI_0721_07_05.png: 416x640 (no detections), 13.1ms\n",
      "image 1076/1348 /kaggle/working/windturbine_yolo_llm_strong/dataset/images/test/DJI_0722_01_07.png: 416x640 (no detections), 13.3ms\n",
      "image 1077/1348 /kaggle/working/windturbine_yolo_llm_strong/dataset/images/test/DJI_0722_03_07.png: 416x640 (no detections), 13.0ms\n",
      "image 1078/1348 /kaggle/working/windturbine_yolo_llm_strong/dataset/images/test/DJI_0722_04_03.png: 416x640 1 damage, 13.8ms\n",
      "image 1079/1348 /kaggle/working/windturbine_yolo_llm_strong/dataset/images/test/DJI_0723_03_05.png: 416x640 3 damages, 13.0ms\n",
      "image 1080/1348 /kaggle/working/windturbine_yolo_llm_strong/dataset/images/test/DJI_0723_04_03.png: 416x640 3 damages, 13.1ms\n",
      "image 1081/1348 /kaggle/working/windturbine_yolo_llm_strong/dataset/images/test/DJI_0724_02_07.png: 416x640 3 damages, 13.3ms\n",
      "image 1082/1348 /kaggle/working/windturbine_yolo_llm_strong/dataset/images/test/DJI_0724_07_05.png: 416x640 1 damage, 13.5ms\n",
      "image 1083/1348 /kaggle/working/windturbine_yolo_llm_strong/dataset/images/test/DJI_0725_03_01.png: 416x640 (no detections), 13.3ms\n",
      "image 1084/1348 /kaggle/working/windturbine_yolo_llm_strong/dataset/images/test/DJI_0725_04_05.png: 416x640 (no detections), 13.3ms\n",
      "image 1085/1348 /kaggle/working/windturbine_yolo_llm_strong/dataset/images/test/DJI_0725_07_09.png: 416x640 (no detections), 13.7ms\n",
      "image 1086/1348 /kaggle/working/windturbine_yolo_llm_strong/dataset/images/test/DJI_0726_06_01.png: 416x640 (no detections), 13.2ms\n",
      "image 1087/1348 /kaggle/working/windturbine_yolo_llm_strong/dataset/images/test/DJI_0726_06_07.png: 416x640 4 damages, 13.3ms\n",
      "image 1088/1348 /kaggle/working/windturbine_yolo_llm_strong/dataset/images/test/DJI_0726_07_09.png: 416x640 (no detections), 13.6ms\n",
      "image 1089/1348 /kaggle/working/windturbine_yolo_llm_strong/dataset/images/test/DJI_0727_03_02.png: 416x640 (no detections), 13.3ms\n",
      "image 1090/1348 /kaggle/working/windturbine_yolo_llm_strong/dataset/images/test/DJI_0727_04_02.png: 416x640 (no detections), 13.3ms\n",
      "image 1091/1348 /kaggle/working/windturbine_yolo_llm_strong/dataset/images/test/DJI_0727_05_04.png: 416x640 (no detections), 13.3ms\n",
      "image 1092/1348 /kaggle/working/windturbine_yolo_llm_strong/dataset/images/test/DJI_0727_06_06.png: 416x640 (no detections), 13.7ms\n",
      "image 1093/1348 /kaggle/working/windturbine_yolo_llm_strong/dataset/images/test/DJI_0728_05_03.png: 416x640 (no detections), 13.3ms\n",
      "image 1094/1348 /kaggle/working/windturbine_yolo_llm_strong/dataset/images/test/DJI_0729_03_03.png: 416x640 (no detections), 13.4ms\n",
      "image 1095/1348 /kaggle/working/windturbine_yolo_llm_strong/dataset/images/test/DJI_0729_04_05.png: 416x640 (no detections), 13.3ms\n",
      "image 1096/1348 /kaggle/working/windturbine_yolo_llm_strong/dataset/images/test/DJI_0729_06_03.png: 416x640 (no detections), 13.3ms\n",
      "image 1097/1348 /kaggle/working/windturbine_yolo_llm_strong/dataset/images/test/DJI_0729_06_07.png: 416x640 (no detections), 13.8ms\n",
      "image 1098/1348 /kaggle/working/windturbine_yolo_llm_strong/dataset/images/test/DJI_0730_08_08.png: 416x640 (no detections), 13.3ms\n",
      "image 1099/1348 /kaggle/working/windturbine_yolo_llm_strong/dataset/images/test/DJI_0731_05_05.png: 416x640 (no detections), 13.0ms\n",
      "image 1100/1348 /kaggle/working/windturbine_yolo_llm_strong/dataset/images/test/DJI_0732_05_03.png: 416x640 (no detections), 13.5ms\n",
      "image 1101/1348 /kaggle/working/windturbine_yolo_llm_strong/dataset/images/test/DJI_0733_04_07.png: 416x640 (no detections), 13.1ms\n",
      "image 1102/1348 /kaggle/working/windturbine_yolo_llm_strong/dataset/images/test/DJI_0733_05_01.png: 416x640 (no detections), 13.0ms\n",
      "image 1103/1348 /kaggle/working/windturbine_yolo_llm_strong/dataset/images/test/DJI_0734_03_04.png: 416x640 (no detections), 13.0ms\n",
      "image 1104/1348 /kaggle/working/windturbine_yolo_llm_strong/dataset/images/test/DJI_0734_04_04.png: 416x640 (no detections), 13.9ms\n",
      "image 1105/1348 /kaggle/working/windturbine_yolo_llm_strong/dataset/images/test/DJI_0734_04_08.png: 416x640 (no detections), 13.1ms\n",
      "image 1106/1348 /kaggle/working/windturbine_yolo_llm_strong/dataset/images/test/DJI_0734_05_01.png: 416x640 (no detections), 13.0ms\n",
      "image 1107/1348 /kaggle/working/windturbine_yolo_llm_strong/dataset/images/test/DJI_0735_03_01.png: 416x640 (no detections), 13.9ms\n",
      "image 1108/1348 /kaggle/working/windturbine_yolo_llm_strong/dataset/images/test/DJI_0735_03_06.png: 416x640 (no detections), 13.0ms\n",
      "image 1109/1348 /kaggle/working/windturbine_yolo_llm_strong/dataset/images/test/DJI_0735_05_04.png: 416x640 (no detections), 13.0ms\n",
      "image 1110/1348 /kaggle/working/windturbine_yolo_llm_strong/dataset/images/test/DJI_0736_02_03.png: 416x640 (no detections), 13.4ms\n",
      "image 1111/1348 /kaggle/working/windturbine_yolo_llm_strong/dataset/images/test/DJI_0737_03_04.png: 416x640 1 dirt, 13.3ms\n",
      "image 1112/1348 /kaggle/working/windturbine_yolo_llm_strong/dataset/images/test/DJI_0737_04_07.png: 416x640 (no detections), 13.8ms\n",
      "image 1113/1348 /kaggle/working/windturbine_yolo_llm_strong/dataset/images/test/DJI_0737_04_08.png: 416x640 (no detections), 13.3ms\n",
      "image 1114/1348 /kaggle/working/windturbine_yolo_llm_strong/dataset/images/test/DJI_0737_06_02.png: 416x640 (no detections), 13.3ms\n",
      "image 1115/1348 /kaggle/working/windturbine_yolo_llm_strong/dataset/images/test/DJI_0738_04_01.png: 416x640 (no detections), 13.3ms\n",
      "image 1116/1348 /kaggle/working/windturbine_yolo_llm_strong/dataset/images/test/DJI_0738_05_03.png: 416x640 (no detections), 13.3ms\n",
      "image 1117/1348 /kaggle/working/windturbine_yolo_llm_strong/dataset/images/test/DJI_0738_05_04.png: 416x640 (no detections), 13.3ms\n",
      "image 1118/1348 /kaggle/working/windturbine_yolo_llm_strong/dataset/images/test/DJI_0738_05_07.png: 416x640 (no detections), 13.7ms\n",
      "image 1119/1348 /kaggle/working/windturbine_yolo_llm_strong/dataset/images/test/DJI_0738_06_01.png: 416x640 (no detections), 13.3ms\n",
      "image 1120/1348 /kaggle/working/windturbine_yolo_llm_strong/dataset/images/test/DJI_0738_06_07.png: 416x640 (no detections), 13.3ms\n",
      "image 1121/1348 /kaggle/working/windturbine_yolo_llm_strong/dataset/images/test/DJI_0738_07_06.png: 416x640 (no detections), 13.3ms\n",
      "image 1122/1348 /kaggle/working/windturbine_yolo_llm_strong/dataset/images/test/DJI_0738_07_07.png: 416x640 (no detections), 13.6ms\n",
      "image 1123/1348 /kaggle/working/windturbine_yolo_llm_strong/dataset/images/test/DJI_0738_07_09.png: 416x640 (no detections), 13.3ms\n",
      "image 1124/1348 /kaggle/working/windturbine_yolo_llm_strong/dataset/images/test/DJI_0739_04_08.png: 416x640 (no detections), 13.4ms\n",
      "image 1125/1348 /kaggle/working/windturbine_yolo_llm_strong/dataset/images/test/DJI_0739_05_01.png: 416x640 (no detections), 13.3ms\n",
      "image 1126/1348 /kaggle/working/windturbine_yolo_llm_strong/dataset/images/test/DJI_0739_06_01.png: 416x640 (no detections), 13.3ms\n",
      "image 1127/1348 /kaggle/working/windturbine_yolo_llm_strong/dataset/images/test/DJI_0739_07_04.png: 416x640 (no detections), 13.8ms\n",
      "image 1128/1348 /kaggle/working/windturbine_yolo_llm_strong/dataset/images/test/DJI_0740_03_02.png: 416x640 1 dirt, 13.3ms\n",
      "image 1129/1348 /kaggle/working/windturbine_yolo_llm_strong/dataset/images/test/DJI_0740_05_02.png: 416x640 (no detections), 13.1ms\n",
      "image 1130/1348 /kaggle/working/windturbine_yolo_llm_strong/dataset/images/test/DJI_0740_05_08.png: 416x640 (no detections), 13.8ms\n",
      "image 1131/1348 /kaggle/working/windturbine_yolo_llm_strong/dataset/images/test/DJI_0740_05_09.png: 416x640 (no detections), 13.2ms\n",
      "image 1132/1348 /kaggle/working/windturbine_yolo_llm_strong/dataset/images/test/DJI_0740_07_03.png: 416x640 (no detections), 13.1ms\n",
      "image 1133/1348 /kaggle/working/windturbine_yolo_llm_strong/dataset/images/test/DJI_0740_07_06.png: 416x640 (no detections), 13.9ms\n",
      "image 1134/1348 /kaggle/working/windturbine_yolo_llm_strong/dataset/images/test/DJI_0741_03_02.png: 416x640 1 dirt, 13.1ms\n",
      "image 1135/1348 /kaggle/working/windturbine_yolo_llm_strong/dataset/images/test/DJI_0741_05_01.png: 416x640 (no detections), 13.3ms\n",
      "image 1136/1348 /kaggle/working/windturbine_yolo_llm_strong/dataset/images/test/DJI_0741_05_08.png: 416x640 (no detections), 13.6ms\n",
      "image 1137/1348 /kaggle/working/windturbine_yolo_llm_strong/dataset/images/test/DJI_0741_06_08.png: 416x640 (no detections), 13.3ms\n",
      "image 1138/1348 /kaggle/working/windturbine_yolo_llm_strong/dataset/images/test/DJI_0741_07_02.png: 416x640 (no detections), 13.5ms\n",
      "image 1139/1348 /kaggle/working/windturbine_yolo_llm_strong/dataset/images/test/DJI_0741_08_07.png: 416x640 (no detections), 13.3ms\n",
      "image 1140/1348 /kaggle/working/windturbine_yolo_llm_strong/dataset/images/test/DJI_0742_06_07.png: 416x640 (no detections), 13.3ms\n",
      "image 1141/1348 /kaggle/working/windturbine_yolo_llm_strong/dataset/images/test/DJI_0742_06_08.png: 416x640 (no detections), 13.9ms\n",
      "image 1142/1348 /kaggle/working/windturbine_yolo_llm_strong/dataset/images/test/DJI_0743_03_05.png: 416x640 1 dirt, 13.3ms\n",
      "image 1143/1348 /kaggle/working/windturbine_yolo_llm_strong/dataset/images/test/DJI_0743_03_06.png: 416x640 1 dirt, 13.3ms\n",
      "image 1144/1348 /kaggle/working/windturbine_yolo_llm_strong/dataset/images/test/DJI_0743_04_06.png: 416x640 (no detections), 13.7ms\n",
      "image 1145/1348 /kaggle/working/windturbine_yolo_llm_strong/dataset/images/test/DJI_0743_05_07.png: 416x640 (no detections), 13.2ms\n",
      "image 1146/1348 /kaggle/working/windturbine_yolo_llm_strong/dataset/images/test/DJI_0743_06_03.png: 416x640 (no detections), 13.3ms\n",
      "image 1147/1348 /kaggle/working/windturbine_yolo_llm_strong/dataset/images/test/DJI_0743_06_08.png: 416x640 (no detections), 14.1ms\n",
      "image 1148/1348 /kaggle/working/windturbine_yolo_llm_strong/dataset/images/test/DJI_0743_06_09.png: 416x640 (no detections), 13.6ms\n",
      "image 1149/1348 /kaggle/working/windturbine_yolo_llm_strong/dataset/images/test/DJI_0744_02_01.png: 416x640 (no detections), 13.5ms\n",
      "image 1150/1348 /kaggle/working/windturbine_yolo_llm_strong/dataset/images/test/DJI_0744_03_02.png: 416x640 1 dirt, 14.0ms\n",
      "image 1151/1348 /kaggle/working/windturbine_yolo_llm_strong/dataset/images/test/DJI_0744_03_07.png: 416x640 (no detections), 13.5ms\n",
      "image 1152/1348 /kaggle/working/windturbine_yolo_llm_strong/dataset/images/test/DJI_0744_04_06.png: 416x640 (no detections), 13.7ms\n",
      "image 1153/1348 /kaggle/working/windturbine_yolo_llm_strong/dataset/images/test/DJI_0744_05_08.png: 416x640 (no detections), 13.7ms\n",
      "image 1154/1348 /kaggle/working/windturbine_yolo_llm_strong/dataset/images/test/DJI_0744_06_03.png: 416x640 (no detections), 13.7ms\n",
      "image 1155/1348 /kaggle/working/windturbine_yolo_llm_strong/dataset/images/test/DJI_0744_06_04.png: 416x640 (no detections), 14.3ms\n",
      "image 1156/1348 /kaggle/working/windturbine_yolo_llm_strong/dataset/images/test/DJI_0744_06_06.png: 416x640 (no detections), 13.7ms\n",
      "image 1157/1348 /kaggle/working/windturbine_yolo_llm_strong/dataset/images/test/DJI_0744_07_04.png: 416x640 (no detections), 13.7ms\n",
      "image 1158/1348 /kaggle/working/windturbine_yolo_llm_strong/dataset/images/test/DJI_0744_07_08.png: 416x640 (no detections), 14.1ms\n",
      "image 1159/1348 /kaggle/working/windturbine_yolo_llm_strong/dataset/images/test/DJI_0745_04_06.png: 416x640 (no detections), 13.7ms\n",
      "image 1160/1348 /kaggle/working/windturbine_yolo_llm_strong/dataset/images/test/DJI_0745_04_08.png: 416x640 (no detections), 13.7ms\n",
      "image 1161/1348 /kaggle/working/windturbine_yolo_llm_strong/dataset/images/test/DJI_0745_05_01.png: 416x640 (no detections), 14.1ms\n",
      "image 1162/1348 /kaggle/working/windturbine_yolo_llm_strong/dataset/images/test/DJI_0745_05_08.png: 416x640 (no detections), 13.7ms\n",
      "image 1163/1348 /kaggle/working/windturbine_yolo_llm_strong/dataset/images/test/DJI_0746_03_03.png: 416x640 (no detections), 13.8ms\n",
      "image 1164/1348 /kaggle/working/windturbine_yolo_llm_strong/dataset/images/test/DJI_0746_03_06.png: 416x640 1 dirt, 13.7ms\n",
      "image 1165/1348 /kaggle/working/windturbine_yolo_llm_strong/dataset/images/test/DJI_0746_04_09.png: 416x640 (no detections), 13.5ms\n",
      "image 1166/1348 /kaggle/working/windturbine_yolo_llm_strong/dataset/images/test/DJI_0746_06_01.png: 416x640 (no detections), 13.7ms\n",
      "image 1167/1348 /kaggle/working/windturbine_yolo_llm_strong/dataset/images/test/DJI_0746_06_02.png: 416x640 (no detections), 13.5ms\n",
      "image 1168/1348 /kaggle/working/windturbine_yolo_llm_strong/dataset/images/test/DJI_0747_03_08.png: 416x640 1 dirt, 13.5ms\n",
      "image 1169/1348 /kaggle/working/windturbine_yolo_llm_strong/dataset/images/test/DJI_0747_04_04.png: 416x640 12 damages, 13.9ms\n",
      "image 1170/1348 /kaggle/working/windturbine_yolo_llm_strong/dataset/images/test/DJI_0747_05_07.png: 416x640 (no detections), 13.5ms\n",
      "image 1171/1348 /kaggle/working/windturbine_yolo_llm_strong/dataset/images/test/DJI_0747_06_08.png: 416x640 (no detections), 13.7ms\n",
      "image 1172/1348 /kaggle/working/windturbine_yolo_llm_strong/dataset/images/test/DJI_0748_04_09.png: 416x640 2 dirts, 14.0ms\n",
      "image 1173/1348 /kaggle/working/windturbine_yolo_llm_strong/dataset/images/test/DJI_0748_06_03.png: 416x640 (no detections), 13.7ms\n",
      "image 1174/1348 /kaggle/working/windturbine_yolo_llm_strong/dataset/images/test/DJI_0749_05_05.png: 416x640 (no detections), 13.7ms\n",
      "image 1175/1348 /kaggle/working/windturbine_yolo_llm_strong/dataset/images/test/DJI_0749_05_07.png: 416x640 7 damages, 13.9ms\n",
      "image 1176/1348 /kaggle/working/windturbine_yolo_llm_strong/dataset/images/test/DJI_0750_03_06.png: 416x640 1 dirt, 13.7ms\n",
      "image 1177/1348 /kaggle/working/windturbine_yolo_llm_strong/dataset/images/test/DJI_0750_06_04.png: 416x640 (no detections), 13.7ms\n",
      "image 1178/1348 /kaggle/working/windturbine_yolo_llm_strong/dataset/images/test/DJI_0751_02_06.png: 416x640 1 dirt, 13.6ms\n",
      "image 1179/1348 /kaggle/working/windturbine_yolo_llm_strong/dataset/images/test/DJI_0751_05_07.png: 416x640 (no detections), 13.5ms\n",
      "image 1180/1348 /kaggle/working/windturbine_yolo_llm_strong/dataset/images/test/DJI_0752_03_03.png: 416x640 1 dirt, 13.4ms\n",
      "image 1181/1348 /kaggle/working/windturbine_yolo_llm_strong/dataset/images/test/DJI_0752_03_04.png: 416x640 1 dirt, 14.4ms\n",
      "image 1182/1348 /kaggle/working/windturbine_yolo_llm_strong/dataset/images/test/DJI_0752_04_01.png: 416x640 (no detections), 13.7ms\n",
      "image 1183/1348 /kaggle/working/windturbine_yolo_llm_strong/dataset/images/test/DJI_0752_05_02.png: 416x640 (no detections), 13.5ms\n",
      "image 1184/1348 /kaggle/working/windturbine_yolo_llm_strong/dataset/images/test/DJI_0753_05_05.png: 416x640 (no detections), 14.6ms\n",
      "image 1185/1348 /kaggle/working/windturbine_yolo_llm_strong/dataset/images/test/DJI_0753_06_02.png: 416x640 (no detections), 13.5ms\n",
      "image 1186/1348 /kaggle/working/windturbine_yolo_llm_strong/dataset/images/test/DJI_0754_05_03.png: 416x640 (no detections), 13.5ms\n",
      "image 1187/1348 /kaggle/working/windturbine_yolo_llm_strong/dataset/images/test/DJI_0754_06_07.png: 416x640 (no detections), 14.2ms\n",
      "image 1188/1348 /kaggle/working/windturbine_yolo_llm_strong/dataset/images/test/DJI_0755_03_04.png: 416x640 1 dirt, 2 damages, 13.6ms\n",
      "image 1189/1348 /kaggle/working/windturbine_yolo_llm_strong/dataset/images/test/DJI_0756_05_04.png: 416x640 (no detections), 13.9ms\n",
      "image 1190/1348 /kaggle/working/windturbine_yolo_llm_strong/dataset/images/test/DJI_0757_05_06.png: 416x640 (no detections), 13.7ms\n",
      "image 1191/1348 /kaggle/working/windturbine_yolo_llm_strong/dataset/images/test/DJI_0758_04_09.png: 416x640 2 dirts, 13.7ms\n",
      "image 1192/1348 /kaggle/working/windturbine_yolo_llm_strong/dataset/images/test/DJI_0759_05_05.png: 416x640 (no detections), 13.8ms\n",
      "image 1193/1348 /kaggle/working/windturbine_yolo_llm_strong/dataset/images/test/DJI_0760_02_05.png: 416x640 (no detections), 14.1ms\n",
      "image 1194/1348 /kaggle/working/windturbine_yolo_llm_strong/dataset/images/test/DJI_0762_03_04.png: 416x640 2 damages, 13.7ms\n",
      "image 1195/1348 /kaggle/working/windturbine_yolo_llm_strong/dataset/images/test/DJI_0763_01_04.png: 416x640 (no detections), 14.1ms\n",
      "image 1196/1348 /kaggle/working/windturbine_yolo_llm_strong/dataset/images/test/DJI_0763_06_04.png: 416x640 1 damage, 13.5ms\n",
      "image 1197/1348 /kaggle/working/windturbine_yolo_llm_strong/dataset/images/test/DJI_0763_06_05.png: 416x640 (no detections), 13.5ms\n",
      "image 1198/1348 /kaggle/working/windturbine_yolo_llm_strong/dataset/images/test/DJI_0764_04_04.png: 416x640 (no detections), 13.7ms\n",
      "image 1199/1348 /kaggle/working/windturbine_yolo_llm_strong/dataset/images/test/DJI_0764_06_04.png: 416x640 3 damages, 13.5ms\n",
      "image 1200/1348 /kaggle/working/windturbine_yolo_llm_strong/dataset/images/test/DJI_0764_06_05.png: 416x640 (no detections), 13.5ms\n",
      "image 1201/1348 /kaggle/working/windturbine_yolo_llm_strong/dataset/images/test/DJI_0766_01_04.png: 416x640 (no detections), 13.9ms\n",
      "image 1202/1348 /kaggle/working/windturbine_yolo_llm_strong/dataset/images/test/DJI_0766_06_06.png: 416x640 (no detections), 14.0ms\n",
      "image 1203/1348 /kaggle/working/windturbine_yolo_llm_strong/dataset/images/test/DJI_0769_07_04.png: 416x640 (no detections), 13.9ms\n",
      "image 1204/1348 /kaggle/working/windturbine_yolo_llm_strong/dataset/images/test/DJI_0770_02_04.png: 416x640 1 damage, 13.5ms\n",
      "image 1205/1348 /kaggle/working/windturbine_yolo_llm_strong/dataset/images/test/DJI_0771_05_04.png: 416x640 (no detections), 14.7ms\n",
      "image 1206/1348 /kaggle/working/windturbine_yolo_llm_strong/dataset/images/test/DJI_0772_02_04.png: 416x640 (no detections), 14.0ms\n",
      "image 1207/1348 /kaggle/working/windturbine_yolo_llm_strong/dataset/images/test/DJI_0772_02_06.png: 416x640 (no detections), 13.7ms\n",
      "image 1208/1348 /kaggle/working/windturbine_yolo_llm_strong/dataset/images/test/DJI_0772_03_04.png: 416x640 (no detections), 14.6ms\n",
      "image 1209/1348 /kaggle/working/windturbine_yolo_llm_strong/dataset/images/test/DJI_0772_04_05.png: 416x640 3 damages, 13.7ms\n",
      "image 1210/1348 /kaggle/working/windturbine_yolo_llm_strong/dataset/images/test/DJI_0772_08_05.png: 416x640 (no detections), 13.9ms\n",
      "image 1211/1348 /kaggle/working/windturbine_yolo_llm_strong/dataset/images/test/DJI_0773_01_06.png: 416x640 (no detections), 13.7ms\n",
      "image 1212/1348 /kaggle/working/windturbine_yolo_llm_strong/dataset/images/test/DJI_0773_01_09.png: 416x640 1 dirt, 13.7ms\n",
      "image 1213/1348 /kaggle/working/windturbine_yolo_llm_strong/dataset/images/test/DJI_0773_04_04.png: 416x640 1 damage, 14.2ms\n",
      "image 1214/1348 /kaggle/working/windturbine_yolo_llm_strong/dataset/images/test/DJI_0773_07_04.png: 416x640 (no detections), 13.9ms\n",
      "image 1215/1348 /kaggle/working/windturbine_yolo_llm_strong/dataset/images/test/DJI_0774_03_04.png: 416x640 (no detections), 14.0ms\n",
      "image 1216/1348 /kaggle/working/windturbine_yolo_llm_strong/dataset/images/test/DJI_0774_06_05.png: 416x640 4 damages, 13.8ms\n",
      "image 1217/1348 /kaggle/working/windturbine_yolo_llm_strong/dataset/images/test/DJI_0774_07_05.png: 416x640 3 damages, 13.5ms\n",
      "image 1218/1348 /kaggle/working/windturbine_yolo_llm_strong/dataset/images/test/DJI_0775_01_05.png: 416x640 5 damages, 13.5ms\n",
      "image 1219/1348 /kaggle/working/windturbine_yolo_llm_strong/dataset/images/test/DJI_0775_03_09.png: 416x640 1 dirt, 13.4ms\n",
      "image 1220/1348 /kaggle/working/windturbine_yolo_llm_strong/dataset/images/test/DJI_0776_01_05.png: 416x640 2 damages, 13.4ms\n",
      "image 1221/1348 /kaggle/working/windturbine_yolo_llm_strong/dataset/images/test/DJI_0776_01_09.png: 416x640 (no detections), 13.4ms\n",
      "image 1222/1348 /kaggle/working/windturbine_yolo_llm_strong/dataset/images/test/DJI_0776_06_06.png: 416x640 (no detections), 13.7ms\n",
      "image 1223/1348 /kaggle/working/windturbine_yolo_llm_strong/dataset/images/test/DJI_0776_07_05.png: 416x640 2 damages, 13.4ms\n",
      "image 1224/1348 /kaggle/working/windturbine_yolo_llm_strong/dataset/images/test/DJI_0777_01_07.png: 416x640 (no detections), 13.4ms\n",
      "image 1225/1348 /kaggle/working/windturbine_yolo_llm_strong/dataset/images/test/DJI_0777_05_09.png: 416x640 (no detections), 13.9ms\n",
      "image 1226/1348 /kaggle/working/windturbine_yolo_llm_strong/dataset/images/test/DJI_0777_06_04.png: 416x640 (no detections), 13.5ms\n",
      "image 1227/1348 /kaggle/working/windturbine_yolo_llm_strong/dataset/images/test/DJI_0777_06_09.png: 416x640 1 dirt, 13.5ms\n",
      "image 1228/1348 /kaggle/working/windturbine_yolo_llm_strong/dataset/images/test/DJI_0778_02_08.png: 416x640 (no detections), 13.6ms\n",
      "image 1229/1348 /kaggle/working/windturbine_yolo_llm_strong/dataset/images/test/DJI_0778_04_05.png: 416x640 6 damages, 14.0ms\n",
      "image 1230/1348 /kaggle/working/windturbine_yolo_llm_strong/dataset/images/test/DJI_0779_01_07.png: 416x640 (no detections), 13.6ms\n",
      "image 1231/1348 /kaggle/working/windturbine_yolo_llm_strong/dataset/images/test/DJI_0779_05_05.png: 416x640 2 damages, 13.7ms\n",
      "image 1232/1348 /kaggle/working/windturbine_yolo_llm_strong/dataset/images/test/DJI_0779_07_04.png: 416x640 (no detections), 13.5ms\n",
      "image 1233/1348 /kaggle/working/windturbine_yolo_llm_strong/dataset/images/test/DJI_0780_01_06.png: 416x640 1 damage, 13.5ms\n",
      "image 1234/1348 /kaggle/working/windturbine_yolo_llm_strong/dataset/images/test/DJI_0780_04_06.png: 416x640 (no detections), 13.6ms\n",
      "image 1235/1348 /kaggle/working/windturbine_yolo_llm_strong/dataset/images/test/DJI_0780_05_06.png: 416x640 (no detections), 14.0ms\n",
      "image 1236/1348 /kaggle/working/windturbine_yolo_llm_strong/dataset/images/test/DJI_0780_07_06.png: 416x640 (no detections), 13.5ms\n",
      "image 1237/1348 /kaggle/working/windturbine_yolo_llm_strong/dataset/images/test/DJI_0780_08_04.png: 416x640 (no detections), 13.5ms\n",
      "image 1238/1348 /kaggle/working/windturbine_yolo_llm_strong/dataset/images/test/DJI_0781_01_06.png: 416x640 (no detections), 13.4ms\n",
      "image 1239/1348 /kaggle/working/windturbine_yolo_llm_strong/dataset/images/test/DJI_0781_02_04.png: 416x640 2 damages, 13.9ms\n",
      "image 1240/1348 /kaggle/working/windturbine_yolo_llm_strong/dataset/images/test/DJI_0782_08_02.png: 416x640 1 damage, 13.5ms\n",
      "image 1241/1348 /kaggle/working/windturbine_yolo_llm_strong/dataset/images/test/DJI_0783_05_01.png: 416x640 1 damage, 13.5ms\n",
      "image 1242/1348 /kaggle/working/windturbine_yolo_llm_strong/dataset/images/test/DJI_0783_06_05.png: 416x640 (no detections), 14.0ms\n",
      "image 1243/1348 /kaggle/working/windturbine_yolo_llm_strong/dataset/images/test/DJI_0783_07_02.png: 416x640 2 damages, 13.5ms\n",
      "image 1244/1348 /kaggle/working/windturbine_yolo_llm_strong/dataset/images/test/DJI_0783_08_02.png: 416x640 (no detections), 13.5ms\n",
      "image 1245/1348 /kaggle/working/windturbine_yolo_llm_strong/dataset/images/test/DJI_0783_08_04.png: 416x640 (no detections), 13.6ms\n",
      "image 1246/1348 /kaggle/working/windturbine_yolo_llm_strong/dataset/images/test/DJI_0784_03_06.png: 416x640 (no detections), 14.1ms\n",
      "image 1247/1348 /kaggle/working/windturbine_yolo_llm_strong/dataset/images/test/DJI_0784_05_02.png: 416x640 (no detections), 13.5ms\n",
      "image 1248/1348 /kaggle/working/windturbine_yolo_llm_strong/dataset/images/test/DJI_0784_05_03.png: 416x640 (no detections), 14.1ms\n",
      "image 1249/1348 /kaggle/working/windturbine_yolo_llm_strong/dataset/images/test/DJI_0785_01_03.png: 416x640 (no detections), 13.7ms\n",
      "image 1250/1348 /kaggle/working/windturbine_yolo_llm_strong/dataset/images/test/DJI_0785_06_05.png: 416x640 (no detections), 13.7ms\n",
      "image 1251/1348 /kaggle/working/windturbine_yolo_llm_strong/dataset/images/test/DJI_0785_08_04.png: 416x640 (no detections), 13.7ms\n",
      "image 1252/1348 /kaggle/working/windturbine_yolo_llm_strong/dataset/images/test/DJI_0786_01_07.png: 416x640 1 damage, 14.1ms\n",
      "image 1253/1348 /kaggle/working/windturbine_yolo_llm_strong/dataset/images/test/DJI_0786_02_01.png: 416x640 (no detections), 13.7ms\n",
      "image 1254/1348 /kaggle/working/windturbine_yolo_llm_strong/dataset/images/test/DJI_0786_02_05.png: 416x640 (no detections), 13.7ms\n",
      "image 1255/1348 /kaggle/working/windturbine_yolo_llm_strong/dataset/images/test/DJI_0786_02_06.png: 416x640 2 damages, 14.3ms\n",
      "image 1256/1348 /kaggle/working/windturbine_yolo_llm_strong/dataset/images/test/DJI_0786_03_05.png: 416x640 1 damage, 13.7ms\n",
      "image 1257/1348 /kaggle/working/windturbine_yolo_llm_strong/dataset/images/test/DJI_0786_03_06.png: 416x640 (no detections), 13.7ms\n",
      "image 1258/1348 /kaggle/working/windturbine_yolo_llm_strong/dataset/images/test/DJI_0787_01_07.png: 416x640 1 damage, 14.0ms\n",
      "image 1259/1348 /kaggle/working/windturbine_yolo_llm_strong/dataset/images/test/DJI_0787_02_05.png: 416x640 1 damage, 13.7ms\n",
      "image 1260/1348 /kaggle/working/windturbine_yolo_llm_strong/dataset/images/test/DJI_0787_04_04.png: 416x640 (no detections), 13.6ms\n",
      "image 1261/1348 /kaggle/working/windturbine_yolo_llm_strong/dataset/images/test/DJI_0787_07_01.png: 416x640 (no detections), 14.0ms\n",
      "image 1262/1348 /kaggle/working/windturbine_yolo_llm_strong/dataset/images/test/DJI_0787_08_02.png: 416x640 (no detections), 13.5ms\n",
      "image 1263/1348 /kaggle/working/windturbine_yolo_llm_strong/dataset/images/test/DJI_0788_01_03.png: 416x640 (no detections), 13.5ms\n",
      "image 1264/1348 /kaggle/working/windturbine_yolo_llm_strong/dataset/images/test/DJI_0788_02_05.png: 416x640 4 damages, 13.9ms\n",
      "image 1265/1348 /kaggle/working/windturbine_yolo_llm_strong/dataset/images/test/DJI_0788_02_08.png: 416x640 (no detections), 13.5ms\n",
      "image 1266/1348 /kaggle/working/windturbine_yolo_llm_strong/dataset/images/test/DJI_0788_04_07.png: 416x640 (no detections), 13.7ms\n",
      "image 1267/1348 /kaggle/working/windturbine_yolo_llm_strong/dataset/images/test/DJI_0788_05_03.png: 416x640 (no detections), 14.1ms\n",
      "image 1268/1348 /kaggle/working/windturbine_yolo_llm_strong/dataset/images/test/DJI_0788_05_04.png: 416x640 (no detections), 13.7ms\n",
      "image 1269/1348 /kaggle/working/windturbine_yolo_llm_strong/dataset/images/test/DJI_0789_01_02.png: 416x640 1 damage, 13.7ms\n",
      "image 1270/1348 /kaggle/working/windturbine_yolo_llm_strong/dataset/images/test/DJI_0789_01_03.png: 416x640 1 damage, 14.0ms\n",
      "image 1271/1348 /kaggle/working/windturbine_yolo_llm_strong/dataset/images/test/DJI_0789_02_04.png: 416x640 (no detections), 13.7ms\n",
      "image 1272/1348 /kaggle/working/windturbine_yolo_llm_strong/dataset/images/test/DJI_0789_03_05.png: 416x640 3 damages, 13.5ms\n",
      "image 1273/1348 /kaggle/working/windturbine_yolo_llm_strong/dataset/images/test/DJI_0789_06_02.png: 416x640 1 damage, 13.9ms\n",
      "image 1274/1348 /kaggle/working/windturbine_yolo_llm_strong/dataset/images/test/DJI_0789_07_06.png: 416x640 (no detections), 13.5ms\n",
      "image 1275/1348 /kaggle/working/windturbine_yolo_llm_strong/dataset/images/test/DJI_0962_02_05.png: 416x640 (no detections), 13.5ms\n",
      "image 1276/1348 /kaggle/working/windturbine_yolo_llm_strong/dataset/images/test/DJI_0964_01_04.png: 416x640 (no detections), 13.9ms\n",
      "image 1277/1348 /kaggle/working/windturbine_yolo_llm_strong/dataset/images/test/DJI_0964_07_05.png: 416x640 1 damage, 13.5ms\n",
      "image 1278/1348 /kaggle/working/windturbine_yolo_llm_strong/dataset/images/test/DJI_0966_02_07.png: 416x640 (no detections), 13.8ms\n",
      "image 1279/1348 /kaggle/working/windturbine_yolo_llm_strong/dataset/images/test/DJI_0967_01_07.png: 416x640 (no detections), 13.7ms\n",
      "image 1280/1348 /kaggle/working/windturbine_yolo_llm_strong/dataset/images/test/DJI_0967_04_07.png: 416x640 (no detections), 14.0ms\n",
      "image 1281/1348 /kaggle/working/windturbine_yolo_llm_strong/dataset/images/test/DJI_0967_06_05.png: 416x640 (no detections), 13.7ms\n",
      "image 1282/1348 /kaggle/working/windturbine_yolo_llm_strong/dataset/images/test/DJI_0969_06_07.png: 416x640 (no detections), 13.8ms\n",
      "image 1283/1348 /kaggle/working/windturbine_yolo_llm_strong/dataset/images/test/DJI_0969_08_05.png: 416x640 (no detections), 13.4ms\n",
      "image 1284/1348 /kaggle/working/windturbine_yolo_llm_strong/dataset/images/test/DJI_0970_01_01.png: 416x640 (no detections), 14.1ms\n",
      "image 1285/1348 /kaggle/working/windturbine_yolo_llm_strong/dataset/images/test/DJI_0970_08_07.png: 416x640 (no detections), 13.9ms\n",
      "image 1286/1348 /kaggle/working/windturbine_yolo_llm_strong/dataset/images/test/DJI_0972_02_04.png: 416x640 17 damages, 13.9ms\n",
      "image 1287/1348 /kaggle/working/windturbine_yolo_llm_strong/dataset/images/test/DJI_0972_02_05.png: 416x640 2 damages, 13.5ms\n",
      "image 1288/1348 /kaggle/working/windturbine_yolo_llm_strong/dataset/images/test/DJI_0972_03_01.png: 416x640 (no detections), 14.3ms\n",
      "image 1289/1348 /kaggle/working/windturbine_yolo_llm_strong/dataset/images/test/DJI_0972_03_03.png: 416x640 (no detections), 14.0ms\n",
      "image 1290/1348 /kaggle/working/windturbine_yolo_llm_strong/dataset/images/test/DJI_0972_04_01.png: 416x640 (no detections), 13.9ms\n",
      "image 1291/1348 /kaggle/working/windturbine_yolo_llm_strong/dataset/images/test/DJI_0972_04_03.png: 416x640 (no detections), 14.1ms\n",
      "image 1292/1348 /kaggle/working/windturbine_yolo_llm_strong/dataset/images/test/DJI_0972_04_04.png: 416x640 (no detections), 13.9ms\n",
      "image 1293/1348 /kaggle/working/windturbine_yolo_llm_strong/dataset/images/test/DJI_0972_06_07.png: 416x640 (no detections), 13.9ms\n",
      "image 1294/1348 /kaggle/working/windturbine_yolo_llm_strong/dataset/images/test/DJI_0974_02_07.png: 416x640 (no detections), 13.5ms\n",
      "image 1295/1348 /kaggle/working/windturbine_yolo_llm_strong/dataset/images/test/DJI_0974_04_03.png: 416x640 (no detections), 13.9ms\n",
      "image 1296/1348 /kaggle/working/windturbine_yolo_llm_strong/dataset/images/test/DJI_0974_05_06.png: 416x640 (no detections), 14.1ms\n",
      "image 1297/1348 /kaggle/working/windturbine_yolo_llm_strong/dataset/images/test/DJI_0974_07_07.png: 416x640 (no detections), 13.9ms\n",
      "image 1298/1348 /kaggle/working/windturbine_yolo_llm_strong/dataset/images/test/DJI_0975_03_07.png: 416x640 11 damages, 13.9ms\n",
      "image 1299/1348 /kaggle/working/windturbine_yolo_llm_strong/dataset/images/test/DJI_0975_04_02.png: 416x640 2 damages, 13.5ms\n",
      "image 1300/1348 /kaggle/working/windturbine_yolo_llm_strong/dataset/images/test/DJI_0975_08_09.png: 416x640 (no detections), 13.5ms\n",
      "image 1301/1348 /kaggle/working/windturbine_yolo_llm_strong/dataset/images/test/DJI_0976_04_09.png: 416x640 8 damages, 14.0ms\n",
      "image 1302/1348 /kaggle/working/windturbine_yolo_llm_strong/dataset/images/test/DJI_0978_03_09.png: 416x640 (no detections), 13.7ms\n",
      "image 1303/1348 /kaggle/working/windturbine_yolo_llm_strong/dataset/images/test/DJI_0978_05_07.png: 416x640 (no detections), 13.7ms\n",
      "image 1304/1348 /kaggle/working/windturbine_yolo_llm_strong/dataset/images/test/DJI_0978_08_08.png: 416x640 (no detections), 14.1ms\n",
      "image 1305/1348 /kaggle/working/windturbine_yolo_llm_strong/dataset/images/test/DJI_0980_05_01.png: 416x640 (no detections), 13.7ms\n",
      "image 1306/1348 /kaggle/working/windturbine_yolo_llm_strong/dataset/images/test/DJI_0980_05_04.png: 416x640 (no detections), 13.7ms\n",
      "image 1307/1348 /kaggle/working/windturbine_yolo_llm_strong/dataset/images/test/DJI_0981_01_09.png: 416x640 (no detections), 13.4ms\n",
      "image 1308/1348 /kaggle/working/windturbine_yolo_llm_strong/dataset/images/test/DJI_0981_06_02.png: 416x640 (no detections), 13.4ms\n",
      "image 1309/1348 /kaggle/working/windturbine_yolo_llm_strong/dataset/images/test/DJI_0984_07_03.png: 416x640 (no detections), 13.4ms\n",
      "image 1310/1348 /kaggle/working/windturbine_yolo_llm_strong/dataset/images/test/DJI_0984_08_03.png: 416x640 (no detections), 13.7ms\n",
      "image 1311/1348 /kaggle/working/windturbine_yolo_llm_strong/dataset/images/test/DJI_0985_02_05.png: 416x640 (no detections), 13.4ms\n",
      "image 1312/1348 /kaggle/working/windturbine_yolo_llm_strong/dataset/images/test/DJI_0985_03_03.png: 416x640 (no detections), 13.4ms\n",
      "image 1313/1348 /kaggle/working/windturbine_yolo_llm_strong/dataset/images/test/DJI_0985_04_03.png: 416x640 8 damages, 13.4ms\n",
      "image 1314/1348 /kaggle/working/windturbine_yolo_llm_strong/dataset/images/test/DJI_0986_06_04.png: 416x640 (no detections), 13.4ms\n",
      "image 1315/1348 /kaggle/working/windturbine_yolo_llm_strong/dataset/images/test/DJI_0986_07_04.png: 416x640 (no detections), 13.4ms\n",
      "image 1316/1348 /kaggle/working/windturbine_yolo_llm_strong/dataset/images/test/DJI_0986_08_04.png: 416x640 (no detections), 13.4ms\n",
      "image 1317/1348 /kaggle/working/windturbine_yolo_llm_strong/dataset/images/test/DJI_0987_02_05.png: 416x640 (no detections), 13.6ms\n",
      "image 1318/1348 /kaggle/working/windturbine_yolo_llm_strong/dataset/images/test/DJI_0987_05_04.png: 416x640 3 damages, 13.4ms\n",
      "image 1319/1348 /kaggle/working/windturbine_yolo_llm_strong/dataset/images/test/DJI_0987_08_04.png: 416x640 (no detections), 13.4ms\n",
      "image 1320/1348 /kaggle/working/windturbine_yolo_llm_strong/dataset/images/test/DJI_0988_03_01.png: 416x640 (no detections), 13.5ms\n",
      "image 1321/1348 /kaggle/working/windturbine_yolo_llm_strong/dataset/images/test/DJI_0988_03_02.png: 416x640 (no detections), 13.5ms\n",
      "image 1322/1348 /kaggle/working/windturbine_yolo_llm_strong/dataset/images/test/DJI_0988_05_03.png: 416x640 2 damages, 13.4ms\n",
      "image 1323/1348 /kaggle/working/windturbine_yolo_llm_strong/dataset/images/test/DJI_0988_08_04.png: 416x640 (no detections), 13.4ms\n",
      "image 1324/1348 /kaggle/working/windturbine_yolo_llm_strong/dataset/images/test/DJI_0989_01_02.png: 416x640 (no detections), 13.4ms\n",
      "image 1325/1348 /kaggle/working/windturbine_yolo_llm_strong/dataset/images/test/DJI_0989_04_03.png: 416x640 1 damage, 13.8ms\n",
      "image 1326/1348 /kaggle/working/windturbine_yolo_llm_strong/dataset/images/test/DJI_0989_07_05.png: 416x640 (no detections), 13.4ms\n",
      "image 1327/1348 /kaggle/working/windturbine_yolo_llm_strong/dataset/images/test/DJI_0990_02_05.png: 416x640 (no detections), 13.4ms\n",
      "image 1328/1348 /kaggle/working/windturbine_yolo_llm_strong/dataset/images/test/DJI_0990_04_04.png: 416x640 3 damages, 13.7ms\n",
      "image 1329/1348 /kaggle/working/windturbine_yolo_llm_strong/dataset/images/test/DJI_0990_06_04.png: 416x640 (no detections), 13.4ms\n",
      "image 1330/1348 /kaggle/working/windturbine_yolo_llm_strong/dataset/images/test/DJI_0990_07_04.png: 416x640 (no detections), 13.7ms\n",
      "image 1331/1348 /kaggle/working/windturbine_yolo_llm_strong/dataset/images/test/DJI_0990_08_04.png: 416x640 (no detections), 13.7ms\n",
      "image 1332/1348 /kaggle/working/windturbine_yolo_llm_strong/dataset/images/test/DJI_0991_03_02.png: 416x640 (no detections), 13.9ms\n",
      "image 1333/1348 /kaggle/working/windturbine_yolo_llm_strong/dataset/images/test/DJI_0992_01_02.png: 416x640 (no detections), 13.7ms\n",
      "image 1334/1348 /kaggle/working/windturbine_yolo_llm_strong/dataset/images/test/DJI_0992_02_05.png: 416x640 7 damages, 13.7ms\n",
      "image 1335/1348 /kaggle/working/windturbine_yolo_llm_strong/dataset/images/test/DJI_0993_03_04.png: 416x640 2 damages, 13.5ms\n",
      "image 1336/1348 /kaggle/working/windturbine_yolo_llm_strong/dataset/images/test/DJI_0993_05_05.png: 416x640 (no detections), 14.2ms\n",
      "image 1337/1348 /kaggle/working/windturbine_yolo_llm_strong/dataset/images/test/DJI_0993_07_04.png: 416x640 (no detections), 13.8ms\n",
      "image 1338/1348 /kaggle/working/windturbine_yolo_llm_strong/dataset/images/test/DJI_0994_01_02.png: 416x640 (no detections), 13.7ms\n",
      "image 1339/1348 /kaggle/working/windturbine_yolo_llm_strong/dataset/images/test/DJI_0994_03_03.png: 416x640 2 damages, 13.4ms\n",
      "image 1340/1348 /kaggle/working/windturbine_yolo_llm_strong/dataset/images/test/DJI_0994_03_05.png: 416x640 12 damages, 13.7ms\n",
      "image 1341/1348 /kaggle/working/windturbine_yolo_llm_strong/dataset/images/test/DJI_0995_02_04.png: 416x640 (no detections), 14.0ms\n",
      "image 1342/1348 /kaggle/working/windturbine_yolo_llm_strong/dataset/images/test/DJI_0995_04_03.png: 416x640 (no detections), 13.7ms\n",
      "image 1343/1348 /kaggle/working/windturbine_yolo_llm_strong/dataset/images/test/DJI_0995_08_05.png: 416x640 1 damage, 13.8ms\n",
      "image 1344/1348 /kaggle/working/windturbine_yolo_llm_strong/dataset/images/test/DJI_0996_04_04.png: 416x640 (no detections), 13.7ms\n",
      "image 1345/1348 /kaggle/working/windturbine_yolo_llm_strong/dataset/images/test/DJI_0996_06_05.png: 416x640 (no detections), 13.7ms\n",
      "image 1346/1348 /kaggle/working/windturbine_yolo_llm_strong/dataset/images/test/DJI_0997_03_06.png: 416x640 7 damages, 13.5ms\n",
      "image 1347/1348 /kaggle/working/windturbine_yolo_llm_strong/dataset/images/test/DJI_0997_04_04.png: 416x640 (no detections), 14.4ms\n",
      "image 1348/1348 /kaggle/working/windturbine_yolo_llm_strong/dataset/images/test/DJI_0997_04_05.png: 416x640 (no detections), 13.9ms\n",
      "Speed: 2.2ms preprocess, 13.5ms inference, 0.7ms postprocess per image at shape (1, 3, 416, 640)\n",
      "Results saved to \u001b[1m/kaggle/working/windturbine_yolo_llm_strong/artifacts/pred_samples/preds\u001b[0m\n"
     ]
    },
    {
     "name": "stderr",
     "output_type": "stream",
     "text": [
      "Structuring detections: 100%|██████████| 1348/1348 [00:32<00:00, 41.86it/s]\n"
     ]
    },
    {
     "name": "stdout",
     "output_type": "stream",
     "text": [
      "Executive summary: {'images_tested': 1348, 'images_with_damage': 267, 'images_with_dirt_only': 71, 'mean_severity': 0.018958246290801187, 'median_severity': 0.0, 'p95_severity': 0.14402399999999999}\n",
      "Inference FPS on 200 test images: 41.20\n"
     ]
    },
    {
     "data": {
      "application/vnd.jupyter.widget-view+json": {
       "model_id": "6f92033d90864b549543e4e8a60902ea",
       "version_major": 2,
       "version_minor": 0
      },
      "text/plain": [
       "config.json: 0.00B [00:00, ?B/s]"
      ]
     },
     "metadata": {},
     "output_type": "display_data"
    },
    {
     "data": {
      "application/vnd.jupyter.widget-view+json": {
       "model_id": "3722e6eff10a4185be06282c20f45ff1",
       "version_major": 2,
       "version_minor": 0
      },
      "text/plain": [
       "pytorch_model.bin:   0%|          | 0.00/990M [00:00<?, ?B/s]"
      ]
     },
     "metadata": {},
     "output_type": "display_data"
    },
    {
     "data": {
      "application/vnd.jupyter.widget-view+json": {
       "model_id": "060378b345494eb88ecae708cdd906ea",
       "version_major": 2,
       "version_minor": 0
      },
      "text/plain": [
       "preprocessor_config.json:   0%|          | 0.00/287 [00:00<?, ?B/s]"
      ]
     },
     "metadata": {},
     "output_type": "display_data"
    },
    {
     "data": {
      "application/vnd.jupyter.widget-view+json": {
       "model_id": "e20f60521fb2438ea95a392aca01b46a",
       "version_major": 2,
       "version_minor": 0
      },
      "text/plain": [
       "tokenizer_config.json:   0%|          | 0.00/506 [00:00<?, ?B/s]"
      ]
     },
     "metadata": {},
     "output_type": "display_data"
    },
    {
     "data": {
      "application/vnd.jupyter.widget-view+json": {
       "model_id": "1d1f73c8df1a460c83eadc8a4a3a0885",
       "version_major": 2,
       "version_minor": 0
      },
      "text/plain": [
       "vocab.txt: 0.00B [00:00, ?B/s]"
      ]
     },
     "metadata": {},
     "output_type": "display_data"
    },
    {
     "data": {
      "application/vnd.jupyter.widget-view+json": {
       "model_id": "6a18fd3aa8e64d9d8626b4e14508f7e7",
       "version_major": 2,
       "version_minor": 0
      },
      "text/plain": [
       "tokenizer.json: 0.00B [00:00, ?B/s]"
      ]
     },
     "metadata": {},
     "output_type": "display_data"
    },
    {
     "data": {
      "application/vnd.jupyter.widget-view+json": {
       "model_id": "8d15722de99548be8b8fa27bea1711a5",
       "version_major": 2,
       "version_minor": 0
      },
      "text/plain": [
       "special_tokens_map.json:   0%|          | 0.00/125 [00:00<?, ?B/s]"
      ]
     },
     "metadata": {},
     "output_type": "display_data"
    },
    {
     "name": "stderr",
     "output_type": "stream",
     "text": [
      "BLIP captions: 100%|██████████| 400/400 [02:57<00:00,  2.26it/s]\n"
     ]
    },
    {
     "data": {
      "application/vnd.jupyter.widget-view+json": {
       "model_id": "964103889140440c980d508dd6b0bdbb",
       "version_major": 2,
       "version_minor": 0
      },
      "text/plain": [
       "tokenizer_config.json: 0.00B [00:00, ?B/s]"
      ]
     },
     "metadata": {},
     "output_type": "display_data"
    },
    {
     "data": {
      "application/vnd.jupyter.widget-view+json": {
       "model_id": "1ab2249fba334df5bfad9093208e0959",
       "version_major": 2,
       "version_minor": 0
      },
      "text/plain": [
       "spiece.model:   0%|          | 0.00/792k [00:00<?, ?B/s]"
      ]
     },
     "metadata": {},
     "output_type": "display_data"
    },
    {
     "data": {
      "application/vnd.jupyter.widget-view+json": {
       "model_id": "5ee17846d51a437c9a4b426bfd936f86",
       "version_major": 2,
       "version_minor": 0
      },
      "text/plain": [
       "tokenizer.json: 0.00B [00:00, ?B/s]"
      ]
     },
     "metadata": {},
     "output_type": "display_data"
    },
    {
     "data": {
      "application/vnd.jupyter.widget-view+json": {
       "model_id": "278eaddaa9bc4c9fb7bf558e2c2421f6",
       "version_major": 2,
       "version_minor": 0
      },
      "text/plain": [
       "special_tokens_map.json: 0.00B [00:00, ?B/s]"
      ]
     },
     "metadata": {},
     "output_type": "display_data"
    },
    {
     "data": {
      "application/vnd.jupyter.widget-view+json": {
       "model_id": "cd02c7c85d784edb894eae2557d3b573",
       "version_major": 2,
       "version_minor": 0
      },
      "text/plain": [
       "config.json: 0.00B [00:00, ?B/s]"
      ]
     },
     "metadata": {},
     "output_type": "display_data"
    },
    {
     "data": {
      "application/vnd.jupyter.widget-view+json": {
       "model_id": "a659630c96504fe6ac7c6d5b755afb3f",
       "version_major": 2,
       "version_minor": 0
      },
      "text/plain": [
       "model.safetensors:   0%|          | 0.00/990M [00:00<?, ?B/s]"
      ]
     },
     "metadata": {},
     "output_type": "display_data"
    },
    {
     "data": {
      "application/vnd.jupyter.widget-view+json": {
       "model_id": "6bf095a8430e4ccf9f6f7a2643b74ad8",
       "version_major": 2,
       "version_minor": 0
      },
      "text/plain": [
       "generation_config.json:   0%|          | 0.00/147 [00:00<?, ?B/s]"
      ]
     },
     "metadata": {},
     "output_type": "display_data"
    },
    {
     "name": "stdout",
     "output_type": "stream",
     "text": [
      "\n",
      "=== Artifacts for your paper ===\n",
      " - /kaggle/working/windturbine_yolo_llm_strong/yolo_m_150e/weights/best.pt\n",
      " - /kaggle/working/windturbine_yolo_llm_strong/artifacts/summary_metrics.csv\n",
      " - /kaggle/working/windturbine_yolo_llm_strong/artifacts/per_class_ap.csv\n",
      " - /kaggle/working/windturbine_yolo_llm_strong/test_std\n",
      " - /kaggle/working/windturbine_yolo_llm_strong/artifacts/pred_samples/preds\n",
      " - /kaggle/working/windturbine_yolo_llm_strong/artifacts/detections_test.csv\n",
      " - /kaggle/working/windturbine_yolo_llm_strong/artifacts/executive_summary.csv\n",
      " - /kaggle/working/windturbine_yolo_llm_strong/artifacts/inference_fps.csv\n",
      " - /kaggle/working/windturbine_yolo_llm_strong/artifacts/inspection_reports_with_blip.csv\n",
      " - /kaggle/working/windturbine_yolo_llm_strong/artifacts/inspection_reports_without_blip.csv\n",
      " - /kaggle/working/windturbine_yolo_llm_strong/artifacts/llm_latency.csv\n"
     ]
    }
   ],
   "source": [
    "# ============================================================\n",
    "# 0) Environment & callback fixes (disable W&B and Ray)\n",
    "# ============================================================\n",
    "import os\n",
    "os.environ[\"WANDB_DISABLED\"] = \"true\"\n",
    "os.environ[\"WANDB_MODE\"] = \"disabled\"\n",
    "os.environ[\"TOKENIZERS_PARALLELISM\"] = \"false\"\n",
    "\n",
    "# Remove offending callbacks\n",
    "!pip -q uninstall -y wandb >/dev/null\n",
    "!pip -q uninstall -y ray >/dev/null\n",
    "\n",
    "# Core libs\n",
    "!pip -q install ultralytics==8.2.84 transformers==4.41.2 accelerate==0.33.0 timm==0.9.16 torchmetrics==1.4.0\n",
    "\n",
    "import time, random, shutil, json\n",
    "from pathlib import Path\n",
    "import numpy as np, pandas as pd\n",
    "from tqdm import tqdm\n",
    "import torch\n",
    "from ultralytics import YOLO\n",
    "\n",
    "# Toggles\n",
    "USE_VLM = True     # BLIP scene captions\n",
    "USE_LLM = True     # FLAN-T5 inspection summaries\n",
    "RUN_EVOLVE = False # quick hyperparam evolution (off by default)\n",
    "\n",
    "SEED = 42\n",
    "random.seed(SEED); np.random.seed(SEED); torch.manual_seed(SEED)\n",
    "\n",
    "# ============================================================\n",
    "# 1) Dataset paths (YOUR structure)\n",
    "# ============================================================\n",
    "ROOT = Path(\"/kaggle/input/yolo-annotated-wind-turbines-586x371\")\n",
    "DS   = ROOT / \"NordTank586x371\"\n",
    "IMG_DIR_IN = DS / \"images\"\n",
    "LBL_DIR_IN = DS / \"labels\"\n",
    "assert IMG_DIR_IN.exists() and LBL_DIR_IN.exists(), \"Dataset paths not found.\"\n",
    "\n",
    "WORKDIR = Path(\"/kaggle/working\")\n",
    "PROJECT = \"windturbine_yolo_llm_strong\"\n",
    "OUT = WORKDIR / PROJECT\n",
    "\n",
    "for p in [\n",
    "    OUT/\"dataset/images/train\", OUT/\"dataset/images/val\", OUT/\"dataset/images/test\",\n",
    "    OUT/\"dataset/labels/train\", OUT/\"dataset/labels/val\", OUT/\"dataset/labels/test\",\n",
    "    OUT/\"artifacts\"\n",
    "]:\n",
    "    p.mkdir(parents=True, exist_ok=True)\n",
    "\n",
    "# ------------------------------------------------------------\n",
    "# 1a) Index images + detect label status (without writing to input)\n",
    "# ------------------------------------------------------------\n",
    "images = sorted([*IMG_DIR_IN.glob(\"*.png\"), *IMG_DIR_IN.glob(\"*.jpg\"), *IMG_DIR_IN.glob(\"*.jpeg\")])\n",
    "\n",
    "def label_exists_and_nonempty(stem: str):\n",
    "    lb = LBL_DIR_IN / f\"{stem}.txt\"\n",
    "    if not lb.exists():\n",
    "        return False, False\n",
    "    try:\n",
    "        txt = lb.read_text().strip()\n",
    "        return True, (txt != \"\")\n",
    "    except:\n",
    "        return True, False\n",
    "\n",
    "pairs = []\n",
    "for im in images:\n",
    "    exists, nonempty = label_exists_and_nonempty(im.stem)\n",
    "    pairs.append({\"img\": im, \"lbl_in\": (LBL_DIR_IN/f\"{im.stem}.txt\") if exists else None, \"has_obj\": nonempty})\n",
    "\n",
    "# Stratified split: positives vs backgrounds\n",
    "pos = [p for p in pairs if p[\"has_obj\"]]\n",
    "neg = [p for p in pairs if not p[\"has_obj\"]]\n",
    "\n",
    "def split3(items, train_ratio=0.8, val_ratio=0.1, seed=SEED):\n",
    "    items = items.copy()\n",
    "    random.Random(seed).shuffle(items)\n",
    "    n = len(items); n_train = int(n*train_ratio); n_val = int(n*val_ratio)\n",
    "    return items[:n_train], items[n_train:n_train+n_val], items[n_train+n_val:]\n",
    "\n",
    "tr_p, va_p, te_p = split3(pos)\n",
    "tr_n, va_n, te_n = split3(neg)\n",
    "train, val, test = tr_p + tr_n, va_p + va_n, te_p + te_n\n",
    "\n",
    "# ------------------------------------------------------------\n",
    "# 1b) Copy images and create labels IN /kaggle/working ONLY\n",
    "#     - If input label is missing or empty -> write empty .txt at destination\n",
    "# ------------------------------------------------------------\n",
    "def copy_with_labels(split_name, split_list):\n",
    "    created_empty = 0\n",
    "    copied_lbl = 0\n",
    "    for rec in split_list:\n",
    "        im: Path = rec[\"img\"]\n",
    "        lb_in: Path|None = rec[\"lbl_in\"]\n",
    "\n",
    "        dst_img = OUT/f\"dataset/images/{split_name}/{im.name}\"\n",
    "        dst_lbl = OUT/f\"dataset/labels/{split_name}/{im.stem}.txt\"\n",
    "\n",
    "        shutil.copy2(im, dst_img)\n",
    "        if lb_in is not None:\n",
    "            txt = lb_in.read_text().strip()\n",
    "            if txt == \"\":\n",
    "                dst_lbl.write_text(\"\")  # background\n",
    "                created_empty += 1\n",
    "            else:\n",
    "                shutil.copy2(lb_in, dst_lbl)\n",
    "                copied_lbl += 1\n",
    "        else:\n",
    "            dst_lbl.write_text(\"\")      # background\n",
    "            created_empty += 1\n",
    "    print(f\"[{split_name}] labels: copied {copied_lbl}, empty-created {created_empty}\")\n",
    "\n",
    "for name, lst in [(\"train\",train),(\"val\",val),(\"test\",test)]:\n",
    "    copy_with_labels(name, lst)\n",
    "\n",
    "print(f\"Train: {len(train)} | Val: {len(val)} | Test: {len(test)}\")\n",
    "print(f\"Positives -> Train:{sum(r['has_obj'] for r in train)}, Val:{sum(r['has_obj'] for r in val)}, Test:{sum(r['has_obj'] for r in test)}\")\n",
    "\n",
    "# ------------------------------------------------------------\n",
    "# 1c) Sanitize YOLO labels in /kaggle/working (clip to [0,1], drop invalid)\n",
    "# ------------------------------------------------------------\n",
    "def sanitize_dir(lbl_dir: Path, class_count=2):\n",
    "    fixed, dropped = 0, 0\n",
    "    for f in lbl_dir.glob(\"*.txt\"):\n",
    "        lines_in = f.read_text().strip().splitlines() if f.exists() else []\n",
    "        lines_out = []\n",
    "        for ln in lines_in:\n",
    "            parts = ln.strip().split()\n",
    "            if len(parts) != 5: \n",
    "                dropped += 1; \n",
    "                continue\n",
    "            try:\n",
    "                cid = int(float(parts[0])); x,y,w,h = map(float, parts[1:5])\n",
    "            except Exception:\n",
    "                dropped += 1; \n",
    "                continue\n",
    "            if not (0 <= cid < class_count):\n",
    "                dropped += 1; \n",
    "                continue\n",
    "            x = min(max(x, 0.0), 1.0); y = min(max(y, 0.0), 1.0)\n",
    "            w = min(max(w, 0.0), 1.0); h = min(max(h, 0.0), 1.0)\n",
    "            if w <= 0 or h <= 0:\n",
    "                dropped += 1; \n",
    "                continue\n",
    "            lines_out.append(f\"{cid} {x:.6f} {y:.6f} {w:.6f} {h:.6f}\")\n",
    "            fixed += 1\n",
    "        f.write_text(\"\\n\".join(lines_out))\n",
    "    return fixed, dropped\n",
    "\n",
    "for split in [\"train\",\"val\",\"test\"]:\n",
    "    fx, dr = sanitize_dir(OUT/f\"dataset/labels/{split}\", class_count=2)\n",
    "    print(f\"Sanitized {split}: kept {fx} boxes, dropped {dr}\")\n",
    "\n",
    "# ============================================================\n",
    "# 2) data.yaml\n",
    "# ============================================================\n",
    "names = ['dirt','damage']\n",
    "DATA_YAML = OUT / \"data.yaml\"\n",
    "DATA_YAML.write_text(f\"\"\"\n",
    "path: {OUT}/dataset\n",
    "train: images/train\n",
    "val: images/val\n",
    "test: images/test\n",
    "names:\n",
    "  0: {names[0]}\n",
    "  1: {names[1]}\n",
    "\"\"\".strip())\n",
    "\n",
    "# ============================================================\n",
    "# 3) (Optional) Hyperparameter evolution\n",
    "# ============================================================\n",
    "if RUN_EVOLVE:\n",
    "    !yolo evolve data=\"{str(DATA_YAML)}\" model=yolov8m.pt imgsz=640 epochs=20 patience=10 batch=16 project=\"{PROJECT}\" name=\"evolve\" generations=25\n",
    "\n",
    "# ============================================================\n",
    "# 4) Train YOLOv8-M longer (strong baseline)\n",
    "# ============================================================\n",
    "MODEL = \"yolov8m.pt\"\n",
    "EPOCHS = 100\n",
    "IMGSZ = 640\n",
    "\n",
    "model = YOLO(MODEL)\n",
    "train_results = model.train(\n",
    "    data=str(DATA_YAML),\n",
    "    epochs=EPOCHS,\n",
    "    imgsz=IMGSZ,\n",
    "    batch=16,\n",
    "    device=0 if torch.cuda.is_available() else 'cpu',\n",
    "    project=PROJECT,\n",
    "    name=\"yolo_m_150e\",\n",
    "    seed=SEED,\n",
    "    patience=30\n",
    ")\n",
    "best_ckpt = WORKDIR/PROJECT/\"yolo_m_150e/weights/best.pt\"\n",
    "\n",
    "# ============================================================\n",
    "# 5) Evaluation: standard + TTA, export metrics/plots\n",
    "# ============================================================\n",
    "model = YOLO(str(best_ckpt))\n",
    "\n",
    "val_std = model.val(split='val', imgsz=IMGSZ, save_json=True, plots=True, project=PROJECT, name=\"val_std\")\n",
    "test_std = model.val(split='test', imgsz=IMGSZ, save_json=True, plots=True, project=PROJECT, name=\"test_std\")\n",
    "test_tta = model.val(split='test', imgsz=IMGSZ, augment=True, save_json=False, plots=False, project=PROJECT, name=\"test_tta\")\n",
    "\n",
    "def metrics_to_row(tag, m):\n",
    "    return {\n",
    "        \"tag\": tag,\n",
    "        \"map50_95\": float(m.box.map),\n",
    "        \"map50\": float(m.box.map50),\n",
    "        \"map75\": float(m.box.map75),\n",
    "        \"precision\": float(m.box.mp),\n",
    "        \"recall\": float(m.box.mr)\n",
    "    }\n",
    "\n",
    "rows = [\n",
    "    metrics_to_row(\"val_std\", val_std),\n",
    "    metrics_to_row(\"test_std\", test_std),\n",
    "    metrics_to_row(\"test_tta\", test_tta)\n",
    "]\n",
    "pd.DataFrame(rows).to_csv(OUT/\"artifacts/summary_metrics.csv\", index=False)\n",
    "\n",
    "# Per-class AP\n",
    "try:\n",
    "    per_class_ap = getattr(test_std.box, \"maps\", None)\n",
    "    if per_class_ap is not None and len(per_class_ap) == len(names):\n",
    "        pd.DataFrame({\"class\": names, \"AP50-95\": per_class_ap}).to_csv(OUT/\"artifacts/per_class_ap.csv\", index=False)\n",
    "except Exception as e:\n",
    "    print(\"Per-class AP export skipped:\", e)\n",
    "\n",
    "print(\"Std test mAP50-95:\", float(test_std.box.map), \"| TTA:\", float(test_tta.box.map))\n",
    "\n",
    "# Qualitative predictions for figures\n",
    "pred_dir = OUT / \"artifacts/pred_samples\"\n",
    "pred_dir.mkdir(parents=True, exist_ok=True)\n",
    "_ = model.predict(source=str(OUT/\"dataset/images/test\"), imgsz=IMGSZ, save=True, conf=0.25, project=str(pred_dir), name=\"preds\")\n",
    "\n",
    "# ============================================================\n",
    "# 6) Structured detections + severity scoring\n",
    "# ============================================================\n",
    "H, W = 371, 586  # dataset resolution\n",
    "\n",
    "def detect_image(im_path, conf=0.25):\n",
    "    res = model.predict(source=str(im_path), imgsz=IMGSZ, conf=conf, verbose=False)\n",
    "    dets = []\n",
    "    for r in res:\n",
    "        if r.boxes is None: \n",
    "            continue\n",
    "        for b in r.boxes:\n",
    "            cls = int(b.cls.item()); c = float(b.conf.item())\n",
    "            x1,y1,x2,y2 = b.xyxy.cpu().numpy().tolist()[0]\n",
    "            dets.append({\"cls\": names[cls], \"conf\": c, \"bbox_xyxy\": [x1,y1,x2,y2]})\n",
    "    return dets\n",
    "\n",
    "test_imgs = sorted((OUT/\"dataset/images/test\").glob(\"*.*\"))\n",
    "records = []\n",
    "for im in tqdm(test_imgs, desc=\"Structuring detections\"):\n",
    "    dets = detect_image(im, conf=0.25)\n",
    "    severity = 0.0\n",
    "    for d in dets:\n",
    "        x1,y1,x2,y2 = d[\"bbox_xyxy\"]\n",
    "        area = max(0,(x2-x1))*max(0,(y2-y1))/(W*H)\n",
    "        w_cls = 2.0 if d[\"cls\"]==\"damage\" else 1.0\n",
    "        severity += w_cls * area * d[\"conf\"]\n",
    "    records.append({\n",
    "        \"image\": im.name,\n",
    "        \"num_dirt\": sum(1 for d in dets if d[\"cls\"]==\"dirt\"),\n",
    "        \"num_damage\": sum(1 for d in dets if d[\"cls\"]==\"damage\"),\n",
    "        \"severity_score\": round(severity, 6),\n",
    "        \"detections_json\": json.dumps(dets)\n",
    "    })\n",
    "det_df = pd.DataFrame(records)\n",
    "det_df.to_csv(OUT/\"artifacts/detections_test.csv\", index=False)\n",
    "\n",
    "summary = {\n",
    "    \"images_tested\": int(len(det_df)),\n",
    "    \"images_with_damage\": int((det_df['num_damage']>0).sum()),\n",
    "    \"images_with_dirt_only\": int(((det_df['num_damage']==0) & (det_df['num_dirt']>0)).sum()),\n",
    "    \"mean_severity\": float(det_df['severity_score'].mean()),\n",
    "    \"median_severity\": float(det_df['severity_score'].median()),\n",
    "    \"p95_severity\": float(det_df['severity_score'].quantile(0.95))\n",
    "}\n",
    "pd.DataFrame([summary]).to_csv(OUT/\"artifacts/executive_summary.csv\", index=False)\n",
    "print(\"Executive summary:\", summary)\n",
    "\n",
    "# ============================================================\n",
    "# 7) Latency benchmarks (FPS)\n",
    "# ============================================================\n",
    "subset = test_imgs[:200] if len(test_imgs) > 200 else test_imgs\n",
    "t0 = time.time()\n",
    "for im in subset:\n",
    "    _ = model.predict(source=str(im), imgsz=IMGSZ, conf=0.25, verbose=False)\n",
    "t1 = time.time()\n",
    "fps = len(subset) / (t1 - t0)\n",
    "pd.DataFrame([{\"images\": len(subset), \"seconds\": (t1-t0), \"fps\": fps, \"imgsz\": IMGSZ, \"model\": MODEL}]).to_csv(OUT/\"artifacts/inference_fps.csv\", index=False)\n",
    "print(f\"Inference FPS on {len(subset)} test images: {fps:.2f}\")\n",
    "\n",
    "# ============================================================\n",
    "# 8) Optional VLM + LLM inspection reports (with ablation)\n",
    "# ============================================================\n",
    "scene_caps = {}\n",
    "if USE_VLM:\n",
    "    from transformers import BlipProcessor, BlipForConditionalGeneration\n",
    "    from PIL import Image\n",
    "    blip_model = BlipForConditionalGeneration.from_pretrained(\"Salesforce/blip-image-captioning-base\")\n",
    "    blip_proc  = BlipProcessor.from_pretrained(\"Salesforce/blip-image-captioning-base\")\n",
    "    blip_model.to(\"cuda\" if torch.cuda.is_available() else \"cpu\")\n",
    "\n",
    "    cap_imgs = test_imgs[:400]\n",
    "    for im in tqdm(cap_imgs, desc=\"BLIP captions\"):\n",
    "        try:\n",
    "            img = Image.open(im).convert(\"RGB\")\n",
    "            inputs = blip_proc(images=img, return_tensors=\"pt\").to(blip_model.device)\n",
    "            out = blip_model.generate(**inputs, max_new_tokens=30)\n",
    "            cap = blip_proc.decode(out[0], skip_special_tokens=True)\n",
    "            scene_caps[im.name] = cap\n",
    "        except Exception:\n",
    "            scene_caps[im.name] = \"\"\n",
    "    with open(OUT/\"artifacts/scene_captions.json\",\"w\") as f:\n",
    "        json.dump(scene_caps, f, indent=2)\n",
    "\n",
    "def risk_level(s): \n",
    "    return \"high\" if s>0.05 else (\"moderate\" if s>=0.01 else \"low\")\n",
    "\n",
    "reports_with, reports_wo = [], []\n",
    "if USE_LLM:\n",
    "    from transformers import AutoTokenizer, AutoModelForSeq2SeqLM\n",
    "    tok = AutoTokenizer.from_pretrained(\"google/flan-t5-base\")\n",
    "    llm = AutoModelForSeq2SeqLM.from_pretrained(\"google/flan-t5-base\")\n",
    "    llm.to(\"cuda\" if torch.cuda.is_available() else \"cpu\")\n",
    "\n",
    "    merged = det_df.copy()\n",
    "    if USE_VLM: merged[\"scene_caption\"] = merged[\"image\"].map(scene_caps).fillna(\"\")\n",
    "\n",
    "    def gen_report(scene_text, dmg, dirt, sev):\n",
    "        prompt = f\"\"\"You are a UAV inspection engineer. Write a concise professional report (2–4 sentences) for a wind-turbine surface image.\n",
    "\n",
    "Scene: {scene_text if scene_text else \"UAV close-up of turbine blade/surface\"}\n",
    "Detections: damage={dmg}, dirt={dirt}\n",
    "Severity score (0–1+): {sev:.3f}\n",
    "\n",
    "Rules:\n",
    "- If damage>0, recommend a maintenance action.\n",
    "- State risk level: low (<0.01), moderate (0.01–0.05), high (>0.05).\n",
    "- No hedging; precise wording; avoid repetition.\"\"\"\n",
    "        inputs = tok(prompt, return_tensors=\"pt\").to(llm.device)\n",
    "        out = llm.generate(**inputs, max_new_tokens=120)\n",
    "        return tok.decode(out[0], skip_special_tokens=True)\n",
    "\n",
    "    subset_rows = merged.sample(min(150, len(merged)), random_state=SEED)\n",
    "\n",
    "    t0 = time.time()\n",
    "    for _, r in subset_rows.iterrows():\n",
    "        txt = gen_report(r.get(\"scene_caption\",\"\"), int(r[\"num_damage\"]), int(r[\"num_dirt\"]), float(r[\"severity_score\"]))\n",
    "        reports_with.append({\"image\": r[\"image\"], \"risk_level\": risk_level(float(r[\"severity_score\"])), \"inspection_report\": txt, \"scene_caption\": r.get(\"scene_caption\",\"\")})\n",
    "    t1 = time.time()\n",
    "\n",
    "    t2 = time.time()\n",
    "    for _, r in subset_rows.iterrows():\n",
    "        txt = gen_report(\"\", int(r[\"num_damage\"]), int(r[\"num_dirt\"]), float(r[\"severity_score\"]))\n",
    "        reports_wo.append({\"image\": r[\"image\"], \"risk_level\": risk_level(float(r[\"severity_score\"])), \"inspection_report\": txt})\n",
    "    t3 = time.time()\n",
    "\n",
    "    pd.DataFrame(reports_with).to_csv(OUT/\"artifacts/inspection_reports_with_blip.csv\", index=False)\n",
    "    pd.DataFrame(reports_wo).to_csv(OUT/\"artifacts/inspection_reports_without_blip.csv\", index=False)\n",
    "\n",
    "    pd.DataFrame([\n",
    "        {\"variant\":\"with_blip\", \"samples\":len(reports_with), \"seconds\":(t1-t0), \"sec_per_report\": (t1-t0)/max(1,len(reports_with))},\n",
    "        {\"variant\":\"without_blip\", \"samples\":len(reports_wo), \"seconds\":(t3-t2), \"sec_per_report\": (t3-t2)/max(1,len(reports_wo))}\n",
    "    ]).to_csv(OUT/\"artifacts/llm_latency.csv\", index=False)\n",
    "\n",
    "# ============================================================\n",
    "# 9) Citation note\n",
    "# ============================================================\n",
    "CITATIONS = \"\"\"\n",
    "If you use this dataset, please cite:\n",
    "Foster, Ashley; Best, Oscar; Gianni, Mario; Khan, Asiya; Collins, Kerry; Sharma, Sanjay (2022),\n",
    "\"Drone Footage Wind Turbine Surface Damage Detection\", IEEE IVMSP 2022 (Accepted).\n",
    "Original dataset: SHIHAVUDDIN, A.S.M.; Chen, X. (2018), “DTU - Drone inspection images of wind turbine”, Mendeley Data, V2, doi:10.17632/hd96prn3nc.2.\n",
    "\"\"\"\n",
    "with open(OUT/\"artifacts/CITATIONS.txt\",\"w\") as f:\n",
    "    f.write(CITATIONS.strip())\n",
    "\n",
    "print(\"\\n=== Artifacts for your paper ===\")\n",
    "for p in [\n",
    "    WORKDIR/PROJECT/\"yolo_m_150e/weights/best.pt\",\n",
    "    OUT/\"artifacts/summary_metrics.csv\",\n",
    "    OUT/\"artifacts/per_class_ap.csv\",\n",
    "    WORKDIR/PROJECT/\"test_std\",     # PR curves & confusion matrix PNGs\n",
    "    OUT/\"artifacts/pred_samples/preds\",\n",
    "    OUT/\"artifacts/detections_test.csv\",\n",
    "    OUT/\"artifacts/executive_summary.csv\",\n",
    "    OUT/\"artifacts/inference_fps.csv\",\n",
    "    OUT/\"artifacts/inspection_reports_with_blip.csv\",\n",
    "    OUT/\"artifacts/inspection_reports_without_blip.csv\",\n",
    "    OUT/\"artifacts/llm_latency.csv\",\n",
    "]:\n",
    "    print(\" -\", p)\n"
   ]
  }
 ],
 "metadata": {
  "kaggle": {
   "accelerator": "nvidiaTeslaT4",
   "dataSources": [
    {
     "datasetId": 1589531,
     "sourceId": 2615053,
     "sourceType": "datasetVersion"
    }
   ],
   "dockerImageVersionId": 31090,
   "isGpuEnabled": true,
   "isInternetEnabled": true,
   "language": "python",
   "sourceType": "notebook"
  },
  "kernelspec": {
   "display_name": "Python 3",
   "language": "python",
   "name": "python3"
  },
  "language_info": {
   "codemirror_mode": {
    "name": "ipython",
    "version": 3
   },
   "file_extension": ".py",
   "mimetype": "text/x-python",
   "name": "python",
   "nbconvert_exporter": "python",
   "pygments_lexer": "ipython3",
   "version": "3.11.13"
  },
  "papermill": {
   "default_parameters": {},
   "duration": 40370.406496,
   "end_time": "2025-08-13T23:40:59.101546",
   "environment_variables": {},
   "exception": null,
   "input_path": "__notebook__.ipynb",
   "output_path": "__notebook__.ipynb",
   "parameters": {},
   "start_time": "2025-08-13T12:28:08.695050",
   "version": "2.6.0"
  },
  "widgets": {
   "application/vnd.jupyter.widget-state+json": {
    "state": {
     "02526cd0843d45aaac8cf267cbe7f1fa": {
      "model_module": "@jupyter-widgets/controls",
      "model_module_version": "2.0.0",
      "model_name": "HTMLStyleModel",
      "state": {
       "_model_module": "@jupyter-widgets/controls",
       "_model_module_version": "2.0.0",
       "_model_name": "HTMLStyleModel",
       "_view_count": null,
       "_view_module": "@jupyter-widgets/base",
       "_view_module_version": "2.0.0",
       "_view_name": "StyleView",
       "background": null,
       "description_width": "",
       "font_size": null,
       "text_color": null
      }
     },
     "0462991989c04463ab949e9ca1e1cf93": {
      "model_module": "@jupyter-widgets/controls",
      "model_module_version": "2.0.0",
      "model_name": "HTMLStyleModel",
      "state": {
       "_model_module": "@jupyter-widgets/controls",
       "_model_module_version": "2.0.0",
       "_model_name": "HTMLStyleModel",
       "_view_count": null,
       "_view_module": "@jupyter-widgets/base",
       "_view_module_version": "2.0.0",
       "_view_name": "StyleView",
       "background": null,
       "description_width": "",
       "font_size": null,
       "text_color": null
      }
     },
     "059fc77500ad45c58c6eb484476ad55f": {
      "model_module": "@jupyter-widgets/base",
      "model_module_version": "2.0.0",
      "model_name": "LayoutModel",
      "state": {
       "_model_module": "@jupyter-widgets/base",
       "_model_module_version": "2.0.0",
       "_model_name": "LayoutModel",
       "_view_count": null,
       "_view_module": "@jupyter-widgets/base",
       "_view_module_version": "2.0.0",
       "_view_name": "LayoutView",
       "align_content": null,
       "align_items": null,
       "align_self": null,
       "border_bottom": null,
       "border_left": null,
       "border_right": null,
       "border_top": null,
       "bottom": null,
       "display": null,
       "flex": null,
       "flex_flow": null,
       "grid_area": null,
       "grid_auto_columns": null,
       "grid_auto_flow": null,
       "grid_auto_rows": null,
       "grid_column": null,
       "grid_gap": null,
       "grid_row": null,
       "grid_template_areas": null,
       "grid_template_columns": null,
       "grid_template_rows": null,
       "height": null,
       "justify_content": null,
       "justify_items": null,
       "left": null,
       "margin": null,
       "max_height": null,
       "max_width": null,
       "min_height": null,
       "min_width": null,
       "object_fit": null,
       "object_position": null,
       "order": null,
       "overflow": null,
       "padding": null,
       "right": null,
       "top": null,
       "visibility": null,
       "width": null
      }
     },
     "060378b345494eb88ecae708cdd906ea": {
      "model_module": "@jupyter-widgets/controls",
      "model_module_version": "2.0.0",
      "model_name": "HBoxModel",
      "state": {
       "_dom_classes": [],
       "_model_module": "@jupyter-widgets/controls",
       "_model_module_version": "2.0.0",
       "_model_name": "HBoxModel",
       "_view_count": null,
       "_view_module": "@jupyter-widgets/controls",
       "_view_module_version": "2.0.0",
       "_view_name": "HBoxView",
       "box_style": "",
       "children": [
        "IPY_MODEL_b44761a9b5b848f48795d4920d2123e8",
        "IPY_MODEL_97973f0a3254454d8cbc7a9507a27fdd",
        "IPY_MODEL_a5a234a712214d57a7b2efc6e27f0b24"
       ],
       "layout": "IPY_MODEL_d4c382ec367b4ba189fac55be60c8234",
       "tabbable": null,
       "tooltip": null
      }
     },
     "07aa42f90a314d99aca0e62350ed8198": {
      "model_module": "@jupyter-widgets/base",
      "model_module_version": "2.0.0",
      "model_name": "LayoutModel",
      "state": {
       "_model_module": "@jupyter-widgets/base",
       "_model_module_version": "2.0.0",
       "_model_name": "LayoutModel",
       "_view_count": null,
       "_view_module": "@jupyter-widgets/base",
       "_view_module_version": "2.0.0",
       "_view_name": "LayoutView",
       "align_content": null,
       "align_items": null,
       "align_self": null,
       "border_bottom": null,
       "border_left": null,
       "border_right": null,
       "border_top": null,
       "bottom": null,
       "display": null,
       "flex": null,
       "flex_flow": null,
       "grid_area": null,
       "grid_auto_columns": null,
       "grid_auto_flow": null,
       "grid_auto_rows": null,
       "grid_column": null,
       "grid_gap": null,
       "grid_row": null,
       "grid_template_areas": null,
       "grid_template_columns": null,
       "grid_template_rows": null,
       "height": null,
       "justify_content": null,
       "justify_items": null,
       "left": null,
       "margin": null,
       "max_height": null,
       "max_width": null,
       "min_height": null,
       "min_width": null,
       "object_fit": null,
       "object_position": null,
       "order": null,
       "overflow": null,
       "padding": null,
       "right": null,
       "top": null,
       "visibility": null,
       "width": null
      }
     },
     "0888aad52319479a918fa7e7d8915880": {
      "model_module": "@jupyter-widgets/controls",
      "model_module_version": "2.0.0",
      "model_name": "HTMLModel",
      "state": {
       "_dom_classes": [],
       "_model_module": "@jupyter-widgets/controls",
       "_model_module_version": "2.0.0",
       "_model_name": "HTMLModel",
       "_view_count": null,
       "_view_module": "@jupyter-widgets/controls",
       "_view_module_version": "2.0.0",
       "_view_name": "HTMLView",
       "description": "",
       "description_allow_html": false,
       "layout": "IPY_MODEL_ace4c6d0950644de92dfc90517b14b00",
       "placeholder": "​",
       "style": "IPY_MODEL_b7b98ccb668643ec8ea9b3c3e51646a6",
       "tabbable": null,
       "tooltip": null,
       "value": " 1.40k/? [00:00&lt;00:00, 148kB/s]"
      }
     },
     "0c17356a6b624ff38e8524c299cd7eff": {
      "model_module": "@jupyter-widgets/controls",
      "model_module_version": "2.0.0",
      "model_name": "HTMLModel",
      "state": {
       "_dom_classes": [],
       "_model_module": "@jupyter-widgets/controls",
       "_model_module_version": "2.0.0",
       "_model_name": "HTMLModel",
       "_view_count": null,
       "_view_module": "@jupyter-widgets/controls",
       "_view_module_version": "2.0.0",
       "_view_name": "HTMLView",
       "description": "",
       "description_allow_html": false,
       "layout": "IPY_MODEL_ea14000ed86b482aaae4f9994b159d5f",
       "placeholder": "​",
       "style": "IPY_MODEL_d4e8509063e14e24b1738ad50592c6d5",
       "tabbable": null,
       "tooltip": null,
       "value": " 147/147 [00:00&lt;00:00, 17.9kB/s]"
      }
     },
     "0c7bf0409fbe442ead70a35204acc4e7": {
      "model_module": "@jupyter-widgets/base",
      "model_module_version": "2.0.0",
      "model_name": "LayoutModel",
      "state": {
       "_model_module": "@jupyter-widgets/base",
       "_model_module_version": "2.0.0",
       "_model_name": "LayoutModel",
       "_view_count": null,
       "_view_module": "@jupyter-widgets/base",
       "_view_module_version": "2.0.0",
       "_view_name": "LayoutView",
       "align_content": null,
       "align_items": null,
       "align_self": null,
       "border_bottom": null,
       "border_left": null,
       "border_right": null,
       "border_top": null,
       "bottom": null,
       "display": null,
       "flex": null,
       "flex_flow": null,
       "grid_area": null,
       "grid_auto_columns": null,
       "grid_auto_flow": null,
       "grid_auto_rows": null,
       "grid_column": null,
       "grid_gap": null,
       "grid_row": null,
       "grid_template_areas": null,
       "grid_template_columns": null,
       "grid_template_rows": null,
       "height": null,
       "justify_content": null,
       "justify_items": null,
       "left": null,
       "margin": null,
       "max_height": null,
       "max_width": null,
       "min_height": null,
       "min_width": null,
       "object_fit": null,
       "object_position": null,
       "order": null,
       "overflow": null,
       "padding": null,
       "right": null,
       "top": null,
       "visibility": null,
       "width": null
      }
     },
     "0cc95186fac7429685a4b50efcecd406": {
      "model_module": "@jupyter-widgets/base",
      "model_module_version": "2.0.0",
      "model_name": "LayoutModel",
      "state": {
       "_model_module": "@jupyter-widgets/base",
       "_model_module_version": "2.0.0",
       "_model_name": "LayoutModel",
       "_view_count": null,
       "_view_module": "@jupyter-widgets/base",
       "_view_module_version": "2.0.0",
       "_view_name": "LayoutView",
       "align_content": null,
       "align_items": null,
       "align_self": null,
       "border_bottom": null,
       "border_left": null,
       "border_right": null,
       "border_top": null,
       "bottom": null,
       "display": null,
       "flex": null,
       "flex_flow": null,
       "grid_area": null,
       "grid_auto_columns": null,
       "grid_auto_flow": null,
       "grid_auto_rows": null,
       "grid_column": null,
       "grid_gap": null,
       "grid_row": null,
       "grid_template_areas": null,
       "grid_template_columns": null,
       "grid_template_rows": null,
       "height": null,
       "justify_content": null,
       "justify_items": null,
       "left": null,
       "margin": null,
       "max_height": null,
       "max_width": null,
       "min_height": null,
       "min_width": null,
       "object_fit": null,
       "object_position": null,
       "order": null,
       "overflow": null,
       "padding": null,
       "right": null,
       "top": null,
       "visibility": null,
       "width": null
      }
     },
     "0ff28b89daa24c5faeabf81c5200a99c": {
      "model_module": "@jupyter-widgets/base",
      "model_module_version": "2.0.0",
      "model_name": "LayoutModel",
      "state": {
       "_model_module": "@jupyter-widgets/base",
       "_model_module_version": "2.0.0",
       "_model_name": "LayoutModel",
       "_view_count": null,
       "_view_module": "@jupyter-widgets/base",
       "_view_module_version": "2.0.0",
       "_view_name": "LayoutView",
       "align_content": null,
       "align_items": null,
       "align_self": null,
       "border_bottom": null,
       "border_left": null,
       "border_right": null,
       "border_top": null,
       "bottom": null,
       "display": null,
       "flex": null,
       "flex_flow": null,
       "grid_area": null,
       "grid_auto_columns": null,
       "grid_auto_flow": null,
       "grid_auto_rows": null,
       "grid_column": null,
       "grid_gap": null,
       "grid_row": null,
       "grid_template_areas": null,
       "grid_template_columns": null,
       "grid_template_rows": null,
       "height": null,
       "justify_content": null,
       "justify_items": null,
       "left": null,
       "margin": null,
       "max_height": null,
       "max_width": null,
       "min_height": null,
       "min_width": null,
       "object_fit": null,
       "object_position": null,
       "order": null,
       "overflow": null,
       "padding": null,
       "right": null,
       "top": null,
       "visibility": null,
       "width": "20px"
      }
     },
     "10267bd44e864331bf9cb1b3b5d58e06": {
      "model_module": "@jupyter-widgets/controls",
      "model_module_version": "2.0.0",
      "model_name": "HTMLStyleModel",
      "state": {
       "_model_module": "@jupyter-widgets/controls",
       "_model_module_version": "2.0.0",
       "_model_name": "HTMLStyleModel",
       "_view_count": null,
       "_view_module": "@jupyter-widgets/base",
       "_view_module_version": "2.0.0",
       "_view_name": "StyleView",
       "background": null,
       "description_width": "",
       "font_size": null,
       "text_color": null
      }
     },
     "10f87ff4d71c47bd88d98a370d889961": {
      "model_module": "@jupyter-widgets/controls",
      "model_module_version": "2.0.0",
      "model_name": "ProgressStyleModel",
      "state": {
       "_model_module": "@jupyter-widgets/controls",
       "_model_module_version": "2.0.0",
       "_model_name": "ProgressStyleModel",
       "_view_count": null,
       "_view_module": "@jupyter-widgets/base",
       "_view_module_version": "2.0.0",
       "_view_name": "StyleView",
       "bar_color": null,
       "description_width": ""
      }
     },
     "132dc6990aec40b783f6bf0ce3f5bcf8": {
      "model_module": "@jupyter-widgets/base",
      "model_module_version": "2.0.0",
      "model_name": "LayoutModel",
      "state": {
       "_model_module": "@jupyter-widgets/base",
       "_model_module_version": "2.0.0",
       "_model_name": "LayoutModel",
       "_view_count": null,
       "_view_module": "@jupyter-widgets/base",
       "_view_module_version": "2.0.0",
       "_view_name": "LayoutView",
       "align_content": null,
       "align_items": null,
       "align_self": null,
       "border_bottom": null,
       "border_left": null,
       "border_right": null,
       "border_top": null,
       "bottom": null,
       "display": null,
       "flex": null,
       "flex_flow": null,
       "grid_area": null,
       "grid_auto_columns": null,
       "grid_auto_flow": null,
       "grid_auto_rows": null,
       "grid_column": null,
       "grid_gap": null,
       "grid_row": null,
       "grid_template_areas": null,
       "grid_template_columns": null,
       "grid_template_rows": null,
       "height": null,
       "justify_content": null,
       "justify_items": null,
       "left": null,
       "margin": null,
       "max_height": null,
       "max_width": null,
       "min_height": null,
       "min_width": null,
       "object_fit": null,
       "object_position": null,
       "order": null,
       "overflow": null,
       "padding": null,
       "right": null,
       "top": null,
       "visibility": null,
       "width": null
      }
     },
     "1400eb50684246c0b0a875ce0bc58fe8": {
      "model_module": "@jupyter-widgets/controls",
      "model_module_version": "2.0.0",
      "model_name": "HTMLStyleModel",
      "state": {
       "_model_module": "@jupyter-widgets/controls",
       "_model_module_version": "2.0.0",
       "_model_name": "HTMLStyleModel",
       "_view_count": null,
       "_view_module": "@jupyter-widgets/base",
       "_view_module_version": "2.0.0",
       "_view_name": "StyleView",
       "background": null,
       "description_width": "",
       "font_size": null,
       "text_color": null
      }
     },
     "15a3a104ceaf4eea98cb58095b8c5184": {
      "model_module": "@jupyter-widgets/controls",
      "model_module_version": "2.0.0",
      "model_name": "ProgressStyleModel",
      "state": {
       "_model_module": "@jupyter-widgets/controls",
       "_model_module_version": "2.0.0",
       "_model_name": "ProgressStyleModel",
       "_view_count": null,
       "_view_module": "@jupyter-widgets/base",
       "_view_module_version": "2.0.0",
       "_view_name": "StyleView",
       "bar_color": null,
       "description_width": ""
      }
     },
     "16b4cb1988c04f5dae327e77527d6f55": {
      "model_module": "@jupyter-widgets/controls",
      "model_module_version": "2.0.0",
      "model_name": "HTMLModel",
      "state": {
       "_dom_classes": [],
       "_model_module": "@jupyter-widgets/controls",
       "_model_module_version": "2.0.0",
       "_model_name": "HTMLModel",
       "_view_count": null,
       "_view_module": "@jupyter-widgets/controls",
       "_view_module_version": "2.0.0",
       "_view_name": "HTMLView",
       "description": "",
       "description_allow_html": false,
       "layout": "IPY_MODEL_c6d036d178e04527964cd127bd9282e4",
       "placeholder": "​",
       "style": "IPY_MODEL_58e5945097064b11ab07da093439f6bb",
       "tabbable": null,
       "tooltip": null,
       "value": " 2.20k/? [00:00&lt;00:00, 249kB/s]"
      }
     },
     "17d858316c3c46379119b8631c122faf": {
      "model_module": "@jupyter-widgets/base",
      "model_module_version": "2.0.0",
      "model_name": "LayoutModel",
      "state": {
       "_model_module": "@jupyter-widgets/base",
       "_model_module_version": "2.0.0",
       "_model_name": "LayoutModel",
       "_view_count": null,
       "_view_module": "@jupyter-widgets/base",
       "_view_module_version": "2.0.0",
       "_view_name": "LayoutView",
       "align_content": null,
       "align_items": null,
       "align_self": null,
       "border_bottom": null,
       "border_left": null,
       "border_right": null,
       "border_top": null,
       "bottom": null,
       "display": null,
       "flex": null,
       "flex_flow": null,
       "grid_area": null,
       "grid_auto_columns": null,
       "grid_auto_flow": null,
       "grid_auto_rows": null,
       "grid_column": null,
       "grid_gap": null,
       "grid_row": null,
       "grid_template_areas": null,
       "grid_template_columns": null,
       "grid_template_rows": null,
       "height": null,
       "justify_content": null,
       "justify_items": null,
       "left": null,
       "margin": null,
       "max_height": null,
       "max_width": null,
       "min_height": null,
       "min_width": null,
       "object_fit": null,
       "object_position": null,
       "order": null,
       "overflow": null,
       "padding": null,
       "right": null,
       "top": null,
       "visibility": null,
       "width": "20px"
      }
     },
     "1826c33b8c484698b829083456064fc2": {
      "model_module": "@jupyter-widgets/controls",
      "model_module_version": "2.0.0",
      "model_name": "ProgressStyleModel",
      "state": {
       "_model_module": "@jupyter-widgets/controls",
       "_model_module_version": "2.0.0",
       "_model_name": "ProgressStyleModel",
       "_view_count": null,
       "_view_module": "@jupyter-widgets/base",
       "_view_module_version": "2.0.0",
       "_view_name": "StyleView",
       "bar_color": null,
       "description_width": ""
      }
     },
     "1ab2249fba334df5bfad9093208e0959": {
      "model_module": "@jupyter-widgets/controls",
      "model_module_version": "2.0.0",
      "model_name": "HBoxModel",
      "state": {
       "_dom_classes": [],
       "_model_module": "@jupyter-widgets/controls",
       "_model_module_version": "2.0.0",
       "_model_name": "HBoxModel",
       "_view_count": null,
       "_view_module": "@jupyter-widgets/controls",
       "_view_module_version": "2.0.0",
       "_view_name": "HBoxView",
       "box_style": "",
       "children": [
        "IPY_MODEL_6b49669a32df4e51b462b2d26adc5d46",
        "IPY_MODEL_ea6b516ca91d4a81b2d6baabe8e87ff4",
        "IPY_MODEL_f0cd8b734a6a42128de9baf2780094cb"
       ],
       "layout": "IPY_MODEL_059fc77500ad45c58c6eb484476ad55f",
       "tabbable": null,
       "tooltip": null
      }
     },
     "1ac24b6726884be482e5b4dbfb483da5": {
      "model_module": "@jupyter-widgets/controls",
      "model_module_version": "2.0.0",
      "model_name": "HTMLStyleModel",
      "state": {
       "_model_module": "@jupyter-widgets/controls",
       "_model_module_version": "2.0.0",
       "_model_name": "HTMLStyleModel",
       "_view_count": null,
       "_view_module": "@jupyter-widgets/base",
       "_view_module_version": "2.0.0",
       "_view_name": "StyleView",
       "background": null,
       "description_width": "",
       "font_size": null,
       "text_color": null
      }
     },
     "1d116564122a487eb1927562921b8ae4": {
      "model_module": "@jupyter-widgets/base",
      "model_module_version": "2.0.0",
      "model_name": "LayoutModel",
      "state": {
       "_model_module": "@jupyter-widgets/base",
       "_model_module_version": "2.0.0",
       "_model_name": "LayoutModel",
       "_view_count": null,
       "_view_module": "@jupyter-widgets/base",
       "_view_module_version": "2.0.0",
       "_view_name": "LayoutView",
       "align_content": null,
       "align_items": null,
       "align_self": null,
       "border_bottom": null,
       "border_left": null,
       "border_right": null,
       "border_top": null,
       "bottom": null,
       "display": null,
       "flex": null,
       "flex_flow": null,
       "grid_area": null,
       "grid_auto_columns": null,
       "grid_auto_flow": null,
       "grid_auto_rows": null,
       "grid_column": null,
       "grid_gap": null,
       "grid_row": null,
       "grid_template_areas": null,
       "grid_template_columns": null,
       "grid_template_rows": null,
       "height": null,
       "justify_content": null,
       "justify_items": null,
       "left": null,
       "margin": null,
       "max_height": null,
       "max_width": null,
       "min_height": null,
       "min_width": null,
       "object_fit": null,
       "object_position": null,
       "order": null,
       "overflow": null,
       "padding": null,
       "right": null,
       "top": null,
       "visibility": null,
       "width": "20px"
      }
     },
     "1d1f73c8df1a460c83eadc8a4a3a0885": {
      "model_module": "@jupyter-widgets/controls",
      "model_module_version": "2.0.0",
      "model_name": "HBoxModel",
      "state": {
       "_dom_classes": [],
       "_model_module": "@jupyter-widgets/controls",
       "_model_module_version": "2.0.0",
       "_model_name": "HBoxModel",
       "_view_count": null,
       "_view_module": "@jupyter-widgets/controls",
       "_view_module_version": "2.0.0",
       "_view_name": "HBoxView",
       "box_style": "",
       "children": [
        "IPY_MODEL_8679b2e5727c498b8d6a56a620db28d9",
        "IPY_MODEL_e5d0657eba834353a37a070baf3d8b0a",
        "IPY_MODEL_8df9cba3227d4f558f340457a92ad51f"
       ],
       "layout": "IPY_MODEL_29c1af248d5c47aeba23c04b6aed0828",
       "tabbable": null,
       "tooltip": null
      }
     },
     "1e17e32fc8114609801ec152e8909bed": {
      "model_module": "@jupyter-widgets/controls",
      "model_module_version": "2.0.0",
      "model_name": "HTMLStyleModel",
      "state": {
       "_model_module": "@jupyter-widgets/controls",
       "_model_module_version": "2.0.0",
       "_model_name": "HTMLStyleModel",
       "_view_count": null,
       "_view_module": "@jupyter-widgets/base",
       "_view_module_version": "2.0.0",
       "_view_name": "StyleView",
       "background": null,
       "description_width": "",
       "font_size": null,
       "text_color": null
      }
     },
     "1f9d1b4b1e464f03aef2a3891ead9470": {
      "model_module": "@jupyter-widgets/controls",
      "model_module_version": "2.0.0",
      "model_name": "HTMLModel",
      "state": {
       "_dom_classes": [],
       "_model_module": "@jupyter-widgets/controls",
       "_model_module_version": "2.0.0",
       "_model_name": "HTMLModel",
       "_view_count": null,
       "_view_module": "@jupyter-widgets/controls",
       "_view_module_version": "2.0.0",
       "_view_name": "HTMLView",
       "description": "",
       "description_allow_html": false,
       "layout": "IPY_MODEL_2ed529fd961e4133aa62b42ab2b52b80",
       "placeholder": "​",
       "style": "IPY_MODEL_1e17e32fc8114609801ec152e8909bed",
       "tabbable": null,
       "tooltip": null,
       "value": " 990M/990M [00:04&lt;00:00, 222MB/s]"
      }
     },
     "20e0a82084f145e084126852eb0667c0": {
      "model_module": "@jupyter-widgets/controls",
      "model_module_version": "2.0.0",
      "model_name": "FloatProgressModel",
      "state": {
       "_dom_classes": [],
       "_model_module": "@jupyter-widgets/controls",
       "_model_module_version": "2.0.0",
       "_model_name": "FloatProgressModel",
       "_view_count": null,
       "_view_module": "@jupyter-widgets/controls",
       "_view_module_version": "2.0.0",
       "_view_name": "ProgressView",
       "bar_style": "success",
       "description": "",
       "description_allow_html": false,
       "layout": "IPY_MODEL_e82dcb1966de4cb0bf17c1a7152916a3",
       "max": 989820849.0,
       "min": 0.0,
       "orientation": "horizontal",
       "style": "IPY_MODEL_1826c33b8c484698b829083456064fc2",
       "tabbable": null,
       "tooltip": null,
       "value": 989820849.0
      }
     },
     "2251a8d5495745768f4bdaae5ce05898": {
      "model_module": "@jupyter-widgets/controls",
      "model_module_version": "2.0.0",
      "model_name": "HTMLStyleModel",
      "state": {
       "_model_module": "@jupyter-widgets/controls",
       "_model_module_version": "2.0.0",
       "_model_name": "HTMLStyleModel",
       "_view_count": null,
       "_view_module": "@jupyter-widgets/base",
       "_view_module_version": "2.0.0",
       "_view_name": "StyleView",
       "background": null,
       "description_width": "",
       "font_size": null,
       "text_color": null
      }
     },
     "2390d2a2d8cb4bb7b0f96e3872616aea": {
      "model_module": "@jupyter-widgets/controls",
      "model_module_version": "2.0.0",
      "model_name": "HTMLStyleModel",
      "state": {
       "_model_module": "@jupyter-widgets/controls",
       "_model_module_version": "2.0.0",
       "_model_name": "HTMLStyleModel",
       "_view_count": null,
       "_view_module": "@jupyter-widgets/base",
       "_view_module_version": "2.0.0",
       "_view_name": "StyleView",
       "background": null,
       "description_width": "",
       "font_size": null,
       "text_color": null
      }
     },
     "242080e060e74eb5967ca9b08de24572": {
      "model_module": "@jupyter-widgets/controls",
      "model_module_version": "2.0.0",
      "model_name": "HTMLStyleModel",
      "state": {
       "_model_module": "@jupyter-widgets/controls",
       "_model_module_version": "2.0.0",
       "_model_name": "HTMLStyleModel",
       "_view_count": null,
       "_view_module": "@jupyter-widgets/base",
       "_view_module_version": "2.0.0",
       "_view_name": "StyleView",
       "background": null,
       "description_width": "",
       "font_size": null,
       "text_color": null
      }
     },
     "26e87290faa449bca1c48324c301069a": {
      "model_module": "@jupyter-widgets/controls",
      "model_module_version": "2.0.0",
      "model_name": "HTMLModel",
      "state": {
       "_dom_classes": [],
       "_model_module": "@jupyter-widgets/controls",
       "_model_module_version": "2.0.0",
       "_model_name": "HTMLModel",
       "_view_count": null,
       "_view_module": "@jupyter-widgets/controls",
       "_view_module_version": "2.0.0",
       "_view_name": "HTMLView",
       "description": "",
       "description_allow_html": false,
       "layout": "IPY_MODEL_93862a80a8a94da48cb8e59204b4249c",
       "placeholder": "​",
       "style": "IPY_MODEL_2251a8d5495745768f4bdaae5ce05898",
       "tabbable": null,
       "tooltip": null,
       "value": " 125/125 [00:00&lt;00:00, 17.0kB/s]"
      }
     },
     "278eaddaa9bc4c9fb7bf558e2c2421f6": {
      "model_module": "@jupyter-widgets/controls",
      "model_module_version": "2.0.0",
      "model_name": "HBoxModel",
      "state": {
       "_dom_classes": [],
       "_model_module": "@jupyter-widgets/controls",
       "_model_module_version": "2.0.0",
       "_model_name": "HBoxModel",
       "_view_count": null,
       "_view_module": "@jupyter-widgets/controls",
       "_view_module_version": "2.0.0",
       "_view_name": "HBoxView",
       "box_style": "",
       "children": [
        "IPY_MODEL_29949e973be54081821642ac5361ed30",
        "IPY_MODEL_b1d99fbf63b34e10bfe0099bb7d57af4",
        "IPY_MODEL_16b4cb1988c04f5dae327e77527d6f55"
       ],
       "layout": "IPY_MODEL_132dc6990aec40b783f6bf0ce3f5bcf8",
       "tabbable": null,
       "tooltip": null
      }
     },
     "298e8c48eb8c453490ac36a89b603483": {
      "model_module": "@jupyter-widgets/base",
      "model_module_version": "2.0.0",
      "model_name": "LayoutModel",
      "state": {
       "_model_module": "@jupyter-widgets/base",
       "_model_module_version": "2.0.0",
       "_model_name": "LayoutModel",
       "_view_count": null,
       "_view_module": "@jupyter-widgets/base",
       "_view_module_version": "2.0.0",
       "_view_name": "LayoutView",
       "align_content": null,
       "align_items": null,
       "align_self": null,
       "border_bottom": null,
       "border_left": null,
       "border_right": null,
       "border_top": null,
       "bottom": null,
       "display": null,
       "flex": null,
       "flex_flow": null,
       "grid_area": null,
       "grid_auto_columns": null,
       "grid_auto_flow": null,
       "grid_auto_rows": null,
       "grid_column": null,
       "grid_gap": null,
       "grid_row": null,
       "grid_template_areas": null,
       "grid_template_columns": null,
       "grid_template_rows": null,
       "height": null,
       "justify_content": null,
       "justify_items": null,
       "left": null,
       "margin": null,
       "max_height": null,
       "max_width": null,
       "min_height": null,
       "min_width": null,
       "object_fit": null,
       "object_position": null,
       "order": null,
       "overflow": null,
       "padding": null,
       "right": null,
       "top": null,
       "visibility": null,
       "width": null
      }
     },
     "29949e973be54081821642ac5361ed30": {
      "model_module": "@jupyter-widgets/controls",
      "model_module_version": "2.0.0",
      "model_name": "HTMLModel",
      "state": {
       "_dom_classes": [],
       "_model_module": "@jupyter-widgets/controls",
       "_model_module_version": "2.0.0",
       "_model_name": "HTMLModel",
       "_view_count": null,
       "_view_module": "@jupyter-widgets/controls",
       "_view_module_version": "2.0.0",
       "_view_name": "HTMLView",
       "description": "",
       "description_allow_html": false,
       "layout": "IPY_MODEL_bc90f40b14f845d6bbcd864407bb23c7",
       "placeholder": "​",
       "style": "IPY_MODEL_5480ddc381054ae0b05d0dd3de7da1e7",
       "tabbable": null,
       "tooltip": null,
       "value": "special_tokens_map.json: "
      }
     },
     "29c1af248d5c47aeba23c04b6aed0828": {
      "model_module": "@jupyter-widgets/base",
      "model_module_version": "2.0.0",
      "model_name": "LayoutModel",
      "state": {
       "_model_module": "@jupyter-widgets/base",
       "_model_module_version": "2.0.0",
       "_model_name": "LayoutModel",
       "_view_count": null,
       "_view_module": "@jupyter-widgets/base",
       "_view_module_version": "2.0.0",
       "_view_name": "LayoutView",
       "align_content": null,
       "align_items": null,
       "align_self": null,
       "border_bottom": null,
       "border_left": null,
       "border_right": null,
       "border_top": null,
       "bottom": null,
       "display": null,
       "flex": null,
       "flex_flow": null,
       "grid_area": null,
       "grid_auto_columns": null,
       "grid_auto_flow": null,
       "grid_auto_rows": null,
       "grid_column": null,
       "grid_gap": null,
       "grid_row": null,
       "grid_template_areas": null,
       "grid_template_columns": null,
       "grid_template_rows": null,
       "height": null,
       "justify_content": null,
       "justify_items": null,
       "left": null,
       "margin": null,
       "max_height": null,
       "max_width": null,
       "min_height": null,
       "min_width": null,
       "object_fit": null,
       "object_position": null,
       "order": null,
       "overflow": null,
       "padding": null,
       "right": null,
       "top": null,
       "visibility": null,
       "width": null
      }
     },
     "2cad6547b9114d10b205fb3c3491786f": {
      "model_module": "@jupyter-widgets/controls",
      "model_module_version": "2.0.0",
      "model_name": "ProgressStyleModel",
      "state": {
       "_model_module": "@jupyter-widgets/controls",
       "_model_module_version": "2.0.0",
       "_model_name": "ProgressStyleModel",
       "_view_count": null,
       "_view_module": "@jupyter-widgets/base",
       "_view_module_version": "2.0.0",
       "_view_name": "StyleView",
       "bar_color": null,
       "description_width": ""
      }
     },
     "2d160eb7a22741fb90a4f5ac31833b46": {
      "model_module": "@jupyter-widgets/base",
      "model_module_version": "2.0.0",
      "model_name": "LayoutModel",
      "state": {
       "_model_module": "@jupyter-widgets/base",
       "_model_module_version": "2.0.0",
       "_model_name": "LayoutModel",
       "_view_count": null,
       "_view_module": "@jupyter-widgets/base",
       "_view_module_version": "2.0.0",
       "_view_name": "LayoutView",
       "align_content": null,
       "align_items": null,
       "align_self": null,
       "border_bottom": null,
       "border_left": null,
       "border_right": null,
       "border_top": null,
       "bottom": null,
       "display": null,
       "flex": null,
       "flex_flow": null,
       "grid_area": null,
       "grid_auto_columns": null,
       "grid_auto_flow": null,
       "grid_auto_rows": null,
       "grid_column": null,
       "grid_gap": null,
       "grid_row": null,
       "grid_template_areas": null,
       "grid_template_columns": null,
       "grid_template_rows": null,
       "height": null,
       "justify_content": null,
       "justify_items": null,
       "left": null,
       "margin": null,
       "max_height": null,
       "max_width": null,
       "min_height": null,
       "min_width": null,
       "object_fit": null,
       "object_position": null,
       "order": null,
       "overflow": null,
       "padding": null,
       "right": null,
       "top": null,
       "visibility": null,
       "width": null
      }
     },
     "2ed529fd961e4133aa62b42ab2b52b80": {
      "model_module": "@jupyter-widgets/base",
      "model_module_version": "2.0.0",
      "model_name": "LayoutModel",
      "state": {
       "_model_module": "@jupyter-widgets/base",
       "_model_module_version": "2.0.0",
       "_model_name": "LayoutModel",
       "_view_count": null,
       "_view_module": "@jupyter-widgets/base",
       "_view_module_version": "2.0.0",
       "_view_name": "LayoutView",
       "align_content": null,
       "align_items": null,
       "align_self": null,
       "border_bottom": null,
       "border_left": null,
       "border_right": null,
       "border_top": null,
       "bottom": null,
       "display": null,
       "flex": null,
       "flex_flow": null,
       "grid_area": null,
       "grid_auto_columns": null,
       "grid_auto_flow": null,
       "grid_auto_rows": null,
       "grid_column": null,
       "grid_gap": null,
       "grid_row": null,
       "grid_template_areas": null,
       "grid_template_columns": null,
       "grid_template_rows": null,
       "height": null,
       "justify_content": null,
       "justify_items": null,
       "left": null,
       "margin": null,
       "max_height": null,
       "max_width": null,
       "min_height": null,
       "min_width": null,
       "object_fit": null,
       "object_position": null,
       "order": null,
       "overflow": null,
       "padding": null,
       "right": null,
       "top": null,
       "visibility": null,
       "width": null
      }
     },
     "35756926408344409a0e7a60256432cc": {
      "model_module": "@jupyter-widgets/base",
      "model_module_version": "2.0.0",
      "model_name": "LayoutModel",
      "state": {
       "_model_module": "@jupyter-widgets/base",
       "_model_module_version": "2.0.0",
       "_model_name": "LayoutModel",
       "_view_count": null,
       "_view_module": "@jupyter-widgets/base",
       "_view_module_version": "2.0.0",
       "_view_name": "LayoutView",
       "align_content": null,
       "align_items": null,
       "align_self": null,
       "border_bottom": null,
       "border_left": null,
       "border_right": null,
       "border_top": null,
       "bottom": null,
       "display": null,
       "flex": null,
       "flex_flow": null,
       "grid_area": null,
       "grid_auto_columns": null,
       "grid_auto_flow": null,
       "grid_auto_rows": null,
       "grid_column": null,
       "grid_gap": null,
       "grid_row": null,
       "grid_template_areas": null,
       "grid_template_columns": null,
       "grid_template_rows": null,
       "height": null,
       "justify_content": null,
       "justify_items": null,
       "left": null,
       "margin": null,
       "max_height": null,
       "max_width": null,
       "min_height": null,
       "min_width": null,
       "object_fit": null,
       "object_position": null,
       "order": null,
       "overflow": null,
       "padding": null,
       "right": null,
       "top": null,
       "visibility": null,
       "width": null
      }
     },
     "3722e6eff10a4185be06282c20f45ff1": {
      "model_module": "@jupyter-widgets/controls",
      "model_module_version": "2.0.0",
      "model_name": "HBoxModel",
      "state": {
       "_dom_classes": [],
       "_model_module": "@jupyter-widgets/controls",
       "_model_module_version": "2.0.0",
       "_model_name": "HBoxModel",
       "_view_count": null,
       "_view_module": "@jupyter-widgets/controls",
       "_view_module_version": "2.0.0",
       "_view_name": "HBoxView",
       "box_style": "",
       "children": [
        "IPY_MODEL_66fe67900899491db64ed0736455fc5e",
        "IPY_MODEL_20e0a82084f145e084126852eb0667c0",
        "IPY_MODEL_1f9d1b4b1e464f03aef2a3891ead9470"
       ],
       "layout": "IPY_MODEL_298e8c48eb8c453490ac36a89b603483",
       "tabbable": null,
       "tooltip": null
      }
     },
     "374fc114d3b842358863cf3375ee9ad0": {
      "model_module": "@jupyter-widgets/base",
      "model_module_version": "2.0.0",
      "model_name": "LayoutModel",
      "state": {
       "_model_module": "@jupyter-widgets/base",
       "_model_module_version": "2.0.0",
       "_model_name": "LayoutModel",
       "_view_count": null,
       "_view_module": "@jupyter-widgets/base",
       "_view_module_version": "2.0.0",
       "_view_name": "LayoutView",
       "align_content": null,
       "align_items": null,
       "align_self": null,
       "border_bottom": null,
       "border_left": null,
       "border_right": null,
       "border_top": null,
       "bottom": null,
       "display": null,
       "flex": null,
       "flex_flow": null,
       "grid_area": null,
       "grid_auto_columns": null,
       "grid_auto_flow": null,
       "grid_auto_rows": null,
       "grid_column": null,
       "grid_gap": null,
       "grid_row": null,
       "grid_template_areas": null,
       "grid_template_columns": null,
       "grid_template_rows": null,
       "height": null,
       "justify_content": null,
       "justify_items": null,
       "left": null,
       "margin": null,
       "max_height": null,
       "max_width": null,
       "min_height": null,
       "min_width": null,
       "object_fit": null,
       "object_position": null,
       "order": null,
       "overflow": null,
       "padding": null,
       "right": null,
       "top": null,
       "visibility": null,
       "width": null
      }
     },
     "38aff4860ce643c2bb9a684d294a4e5a": {
      "model_module": "@jupyter-widgets/base",
      "model_module_version": "2.0.0",
      "model_name": "LayoutModel",
      "state": {
       "_model_module": "@jupyter-widgets/base",
       "_model_module_version": "2.0.0",
       "_model_name": "LayoutModel",
       "_view_count": null,
       "_view_module": "@jupyter-widgets/base",
       "_view_module_version": "2.0.0",
       "_view_name": "LayoutView",
       "align_content": null,
       "align_items": null,
       "align_self": null,
       "border_bottom": null,
       "border_left": null,
       "border_right": null,
       "border_top": null,
       "bottom": null,
       "display": null,
       "flex": null,
       "flex_flow": null,
       "grid_area": null,
       "grid_auto_columns": null,
       "grid_auto_flow": null,
       "grid_auto_rows": null,
       "grid_column": null,
       "grid_gap": null,
       "grid_row": null,
       "grid_template_areas": null,
       "grid_template_columns": null,
       "grid_template_rows": null,
       "height": null,
       "justify_content": null,
       "justify_items": null,
       "left": null,
       "margin": null,
       "max_height": null,
       "max_width": null,
       "min_height": null,
       "min_width": null,
       "object_fit": null,
       "object_position": null,
       "order": null,
       "overflow": null,
       "padding": null,
       "right": null,
       "top": null,
       "visibility": null,
       "width": null
      }
     },
     "38d24e9dae574f9fb02682894de85ec5": {
      "model_module": "@jupyter-widgets/controls",
      "model_module_version": "2.0.0",
      "model_name": "HTMLStyleModel",
      "state": {
       "_model_module": "@jupyter-widgets/controls",
       "_model_module_version": "2.0.0",
       "_model_name": "HTMLStyleModel",
       "_view_count": null,
       "_view_module": "@jupyter-widgets/base",
       "_view_module_version": "2.0.0",
       "_view_name": "StyleView",
       "background": null,
       "description_width": "",
       "font_size": null,
       "text_color": null
      }
     },
     "3c2618c45c2f47ff8900da303ad06853": {
      "model_module": "@jupyter-widgets/base",
      "model_module_version": "2.0.0",
      "model_name": "LayoutModel",
      "state": {
       "_model_module": "@jupyter-widgets/base",
       "_model_module_version": "2.0.0",
       "_model_name": "LayoutModel",
       "_view_count": null,
       "_view_module": "@jupyter-widgets/base",
       "_view_module_version": "2.0.0",
       "_view_name": "LayoutView",
       "align_content": null,
       "align_items": null,
       "align_self": null,
       "border_bottom": null,
       "border_left": null,
       "border_right": null,
       "border_top": null,
       "bottom": null,
       "display": null,
       "flex": null,
       "flex_flow": null,
       "grid_area": null,
       "grid_auto_columns": null,
       "grid_auto_flow": null,
       "grid_auto_rows": null,
       "grid_column": null,
       "grid_gap": null,
       "grid_row": null,
       "grid_template_areas": null,
       "grid_template_columns": null,
       "grid_template_rows": null,
       "height": null,
       "justify_content": null,
       "justify_items": null,
       "left": null,
       "margin": null,
       "max_height": null,
       "max_width": null,
       "min_height": null,
       "min_width": null,
       "object_fit": null,
       "object_position": null,
       "order": null,
       "overflow": null,
       "padding": null,
       "right": null,
       "top": null,
       "visibility": null,
       "width": null
      }
     },
     "3c5249791ca94a13be4935b3924fcee6": {
      "model_module": "@jupyter-widgets/base",
      "model_module_version": "2.0.0",
      "model_name": "LayoutModel",
      "state": {
       "_model_module": "@jupyter-widgets/base",
       "_model_module_version": "2.0.0",
       "_model_name": "LayoutModel",
       "_view_count": null,
       "_view_module": "@jupyter-widgets/base",
       "_view_module_version": "2.0.0",
       "_view_name": "LayoutView",
       "align_content": null,
       "align_items": null,
       "align_self": null,
       "border_bottom": null,
       "border_left": null,
       "border_right": null,
       "border_top": null,
       "bottom": null,
       "display": null,
       "flex": null,
       "flex_flow": null,
       "grid_area": null,
       "grid_auto_columns": null,
       "grid_auto_flow": null,
       "grid_auto_rows": null,
       "grid_column": null,
       "grid_gap": null,
       "grid_row": null,
       "grid_template_areas": null,
       "grid_template_columns": null,
       "grid_template_rows": null,
       "height": null,
       "justify_content": null,
       "justify_items": null,
       "left": null,
       "margin": null,
       "max_height": null,
       "max_width": null,
       "min_height": null,
       "min_width": null,
       "object_fit": null,
       "object_position": null,
       "order": null,
       "overflow": null,
       "padding": null,
       "right": null,
       "top": null,
       "visibility": null,
       "width": null
      }
     },
     "4124a1313c1e40448c15ea7bcb712f79": {
      "model_module": "@jupyter-widgets/controls",
      "model_module_version": "2.0.0",
      "model_name": "FloatProgressModel",
      "state": {
       "_dom_classes": [],
       "_model_module": "@jupyter-widgets/controls",
       "_model_module_version": "2.0.0",
       "_model_name": "FloatProgressModel",
       "_view_count": null,
       "_view_module": "@jupyter-widgets/controls",
       "_view_module_version": "2.0.0",
       "_view_name": "ProgressView",
       "bar_style": "success",
       "description": "",
       "description_allow_html": false,
       "layout": "IPY_MODEL_1d116564122a487eb1927562921b8ae4",
       "max": 1.0,
       "min": 0.0,
       "orientation": "horizontal",
       "style": "IPY_MODEL_fa1b168ae35e4ed987eb8c3d6e22fd25",
       "tabbable": null,
       "tooltip": null,
       "value": 1.0
      }
     },
     "439ef64a40264a20b8864b78de7eade8": {
      "model_module": "@jupyter-widgets/controls",
      "model_module_version": "2.0.0",
      "model_name": "ProgressStyleModel",
      "state": {
       "_model_module": "@jupyter-widgets/controls",
       "_model_module_version": "2.0.0",
       "_model_name": "ProgressStyleModel",
       "_view_count": null,
       "_view_module": "@jupyter-widgets/base",
       "_view_module_version": "2.0.0",
       "_view_name": "StyleView",
       "bar_color": null,
       "description_width": ""
      }
     },
     "43a6f81ce53c4a8f991b082624fe3d01": {
      "model_module": "@jupyter-widgets/controls",
      "model_module_version": "2.0.0",
      "model_name": "ProgressStyleModel",
      "state": {
       "_model_module": "@jupyter-widgets/controls",
       "_model_module_version": "2.0.0",
       "_model_name": "ProgressStyleModel",
       "_view_count": null,
       "_view_module": "@jupyter-widgets/base",
       "_view_module_version": "2.0.0",
       "_view_name": "StyleView",
       "bar_color": null,
       "description_width": ""
      }
     },
     "47d3c2a2649a4f3aac0929e245ddbe11": {
      "model_module": "@jupyter-widgets/controls",
      "model_module_version": "2.0.0",
      "model_name": "HTMLModel",
      "state": {
       "_dom_classes": [],
       "_model_module": "@jupyter-widgets/controls",
       "_model_module_version": "2.0.0",
       "_model_name": "HTMLModel",
       "_view_count": null,
       "_view_module": "@jupyter-widgets/controls",
       "_view_module_version": "2.0.0",
       "_view_name": "HTMLView",
       "description": "",
       "description_allow_html": false,
       "layout": "IPY_MODEL_38aff4860ce643c2bb9a684d294a4e5a",
       "placeholder": "​",
       "style": "IPY_MODEL_0462991989c04463ab949e9ca1e1cf93",
       "tabbable": null,
       "tooltip": null,
       "value": " 4.56k/? [00:00&lt;00:00, 366kB/s]"
      }
     },
     "4e4602950eed4aa7ae955ece2907cf43": {
      "model_module": "@jupyter-widgets/controls",
      "model_module_version": "2.0.0",
      "model_name": "HTMLModel",
      "state": {
       "_dom_classes": [],
       "_model_module": "@jupyter-widgets/controls",
       "_model_module_version": "2.0.0",
       "_model_name": "HTMLModel",
       "_view_count": null,
       "_view_module": "@jupyter-widgets/controls",
       "_view_module_version": "2.0.0",
       "_view_name": "HTMLView",
       "description": "",
       "description_allow_html": false,
       "layout": "IPY_MODEL_c9fc11631a574d4196f80654cc7f5f69",
       "placeholder": "​",
       "style": "IPY_MODEL_68a0cfde63b34381859c7217c79f9827",
       "tabbable": null,
       "tooltip": null,
       "value": " 2.42M/? [00:00&lt;00:00, 105MB/s]"
      }
     },
     "4eb82cf3f2ef47da83ba9ab810e6ecc0": {
      "model_module": "@jupyter-widgets/controls",
      "model_module_version": "2.0.0",
      "model_name": "HTMLStyleModel",
      "state": {
       "_model_module": "@jupyter-widgets/controls",
       "_model_module_version": "2.0.0",
       "_model_name": "HTMLStyleModel",
       "_view_count": null,
       "_view_module": "@jupyter-widgets/base",
       "_view_module_version": "2.0.0",
       "_view_name": "StyleView",
       "background": null,
       "description_width": "",
       "font_size": null,
       "text_color": null
      }
     },
     "5480ddc381054ae0b05d0dd3de7da1e7": {
      "model_module": "@jupyter-widgets/controls",
      "model_module_version": "2.0.0",
      "model_name": "HTMLStyleModel",
      "state": {
       "_model_module": "@jupyter-widgets/controls",
       "_model_module_version": "2.0.0",
       "_model_name": "HTMLStyleModel",
       "_view_count": null,
       "_view_module": "@jupyter-widgets/base",
       "_view_module_version": "2.0.0",
       "_view_name": "StyleView",
       "background": null,
       "description_width": "",
       "font_size": null,
       "text_color": null
      }
     },
     "5793faa0d460417d834b1167fc6085bb": {
      "model_module": "@jupyter-widgets/base",
      "model_module_version": "2.0.0",
      "model_name": "LayoutModel",
      "state": {
       "_model_module": "@jupyter-widgets/base",
       "_model_module_version": "2.0.0",
       "_model_name": "LayoutModel",
       "_view_count": null,
       "_view_module": "@jupyter-widgets/base",
       "_view_module_version": "2.0.0",
       "_view_name": "LayoutView",
       "align_content": null,
       "align_items": null,
       "align_self": null,
       "border_bottom": null,
       "border_left": null,
       "border_right": null,
       "border_top": null,
       "bottom": null,
       "display": null,
       "flex": null,
       "flex_flow": null,
       "grid_area": null,
       "grid_auto_columns": null,
       "grid_auto_flow": null,
       "grid_auto_rows": null,
       "grid_column": null,
       "grid_gap": null,
       "grid_row": null,
       "grid_template_areas": null,
       "grid_template_columns": null,
       "grid_template_rows": null,
       "height": null,
       "justify_content": null,
       "justify_items": null,
       "left": null,
       "margin": null,
       "max_height": null,
       "max_width": null,
       "min_height": null,
       "min_width": null,
       "object_fit": null,
       "object_position": null,
       "order": null,
       "overflow": null,
       "padding": null,
       "right": null,
       "top": null,
       "visibility": null,
       "width": null
      }
     },
     "58e5945097064b11ab07da093439f6bb": {
      "model_module": "@jupyter-widgets/controls",
      "model_module_version": "2.0.0",
      "model_name": "HTMLStyleModel",
      "state": {
       "_model_module": "@jupyter-widgets/controls",
       "_model_module_version": "2.0.0",
       "_model_name": "HTMLStyleModel",
       "_view_count": null,
       "_view_module": "@jupyter-widgets/base",
       "_view_module_version": "2.0.0",
       "_view_name": "StyleView",
       "background": null,
       "description_width": "",
       "font_size": null,
       "text_color": null
      }
     },
     "59e4d22e408e49a6b1aec73f5c07b4af": {
      "model_module": "@jupyter-widgets/controls",
      "model_module_version": "2.0.0",
      "model_name": "HTMLStyleModel",
      "state": {
       "_model_module": "@jupyter-widgets/controls",
       "_model_module_version": "2.0.0",
       "_model_name": "HTMLStyleModel",
       "_view_count": null,
       "_view_module": "@jupyter-widgets/base",
       "_view_module_version": "2.0.0",
       "_view_name": "StyleView",
       "background": null,
       "description_width": "",
       "font_size": null,
       "text_color": null
      }
     },
     "5a6844a13a164beb8d43a30847621df6": {
      "model_module": "@jupyter-widgets/controls",
      "model_module_version": "2.0.0",
      "model_name": "HTMLStyleModel",
      "state": {
       "_model_module": "@jupyter-widgets/controls",
       "_model_module_version": "2.0.0",
       "_model_name": "HTMLStyleModel",
       "_view_count": null,
       "_view_module": "@jupyter-widgets/base",
       "_view_module_version": "2.0.0",
       "_view_name": "StyleView",
       "background": null,
       "description_width": "",
       "font_size": null,
       "text_color": null
      }
     },
     "5c90230eaa9b419785e47d402e7b7ead": {
      "model_module": "@jupyter-widgets/base",
      "model_module_version": "2.0.0",
      "model_name": "LayoutModel",
      "state": {
       "_model_module": "@jupyter-widgets/base",
       "_model_module_version": "2.0.0",
       "_model_name": "LayoutModel",
       "_view_count": null,
       "_view_module": "@jupyter-widgets/base",
       "_view_module_version": "2.0.0",
       "_view_name": "LayoutView",
       "align_content": null,
       "align_items": null,
       "align_self": null,
       "border_bottom": null,
       "border_left": null,
       "border_right": null,
       "border_top": null,
       "bottom": null,
       "display": null,
       "flex": null,
       "flex_flow": null,
       "grid_area": null,
       "grid_auto_columns": null,
       "grid_auto_flow": null,
       "grid_auto_rows": null,
       "grid_column": null,
       "grid_gap": null,
       "grid_row": null,
       "grid_template_areas": null,
       "grid_template_columns": null,
       "grid_template_rows": null,
       "height": null,
       "justify_content": null,
       "justify_items": null,
       "left": null,
       "margin": null,
       "max_height": null,
       "max_width": null,
       "min_height": null,
       "min_width": null,
       "object_fit": null,
       "object_position": null,
       "order": null,
       "overflow": null,
       "padding": null,
       "right": null,
       "top": null,
       "visibility": null,
       "width": "20px"
      }
     },
     "5e72f4f51df9422f824a1c00b41df6d1": {
      "model_module": "@jupyter-widgets/controls",
      "model_module_version": "2.0.0",
      "model_name": "HTMLStyleModel",
      "state": {
       "_model_module": "@jupyter-widgets/controls",
       "_model_module_version": "2.0.0",
       "_model_name": "HTMLStyleModel",
       "_view_count": null,
       "_view_module": "@jupyter-widgets/base",
       "_view_module_version": "2.0.0",
       "_view_name": "StyleView",
       "background": null,
       "description_width": "",
       "font_size": null,
       "text_color": null
      }
     },
     "5ee17846d51a437c9a4b426bfd936f86": {
      "model_module": "@jupyter-widgets/controls",
      "model_module_version": "2.0.0",
      "model_name": "HBoxModel",
      "state": {
       "_dom_classes": [],
       "_model_module": "@jupyter-widgets/controls",
       "_model_module_version": "2.0.0",
       "_model_name": "HBoxModel",
       "_view_count": null,
       "_view_module": "@jupyter-widgets/controls",
       "_view_module_version": "2.0.0",
       "_view_name": "HBoxView",
       "box_style": "",
       "children": [
        "IPY_MODEL_a2878d632f0d4aa4a2b265398333ec50",
        "IPY_MODEL_9332c2a670ba4694a0c458f190fc2e56",
        "IPY_MODEL_4e4602950eed4aa7ae955ece2907cf43"
       ],
       "layout": "IPY_MODEL_ab2c58ce4b6443c7840c055e9f67dea1",
       "tabbable": null,
       "tooltip": null
      }
     },
     "61d1ae3820714ba4ae1359b2919504b5": {
      "model_module": "@jupyter-widgets/base",
      "model_module_version": "2.0.0",
      "model_name": "LayoutModel",
      "state": {
       "_model_module": "@jupyter-widgets/base",
       "_model_module_version": "2.0.0",
       "_model_name": "LayoutModel",
       "_view_count": null,
       "_view_module": "@jupyter-widgets/base",
       "_view_module_version": "2.0.0",
       "_view_name": "LayoutView",
       "align_content": null,
       "align_items": null,
       "align_self": null,
       "border_bottom": null,
       "border_left": null,
       "border_right": null,
       "border_top": null,
       "bottom": null,
       "display": null,
       "flex": null,
       "flex_flow": null,
       "grid_area": null,
       "grid_auto_columns": null,
       "grid_auto_flow": null,
       "grid_auto_rows": null,
       "grid_column": null,
       "grid_gap": null,
       "grid_row": null,
       "grid_template_areas": null,
       "grid_template_columns": null,
       "grid_template_rows": null,
       "height": null,
       "justify_content": null,
       "justify_items": null,
       "left": null,
       "margin": null,
       "max_height": null,
       "max_width": null,
       "min_height": null,
       "min_width": null,
       "object_fit": null,
       "object_position": null,
       "order": null,
       "overflow": null,
       "padding": null,
       "right": null,
       "top": null,
       "visibility": null,
       "width": null
      }
     },
     "61f101a35ce642f4b5d126772c8f8642": {
      "model_module": "@jupyter-widgets/base",
      "model_module_version": "2.0.0",
      "model_name": "LayoutModel",
      "state": {
       "_model_module": "@jupyter-widgets/base",
       "_model_module_version": "2.0.0",
       "_model_name": "LayoutModel",
       "_view_count": null,
       "_view_module": "@jupyter-widgets/base",
       "_view_module_version": "2.0.0",
       "_view_name": "LayoutView",
       "align_content": null,
       "align_items": null,
       "align_self": null,
       "border_bottom": null,
       "border_left": null,
       "border_right": null,
       "border_top": null,
       "bottom": null,
       "display": null,
       "flex": null,
       "flex_flow": null,
       "grid_area": null,
       "grid_auto_columns": null,
       "grid_auto_flow": null,
       "grid_auto_rows": null,
       "grid_column": null,
       "grid_gap": null,
       "grid_row": null,
       "grid_template_areas": null,
       "grid_template_columns": null,
       "grid_template_rows": null,
       "height": null,
       "justify_content": null,
       "justify_items": null,
       "left": null,
       "margin": null,
       "max_height": null,
       "max_width": null,
       "min_height": null,
       "min_width": null,
       "object_fit": null,
       "object_position": null,
       "order": null,
       "overflow": null,
       "padding": null,
       "right": null,
       "top": null,
       "visibility": null,
       "width": null
      }
     },
     "62d6aa6837df401db6676ae1be2dbf67": {
      "model_module": "@jupyter-widgets/controls",
      "model_module_version": "2.0.0",
      "model_name": "HTMLModel",
      "state": {
       "_dom_classes": [],
       "_model_module": "@jupyter-widgets/controls",
       "_model_module_version": "2.0.0",
       "_model_name": "HTMLModel",
       "_view_count": null,
       "_view_module": "@jupyter-widgets/controls",
       "_view_module_version": "2.0.0",
       "_view_name": "HTMLView",
       "description": "",
       "description_allow_html": false,
       "layout": "IPY_MODEL_ce486869a2074be5a99df65bcf69ed57",
       "placeholder": "​",
       "style": "IPY_MODEL_4eb82cf3f2ef47da83ba9ab810e6ecc0",
       "tabbable": null,
       "tooltip": null,
       "value": "config.json: "
      }
     },
     "62ea4b324b804660a8fd4ed358b64e3e": {
      "model_module": "@jupyter-widgets/base",
      "model_module_version": "2.0.0",
      "model_name": "LayoutModel",
      "state": {
       "_model_module": "@jupyter-widgets/base",
       "_model_module_version": "2.0.0",
       "_model_name": "LayoutModel",
       "_view_count": null,
       "_view_module": "@jupyter-widgets/base",
       "_view_module_version": "2.0.0",
       "_view_name": "LayoutView",
       "align_content": null,
       "align_items": null,
       "align_self": null,
       "border_bottom": null,
       "border_left": null,
       "border_right": null,
       "border_top": null,
       "bottom": null,
       "display": null,
       "flex": null,
       "flex_flow": null,
       "grid_area": null,
       "grid_auto_columns": null,
       "grid_auto_flow": null,
       "grid_auto_rows": null,
       "grid_column": null,
       "grid_gap": null,
       "grid_row": null,
       "grid_template_areas": null,
       "grid_template_columns": null,
       "grid_template_rows": null,
       "height": null,
       "justify_content": null,
       "justify_items": null,
       "left": null,
       "margin": null,
       "max_height": null,
       "max_width": null,
       "min_height": null,
       "min_width": null,
       "object_fit": null,
       "object_position": null,
       "order": null,
       "overflow": null,
       "padding": null,
       "right": null,
       "top": null,
       "visibility": null,
       "width": "20px"
      }
     },
     "66652a96bdc9468497e7d6f2487fd25a": {
      "model_module": "@jupyter-widgets/controls",
      "model_module_version": "2.0.0",
      "model_name": "HTMLStyleModel",
      "state": {
       "_model_module": "@jupyter-widgets/controls",
       "_model_module_version": "2.0.0",
       "_model_name": "HTMLStyleModel",
       "_view_count": null,
       "_view_module": "@jupyter-widgets/base",
       "_view_module_version": "2.0.0",
       "_view_name": "StyleView",
       "background": null,
       "description_width": "",
       "font_size": null,
       "text_color": null
      }
     },
     "66fe67900899491db64ed0736455fc5e": {
      "model_module": "@jupyter-widgets/controls",
      "model_module_version": "2.0.0",
      "model_name": "HTMLModel",
      "state": {
       "_dom_classes": [],
       "_model_module": "@jupyter-widgets/controls",
       "_model_module_version": "2.0.0",
       "_model_name": "HTMLModel",
       "_view_count": null,
       "_view_module": "@jupyter-widgets/controls",
       "_view_module_version": "2.0.0",
       "_view_name": "HTMLView",
       "description": "",
       "description_allow_html": false,
       "layout": "IPY_MODEL_d9b7b2646a76466ba2903aa093823aba",
       "placeholder": "​",
       "style": "IPY_MODEL_d7f351b7cd5940c88dd75f68ea5fcf70",
       "tabbable": null,
       "tooltip": null,
       "value": "pytorch_model.bin: 100%"
      }
     },
     "68a0cfde63b34381859c7217c79f9827": {
      "model_module": "@jupyter-widgets/controls",
      "model_module_version": "2.0.0",
      "model_name": "HTMLStyleModel",
      "state": {
       "_model_module": "@jupyter-widgets/controls",
       "_model_module_version": "2.0.0",
       "_model_name": "HTMLStyleModel",
       "_view_count": null,
       "_view_module": "@jupyter-widgets/base",
       "_view_module_version": "2.0.0",
       "_view_name": "StyleView",
       "background": null,
       "description_width": "",
       "font_size": null,
       "text_color": null
      }
     },
     "6a18fd3aa8e64d9d8626b4e14508f7e7": {
      "model_module": "@jupyter-widgets/controls",
      "model_module_version": "2.0.0",
      "model_name": "HBoxModel",
      "state": {
       "_dom_classes": [],
       "_model_module": "@jupyter-widgets/controls",
       "_model_module_version": "2.0.0",
       "_model_name": "HBoxModel",
       "_view_count": null,
       "_view_module": "@jupyter-widgets/controls",
       "_view_module_version": "2.0.0",
       "_view_name": "HBoxView",
       "box_style": "",
       "children": [
        "IPY_MODEL_9644674673d745b49a195e766fdbdfb1",
        "IPY_MODEL_4124a1313c1e40448c15ea7bcb712f79",
        "IPY_MODEL_81e3e06b8b65484ca7707d246143a62e"
       ],
       "layout": "IPY_MODEL_a4e6444218ce4e9999863b088ab22ddc",
       "tabbable": null,
       "tooltip": null
      }
     },
     "6a3b72ca99f94fc68218f5caa374d685": {
      "model_module": "@jupyter-widgets/controls",
      "model_module_version": "2.0.0",
      "model_name": "HTMLModel",
      "state": {
       "_dom_classes": [],
       "_model_module": "@jupyter-widgets/controls",
       "_model_module_version": "2.0.0",
       "_model_name": "HTMLModel",
       "_view_count": null,
       "_view_module": "@jupyter-widgets/controls",
       "_view_module_version": "2.0.0",
       "_view_name": "HTMLView",
       "description": "",
       "description_allow_html": false,
       "layout": "IPY_MODEL_81c809254c3f4532b57f246d160a1619",
       "placeholder": "​",
       "style": "IPY_MODEL_e8120e6657344f8599555c40f39bdfc4",
       "tabbable": null,
       "tooltip": null,
       "value": "config.json: "
      }
     },
     "6a55501c074040a2aebe2f400a8f0f1d": {
      "model_module": "@jupyter-widgets/base",
      "model_module_version": "2.0.0",
      "model_name": "LayoutModel",
      "state": {
       "_model_module": "@jupyter-widgets/base",
       "_model_module_version": "2.0.0",
       "_model_name": "LayoutModel",
       "_view_count": null,
       "_view_module": "@jupyter-widgets/base",
       "_view_module_version": "2.0.0",
       "_view_name": "LayoutView",
       "align_content": null,
       "align_items": null,
       "align_self": null,
       "border_bottom": null,
       "border_left": null,
       "border_right": null,
       "border_top": null,
       "bottom": null,
       "display": null,
       "flex": null,
       "flex_flow": null,
       "grid_area": null,
       "grid_auto_columns": null,
       "grid_auto_flow": null,
       "grid_auto_rows": null,
       "grid_column": null,
       "grid_gap": null,
       "grid_row": null,
       "grid_template_areas": null,
       "grid_template_columns": null,
       "grid_template_rows": null,
       "height": null,
       "justify_content": null,
       "justify_items": null,
       "left": null,
       "margin": null,
       "max_height": null,
       "max_width": null,
       "min_height": null,
       "min_width": null,
       "object_fit": null,
       "object_position": null,
       "order": null,
       "overflow": null,
       "padding": null,
       "right": null,
       "top": null,
       "visibility": null,
       "width": null
      }
     },
     "6b49669a32df4e51b462b2d26adc5d46": {
      "model_module": "@jupyter-widgets/controls",
      "model_module_version": "2.0.0",
      "model_name": "HTMLModel",
      "state": {
       "_dom_classes": [],
       "_model_module": "@jupyter-widgets/controls",
       "_model_module_version": "2.0.0",
       "_model_name": "HTMLModel",
       "_view_count": null,
       "_view_module": "@jupyter-widgets/controls",
       "_view_module_version": "2.0.0",
       "_view_name": "HTMLView",
       "description": "",
       "description_allow_html": false,
       "layout": "IPY_MODEL_3c2618c45c2f47ff8900da303ad06853",
       "placeholder": "​",
       "style": "IPY_MODEL_66652a96bdc9468497e7d6f2487fd25a",
       "tabbable": null,
       "tooltip": null,
       "value": "spiece.model: 100%"
      }
     },
     "6bf095a8430e4ccf9f6f7a2643b74ad8": {
      "model_module": "@jupyter-widgets/controls",
      "model_module_version": "2.0.0",
      "model_name": "HBoxModel",
      "state": {
       "_dom_classes": [],
       "_model_module": "@jupyter-widgets/controls",
       "_model_module_version": "2.0.0",
       "_model_name": "HBoxModel",
       "_view_count": null,
       "_view_module": "@jupyter-widgets/controls",
       "_view_module_version": "2.0.0",
       "_view_name": "HBoxView",
       "box_style": "",
       "children": [
        "IPY_MODEL_bea66a1ec5c3436e982d1a878742a62d",
        "IPY_MODEL_d9c8e09ae136417fb9eacba65a9a2fd4",
        "IPY_MODEL_0c17356a6b624ff38e8524c299cd7eff"
       ],
       "layout": "IPY_MODEL_b030b11a3188440ea90459db4155772e",
       "tabbable": null,
       "tooltip": null
      }
     },
     "6c1e00fff06e4a269ae4042cc419bf85": {
      "model_module": "@jupyter-widgets/controls",
      "model_module_version": "2.0.0",
      "model_name": "HTMLModel",
      "state": {
       "_dom_classes": [],
       "_model_module": "@jupyter-widgets/controls",
       "_model_module_version": "2.0.0",
       "_model_name": "HTMLModel",
       "_view_count": null,
       "_view_module": "@jupyter-widgets/controls",
       "_view_module_version": "2.0.0",
       "_view_name": "HTMLView",
       "description": "",
       "description_allow_html": false,
       "layout": "IPY_MODEL_772fd6cabef342f395d5e602b41e5f4f",
       "placeholder": "​",
       "style": "IPY_MODEL_10267bd44e864331bf9cb1b3b5d58e06",
       "tabbable": null,
       "tooltip": null,
       "value": " 506/506 [00:00&lt;00:00, 65.6kB/s]"
      }
     },
     "6f62720414954561a6f8bc4cb548f0c8": {
      "model_module": "@jupyter-widgets/base",
      "model_module_version": "2.0.0",
      "model_name": "LayoutModel",
      "state": {
       "_model_module": "@jupyter-widgets/base",
       "_model_module_version": "2.0.0",
       "_model_name": "LayoutModel",
       "_view_count": null,
       "_view_module": "@jupyter-widgets/base",
       "_view_module_version": "2.0.0",
       "_view_name": "LayoutView",
       "align_content": null,
       "align_items": null,
       "align_self": null,
       "border_bottom": null,
       "border_left": null,
       "border_right": null,
       "border_top": null,
       "bottom": null,
       "display": null,
       "flex": null,
       "flex_flow": null,
       "grid_area": null,
       "grid_auto_columns": null,
       "grid_auto_flow": null,
       "grid_auto_rows": null,
       "grid_column": null,
       "grid_gap": null,
       "grid_row": null,
       "grid_template_areas": null,
       "grid_template_columns": null,
       "grid_template_rows": null,
       "height": null,
       "justify_content": null,
       "justify_items": null,
       "left": null,
       "margin": null,
       "max_height": null,
       "max_width": null,
       "min_height": null,
       "min_width": null,
       "object_fit": null,
       "object_position": null,
       "order": null,
       "overflow": null,
       "padding": null,
       "right": null,
       "top": null,
       "visibility": null,
       "width": null
      }
     },
     "6f92033d90864b549543e4e8a60902ea": {
      "model_module": "@jupyter-widgets/controls",
      "model_module_version": "2.0.0",
      "model_name": "HBoxModel",
      "state": {
       "_dom_classes": [],
       "_model_module": "@jupyter-widgets/controls",
       "_model_module_version": "2.0.0",
       "_model_name": "HBoxModel",
       "_view_count": null,
       "_view_module": "@jupyter-widgets/controls",
       "_view_module_version": "2.0.0",
       "_view_name": "HBoxView",
       "box_style": "",
       "children": [
        "IPY_MODEL_62d6aa6837df401db6676ae1be2dbf67",
        "IPY_MODEL_ca92fae662654ac3a6e3005c8809e036",
        "IPY_MODEL_47d3c2a2649a4f3aac0929e245ddbe11"
       ],
       "layout": "IPY_MODEL_99bf9599702b4145a35b8a7f3e72577c",
       "tabbable": null,
       "tooltip": null
      }
     },
     "75d5d5f85b7a4b1f97259eb7deba3753": {
      "model_module": "@jupyter-widgets/controls",
      "model_module_version": "2.0.0",
      "model_name": "HTMLModel",
      "state": {
       "_dom_classes": [],
       "_model_module": "@jupyter-widgets/controls",
       "_model_module_version": "2.0.0",
       "_model_name": "HTMLModel",
       "_view_count": null,
       "_view_module": "@jupyter-widgets/controls",
       "_view_module_version": "2.0.0",
       "_view_name": "HTMLView",
       "description": "",
       "description_allow_html": false,
       "layout": "IPY_MODEL_a8d883c9e3d54776b15914e637a89f1f",
       "placeholder": "​",
       "style": "IPY_MODEL_242080e060e74eb5967ca9b08de24572",
       "tabbable": null,
       "tooltip": null,
       "value": "model.safetensors: 100%"
      }
     },
     "772fd6cabef342f395d5e602b41e5f4f": {
      "model_module": "@jupyter-widgets/base",
      "model_module_version": "2.0.0",
      "model_name": "LayoutModel",
      "state": {
       "_model_module": "@jupyter-widgets/base",
       "_model_module_version": "2.0.0",
       "_model_name": "LayoutModel",
       "_view_count": null,
       "_view_module": "@jupyter-widgets/base",
       "_view_module_version": "2.0.0",
       "_view_name": "LayoutView",
       "align_content": null,
       "align_items": null,
       "align_self": null,
       "border_bottom": null,
       "border_left": null,
       "border_right": null,
       "border_top": null,
       "bottom": null,
       "display": null,
       "flex": null,
       "flex_flow": null,
       "grid_area": null,
       "grid_auto_columns": null,
       "grid_auto_flow": null,
       "grid_auto_rows": null,
       "grid_column": null,
       "grid_gap": null,
       "grid_row": null,
       "grid_template_areas": null,
       "grid_template_columns": null,
       "grid_template_rows": null,
       "height": null,
       "justify_content": null,
       "justify_items": null,
       "left": null,
       "margin": null,
       "max_height": null,
       "max_width": null,
       "min_height": null,
       "min_width": null,
       "object_fit": null,
       "object_position": null,
       "order": null,
       "overflow": null,
       "padding": null,
       "right": null,
       "top": null,
       "visibility": null,
       "width": null
      }
     },
     "77a48d27b8b440c3ad23544ab28038a5": {
      "model_module": "@jupyter-widgets/base",
      "model_module_version": "2.0.0",
      "model_name": "LayoutModel",
      "state": {
       "_model_module": "@jupyter-widgets/base",
       "_model_module_version": "2.0.0",
       "_model_name": "LayoutModel",
       "_view_count": null,
       "_view_module": "@jupyter-widgets/base",
       "_view_module_version": "2.0.0",
       "_view_name": "LayoutView",
       "align_content": null,
       "align_items": null,
       "align_self": null,
       "border_bottom": null,
       "border_left": null,
       "border_right": null,
       "border_top": null,
       "bottom": null,
       "display": null,
       "flex": null,
       "flex_flow": null,
       "grid_area": null,
       "grid_auto_columns": null,
       "grid_auto_flow": null,
       "grid_auto_rows": null,
       "grid_column": null,
       "grid_gap": null,
       "grid_row": null,
       "grid_template_areas": null,
       "grid_template_columns": null,
       "grid_template_rows": null,
       "height": null,
       "justify_content": null,
       "justify_items": null,
       "left": null,
       "margin": null,
       "max_height": null,
       "max_width": null,
       "min_height": null,
       "min_width": null,
       "object_fit": null,
       "object_position": null,
       "order": null,
       "overflow": null,
       "padding": null,
       "right": null,
       "top": null,
       "visibility": null,
       "width": null
      }
     },
     "8189f85ef12a4fd7a994c8ebcecbea23": {
      "model_module": "@jupyter-widgets/base",
      "model_module_version": "2.0.0",
      "model_name": "LayoutModel",
      "state": {
       "_model_module": "@jupyter-widgets/base",
       "_model_module_version": "2.0.0",
       "_model_name": "LayoutModel",
       "_view_count": null,
       "_view_module": "@jupyter-widgets/base",
       "_view_module_version": "2.0.0",
       "_view_name": "LayoutView",
       "align_content": null,
       "align_items": null,
       "align_self": null,
       "border_bottom": null,
       "border_left": null,
       "border_right": null,
       "border_top": null,
       "bottom": null,
       "display": null,
       "flex": null,
       "flex_flow": null,
       "grid_area": null,
       "grid_auto_columns": null,
       "grid_auto_flow": null,
       "grid_auto_rows": null,
       "grid_column": null,
       "grid_gap": null,
       "grid_row": null,
       "grid_template_areas": null,
       "grid_template_columns": null,
       "grid_template_rows": null,
       "height": null,
       "justify_content": null,
       "justify_items": null,
       "left": null,
       "margin": null,
       "max_height": null,
       "max_width": null,
       "min_height": null,
       "min_width": null,
       "object_fit": null,
       "object_position": null,
       "order": null,
       "overflow": null,
       "padding": null,
       "right": null,
       "top": null,
       "visibility": null,
       "width": null
      }
     },
     "81c809254c3f4532b57f246d160a1619": {
      "model_module": "@jupyter-widgets/base",
      "model_module_version": "2.0.0",
      "model_name": "LayoutModel",
      "state": {
       "_model_module": "@jupyter-widgets/base",
       "_model_module_version": "2.0.0",
       "_model_name": "LayoutModel",
       "_view_count": null,
       "_view_module": "@jupyter-widgets/base",
       "_view_module_version": "2.0.0",
       "_view_name": "LayoutView",
       "align_content": null,
       "align_items": null,
       "align_self": null,
       "border_bottom": null,
       "border_left": null,
       "border_right": null,
       "border_top": null,
       "bottom": null,
       "display": null,
       "flex": null,
       "flex_flow": null,
       "grid_area": null,
       "grid_auto_columns": null,
       "grid_auto_flow": null,
       "grid_auto_rows": null,
       "grid_column": null,
       "grid_gap": null,
       "grid_row": null,
       "grid_template_areas": null,
       "grid_template_columns": null,
       "grid_template_rows": null,
       "height": null,
       "justify_content": null,
       "justify_items": null,
       "left": null,
       "margin": null,
       "max_height": null,
       "max_width": null,
       "min_height": null,
       "min_width": null,
       "object_fit": null,
       "object_position": null,
       "order": null,
       "overflow": null,
       "padding": null,
       "right": null,
       "top": null,
       "visibility": null,
       "width": null
      }
     },
     "81e3e06b8b65484ca7707d246143a62e": {
      "model_module": "@jupyter-widgets/controls",
      "model_module_version": "2.0.0",
      "model_name": "HTMLModel",
      "state": {
       "_dom_classes": [],
       "_model_module": "@jupyter-widgets/controls",
       "_model_module_version": "2.0.0",
       "_model_name": "HTMLModel",
       "_view_count": null,
       "_view_module": "@jupyter-widgets/controls",
       "_view_module_version": "2.0.0",
       "_view_name": "HTMLView",
       "description": "",
       "description_allow_html": false,
       "layout": "IPY_MODEL_efe289b87afb4b85a79c212608eb5496",
       "placeholder": "​",
       "style": "IPY_MODEL_2390d2a2d8cb4bb7b0f96e3872616aea",
       "tabbable": null,
       "tooltip": null,
       "value": " 711k/? [00:00&lt;00:00, 44.9MB/s]"
      }
     },
     "834dfe757ec444b2b3c41a27d655f698": {
      "model_module": "@jupyter-widgets/controls",
      "model_module_version": "2.0.0",
      "model_name": "ProgressStyleModel",
      "state": {
       "_model_module": "@jupyter-widgets/controls",
       "_model_module_version": "2.0.0",
       "_model_name": "ProgressStyleModel",
       "_view_count": null,
       "_view_module": "@jupyter-widgets/base",
       "_view_module_version": "2.0.0",
       "_view_name": "StyleView",
       "bar_color": null,
       "description_width": ""
      }
     },
     "85c023756c524da0abfc306a591312b9": {
      "model_module": "@jupyter-widgets/controls",
      "model_module_version": "2.0.0",
      "model_name": "ProgressStyleModel",
      "state": {
       "_model_module": "@jupyter-widgets/controls",
       "_model_module_version": "2.0.0",
       "_model_name": "ProgressStyleModel",
       "_view_count": null,
       "_view_module": "@jupyter-widgets/base",
       "_view_module_version": "2.0.0",
       "_view_name": "StyleView",
       "bar_color": null,
       "description_width": ""
      }
     },
     "8679b2e5727c498b8d6a56a620db28d9": {
      "model_module": "@jupyter-widgets/controls",
      "model_module_version": "2.0.0",
      "model_name": "HTMLModel",
      "state": {
       "_dom_classes": [],
       "_model_module": "@jupyter-widgets/controls",
       "_model_module_version": "2.0.0",
       "_model_name": "HTMLModel",
       "_view_count": null,
       "_view_module": "@jupyter-widgets/controls",
       "_view_module_version": "2.0.0",
       "_view_name": "HTMLView",
       "description": "",
       "description_allow_html": false,
       "layout": "IPY_MODEL_3c5249791ca94a13be4935b3924fcee6",
       "placeholder": "​",
       "style": "IPY_MODEL_5a6844a13a164beb8d43a30847621df6",
       "tabbable": null,
       "tooltip": null,
       "value": "vocab.txt: "
      }
     },
     "880b34a81ddd4b85836ed7a5ea725826": {
      "model_module": "@jupyter-widgets/controls",
      "model_module_version": "2.0.0",
      "model_name": "HTMLModel",
      "state": {
       "_dom_classes": [],
       "_model_module": "@jupyter-widgets/controls",
       "_model_module_version": "2.0.0",
       "_model_name": "HTMLModel",
       "_view_count": null,
       "_view_module": "@jupyter-widgets/controls",
       "_view_module_version": "2.0.0",
       "_view_name": "HTMLView",
       "description": "",
       "description_allow_html": false,
       "layout": "IPY_MODEL_2d160eb7a22741fb90a4f5ac31833b46",
       "placeholder": "​",
       "style": "IPY_MODEL_02526cd0843d45aaac8cf267cbe7f1fa",
       "tabbable": null,
       "tooltip": null,
       "value": " 2.54k/? [00:00&lt;00:00, 259kB/s]"
      }
     },
     "8ad85e4307b3427eb861f87942617c2a": {
      "model_module": "@jupyter-widgets/controls",
      "model_module_version": "2.0.0",
      "model_name": "ProgressStyleModel",
      "state": {
       "_model_module": "@jupyter-widgets/controls",
       "_model_module_version": "2.0.0",
       "_model_name": "ProgressStyleModel",
       "_view_count": null,
       "_view_module": "@jupyter-widgets/base",
       "_view_module_version": "2.0.0",
       "_view_name": "StyleView",
       "bar_color": null,
       "description_width": ""
      }
     },
     "8b78a21f938a4fda965e451fdb3b2e90": {
      "model_module": "@jupyter-widgets/controls",
      "model_module_version": "2.0.0",
      "model_name": "ProgressStyleModel",
      "state": {
       "_model_module": "@jupyter-widgets/controls",
       "_model_module_version": "2.0.0",
       "_model_name": "ProgressStyleModel",
       "_view_count": null,
       "_view_module": "@jupyter-widgets/base",
       "_view_module_version": "2.0.0",
       "_view_name": "StyleView",
       "bar_color": null,
       "description_width": ""
      }
     },
     "8c793a829b174b5692f73af1d8dd754f": {
      "model_module": "@jupyter-widgets/controls",
      "model_module_version": "2.0.0",
      "model_name": "HTMLStyleModel",
      "state": {
       "_model_module": "@jupyter-widgets/controls",
       "_model_module_version": "2.0.0",
       "_model_name": "HTMLStyleModel",
       "_view_count": null,
       "_view_module": "@jupyter-widgets/base",
       "_view_module_version": "2.0.0",
       "_view_name": "StyleView",
       "background": null,
       "description_width": "",
       "font_size": null,
       "text_color": null
      }
     },
     "8d15722de99548be8b8fa27bea1711a5": {
      "model_module": "@jupyter-widgets/controls",
      "model_module_version": "2.0.0",
      "model_name": "HBoxModel",
      "state": {
       "_dom_classes": [],
       "_model_module": "@jupyter-widgets/controls",
       "_model_module_version": "2.0.0",
       "_model_name": "HBoxModel",
       "_view_count": null,
       "_view_module": "@jupyter-widgets/controls",
       "_view_module_version": "2.0.0",
       "_view_name": "HBoxView",
       "box_style": "",
       "children": [
        "IPY_MODEL_cf43f50b4acc4fe0802c2c3b8f6d7690",
        "IPY_MODEL_9cd8dec7e41840b69f0450ec03ee1612",
        "IPY_MODEL_26e87290faa449bca1c48324c301069a"
       ],
       "layout": "IPY_MODEL_61f101a35ce642f4b5d126772c8f8642",
       "tabbable": null,
       "tooltip": null
      }
     },
     "8df9cba3227d4f558f340457a92ad51f": {
      "model_module": "@jupyter-widgets/controls",
      "model_module_version": "2.0.0",
      "model_name": "HTMLModel",
      "state": {
       "_dom_classes": [],
       "_model_module": "@jupyter-widgets/controls",
       "_model_module_version": "2.0.0",
       "_model_name": "HTMLModel",
       "_view_count": null,
       "_view_module": "@jupyter-widgets/controls",
       "_view_module_version": "2.0.0",
       "_view_name": "HTMLView",
       "description": "",
       "description_allow_html": false,
       "layout": "IPY_MODEL_35756926408344409a0e7a60256432cc",
       "placeholder": "​",
       "style": "IPY_MODEL_b14bc67c5fc7422092932850407a07d8",
       "tabbable": null,
       "tooltip": null,
       "value": " 232k/? [00:00&lt;00:00, 9.29MB/s]"
      }
     },
     "8ee139b8e72b409bbb1048ff96315dcc": {
      "model_module": "@jupyter-widgets/controls",
      "model_module_version": "2.0.0",
      "model_name": "FloatProgressModel",
      "state": {
       "_dom_classes": [],
       "_model_module": "@jupyter-widgets/controls",
       "_model_module_version": "2.0.0",
       "_model_name": "FloatProgressModel",
       "_view_count": null,
       "_view_module": "@jupyter-widgets/controls",
       "_view_module_version": "2.0.0",
       "_view_name": "ProgressView",
       "bar_style": "success",
       "description": "",
       "description_allow_html": false,
       "layout": "IPY_MODEL_c2dea9d10e624939b55ee5d1b7a6ff1b",
       "max": 506.0,
       "min": 0.0,
       "orientation": "horizontal",
       "style": "IPY_MODEL_85c023756c524da0abfc306a591312b9",
       "tabbable": null,
       "tooltip": null,
       "value": 506.0
      }
     },
     "9332c2a670ba4694a0c458f190fc2e56": {
      "model_module": "@jupyter-widgets/controls",
      "model_module_version": "2.0.0",
      "model_name": "FloatProgressModel",
      "state": {
       "_dom_classes": [],
       "_model_module": "@jupyter-widgets/controls",
       "_model_module_version": "2.0.0",
       "_model_name": "FloatProgressModel",
       "_view_count": null,
       "_view_module": "@jupyter-widgets/controls",
       "_view_module_version": "2.0.0",
       "_view_name": "ProgressView",
       "bar_style": "success",
       "description": "",
       "description_allow_html": false,
       "layout": "IPY_MODEL_5c90230eaa9b419785e47d402e7b7ead",
       "max": 1.0,
       "min": 0.0,
       "orientation": "horizontal",
       "style": "IPY_MODEL_8b78a21f938a4fda965e451fdb3b2e90",
       "tabbable": null,
       "tooltip": null,
       "value": 1.0
      }
     },
     "93862a80a8a94da48cb8e59204b4249c": {
      "model_module": "@jupyter-widgets/base",
      "model_module_version": "2.0.0",
      "model_name": "LayoutModel",
      "state": {
       "_model_module": "@jupyter-widgets/base",
       "_model_module_version": "2.0.0",
       "_model_name": "LayoutModel",
       "_view_count": null,
       "_view_module": "@jupyter-widgets/base",
       "_view_module_version": "2.0.0",
       "_view_name": "LayoutView",
       "align_content": null,
       "align_items": null,
       "align_self": null,
       "border_bottom": null,
       "border_left": null,
       "border_right": null,
       "border_top": null,
       "bottom": null,
       "display": null,
       "flex": null,
       "flex_flow": null,
       "grid_area": null,
       "grid_auto_columns": null,
       "grid_auto_flow": null,
       "grid_auto_rows": null,
       "grid_column": null,
       "grid_gap": null,
       "grid_row": null,
       "grid_template_areas": null,
       "grid_template_columns": null,
       "grid_template_rows": null,
       "height": null,
       "justify_content": null,
       "justify_items": null,
       "left": null,
       "margin": null,
       "max_height": null,
       "max_width": null,
       "min_height": null,
       "min_width": null,
       "object_fit": null,
       "object_position": null,
       "order": null,
       "overflow": null,
       "padding": null,
       "right": null,
       "top": null,
       "visibility": null,
       "width": null
      }
     },
     "964103889140440c980d508dd6b0bdbb": {
      "model_module": "@jupyter-widgets/controls",
      "model_module_version": "2.0.0",
      "model_name": "HBoxModel",
      "state": {
       "_dom_classes": [],
       "_model_module": "@jupyter-widgets/controls",
       "_model_module_version": "2.0.0",
       "_model_name": "HBoxModel",
       "_view_count": null,
       "_view_module": "@jupyter-widgets/controls",
       "_view_module_version": "2.0.0",
       "_view_name": "HBoxView",
       "box_style": "",
       "children": [
        "IPY_MODEL_dfd803c477c540a8a2b010e080f5c485",
        "IPY_MODEL_deacf39efbe743ba8101af2b5f28247a",
        "IPY_MODEL_880b34a81ddd4b85836ed7a5ea725826"
       ],
       "layout": "IPY_MODEL_61d1ae3820714ba4ae1359b2919504b5",
       "tabbable": null,
       "tooltip": null
      }
     },
     "9644674673d745b49a195e766fdbdfb1": {
      "model_module": "@jupyter-widgets/controls",
      "model_module_version": "2.0.0",
      "model_name": "HTMLModel",
      "state": {
       "_dom_classes": [],
       "_model_module": "@jupyter-widgets/controls",
       "_model_module_version": "2.0.0",
       "_model_name": "HTMLModel",
       "_view_count": null,
       "_view_module": "@jupyter-widgets/controls",
       "_view_module_version": "2.0.0",
       "_view_name": "HTMLView",
       "description": "",
       "description_allow_html": false,
       "layout": "IPY_MODEL_d8cd9d2fcf634e80bc59a2018d4375ad",
       "placeholder": "​",
       "style": "IPY_MODEL_1400eb50684246c0b0a875ce0bc58fe8",
       "tabbable": null,
       "tooltip": null,
       "value": "tokenizer.json: "
      }
     },
     "96b596141c464aa1bf476898a2c2835f": {
      "model_module": "@jupyter-widgets/controls",
      "model_module_version": "2.0.0",
      "model_name": "ProgressStyleModel",
      "state": {
       "_model_module": "@jupyter-widgets/controls",
       "_model_module_version": "2.0.0",
       "_model_name": "ProgressStyleModel",
       "_view_count": null,
       "_view_module": "@jupyter-widgets/base",
       "_view_module_version": "2.0.0",
       "_view_name": "StyleView",
       "bar_color": null,
       "description_width": ""
      }
     },
     "97973f0a3254454d8cbc7a9507a27fdd": {
      "model_module": "@jupyter-widgets/controls",
      "model_module_version": "2.0.0",
      "model_name": "FloatProgressModel",
      "state": {
       "_dom_classes": [],
       "_model_module": "@jupyter-widgets/controls",
       "_model_module_version": "2.0.0",
       "_model_name": "FloatProgressModel",
       "_view_count": null,
       "_view_module": "@jupyter-widgets/controls",
       "_view_module_version": "2.0.0",
       "_view_name": "ProgressView",
       "bar_style": "success",
       "description": "",
       "description_allow_html": false,
       "layout": "IPY_MODEL_eaae7e91a95941f7a56f1e0695cf09cc",
       "max": 287.0,
       "min": 0.0,
       "orientation": "horizontal",
       "style": "IPY_MODEL_8ad85e4307b3427eb861f87942617c2a",
       "tabbable": null,
       "tooltip": null,
       "value": 287.0
      }
     },
     "99bf9599702b4145a35b8a7f3e72577c": {
      "model_module": "@jupyter-widgets/base",
      "model_module_version": "2.0.0",
      "model_name": "LayoutModel",
      "state": {
       "_model_module": "@jupyter-widgets/base",
       "_model_module_version": "2.0.0",
       "_model_name": "LayoutModel",
       "_view_count": null,
       "_view_module": "@jupyter-widgets/base",
       "_view_module_version": "2.0.0",
       "_view_name": "LayoutView",
       "align_content": null,
       "align_items": null,
       "align_self": null,
       "border_bottom": null,
       "border_left": null,
       "border_right": null,
       "border_top": null,
       "bottom": null,
       "display": null,
       "flex": null,
       "flex_flow": null,
       "grid_area": null,
       "grid_auto_columns": null,
       "grid_auto_flow": null,
       "grid_auto_rows": null,
       "grid_column": null,
       "grid_gap": null,
       "grid_row": null,
       "grid_template_areas": null,
       "grid_template_columns": null,
       "grid_template_rows": null,
       "height": null,
       "justify_content": null,
       "justify_items": null,
       "left": null,
       "margin": null,
       "max_height": null,
       "max_width": null,
       "min_height": null,
       "min_width": null,
       "object_fit": null,
       "object_position": null,
       "order": null,
       "overflow": null,
       "padding": null,
       "right": null,
       "top": null,
       "visibility": null,
       "width": null
      }
     },
     "9cd8dec7e41840b69f0450ec03ee1612": {
      "model_module": "@jupyter-widgets/controls",
      "model_module_version": "2.0.0",
      "model_name": "FloatProgressModel",
      "state": {
       "_dom_classes": [],
       "_model_module": "@jupyter-widgets/controls",
       "_model_module_version": "2.0.0",
       "_model_name": "FloatProgressModel",
       "_view_count": null,
       "_view_module": "@jupyter-widgets/controls",
       "_view_module_version": "2.0.0",
       "_view_name": "ProgressView",
       "bar_style": "success",
       "description": "",
       "description_allow_html": false,
       "layout": "IPY_MODEL_5793faa0d460417d834b1167fc6085bb",
       "max": 125.0,
       "min": 0.0,
       "orientation": "horizontal",
       "style": "IPY_MODEL_15a3a104ceaf4eea98cb58095b8c5184",
       "tabbable": null,
       "tooltip": null,
       "value": 125.0
      }
     },
     "a0976061fe3c49859e5ec7b69ecbabb6": {
      "model_module": "@jupyter-widgets/base",
      "model_module_version": "2.0.0",
      "model_name": "LayoutModel",
      "state": {
       "_model_module": "@jupyter-widgets/base",
       "_model_module_version": "2.0.0",
       "_model_name": "LayoutModel",
       "_view_count": null,
       "_view_module": "@jupyter-widgets/base",
       "_view_module_version": "2.0.0",
       "_view_name": "LayoutView",
       "align_content": null,
       "align_items": null,
       "align_self": null,
       "border_bottom": null,
       "border_left": null,
       "border_right": null,
       "border_top": null,
       "bottom": null,
       "display": null,
       "flex": null,
       "flex_flow": null,
       "grid_area": null,
       "grid_auto_columns": null,
       "grid_auto_flow": null,
       "grid_auto_rows": null,
       "grid_column": null,
       "grid_gap": null,
       "grid_row": null,
       "grid_template_areas": null,
       "grid_template_columns": null,
       "grid_template_rows": null,
       "height": null,
       "justify_content": null,
       "justify_items": null,
       "left": null,
       "margin": null,
       "max_height": null,
       "max_width": null,
       "min_height": null,
       "min_width": null,
       "object_fit": null,
       "object_position": null,
       "order": null,
       "overflow": null,
       "padding": null,
       "right": null,
       "top": null,
       "visibility": null,
       "width": null
      }
     },
     "a10bef6653824db5be37c84815a00a36": {
      "model_module": "@jupyter-widgets/base",
      "model_module_version": "2.0.0",
      "model_name": "LayoutModel",
      "state": {
       "_model_module": "@jupyter-widgets/base",
       "_model_module_version": "2.0.0",
       "_model_name": "LayoutModel",
       "_view_count": null,
       "_view_module": "@jupyter-widgets/base",
       "_view_module_version": "2.0.0",
       "_view_name": "LayoutView",
       "align_content": null,
       "align_items": null,
       "align_self": null,
       "border_bottom": null,
       "border_left": null,
       "border_right": null,
       "border_top": null,
       "bottom": null,
       "display": null,
       "flex": null,
       "flex_flow": null,
       "grid_area": null,
       "grid_auto_columns": null,
       "grid_auto_flow": null,
       "grid_auto_rows": null,
       "grid_column": null,
       "grid_gap": null,
       "grid_row": null,
       "grid_template_areas": null,
       "grid_template_columns": null,
       "grid_template_rows": null,
       "height": null,
       "justify_content": null,
       "justify_items": null,
       "left": null,
       "margin": null,
       "max_height": null,
       "max_width": null,
       "min_height": null,
       "min_width": null,
       "object_fit": null,
       "object_position": null,
       "order": null,
       "overflow": null,
       "padding": null,
       "right": null,
       "top": null,
       "visibility": null,
       "width": null
      }
     },
     "a2878d632f0d4aa4a2b265398333ec50": {
      "model_module": "@jupyter-widgets/controls",
      "model_module_version": "2.0.0",
      "model_name": "HTMLModel",
      "state": {
       "_dom_classes": [],
       "_model_module": "@jupyter-widgets/controls",
       "_model_module_version": "2.0.0",
       "_model_name": "HTMLModel",
       "_view_count": null,
       "_view_module": "@jupyter-widgets/controls",
       "_view_module_version": "2.0.0",
       "_view_name": "HTMLView",
       "description": "",
       "description_allow_html": false,
       "layout": "IPY_MODEL_b368ed3aba6f4f26bea0f3d645368b07",
       "placeholder": "​",
       "style": "IPY_MODEL_5e72f4f51df9422f824a1c00b41df6d1",
       "tabbable": null,
       "tooltip": null,
       "value": "tokenizer.json: "
      }
     },
     "a4e6444218ce4e9999863b088ab22ddc": {
      "model_module": "@jupyter-widgets/base",
      "model_module_version": "2.0.0",
      "model_name": "LayoutModel",
      "state": {
       "_model_module": "@jupyter-widgets/base",
       "_model_module_version": "2.0.0",
       "_model_name": "LayoutModel",
       "_view_count": null,
       "_view_module": "@jupyter-widgets/base",
       "_view_module_version": "2.0.0",
       "_view_name": "LayoutView",
       "align_content": null,
       "align_items": null,
       "align_self": null,
       "border_bottom": null,
       "border_left": null,
       "border_right": null,
       "border_top": null,
       "bottom": null,
       "display": null,
       "flex": null,
       "flex_flow": null,
       "grid_area": null,
       "grid_auto_columns": null,
       "grid_auto_flow": null,
       "grid_auto_rows": null,
       "grid_column": null,
       "grid_gap": null,
       "grid_row": null,
       "grid_template_areas": null,
       "grid_template_columns": null,
       "grid_template_rows": null,
       "height": null,
       "justify_content": null,
       "justify_items": null,
       "left": null,
       "margin": null,
       "max_height": null,
       "max_width": null,
       "min_height": null,
       "min_width": null,
       "object_fit": null,
       "object_position": null,
       "order": null,
       "overflow": null,
       "padding": null,
       "right": null,
       "top": null,
       "visibility": null,
       "width": null
      }
     },
     "a50ad5486ab64bdb86eadf834c0728cf": {
      "model_module": "@jupyter-widgets/controls",
      "model_module_version": "2.0.0",
      "model_name": "HTMLModel",
      "state": {
       "_dom_classes": [],
       "_model_module": "@jupyter-widgets/controls",
       "_model_module_version": "2.0.0",
       "_model_name": "HTMLModel",
       "_view_count": null,
       "_view_module": "@jupyter-widgets/controls",
       "_view_module_version": "2.0.0",
       "_view_name": "HTMLView",
       "description": "",
       "description_allow_html": false,
       "layout": "IPY_MODEL_e986cfa62a68491cbbede3316b89ff88",
       "placeholder": "​",
       "style": "IPY_MODEL_8c793a829b174b5692f73af1d8dd754f",
       "tabbable": null,
       "tooltip": null,
       "value": "tokenizer_config.json: 100%"
      }
     },
     "a5a234a712214d57a7b2efc6e27f0b24": {
      "model_module": "@jupyter-widgets/controls",
      "model_module_version": "2.0.0",
      "model_name": "HTMLModel",
      "state": {
       "_dom_classes": [],
       "_model_module": "@jupyter-widgets/controls",
       "_model_module_version": "2.0.0",
       "_model_name": "HTMLModel",
       "_view_count": null,
       "_view_module": "@jupyter-widgets/controls",
       "_view_module_version": "2.0.0",
       "_view_name": "HTMLView",
       "description": "",
       "description_allow_html": false,
       "layout": "IPY_MODEL_07aa42f90a314d99aca0e62350ed8198",
       "placeholder": "​",
       "style": "IPY_MODEL_1ac24b6726884be482e5b4dbfb483da5",
       "tabbable": null,
       "tooltip": null,
       "value": " 287/287 [00:00&lt;00:00, 37.4kB/s]"
      }
     },
     "a659630c96504fe6ac7c6d5b755afb3f": {
      "model_module": "@jupyter-widgets/controls",
      "model_module_version": "2.0.0",
      "model_name": "HBoxModel",
      "state": {
       "_dom_classes": [],
       "_model_module": "@jupyter-widgets/controls",
       "_model_module_version": "2.0.0",
       "_model_name": "HBoxModel",
       "_view_count": null,
       "_view_module": "@jupyter-widgets/controls",
       "_view_module_version": "2.0.0",
       "_view_name": "HBoxView",
       "box_style": "",
       "children": [
        "IPY_MODEL_75d5d5f85b7a4b1f97259eb7deba3753",
        "IPY_MODEL_f191701bfb0c4cddaec5671504ebd072",
        "IPY_MODEL_f4e167638728480892aa0a0f6d2e6d3d"
       ],
       "layout": "IPY_MODEL_b78098f823a14dcbacdff3d55826688e",
       "tabbable": null,
       "tooltip": null
      }
     },
     "a8d883c9e3d54776b15914e637a89f1f": {
      "model_module": "@jupyter-widgets/base",
      "model_module_version": "2.0.0",
      "model_name": "LayoutModel",
      "state": {
       "_model_module": "@jupyter-widgets/base",
       "_model_module_version": "2.0.0",
       "_model_name": "LayoutModel",
       "_view_count": null,
       "_view_module": "@jupyter-widgets/base",
       "_view_module_version": "2.0.0",
       "_view_name": "LayoutView",
       "align_content": null,
       "align_items": null,
       "align_self": null,
       "border_bottom": null,
       "border_left": null,
       "border_right": null,
       "border_top": null,
       "bottom": null,
       "display": null,
       "flex": null,
       "flex_flow": null,
       "grid_area": null,
       "grid_auto_columns": null,
       "grid_auto_flow": null,
       "grid_auto_rows": null,
       "grid_column": null,
       "grid_gap": null,
       "grid_row": null,
       "grid_template_areas": null,
       "grid_template_columns": null,
       "grid_template_rows": null,
       "height": null,
       "justify_content": null,
       "justify_items": null,
       "left": null,
       "margin": null,
       "max_height": null,
       "max_width": null,
       "min_height": null,
       "min_width": null,
       "object_fit": null,
       "object_position": null,
       "order": null,
       "overflow": null,
       "padding": null,
       "right": null,
       "top": null,
       "visibility": null,
       "width": null
      }
     },
     "ab2c58ce4b6443c7840c055e9f67dea1": {
      "model_module": "@jupyter-widgets/base",
      "model_module_version": "2.0.0",
      "model_name": "LayoutModel",
      "state": {
       "_model_module": "@jupyter-widgets/base",
       "_model_module_version": "2.0.0",
       "_model_name": "LayoutModel",
       "_view_count": null,
       "_view_module": "@jupyter-widgets/base",
       "_view_module_version": "2.0.0",
       "_view_name": "LayoutView",
       "align_content": null,
       "align_items": null,
       "align_self": null,
       "border_bottom": null,
       "border_left": null,
       "border_right": null,
       "border_top": null,
       "bottom": null,
       "display": null,
       "flex": null,
       "flex_flow": null,
       "grid_area": null,
       "grid_auto_columns": null,
       "grid_auto_flow": null,
       "grid_auto_rows": null,
       "grid_column": null,
       "grid_gap": null,
       "grid_row": null,
       "grid_template_areas": null,
       "grid_template_columns": null,
       "grid_template_rows": null,
       "height": null,
       "justify_content": null,
       "justify_items": null,
       "left": null,
       "margin": null,
       "max_height": null,
       "max_width": null,
       "min_height": null,
       "min_width": null,
       "object_fit": null,
       "object_position": null,
       "order": null,
       "overflow": null,
       "padding": null,
       "right": null,
       "top": null,
       "visibility": null,
       "width": null
      }
     },
     "ace4c6d0950644de92dfc90517b14b00": {
      "model_module": "@jupyter-widgets/base",
      "model_module_version": "2.0.0",
      "model_name": "LayoutModel",
      "state": {
       "_model_module": "@jupyter-widgets/base",
       "_model_module_version": "2.0.0",
       "_model_name": "LayoutModel",
       "_view_count": null,
       "_view_module": "@jupyter-widgets/base",
       "_view_module_version": "2.0.0",
       "_view_name": "LayoutView",
       "align_content": null,
       "align_items": null,
       "align_self": null,
       "border_bottom": null,
       "border_left": null,
       "border_right": null,
       "border_top": null,
       "bottom": null,
       "display": null,
       "flex": null,
       "flex_flow": null,
       "grid_area": null,
       "grid_auto_columns": null,
       "grid_auto_flow": null,
       "grid_auto_rows": null,
       "grid_column": null,
       "grid_gap": null,
       "grid_row": null,
       "grid_template_areas": null,
       "grid_template_columns": null,
       "grid_template_rows": null,
       "height": null,
       "justify_content": null,
       "justify_items": null,
       "left": null,
       "margin": null,
       "max_height": null,
       "max_width": null,
       "min_height": null,
       "min_width": null,
       "object_fit": null,
       "object_position": null,
       "order": null,
       "overflow": null,
       "padding": null,
       "right": null,
       "top": null,
       "visibility": null,
       "width": null
      }
     },
     "ad95447eae194dd4a7259c5c2e31c897": {
      "model_module": "@jupyter-widgets/base",
      "model_module_version": "2.0.0",
      "model_name": "LayoutModel",
      "state": {
       "_model_module": "@jupyter-widgets/base",
       "_model_module_version": "2.0.0",
       "_model_name": "LayoutModel",
       "_view_count": null,
       "_view_module": "@jupyter-widgets/base",
       "_view_module_version": "2.0.0",
       "_view_name": "LayoutView",
       "align_content": null,
       "align_items": null,
       "align_self": null,
       "border_bottom": null,
       "border_left": null,
       "border_right": null,
       "border_top": null,
       "bottom": null,
       "display": null,
       "flex": null,
       "flex_flow": null,
       "grid_area": null,
       "grid_auto_columns": null,
       "grid_auto_flow": null,
       "grid_auto_rows": null,
       "grid_column": null,
       "grid_gap": null,
       "grid_row": null,
       "grid_template_areas": null,
       "grid_template_columns": null,
       "grid_template_rows": null,
       "height": null,
       "justify_content": null,
       "justify_items": null,
       "left": null,
       "margin": null,
       "max_height": null,
       "max_width": null,
       "min_height": null,
       "min_width": null,
       "object_fit": null,
       "object_position": null,
       "order": null,
       "overflow": null,
       "padding": null,
       "right": null,
       "top": null,
       "visibility": null,
       "width": "20px"
      }
     },
     "b030b11a3188440ea90459db4155772e": {
      "model_module": "@jupyter-widgets/base",
      "model_module_version": "2.0.0",
      "model_name": "LayoutModel",
      "state": {
       "_model_module": "@jupyter-widgets/base",
       "_model_module_version": "2.0.0",
       "_model_name": "LayoutModel",
       "_view_count": null,
       "_view_module": "@jupyter-widgets/base",
       "_view_module_version": "2.0.0",
       "_view_name": "LayoutView",
       "align_content": null,
       "align_items": null,
       "align_self": null,
       "border_bottom": null,
       "border_left": null,
       "border_right": null,
       "border_top": null,
       "bottom": null,
       "display": null,
       "flex": null,
       "flex_flow": null,
       "grid_area": null,
       "grid_auto_columns": null,
       "grid_auto_flow": null,
       "grid_auto_rows": null,
       "grid_column": null,
       "grid_gap": null,
       "grid_row": null,
       "grid_template_areas": null,
       "grid_template_columns": null,
       "grid_template_rows": null,
       "height": null,
       "justify_content": null,
       "justify_items": null,
       "left": null,
       "margin": null,
       "max_height": null,
       "max_width": null,
       "min_height": null,
       "min_width": null,
       "object_fit": null,
       "object_position": null,
       "order": null,
       "overflow": null,
       "padding": null,
       "right": null,
       "top": null,
       "visibility": null,
       "width": null
      }
     },
     "b0584bf4418849f6a89d1cd326b52028": {
      "model_module": "@jupyter-widgets/controls",
      "model_module_version": "2.0.0",
      "model_name": "HTMLStyleModel",
      "state": {
       "_model_module": "@jupyter-widgets/controls",
       "_model_module_version": "2.0.0",
       "_model_name": "HTMLStyleModel",
       "_view_count": null,
       "_view_module": "@jupyter-widgets/base",
       "_view_module_version": "2.0.0",
       "_view_name": "StyleView",
       "background": null,
       "description_width": "",
       "font_size": null,
       "text_color": null
      }
     },
     "b14bc67c5fc7422092932850407a07d8": {
      "model_module": "@jupyter-widgets/controls",
      "model_module_version": "2.0.0",
      "model_name": "HTMLStyleModel",
      "state": {
       "_model_module": "@jupyter-widgets/controls",
       "_model_module_version": "2.0.0",
       "_model_name": "HTMLStyleModel",
       "_view_count": null,
       "_view_module": "@jupyter-widgets/base",
       "_view_module_version": "2.0.0",
       "_view_name": "StyleView",
       "background": null,
       "description_width": "",
       "font_size": null,
       "text_color": null
      }
     },
     "b1d99fbf63b34e10bfe0099bb7d57af4": {
      "model_module": "@jupyter-widgets/controls",
      "model_module_version": "2.0.0",
      "model_name": "FloatProgressModel",
      "state": {
       "_dom_classes": [],
       "_model_module": "@jupyter-widgets/controls",
       "_model_module_version": "2.0.0",
       "_model_name": "FloatProgressModel",
       "_view_count": null,
       "_view_module": "@jupyter-widgets/controls",
       "_view_module_version": "2.0.0",
       "_view_name": "ProgressView",
       "bar_style": "success",
       "description": "",
       "description_allow_html": false,
       "layout": "IPY_MODEL_ad95447eae194dd4a7259c5c2e31c897",
       "max": 1.0,
       "min": 0.0,
       "orientation": "horizontal",
       "style": "IPY_MODEL_2cad6547b9114d10b205fb3c3491786f",
       "tabbable": null,
       "tooltip": null,
       "value": 1.0
      }
     },
     "b368ed3aba6f4f26bea0f3d645368b07": {
      "model_module": "@jupyter-widgets/base",
      "model_module_version": "2.0.0",
      "model_name": "LayoutModel",
      "state": {
       "_model_module": "@jupyter-widgets/base",
       "_model_module_version": "2.0.0",
       "_model_name": "LayoutModel",
       "_view_count": null,
       "_view_module": "@jupyter-widgets/base",
       "_view_module_version": "2.0.0",
       "_view_name": "LayoutView",
       "align_content": null,
       "align_items": null,
       "align_self": null,
       "border_bottom": null,
       "border_left": null,
       "border_right": null,
       "border_top": null,
       "bottom": null,
       "display": null,
       "flex": null,
       "flex_flow": null,
       "grid_area": null,
       "grid_auto_columns": null,
       "grid_auto_flow": null,
       "grid_auto_rows": null,
       "grid_column": null,
       "grid_gap": null,
       "grid_row": null,
       "grid_template_areas": null,
       "grid_template_columns": null,
       "grid_template_rows": null,
       "height": null,
       "justify_content": null,
       "justify_items": null,
       "left": null,
       "margin": null,
       "max_height": null,
       "max_width": null,
       "min_height": null,
       "min_width": null,
       "object_fit": null,
       "object_position": null,
       "order": null,
       "overflow": null,
       "padding": null,
       "right": null,
       "top": null,
       "visibility": null,
       "width": null
      }
     },
     "b44761a9b5b848f48795d4920d2123e8": {
      "model_module": "@jupyter-widgets/controls",
      "model_module_version": "2.0.0",
      "model_name": "HTMLModel",
      "state": {
       "_dom_classes": [],
       "_model_module": "@jupyter-widgets/controls",
       "_model_module_version": "2.0.0",
       "_model_name": "HTMLModel",
       "_view_count": null,
       "_view_module": "@jupyter-widgets/controls",
       "_view_module_version": "2.0.0",
       "_view_name": "HTMLView",
       "description": "",
       "description_allow_html": false,
       "layout": "IPY_MODEL_6f62720414954561a6f8bc4cb548f0c8",
       "placeholder": "​",
       "style": "IPY_MODEL_feb54dbc68f94c28bc866dec9da1be54",
       "tabbable": null,
       "tooltip": null,
       "value": "preprocessor_config.json: 100%"
      }
     },
     "b78098f823a14dcbacdff3d55826688e": {
      "model_module": "@jupyter-widgets/base",
      "model_module_version": "2.0.0",
      "model_name": "LayoutModel",
      "state": {
       "_model_module": "@jupyter-widgets/base",
       "_model_module_version": "2.0.0",
       "_model_name": "LayoutModel",
       "_view_count": null,
       "_view_module": "@jupyter-widgets/base",
       "_view_module_version": "2.0.0",
       "_view_name": "LayoutView",
       "align_content": null,
       "align_items": null,
       "align_self": null,
       "border_bottom": null,
       "border_left": null,
       "border_right": null,
       "border_top": null,
       "bottom": null,
       "display": null,
       "flex": null,
       "flex_flow": null,
       "grid_area": null,
       "grid_auto_columns": null,
       "grid_auto_flow": null,
       "grid_auto_rows": null,
       "grid_column": null,
       "grid_gap": null,
       "grid_row": null,
       "grid_template_areas": null,
       "grid_template_columns": null,
       "grid_template_rows": null,
       "height": null,
       "justify_content": null,
       "justify_items": null,
       "left": null,
       "margin": null,
       "max_height": null,
       "max_width": null,
       "min_height": null,
       "min_width": null,
       "object_fit": null,
       "object_position": null,
       "order": null,
       "overflow": null,
       "padding": null,
       "right": null,
       "top": null,
       "visibility": null,
       "width": null
      }
     },
     "b7b98ccb668643ec8ea9b3c3e51646a6": {
      "model_module": "@jupyter-widgets/controls",
      "model_module_version": "2.0.0",
      "model_name": "HTMLStyleModel",
      "state": {
       "_model_module": "@jupyter-widgets/controls",
       "_model_module_version": "2.0.0",
       "_model_name": "HTMLStyleModel",
       "_view_count": null,
       "_view_module": "@jupyter-widgets/base",
       "_view_module_version": "2.0.0",
       "_view_name": "StyleView",
       "background": null,
       "description_width": "",
       "font_size": null,
       "text_color": null
      }
     },
     "bc90f40b14f845d6bbcd864407bb23c7": {
      "model_module": "@jupyter-widgets/base",
      "model_module_version": "2.0.0",
      "model_name": "LayoutModel",
      "state": {
       "_model_module": "@jupyter-widgets/base",
       "_model_module_version": "2.0.0",
       "_model_name": "LayoutModel",
       "_view_count": null,
       "_view_module": "@jupyter-widgets/base",
       "_view_module_version": "2.0.0",
       "_view_name": "LayoutView",
       "align_content": null,
       "align_items": null,
       "align_self": null,
       "border_bottom": null,
       "border_left": null,
       "border_right": null,
       "border_top": null,
       "bottom": null,
       "display": null,
       "flex": null,
       "flex_flow": null,
       "grid_area": null,
       "grid_auto_columns": null,
       "grid_auto_flow": null,
       "grid_auto_rows": null,
       "grid_column": null,
       "grid_gap": null,
       "grid_row": null,
       "grid_template_areas": null,
       "grid_template_columns": null,
       "grid_template_rows": null,
       "height": null,
       "justify_content": null,
       "justify_items": null,
       "left": null,
       "margin": null,
       "max_height": null,
       "max_width": null,
       "min_height": null,
       "min_width": null,
       "object_fit": null,
       "object_position": null,
       "order": null,
       "overflow": null,
       "padding": null,
       "right": null,
       "top": null,
       "visibility": null,
       "width": null
      }
     },
     "bea66a1ec5c3436e982d1a878742a62d": {
      "model_module": "@jupyter-widgets/controls",
      "model_module_version": "2.0.0",
      "model_name": "HTMLModel",
      "state": {
       "_dom_classes": [],
       "_model_module": "@jupyter-widgets/controls",
       "_model_module_version": "2.0.0",
       "_model_name": "HTMLModel",
       "_view_count": null,
       "_view_module": "@jupyter-widgets/controls",
       "_view_module_version": "2.0.0",
       "_view_name": "HTMLView",
       "description": "",
       "description_allow_html": false,
       "layout": "IPY_MODEL_374fc114d3b842358863cf3375ee9ad0",
       "placeholder": "​",
       "style": "IPY_MODEL_38d24e9dae574f9fb02682894de85ec5",
       "tabbable": null,
       "tooltip": null,
       "value": "generation_config.json: 100%"
      }
     },
     "c27de8e804e04e40bdb3e4b22836701a": {
      "model_module": "@jupyter-widgets/controls",
      "model_module_version": "2.0.0",
      "model_name": "ProgressStyleModel",
      "state": {
       "_model_module": "@jupyter-widgets/controls",
       "_model_module_version": "2.0.0",
       "_model_name": "ProgressStyleModel",
       "_view_count": null,
       "_view_module": "@jupyter-widgets/base",
       "_view_module_version": "2.0.0",
       "_view_name": "StyleView",
       "bar_color": null,
       "description_width": ""
      }
     },
     "c2dea9d10e624939b55ee5d1b7a6ff1b": {
      "model_module": "@jupyter-widgets/base",
      "model_module_version": "2.0.0",
      "model_name": "LayoutModel",
      "state": {
       "_model_module": "@jupyter-widgets/base",
       "_model_module_version": "2.0.0",
       "_model_name": "LayoutModel",
       "_view_count": null,
       "_view_module": "@jupyter-widgets/base",
       "_view_module_version": "2.0.0",
       "_view_name": "LayoutView",
       "align_content": null,
       "align_items": null,
       "align_self": null,
       "border_bottom": null,
       "border_left": null,
       "border_right": null,
       "border_top": null,
       "bottom": null,
       "display": null,
       "flex": null,
       "flex_flow": null,
       "grid_area": null,
       "grid_auto_columns": null,
       "grid_auto_flow": null,
       "grid_auto_rows": null,
       "grid_column": null,
       "grid_gap": null,
       "grid_row": null,
       "grid_template_areas": null,
       "grid_template_columns": null,
       "grid_template_rows": null,
       "height": null,
       "justify_content": null,
       "justify_items": null,
       "left": null,
       "margin": null,
       "max_height": null,
       "max_width": null,
       "min_height": null,
       "min_width": null,
       "object_fit": null,
       "object_position": null,
       "order": null,
       "overflow": null,
       "padding": null,
       "right": null,
       "top": null,
       "visibility": null,
       "width": null
      }
     },
     "c65212b3532d4dd28d2da3a623b9d120": {
      "model_module": "@jupyter-widgets/base",
      "model_module_version": "2.0.0",
      "model_name": "LayoutModel",
      "state": {
       "_model_module": "@jupyter-widgets/base",
       "_model_module_version": "2.0.0",
       "_model_name": "LayoutModel",
       "_view_count": null,
       "_view_module": "@jupyter-widgets/base",
       "_view_module_version": "2.0.0",
       "_view_name": "LayoutView",
       "align_content": null,
       "align_items": null,
       "align_self": null,
       "border_bottom": null,
       "border_left": null,
       "border_right": null,
       "border_top": null,
       "bottom": null,
       "display": null,
       "flex": null,
       "flex_flow": null,
       "grid_area": null,
       "grid_auto_columns": null,
       "grid_auto_flow": null,
       "grid_auto_rows": null,
       "grid_column": null,
       "grid_gap": null,
       "grid_row": null,
       "grid_template_areas": null,
       "grid_template_columns": null,
       "grid_template_rows": null,
       "height": null,
       "justify_content": null,
       "justify_items": null,
       "left": null,
       "margin": null,
       "max_height": null,
       "max_width": null,
       "min_height": null,
       "min_width": null,
       "object_fit": null,
       "object_position": null,
       "order": null,
       "overflow": null,
       "padding": null,
       "right": null,
       "top": null,
       "visibility": null,
       "width": "20px"
      }
     },
     "c6d036d178e04527964cd127bd9282e4": {
      "model_module": "@jupyter-widgets/base",
      "model_module_version": "2.0.0",
      "model_name": "LayoutModel",
      "state": {
       "_model_module": "@jupyter-widgets/base",
       "_model_module_version": "2.0.0",
       "_model_name": "LayoutModel",
       "_view_count": null,
       "_view_module": "@jupyter-widgets/base",
       "_view_module_version": "2.0.0",
       "_view_name": "LayoutView",
       "align_content": null,
       "align_items": null,
       "align_self": null,
       "border_bottom": null,
       "border_left": null,
       "border_right": null,
       "border_top": null,
       "bottom": null,
       "display": null,
       "flex": null,
       "flex_flow": null,
       "grid_area": null,
       "grid_auto_columns": null,
       "grid_auto_flow": null,
       "grid_auto_rows": null,
       "grid_column": null,
       "grid_gap": null,
       "grid_row": null,
       "grid_template_areas": null,
       "grid_template_columns": null,
       "grid_template_rows": null,
       "height": null,
       "justify_content": null,
       "justify_items": null,
       "left": null,
       "margin": null,
       "max_height": null,
       "max_width": null,
       "min_height": null,
       "min_width": null,
       "object_fit": null,
       "object_position": null,
       "order": null,
       "overflow": null,
       "padding": null,
       "right": null,
       "top": null,
       "visibility": null,
       "width": null
      }
     },
     "c9fc11631a574d4196f80654cc7f5f69": {
      "model_module": "@jupyter-widgets/base",
      "model_module_version": "2.0.0",
      "model_name": "LayoutModel",
      "state": {
       "_model_module": "@jupyter-widgets/base",
       "_model_module_version": "2.0.0",
       "_model_name": "LayoutModel",
       "_view_count": null,
       "_view_module": "@jupyter-widgets/base",
       "_view_module_version": "2.0.0",
       "_view_name": "LayoutView",
       "align_content": null,
       "align_items": null,
       "align_self": null,
       "border_bottom": null,
       "border_left": null,
       "border_right": null,
       "border_top": null,
       "bottom": null,
       "display": null,
       "flex": null,
       "flex_flow": null,
       "grid_area": null,
       "grid_auto_columns": null,
       "grid_auto_flow": null,
       "grid_auto_rows": null,
       "grid_column": null,
       "grid_gap": null,
       "grid_row": null,
       "grid_template_areas": null,
       "grid_template_columns": null,
       "grid_template_rows": null,
       "height": null,
       "justify_content": null,
       "justify_items": null,
       "left": null,
       "margin": null,
       "max_height": null,
       "max_width": null,
       "min_height": null,
       "min_width": null,
       "object_fit": null,
       "object_position": null,
       "order": null,
       "overflow": null,
       "padding": null,
       "right": null,
       "top": null,
       "visibility": null,
       "width": null
      }
     },
     "ca92fae662654ac3a6e3005c8809e036": {
      "model_module": "@jupyter-widgets/controls",
      "model_module_version": "2.0.0",
      "model_name": "FloatProgressModel",
      "state": {
       "_dom_classes": [],
       "_model_module": "@jupyter-widgets/controls",
       "_model_module_version": "2.0.0",
       "_model_name": "FloatProgressModel",
       "_view_count": null,
       "_view_module": "@jupyter-widgets/controls",
       "_view_module_version": "2.0.0",
       "_view_name": "ProgressView",
       "bar_style": "success",
       "description": "",
       "description_allow_html": false,
       "layout": "IPY_MODEL_c65212b3532d4dd28d2da3a623b9d120",
       "max": 1.0,
       "min": 0.0,
       "orientation": "horizontal",
       "style": "IPY_MODEL_dffdee5c703d4e79b7011effbfda78aa",
       "tabbable": null,
       "tooltip": null,
       "value": 1.0
      }
     },
     "cd02c7c85d784edb894eae2557d3b573": {
      "model_module": "@jupyter-widgets/controls",
      "model_module_version": "2.0.0",
      "model_name": "HBoxModel",
      "state": {
       "_dom_classes": [],
       "_model_module": "@jupyter-widgets/controls",
       "_model_module_version": "2.0.0",
       "_model_name": "HBoxModel",
       "_view_count": null,
       "_view_module": "@jupyter-widgets/controls",
       "_view_module_version": "2.0.0",
       "_view_name": "HBoxView",
       "box_style": "",
       "children": [
        "IPY_MODEL_6a3b72ca99f94fc68218f5caa374d685",
        "IPY_MODEL_eb1ebf5eeb0948e5b34d9ff01d6fff92",
        "IPY_MODEL_0888aad52319479a918fa7e7d8915880"
       ],
       "layout": "IPY_MODEL_6a55501c074040a2aebe2f400a8f0f1d",
       "tabbable": null,
       "tooltip": null
      }
     },
     "ce486869a2074be5a99df65bcf69ed57": {
      "model_module": "@jupyter-widgets/base",
      "model_module_version": "2.0.0",
      "model_name": "LayoutModel",
      "state": {
       "_model_module": "@jupyter-widgets/base",
       "_model_module_version": "2.0.0",
       "_model_name": "LayoutModel",
       "_view_count": null,
       "_view_module": "@jupyter-widgets/base",
       "_view_module_version": "2.0.0",
       "_view_name": "LayoutView",
       "align_content": null,
       "align_items": null,
       "align_self": null,
       "border_bottom": null,
       "border_left": null,
       "border_right": null,
       "border_top": null,
       "bottom": null,
       "display": null,
       "flex": null,
       "flex_flow": null,
       "grid_area": null,
       "grid_auto_columns": null,
       "grid_auto_flow": null,
       "grid_auto_rows": null,
       "grid_column": null,
       "grid_gap": null,
       "grid_row": null,
       "grid_template_areas": null,
       "grid_template_columns": null,
       "grid_template_rows": null,
       "height": null,
       "justify_content": null,
       "justify_items": null,
       "left": null,
       "margin": null,
       "max_height": null,
       "max_width": null,
       "min_height": null,
       "min_width": null,
       "object_fit": null,
       "object_position": null,
       "order": null,
       "overflow": null,
       "padding": null,
       "right": null,
       "top": null,
       "visibility": null,
       "width": null
      }
     },
     "cf43f50b4acc4fe0802c2c3b8f6d7690": {
      "model_module": "@jupyter-widgets/controls",
      "model_module_version": "2.0.0",
      "model_name": "HTMLModel",
      "state": {
       "_dom_classes": [],
       "_model_module": "@jupyter-widgets/controls",
       "_model_module_version": "2.0.0",
       "_model_name": "HTMLModel",
       "_view_count": null,
       "_view_module": "@jupyter-widgets/controls",
       "_view_module_version": "2.0.0",
       "_view_name": "HTMLView",
       "description": "",
       "description_allow_html": false,
       "layout": "IPY_MODEL_0cc95186fac7429685a4b50efcecd406",
       "placeholder": "​",
       "style": "IPY_MODEL_ee79392669d64a6dab0bf67029506a14",
       "tabbable": null,
       "tooltip": null,
       "value": "special_tokens_map.json: 100%"
      }
     },
     "d21e2fe2a88a4be5b3cc3296d71875f3": {
      "model_module": "@jupyter-widgets/base",
      "model_module_version": "2.0.0",
      "model_name": "LayoutModel",
      "state": {
       "_model_module": "@jupyter-widgets/base",
       "_model_module_version": "2.0.0",
       "_model_name": "LayoutModel",
       "_view_count": null,
       "_view_module": "@jupyter-widgets/base",
       "_view_module_version": "2.0.0",
       "_view_name": "LayoutView",
       "align_content": null,
       "align_items": null,
       "align_self": null,
       "border_bottom": null,
       "border_left": null,
       "border_right": null,
       "border_top": null,
       "bottom": null,
       "display": null,
       "flex": null,
       "flex_flow": null,
       "grid_area": null,
       "grid_auto_columns": null,
       "grid_auto_flow": null,
       "grid_auto_rows": null,
       "grid_column": null,
       "grid_gap": null,
       "grid_row": null,
       "grid_template_areas": null,
       "grid_template_columns": null,
       "grid_template_rows": null,
       "height": null,
       "justify_content": null,
       "justify_items": null,
       "left": null,
       "margin": null,
       "max_height": null,
       "max_width": null,
       "min_height": null,
       "min_width": null,
       "object_fit": null,
       "object_position": null,
       "order": null,
       "overflow": null,
       "padding": null,
       "right": null,
       "top": null,
       "visibility": null,
       "width": null
      }
     },
     "d4c382ec367b4ba189fac55be60c8234": {
      "model_module": "@jupyter-widgets/base",
      "model_module_version": "2.0.0",
      "model_name": "LayoutModel",
      "state": {
       "_model_module": "@jupyter-widgets/base",
       "_model_module_version": "2.0.0",
       "_model_name": "LayoutModel",
       "_view_count": null,
       "_view_module": "@jupyter-widgets/base",
       "_view_module_version": "2.0.0",
       "_view_name": "LayoutView",
       "align_content": null,
       "align_items": null,
       "align_self": null,
       "border_bottom": null,
       "border_left": null,
       "border_right": null,
       "border_top": null,
       "bottom": null,
       "display": null,
       "flex": null,
       "flex_flow": null,
       "grid_area": null,
       "grid_auto_columns": null,
       "grid_auto_flow": null,
       "grid_auto_rows": null,
       "grid_column": null,
       "grid_gap": null,
       "grid_row": null,
       "grid_template_areas": null,
       "grid_template_columns": null,
       "grid_template_rows": null,
       "height": null,
       "justify_content": null,
       "justify_items": null,
       "left": null,
       "margin": null,
       "max_height": null,
       "max_width": null,
       "min_height": null,
       "min_width": null,
       "object_fit": null,
       "object_position": null,
       "order": null,
       "overflow": null,
       "padding": null,
       "right": null,
       "top": null,
       "visibility": null,
       "width": null
      }
     },
     "d4e8509063e14e24b1738ad50592c6d5": {
      "model_module": "@jupyter-widgets/controls",
      "model_module_version": "2.0.0",
      "model_name": "HTMLStyleModel",
      "state": {
       "_model_module": "@jupyter-widgets/controls",
       "_model_module_version": "2.0.0",
       "_model_name": "HTMLStyleModel",
       "_view_count": null,
       "_view_module": "@jupyter-widgets/base",
       "_view_module_version": "2.0.0",
       "_view_name": "StyleView",
       "background": null,
       "description_width": "",
       "font_size": null,
       "text_color": null
      }
     },
     "d7f351b7cd5940c88dd75f68ea5fcf70": {
      "model_module": "@jupyter-widgets/controls",
      "model_module_version": "2.0.0",
      "model_name": "HTMLStyleModel",
      "state": {
       "_model_module": "@jupyter-widgets/controls",
       "_model_module_version": "2.0.0",
       "_model_name": "HTMLStyleModel",
       "_view_count": null,
       "_view_module": "@jupyter-widgets/base",
       "_view_module_version": "2.0.0",
       "_view_name": "StyleView",
       "background": null,
       "description_width": "",
       "font_size": null,
       "text_color": null
      }
     },
     "d8cd9d2fcf634e80bc59a2018d4375ad": {
      "model_module": "@jupyter-widgets/base",
      "model_module_version": "2.0.0",
      "model_name": "LayoutModel",
      "state": {
       "_model_module": "@jupyter-widgets/base",
       "_model_module_version": "2.0.0",
       "_model_name": "LayoutModel",
       "_view_count": null,
       "_view_module": "@jupyter-widgets/base",
       "_view_module_version": "2.0.0",
       "_view_name": "LayoutView",
       "align_content": null,
       "align_items": null,
       "align_self": null,
       "border_bottom": null,
       "border_left": null,
       "border_right": null,
       "border_top": null,
       "bottom": null,
       "display": null,
       "flex": null,
       "flex_flow": null,
       "grid_area": null,
       "grid_auto_columns": null,
       "grid_auto_flow": null,
       "grid_auto_rows": null,
       "grid_column": null,
       "grid_gap": null,
       "grid_row": null,
       "grid_template_areas": null,
       "grid_template_columns": null,
       "grid_template_rows": null,
       "height": null,
       "justify_content": null,
       "justify_items": null,
       "left": null,
       "margin": null,
       "max_height": null,
       "max_width": null,
       "min_height": null,
       "min_width": null,
       "object_fit": null,
       "object_position": null,
       "order": null,
       "overflow": null,
       "padding": null,
       "right": null,
       "top": null,
       "visibility": null,
       "width": null
      }
     },
     "d9b7b2646a76466ba2903aa093823aba": {
      "model_module": "@jupyter-widgets/base",
      "model_module_version": "2.0.0",
      "model_name": "LayoutModel",
      "state": {
       "_model_module": "@jupyter-widgets/base",
       "_model_module_version": "2.0.0",
       "_model_name": "LayoutModel",
       "_view_count": null,
       "_view_module": "@jupyter-widgets/base",
       "_view_module_version": "2.0.0",
       "_view_name": "LayoutView",
       "align_content": null,
       "align_items": null,
       "align_self": null,
       "border_bottom": null,
       "border_left": null,
       "border_right": null,
       "border_top": null,
       "bottom": null,
       "display": null,
       "flex": null,
       "flex_flow": null,
       "grid_area": null,
       "grid_auto_columns": null,
       "grid_auto_flow": null,
       "grid_auto_rows": null,
       "grid_column": null,
       "grid_gap": null,
       "grid_row": null,
       "grid_template_areas": null,
       "grid_template_columns": null,
       "grid_template_rows": null,
       "height": null,
       "justify_content": null,
       "justify_items": null,
       "left": null,
       "margin": null,
       "max_height": null,
       "max_width": null,
       "min_height": null,
       "min_width": null,
       "object_fit": null,
       "object_position": null,
       "order": null,
       "overflow": null,
       "padding": null,
       "right": null,
       "top": null,
       "visibility": null,
       "width": null
      }
     },
     "d9c8e09ae136417fb9eacba65a9a2fd4": {
      "model_module": "@jupyter-widgets/controls",
      "model_module_version": "2.0.0",
      "model_name": "FloatProgressModel",
      "state": {
       "_dom_classes": [],
       "_model_module": "@jupyter-widgets/controls",
       "_model_module_version": "2.0.0",
       "_model_name": "FloatProgressModel",
       "_view_count": null,
       "_view_module": "@jupyter-widgets/controls",
       "_view_module_version": "2.0.0",
       "_view_name": "ProgressView",
       "bar_style": "success",
       "description": "",
       "description_allow_html": false,
       "layout": "IPY_MODEL_a10bef6653824db5be37c84815a00a36",
       "max": 147.0,
       "min": 0.0,
       "orientation": "horizontal",
       "style": "IPY_MODEL_c27de8e804e04e40bdb3e4b22836701a",
       "tabbable": null,
       "tooltip": null,
       "value": 147.0
      }
     },
     "deacf39efbe743ba8101af2b5f28247a": {
      "model_module": "@jupyter-widgets/controls",
      "model_module_version": "2.0.0",
      "model_name": "FloatProgressModel",
      "state": {
       "_dom_classes": [],
       "_model_module": "@jupyter-widgets/controls",
       "_model_module_version": "2.0.0",
       "_model_name": "FloatProgressModel",
       "_view_count": null,
       "_view_module": "@jupyter-widgets/controls",
       "_view_module_version": "2.0.0",
       "_view_name": "ProgressView",
       "bar_style": "success",
       "description": "",
       "description_allow_html": false,
       "layout": "IPY_MODEL_0ff28b89daa24c5faeabf81c5200a99c",
       "max": 1.0,
       "min": 0.0,
       "orientation": "horizontal",
       "style": "IPY_MODEL_96b596141c464aa1bf476898a2c2835f",
       "tabbable": null,
       "tooltip": null,
       "value": 1.0
      }
     },
     "dfd803c477c540a8a2b010e080f5c485": {
      "model_module": "@jupyter-widgets/controls",
      "model_module_version": "2.0.0",
      "model_name": "HTMLModel",
      "state": {
       "_dom_classes": [],
       "_model_module": "@jupyter-widgets/controls",
       "_model_module_version": "2.0.0",
       "_model_name": "HTMLModel",
       "_view_count": null,
       "_view_module": "@jupyter-widgets/controls",
       "_view_module_version": "2.0.0",
       "_view_name": "HTMLView",
       "description": "",
       "description_allow_html": false,
       "layout": "IPY_MODEL_a0976061fe3c49859e5ec7b69ecbabb6",
       "placeholder": "​",
       "style": "IPY_MODEL_e9e8c27a7d964809b29dc21e16a9797e",
       "tabbable": null,
       "tooltip": null,
       "value": "tokenizer_config.json: "
      }
     },
     "dffdee5c703d4e79b7011effbfda78aa": {
      "model_module": "@jupyter-widgets/controls",
      "model_module_version": "2.0.0",
      "model_name": "ProgressStyleModel",
      "state": {
       "_model_module": "@jupyter-widgets/controls",
       "_model_module_version": "2.0.0",
       "_model_name": "ProgressStyleModel",
       "_view_count": null,
       "_view_module": "@jupyter-widgets/base",
       "_view_module_version": "2.0.0",
       "_view_name": "StyleView",
       "bar_color": null,
       "description_width": ""
      }
     },
     "e20f60521fb2438ea95a392aca01b46a": {
      "model_module": "@jupyter-widgets/controls",
      "model_module_version": "2.0.0",
      "model_name": "HBoxModel",
      "state": {
       "_dom_classes": [],
       "_model_module": "@jupyter-widgets/controls",
       "_model_module_version": "2.0.0",
       "_model_name": "HBoxModel",
       "_view_count": null,
       "_view_module": "@jupyter-widgets/controls",
       "_view_module_version": "2.0.0",
       "_view_name": "HBoxView",
       "box_style": "",
       "children": [
        "IPY_MODEL_a50ad5486ab64bdb86eadf834c0728cf",
        "IPY_MODEL_8ee139b8e72b409bbb1048ff96315dcc",
        "IPY_MODEL_6c1e00fff06e4a269ae4042cc419bf85"
       ],
       "layout": "IPY_MODEL_0c7bf0409fbe442ead70a35204acc4e7",
       "tabbable": null,
       "tooltip": null
      }
     },
     "e5d0657eba834353a37a070baf3d8b0a": {
      "model_module": "@jupyter-widgets/controls",
      "model_module_version": "2.0.0",
      "model_name": "FloatProgressModel",
      "state": {
       "_dom_classes": [],
       "_model_module": "@jupyter-widgets/controls",
       "_model_module_version": "2.0.0",
       "_model_name": "FloatProgressModel",
       "_view_count": null,
       "_view_module": "@jupyter-widgets/controls",
       "_view_module_version": "2.0.0",
       "_view_name": "ProgressView",
       "bar_style": "success",
       "description": "",
       "description_allow_html": false,
       "layout": "IPY_MODEL_62ea4b324b804660a8fd4ed358b64e3e",
       "max": 1.0,
       "min": 0.0,
       "orientation": "horizontal",
       "style": "IPY_MODEL_834dfe757ec444b2b3c41a27d655f698",
       "tabbable": null,
       "tooltip": null,
       "value": 1.0
      }
     },
     "e8120e6657344f8599555c40f39bdfc4": {
      "model_module": "@jupyter-widgets/controls",
      "model_module_version": "2.0.0",
      "model_name": "HTMLStyleModel",
      "state": {
       "_model_module": "@jupyter-widgets/controls",
       "_model_module_version": "2.0.0",
       "_model_name": "HTMLStyleModel",
       "_view_count": null,
       "_view_module": "@jupyter-widgets/base",
       "_view_module_version": "2.0.0",
       "_view_name": "StyleView",
       "background": null,
       "description_width": "",
       "font_size": null,
       "text_color": null
      }
     },
     "e82dcb1966de4cb0bf17c1a7152916a3": {
      "model_module": "@jupyter-widgets/base",
      "model_module_version": "2.0.0",
      "model_name": "LayoutModel",
      "state": {
       "_model_module": "@jupyter-widgets/base",
       "_model_module_version": "2.0.0",
       "_model_name": "LayoutModel",
       "_view_count": null,
       "_view_module": "@jupyter-widgets/base",
       "_view_module_version": "2.0.0",
       "_view_name": "LayoutView",
       "align_content": null,
       "align_items": null,
       "align_self": null,
       "border_bottom": null,
       "border_left": null,
       "border_right": null,
       "border_top": null,
       "bottom": null,
       "display": null,
       "flex": null,
       "flex_flow": null,
       "grid_area": null,
       "grid_auto_columns": null,
       "grid_auto_flow": null,
       "grid_auto_rows": null,
       "grid_column": null,
       "grid_gap": null,
       "grid_row": null,
       "grid_template_areas": null,
       "grid_template_columns": null,
       "grid_template_rows": null,
       "height": null,
       "justify_content": null,
       "justify_items": null,
       "left": null,
       "margin": null,
       "max_height": null,
       "max_width": null,
       "min_height": null,
       "min_width": null,
       "object_fit": null,
       "object_position": null,
       "order": null,
       "overflow": null,
       "padding": null,
       "right": null,
       "top": null,
       "visibility": null,
       "width": null
      }
     },
     "e986cfa62a68491cbbede3316b89ff88": {
      "model_module": "@jupyter-widgets/base",
      "model_module_version": "2.0.0",
      "model_name": "LayoutModel",
      "state": {
       "_model_module": "@jupyter-widgets/base",
       "_model_module_version": "2.0.0",
       "_model_name": "LayoutModel",
       "_view_count": null,
       "_view_module": "@jupyter-widgets/base",
       "_view_module_version": "2.0.0",
       "_view_name": "LayoutView",
       "align_content": null,
       "align_items": null,
       "align_self": null,
       "border_bottom": null,
       "border_left": null,
       "border_right": null,
       "border_top": null,
       "bottom": null,
       "display": null,
       "flex": null,
       "flex_flow": null,
       "grid_area": null,
       "grid_auto_columns": null,
       "grid_auto_flow": null,
       "grid_auto_rows": null,
       "grid_column": null,
       "grid_gap": null,
       "grid_row": null,
       "grid_template_areas": null,
       "grid_template_columns": null,
       "grid_template_rows": null,
       "height": null,
       "justify_content": null,
       "justify_items": null,
       "left": null,
       "margin": null,
       "max_height": null,
       "max_width": null,
       "min_height": null,
       "min_width": null,
       "object_fit": null,
       "object_position": null,
       "order": null,
       "overflow": null,
       "padding": null,
       "right": null,
       "top": null,
       "visibility": null,
       "width": null
      }
     },
     "e9e8c27a7d964809b29dc21e16a9797e": {
      "model_module": "@jupyter-widgets/controls",
      "model_module_version": "2.0.0",
      "model_name": "HTMLStyleModel",
      "state": {
       "_model_module": "@jupyter-widgets/controls",
       "_model_module_version": "2.0.0",
       "_model_name": "HTMLStyleModel",
       "_view_count": null,
       "_view_module": "@jupyter-widgets/base",
       "_view_module_version": "2.0.0",
       "_view_name": "StyleView",
       "background": null,
       "description_width": "",
       "font_size": null,
       "text_color": null
      }
     },
     "ea14000ed86b482aaae4f9994b159d5f": {
      "model_module": "@jupyter-widgets/base",
      "model_module_version": "2.0.0",
      "model_name": "LayoutModel",
      "state": {
       "_model_module": "@jupyter-widgets/base",
       "_model_module_version": "2.0.0",
       "_model_name": "LayoutModel",
       "_view_count": null,
       "_view_module": "@jupyter-widgets/base",
       "_view_module_version": "2.0.0",
       "_view_name": "LayoutView",
       "align_content": null,
       "align_items": null,
       "align_self": null,
       "border_bottom": null,
       "border_left": null,
       "border_right": null,
       "border_top": null,
       "bottom": null,
       "display": null,
       "flex": null,
       "flex_flow": null,
       "grid_area": null,
       "grid_auto_columns": null,
       "grid_auto_flow": null,
       "grid_auto_rows": null,
       "grid_column": null,
       "grid_gap": null,
       "grid_row": null,
       "grid_template_areas": null,
       "grid_template_columns": null,
       "grid_template_rows": null,
       "height": null,
       "justify_content": null,
       "justify_items": null,
       "left": null,
       "margin": null,
       "max_height": null,
       "max_width": null,
       "min_height": null,
       "min_width": null,
       "object_fit": null,
       "object_position": null,
       "order": null,
       "overflow": null,
       "padding": null,
       "right": null,
       "top": null,
       "visibility": null,
       "width": null
      }
     },
     "ea6b516ca91d4a81b2d6baabe8e87ff4": {
      "model_module": "@jupyter-widgets/controls",
      "model_module_version": "2.0.0",
      "model_name": "FloatProgressModel",
      "state": {
       "_dom_classes": [],
       "_model_module": "@jupyter-widgets/controls",
       "_model_module_version": "2.0.0",
       "_model_name": "FloatProgressModel",
       "_view_count": null,
       "_view_module": "@jupyter-widgets/controls",
       "_view_module_version": "2.0.0",
       "_view_name": "ProgressView",
       "bar_style": "success",
       "description": "",
       "description_allow_html": false,
       "layout": "IPY_MODEL_77a48d27b8b440c3ad23544ab28038a5",
       "max": 791656.0,
       "min": 0.0,
       "orientation": "horizontal",
       "style": "IPY_MODEL_439ef64a40264a20b8864b78de7eade8",
       "tabbable": null,
       "tooltip": null,
       "value": 791656.0
      }
     },
     "eaae7e91a95941f7a56f1e0695cf09cc": {
      "model_module": "@jupyter-widgets/base",
      "model_module_version": "2.0.0",
      "model_name": "LayoutModel",
      "state": {
       "_model_module": "@jupyter-widgets/base",
       "_model_module_version": "2.0.0",
       "_model_name": "LayoutModel",
       "_view_count": null,
       "_view_module": "@jupyter-widgets/base",
       "_view_module_version": "2.0.0",
       "_view_name": "LayoutView",
       "align_content": null,
       "align_items": null,
       "align_self": null,
       "border_bottom": null,
       "border_left": null,
       "border_right": null,
       "border_top": null,
       "bottom": null,
       "display": null,
       "flex": null,
       "flex_flow": null,
       "grid_area": null,
       "grid_auto_columns": null,
       "grid_auto_flow": null,
       "grid_auto_rows": null,
       "grid_column": null,
       "grid_gap": null,
       "grid_row": null,
       "grid_template_areas": null,
       "grid_template_columns": null,
       "grid_template_rows": null,
       "height": null,
       "justify_content": null,
       "justify_items": null,
       "left": null,
       "margin": null,
       "max_height": null,
       "max_width": null,
       "min_height": null,
       "min_width": null,
       "object_fit": null,
       "object_position": null,
       "order": null,
       "overflow": null,
       "padding": null,
       "right": null,
       "top": null,
       "visibility": null,
       "width": null
      }
     },
     "eb1ebf5eeb0948e5b34d9ff01d6fff92": {
      "model_module": "@jupyter-widgets/controls",
      "model_module_version": "2.0.0",
      "model_name": "FloatProgressModel",
      "state": {
       "_dom_classes": [],
       "_model_module": "@jupyter-widgets/controls",
       "_model_module_version": "2.0.0",
       "_model_name": "FloatProgressModel",
       "_view_count": null,
       "_view_module": "@jupyter-widgets/controls",
       "_view_module_version": "2.0.0",
       "_view_name": "ProgressView",
       "bar_style": "success",
       "description": "",
       "description_allow_html": false,
       "layout": "IPY_MODEL_17d858316c3c46379119b8631c122faf",
       "max": 1.0,
       "min": 0.0,
       "orientation": "horizontal",
       "style": "IPY_MODEL_43a6f81ce53c4a8f991b082624fe3d01",
       "tabbable": null,
       "tooltip": null,
       "value": 1.0
      }
     },
     "ee79392669d64a6dab0bf67029506a14": {
      "model_module": "@jupyter-widgets/controls",
      "model_module_version": "2.0.0",
      "model_name": "HTMLStyleModel",
      "state": {
       "_model_module": "@jupyter-widgets/controls",
       "_model_module_version": "2.0.0",
       "_model_name": "HTMLStyleModel",
       "_view_count": null,
       "_view_module": "@jupyter-widgets/base",
       "_view_module_version": "2.0.0",
       "_view_name": "StyleView",
       "background": null,
       "description_width": "",
       "font_size": null,
       "text_color": null
      }
     },
     "efe289b87afb4b85a79c212608eb5496": {
      "model_module": "@jupyter-widgets/base",
      "model_module_version": "2.0.0",
      "model_name": "LayoutModel",
      "state": {
       "_model_module": "@jupyter-widgets/base",
       "_model_module_version": "2.0.0",
       "_model_name": "LayoutModel",
       "_view_count": null,
       "_view_module": "@jupyter-widgets/base",
       "_view_module_version": "2.0.0",
       "_view_name": "LayoutView",
       "align_content": null,
       "align_items": null,
       "align_self": null,
       "border_bottom": null,
       "border_left": null,
       "border_right": null,
       "border_top": null,
       "bottom": null,
       "display": null,
       "flex": null,
       "flex_flow": null,
       "grid_area": null,
       "grid_auto_columns": null,
       "grid_auto_flow": null,
       "grid_auto_rows": null,
       "grid_column": null,
       "grid_gap": null,
       "grid_row": null,
       "grid_template_areas": null,
       "grid_template_columns": null,
       "grid_template_rows": null,
       "height": null,
       "justify_content": null,
       "justify_items": null,
       "left": null,
       "margin": null,
       "max_height": null,
       "max_width": null,
       "min_height": null,
       "min_width": null,
       "object_fit": null,
       "object_position": null,
       "order": null,
       "overflow": null,
       "padding": null,
       "right": null,
       "top": null,
       "visibility": null,
       "width": null
      }
     },
     "f0cd8b734a6a42128de9baf2780094cb": {
      "model_module": "@jupyter-widgets/controls",
      "model_module_version": "2.0.0",
      "model_name": "HTMLModel",
      "state": {
       "_dom_classes": [],
       "_model_module": "@jupyter-widgets/controls",
       "_model_module_version": "2.0.0",
       "_model_name": "HTMLModel",
       "_view_count": null,
       "_view_module": "@jupyter-widgets/controls",
       "_view_module_version": "2.0.0",
       "_view_name": "HTMLView",
       "description": "",
       "description_allow_html": false,
       "layout": "IPY_MODEL_8189f85ef12a4fd7a994c8ebcecbea23",
       "placeholder": "​",
       "style": "IPY_MODEL_59e4d22e408e49a6b1aec73f5c07b4af",
       "tabbable": null,
       "tooltip": null,
       "value": " 792k/792k [00:00&lt;00:00, 1.19MB/s]"
      }
     },
     "f191701bfb0c4cddaec5671504ebd072": {
      "model_module": "@jupyter-widgets/controls",
      "model_module_version": "2.0.0",
      "model_name": "FloatProgressModel",
      "state": {
       "_dom_classes": [],
       "_model_module": "@jupyter-widgets/controls",
       "_model_module_version": "2.0.0",
       "_model_name": "FloatProgressModel",
       "_view_count": null,
       "_view_module": "@jupyter-widgets/controls",
       "_view_module_version": "2.0.0",
       "_view_name": "ProgressView",
       "bar_style": "success",
       "description": "",
       "description_allow_html": false,
       "layout": "IPY_MODEL_d21e2fe2a88a4be5b3cc3296d71875f3",
       "max": 990345061.0,
       "min": 0.0,
       "orientation": "horizontal",
       "style": "IPY_MODEL_10f87ff4d71c47bd88d98a370d889961",
       "tabbable": null,
       "tooltip": null,
       "value": 990345061.0
      }
     },
     "f29e693ef736455188ad3a1f2b5d1e19": {
      "model_module": "@jupyter-widgets/base",
      "model_module_version": "2.0.0",
      "model_name": "LayoutModel",
      "state": {
       "_model_module": "@jupyter-widgets/base",
       "_model_module_version": "2.0.0",
       "_model_name": "LayoutModel",
       "_view_count": null,
       "_view_module": "@jupyter-widgets/base",
       "_view_module_version": "2.0.0",
       "_view_name": "LayoutView",
       "align_content": null,
       "align_items": null,
       "align_self": null,
       "border_bottom": null,
       "border_left": null,
       "border_right": null,
       "border_top": null,
       "bottom": null,
       "display": null,
       "flex": null,
       "flex_flow": null,
       "grid_area": null,
       "grid_auto_columns": null,
       "grid_auto_flow": null,
       "grid_auto_rows": null,
       "grid_column": null,
       "grid_gap": null,
       "grid_row": null,
       "grid_template_areas": null,
       "grid_template_columns": null,
       "grid_template_rows": null,
       "height": null,
       "justify_content": null,
       "justify_items": null,
       "left": null,
       "margin": null,
       "max_height": null,
       "max_width": null,
       "min_height": null,
       "min_width": null,
       "object_fit": null,
       "object_position": null,
       "order": null,
       "overflow": null,
       "padding": null,
       "right": null,
       "top": null,
       "visibility": null,
       "width": null
      }
     },
     "f4e167638728480892aa0a0f6d2e6d3d": {
      "model_module": "@jupyter-widgets/controls",
      "model_module_version": "2.0.0",
      "model_name": "HTMLModel",
      "state": {
       "_dom_classes": [],
       "_model_module": "@jupyter-widgets/controls",
       "_model_module_version": "2.0.0",
       "_model_name": "HTMLModel",
       "_view_count": null,
       "_view_module": "@jupyter-widgets/controls",
       "_view_module_version": "2.0.0",
       "_view_name": "HTMLView",
       "description": "",
       "description_allow_html": false,
       "layout": "IPY_MODEL_f29e693ef736455188ad3a1f2b5d1e19",
       "placeholder": "​",
       "style": "IPY_MODEL_b0584bf4418849f6a89d1cd326b52028",
       "tabbable": null,
       "tooltip": null,
       "value": " 990M/990M [00:03&lt;00:00, 563MB/s]"
      }
     },
     "fa1b168ae35e4ed987eb8c3d6e22fd25": {
      "model_module": "@jupyter-widgets/controls",
      "model_module_version": "2.0.0",
      "model_name": "ProgressStyleModel",
      "state": {
       "_model_module": "@jupyter-widgets/controls",
       "_model_module_version": "2.0.0",
       "_model_name": "ProgressStyleModel",
       "_view_count": null,
       "_view_module": "@jupyter-widgets/base",
       "_view_module_version": "2.0.0",
       "_view_name": "StyleView",
       "bar_color": null,
       "description_width": ""
      }
     },
     "feb54dbc68f94c28bc866dec9da1be54": {
      "model_module": "@jupyter-widgets/controls",
      "model_module_version": "2.0.0",
      "model_name": "HTMLStyleModel",
      "state": {
       "_model_module": "@jupyter-widgets/controls",
       "_model_module_version": "2.0.0",
       "_model_name": "HTMLStyleModel",
       "_view_count": null,
       "_view_module": "@jupyter-widgets/base",
       "_view_module_version": "2.0.0",
       "_view_name": "StyleView",
       "background": null,
       "description_width": "",
       "font_size": null,
       "text_color": null
      }
     }
    },
    "version_major": 2,
    "version_minor": 0
   }
  }
 },
 "nbformat": 4,
 "nbformat_minor": 5
}
